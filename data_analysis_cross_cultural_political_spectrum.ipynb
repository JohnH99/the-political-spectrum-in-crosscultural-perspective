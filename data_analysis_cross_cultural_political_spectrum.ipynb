{
 "cells": [
  {
   "cell_type": "markdown",
   "id": "0757cda2",
   "metadata": {},
   "source": [
    "The NumPy and Pandas packages are required for operating with data frames."
   ]
  },
  {
   "cell_type": "code",
   "execution_count": 2,
   "id": "513731b4",
   "metadata": {},
   "outputs": [],
   "source": [
    "import numpy as np\n",
    "import pandas as pd"
   ]
  },
  {
   "cell_type": "markdown",
   "id": "f4a8c504",
   "metadata": {
    "tags": []
   },
   "source": [
    "# Data management"
   ]
  },
  {
   "cell_type": "markdown",
   "id": "b4f2929a-6dee-419c-9b58-2088892be940",
   "metadata": {},
   "source": [
    "## Loading the datasets"
   ]
  },
  {
   "cell_type": "markdown",
   "id": "b16e8f93",
   "metadata": {},
   "source": [
    "The data for measuring social and political attitudes is provided by global survey organizations including the World Values Survey Association (WVSA) and Pew Research Center (PWC). The data for country-level variables like economic development is from international institutions like the World Bank and the UN Human Development Programme."
   ]
  },
  {
   "cell_type": "markdown",
   "id": "1f42aefb",
   "metadata": {
    "jp-MarkdownHeadingCollapsed": true,
    "tags": []
   },
   "source": [
    "### World Values Survey (WVS)"
   ]
  },
  {
   "cell_type": "code",
   "execution_count": 6,
   "id": "9c39bdfb",
   "metadata": {},
   "outputs": [],
   "source": [
    "wvs7 = pd.read_csv('WVS_Cross-National_Wave_7_csv_v4_0.csv', dtype={519: 'str', 520: 'str', 521: 'str', 522: 'str'})"
   ]
  },
  {
   "cell_type": "code",
   "execution_count": 7,
   "id": "ca11b15e",
   "metadata": {},
   "outputs": [
    {
     "name": "stdout",
     "output_type": "stream",
     "text": [
      "0        Missing, Not available\n",
      "1        Missing, Not available\n",
      "2        Missing, Not available\n",
      "3        Missing, Not available\n",
      "4        Missing, Not available\n",
      "                  ...          \n",
      "87817                       NaN\n",
      "87818                       NaN\n",
      "87819                       NaN\n",
      "87820                       NaN\n",
      "87821                       NaN\n",
      "Name: Partyname, Length: 87822, dtype: object\n",
      "0        NaN\n",
      "1        NaN\n",
      "2        NaN\n",
      "3        NaN\n",
      "4        NaN\n",
      "        ... \n",
      "87817    NaN\n",
      "87818    NaN\n",
      "87819    NaN\n",
      "87820    NaN\n",
      "87821    NaN\n",
      "Name: Partyabb, Length: 87822, dtype: object\n",
      "0        NaN\n",
      "1        NaN\n",
      "2        NaN\n",
      "3        NaN\n",
      "4        NaN\n",
      "        ... \n",
      "87817    NaN\n",
      "87818    NaN\n",
      "87819    NaN\n",
      "87820    NaN\n",
      "87821    NaN\n",
      "Name: CPARTY, Length: 87822, dtype: object\n",
      "0        NaN\n",
      "1        NaN\n",
      "2        NaN\n",
      "3        NaN\n",
      "4        NaN\n",
      "        ... \n",
      "87817    NaN\n",
      "87818    NaN\n",
      "87819    NaN\n",
      "87820    NaN\n",
      "87821    NaN\n",
      "Name: CPARTYABB, Length: 87822, dtype: object\n"
     ]
    }
   ],
   "source": [
    "print(wvs7.iloc[:,519])\n",
    "print(wvs7.iloc[:,520])\n",
    "print(wvs7.iloc[:,521])\n",
    "print(wvs7.iloc[:,522])"
   ]
  },
  {
   "cell_type": "code",
   "execution_count": 9,
   "id": "30e0dff6",
   "metadata": {
    "scrolled": true
   },
   "outputs": [
    {
     "data": {
      "text/plain": [
       "pandas.core.frame.DataFrame"
      ]
     },
     "execution_count": 9,
     "metadata": {},
     "output_type": "execute_result"
    }
   ],
   "source": [
    "type(wvs7)"
   ]
  },
  {
   "cell_type": "markdown",
   "id": "6b2213ea",
   "metadata": {
    "tags": []
   },
   "source": [
    "### Pew Research Center (PWC)'s Global Attitudes Survey (GAS)"
   ]
  },
  {
   "cell_type": "markdown",
   "id": "004791fe-18d0-47b6-aae3-af0db667a38f",
   "metadata": {},
   "source": [
    "#### Loading each wave with at least 33 included countries"
   ]
  },
  {
   "cell_type": "code",
   "execution_count": 3,
   "id": "8297c4b8-049f-43ae-a98a-2a2cf5df154b",
   "metadata": {},
   "outputs": [],
   "source": [
    "summer_2002 = pd.read_spss('./pew_research_center/gap_summer_2002_44_countries/Pew GAP final 44 country dataset 1.1sav.sav') # summer_2002 #44 countries"
   ]
  },
  {
   "cell_type": "code",
   "execution_count": 6,
   "id": "8e43511e-44de-48da-a437-f7e8aebea4d0",
   "metadata": {},
   "outputs": [
    {
     "ename": "ReadstatError",
     "evalue": "Unable to convert string to the requested encoding (invalid byte sequence)",
     "output_type": "error",
     "traceback": [
      "\u001b[1;31m---------------------------------------------------------------------------\u001b[0m",
      "\u001b[1;31mReadstatError\u001b[0m                             Traceback (most recent call last)",
      "\u001b[1;32m~\\AppData\\Local\\Temp\\ipykernel_6844\\211968939.py\u001b[0m in \u001b[0;36m<module>\u001b[1;34m\u001b[0m\n\u001b[1;32m----> 1\u001b[1;33m \u001b[0mspring_2007\u001b[0m \u001b[1;33m=\u001b[0m \u001b[0mpd\u001b[0m\u001b[1;33m.\u001b[0m\u001b[0mread_spss\u001b[0m\u001b[1;33m(\u001b[0m\u001b[1;34m'./pew_research_center/gap_spring_2007_47_countries/GAP_2007_Data.sav'\u001b[0m\u001b[1;33m)\u001b[0m \u001b[1;31m# spring_2007 #48 countries\u001b[0m\u001b[1;33m\u001b[0m\u001b[1;33m\u001b[0m\u001b[0m\n\u001b[0m",
      "\u001b[1;32m~\\anaconda3\\lib\\site-packages\\pandas\\io\\spss.py\u001b[0m in \u001b[0;36mread_spss\u001b[1;34m(path, usecols, convert_categoricals)\u001b[0m\n\u001b[0;32m     44\u001b[0m             \u001b[0musecols\u001b[0m \u001b[1;33m=\u001b[0m \u001b[0mlist\u001b[0m\u001b[1;33m(\u001b[0m\u001b[0musecols\u001b[0m\u001b[1;33m)\u001b[0m  \u001b[1;31m# pyreadstat requires a list\u001b[0m\u001b[1;33m\u001b[0m\u001b[1;33m\u001b[0m\u001b[0m\n\u001b[0;32m     45\u001b[0m \u001b[1;33m\u001b[0m\u001b[0m\n\u001b[1;32m---> 46\u001b[1;33m     df, _ = pyreadstat.read_sav(\n\u001b[0m\u001b[0;32m     47\u001b[0m         \u001b[0mstringify_path\u001b[0m\u001b[1;33m(\u001b[0m\u001b[0mpath\u001b[0m\u001b[1;33m)\u001b[0m\u001b[1;33m,\u001b[0m \u001b[0musecols\u001b[0m\u001b[1;33m=\u001b[0m\u001b[0musecols\u001b[0m\u001b[1;33m,\u001b[0m \u001b[0mapply_value_formats\u001b[0m\u001b[1;33m=\u001b[0m\u001b[0mconvert_categoricals\u001b[0m\u001b[1;33m\u001b[0m\u001b[1;33m\u001b[0m\u001b[0m\n\u001b[0;32m     48\u001b[0m     )\n",
      "\u001b[1;32mpyreadstat\\pyreadstat.pyx\u001b[0m in \u001b[0;36mpyreadstat.pyreadstat.read_sav\u001b[1;34m()\u001b[0m\n",
      "\u001b[1;32mpyreadstat\\_readstat_parser.pyx\u001b[0m in \u001b[0;36mpyreadstat._readstat_parser.run_conversion\u001b[1;34m()\u001b[0m\n",
      "\u001b[1;32mpyreadstat\\_readstat_parser.pyx\u001b[0m in \u001b[0;36mpyreadstat._readstat_parser.run_readstat_parser\u001b[1;34m()\u001b[0m\n",
      "\u001b[1;32mpyreadstat\\_readstat_parser.pyx\u001b[0m in \u001b[0;36mpyreadstat._readstat_parser.check_exit_status\u001b[1;34m()\u001b[0m\n",
      "\u001b[1;31mReadstatError\u001b[0m: Unable to convert string to the requested encoding (invalid byte sequence)"
     ]
    }
   ],
   "source": [
    "spring_2007 = pd.read_spss('./pew_research_center/gap_spring_2007_47_countries/GAP_2007_Data.sav') # spring_2007 #48 countries"
   ]
  },
  {
   "cell_type": "code",
   "execution_count": 8,
   "id": "845d2a07-8f51-4a5f-97ed-b6d9ffc6a685",
   "metadata": {},
   "outputs": [],
   "source": [
    "spring_2014 = pd.read_spss('./pew_research_center/gap_spring_2014_44_countries/Pew Research Global Attitudes Spring 2014 Dataset for Web.sav') # spring_2014 #44 countries"
   ]
  },
  {
   "cell_type": "code",
   "execution_count": 9,
   "id": "e7bf6cc7",
   "metadata": {},
   "outputs": [],
   "source": [
    "spring_2015 = pd.read_spss('./pew_research_center/gap_spring_2015_40_countries/Pew Research Global Attitudes Spring 2015 Dataset for Web FINAL.sav') #40 countries"
   ]
  },
  {
   "cell_type": "code",
   "execution_count": 10,
   "id": "2e70a719-91f1-4eea-81ec-32f8107e3a63",
   "metadata": {},
   "outputs": [],
   "source": [
    "spring_2017 = pd.read_spss('./pew_research_center/gap_spring_2017_38_countries/Pew Research Global Attitudes Spring 2017 Dataset WEB FINAL.sav') # spring_2017 #38 countries"
   ]
  },
  {
   "cell_type": "code",
   "execution_count": 11,
   "id": "e6cabcaa",
   "metadata": {},
   "outputs": [],
   "source": [
    "spring_2019 = pd.read_spss('./pew_research_center/gap_spring_2019_34_countries/Pew Research Center Global Attitudes Spring 2019 Dataset WEB.sav') #34 countries"
   ]
  },
  {
   "cell_type": "markdown",
   "id": "524588f3-b226-425d-a54a-21447c79737b",
   "metadata": {},
   "source": [
    "#### Checking each wave"
   ]
  },
  {
   "cell_type": "code",
   "execution_count": 13,
   "id": "80f79dc0-b287-448c-a3cb-d361283babf2",
   "metadata": {},
   "outputs": [
    {
     "name": "stdout",
     "output_type": "stream",
     "text": [
      "<class 'pandas.core.frame.DataFrame'>\n",
      "<class 'pandas.core.frame.DataFrame'>\n",
      "<class 'pandas.core.frame.DataFrame'>\n",
      "<class 'pandas.core.frame.DataFrame'>\n",
      "<class 'pandas.core.frame.DataFrame'>\n"
     ]
    }
   ],
   "source": [
    "print(type(summer_2002))\n",
    "print(type(spring_2014))\n",
    "print(type(spring_2015))\n",
    "print(type(spring_2017))\n",
    "print(type(spring_2019))"
   ]
  },
  {
   "cell_type": "code",
   "execution_count": 14,
   "id": "9335a7a3-a1f4-4f54-98ff-40f1bf17b838",
   "metadata": {},
   "outputs": [
    {
     "name": "stdout",
     "output_type": "stream",
     "text": [
      "(38263, 399)\n",
      "(48643, 1112)\n",
      "(45435, 896)\n",
      "(41953, 875)\n",
      "(38426, 607)\n"
     ]
    }
   ],
   "source": [
    "print(summer_2002.shape)\n",
    "print(spring_2014.shape)\n",
    "print(spring_2015.shape)\n",
    "print(spring_2017.shape)\n",
    "print(spring_2019.shape)"
   ]
  },
  {
   "cell_type": "code",
   "execution_count": 15,
   "id": "babd99b7-d540-4d83-925e-087fddadc199",
   "metadata": {},
   "outputs": [
    {
     "name": "stdout",
     "output_type": "stream",
     "text": [
      "     country  psraid  quest_id                       q1     q2     q3  \\\n",
      "0  Argentina     1.0       1.0   A particularly bad day   Four  Eight   \n",
      "1  Argentina     2.0       2.0  A particularly good day  Three    Six   \n",
      "2  Argentina     3.0       3.0  A particularly good day   Nine  Seven   \n",
      "3  Argentina     4.0       4.0  A particularly good day  Eight  Eight   \n",
      "4  Argentina     5.0       5.0            A typical day   Four  Seven   \n",
      "\n",
      "                         q4                                q5.1rec  \\\n",
      "0                     Eight                       Social relations   \n",
      "1                     Three                                  Crime   \n",
      "2  Don't know (DO NOT READ)  Economic problems, financial problems   \n",
      "3  Don't know (DO NOT READ)  Economic problems, financial problems   \n",
      "4  Don't know (DO NOT READ)                                 Health   \n",
      "\n",
      "                                 q5.2rec                   q5.3rec  ...  \\\n",
      "0                                 Health                       NaN  ...   \n",
      "1  Economic problems, financial problems  Problems with government  ...   \n",
      "2                                    NaN                       NaN  ...   \n",
      "3                                  Crime                       NaN  ...   \n",
      "4                                   Work                       NaN  ...   \n",
      "\n",
      "  q98ken q98kor q98mex q98nig q98tan         region  regionwt  \\\n",
      "0    NaN    NaN    NaN    NaN    NaN  Latin America  0.894119   \n",
      "1    NaN    NaN    NaN    NaN    NaN  Latin America  0.894119   \n",
      "2    NaN    NaN    NaN    NaN    NaN  Latin America  0.894119   \n",
      "3    NaN    NaN    NaN    NaN    NaN  Latin America  0.894119   \n",
      "4    NaN    NaN    NaN    NaN    NaN  Latin America  0.894119   \n",
      "\n",
      "            subreg subregwt           weight  \n",
      "0  NOT CATEGORIZED      1.0  Age 18-19 or NA  \n",
      "1  NOT CATEGORIZED      1.0  Age 18-19 or NA  \n",
      "2  NOT CATEGORIZED      1.0  Age 18-19 or NA  \n",
      "3  NOT CATEGORIZED      1.0  Age 18-19 or NA  \n",
      "4  NOT CATEGORIZED      1.0  Age 18-19 or NA  \n",
      "\n",
      "[5 rows x 399 columns]\n",
      "     PSRAID COUNTRY             Q1  Q2A  Q2B  Q3A  Q3B  Q4A  Q4B  Q4C  ...  \\\n",
      "0  100000.0   Spain  A typical day  NaN  0.0  NaN  NaN  NaN  NaN  NaN  ...   \n",
      "1  100001.0   Spain  A typical day  NaN  0.0  NaN  NaN  NaN  NaN  NaN  ...   \n",
      "2  100002.0   Spain  A typical day  NaN  0.0  NaN  NaN  NaN  NaN  NaN  ...   \n",
      "3  100003.0   Spain  A typical day  NaN  0.0  NaN  NaN  NaN  NaN  NaN  ...   \n",
      "4  100004.0   Spain  A typical day  NaN  0.0  NaN  NaN  NaN  NaN  NaN  ...   \n",
      "\n",
      "  STRATUM_VIE   PHONETYPE USR HPHONEUSE RACETHN2  LL  CP    weight      PSU  \\\n",
      "0         NaN    landline           NaN      NaN NaN NaN  1.006412  35001.0   \n",
      "1         NaN  cell phone           NaN      NaN NaN NaN  1.027599  35001.0   \n",
      "2         NaN    landline           NaN      NaN NaN NaN  0.757891  35001.0   \n",
      "3         NaN    landline           NaN      NaN NaN NaN  0.797066  35001.0   \n",
      "4         NaN    landline           NaN      NaN NaN NaN  0.813745  35001.0   \n",
      "\n",
      "   stratum  \n",
      "0  35004.0  \n",
      "1  35055.0  \n",
      "2  35004.0  \n",
      "3  35104.0  \n",
      "4  35004.0  \n",
      "\n",
      "[5 rows x 1112 columns]\n",
      "     PSRAID   COUNTRY                       Q1   Q2             Q3  \\\n",
      "0  100000.0  Ethiopia  A particularly good day  NaN  Somewhat good   \n",
      "1  100001.0  Ethiopia            A typical day  NaN  Somewhat good   \n",
      "2  100002.0  Ethiopia  A particularly good day  NaN  Somewhat good   \n",
      "3  100003.0  Ethiopia  A particularly good day  NaN  Somewhat good   \n",
      "4  100004.0  Ethiopia  A particularly good day  NaN  Somewhat good   \n",
      "\n",
      "                 Q4   Q5          Q6   Q7   Q8  ... DENSITY RACECMB RACETHN  \\\n",
      "0  Improve a little  NaN  Better off  NaN  NaN  ...     NaN     NaN     NaN   \n",
      "1   Worsen a little  NaN  Better off  NaN  NaN  ...     NaN     NaN     NaN   \n",
      "2     Improve a lot  NaN  Better off  NaN  NaN  ...     NaN     NaN     NaN   \n",
      "3   Remain the same  NaN   Worse off  NaN  NaN  ...     NaN     NaN     NaN   \n",
      "4   Worsen a little  NaN   Worse off  NaN  NaN  ...     NaN     NaN     NaN   \n",
      "\n",
      "  IPHONEUSE HPHONEUSE RACETHN2 PHONETYPE    WEIGHT     PSU stratum  \n",
      "0       NaN       NaN      NaN       NaN  0.687311  8012.0  8005.0  \n",
      "1       NaN       NaN      NaN       NaN  0.885817  8012.0  8005.0  \n",
      "2       NaN       NaN      NaN       NaN  0.957723  8012.0  8005.0  \n",
      "3       NaN       NaN      NaN       NaN  0.885817  8012.0  8005.0  \n",
      "4       NaN       NaN      NaN       NaN  1.185636  8012.0  8005.0  \n",
      "\n",
      "[5 rows x 896 columns]\n",
      "    ID        survey        Country qsplit                 desc_day  \\\n",
      "0  1.0  Spring, 2017  United States    NaN  A particularly good day   \n",
      "1  2.0  Spring, 2017  United States    NaN            A typical day   \n",
      "2  3.0  Spring, 2017  United States    NaN            A typical day   \n",
      "3  4.0  Spring, 2017  United States    NaN            A typical day   \n",
      "4  5.0  Spring, 2017  United States    NaN            A typical day   \n",
      "\n",
      "  country_satis nostalgia50 trust_gov       econ_sit improve_econ  ...  \\\n",
      "0           NaN       Worse     A lot  Somewhat good          NaN  ...   \n",
      "1           NaN      Better  Somewhat      Very good          NaN  ...   \n",
      "2           NaN      Better  Somewhat  Somewhat good          NaN  ...   \n",
      "3           NaN       Worse  Somewhat   Somewhat bad          NaN  ...   \n",
      "4           NaN      Better     A lot  Somewhat good          NaN  ...   \n",
      "\n",
      "  STRATUM_SPA STRATUM_SWE STRATUM_TAN STRATUM_TUN STRATUM_TUR STRATUM_BRI  \\\n",
      "0         NaN         NaN         NaN         NaN         NaN         NaN   \n",
      "1         NaN         NaN         NaN         NaN         NaN         NaN   \n",
      "2         NaN         NaN         NaN         NaN         NaN         NaN   \n",
      "3         NaN         NaN         NaN         NaN         NaN         NaN   \n",
      "4         NaN         NaN         NaN         NaN         NaN         NaN   \n",
      "\n",
      "  STRATUM_US STRATUM_VEN STRATUM_VIE    weight  \n",
      "0    51051.0         NaN         NaN  1.273254  \n",
      "1    51059.0         NaN         NaN  0.515682  \n",
      "2    29047.0         NaN         NaN  0.326488  \n",
      "3    29187.0         NaN         NaN  0.955893  \n",
      "4    22059.0         NaN         NaN  1.122629  \n",
      "\n",
      "[5 rows x 875 columns]\n",
      "          ID        survey    country    weight LADDER_NOW COUNTRY_SATIS  \\\n",
      "0  2273149.0  Spring, 2019  Argentina  2.637501             Dissatisfied   \n",
      "1  2273190.0  Spring, 2019  Argentina  0.762568                Satisfied   \n",
      "2  2273199.0  Spring, 2019  Argentina  0.475403             Dissatisfied   \n",
      "3  2273204.0  Spring, 2019  Argentina  1.016212             Dissatisfied   \n",
      "4  2273218.0  Spring, 2019  Argentina  0.592054             Dissatisfied   \n",
      "\n",
      "       ECON_SIT CHILDREN_BETTEROFF2   SATISFIED_DEMOCRACY RELIGION20YR  ...  \\\n",
      "0      Very bad  Same (DO NOT READ)  Not at all satisfied          NaN  ...   \n",
      "1     Very good          Better off    Somewhat satisfied          NaN  ...   \n",
      "2      Very bad          Better off    Somewhat satisfied          NaN  ...   \n",
      "3      Very bad           Worse off     Not too satisfied          NaN  ...   \n",
      "4  Somewhat bad          Better off    Somewhat satisfied          NaN  ...   \n",
      "\n",
      "  STRATUM_TUR PSU_TUR QS5TUR STRATUM_UKR PSU_UKR QS5UKR REGION_UK2 cregion_us  \\\n",
      "0         NaN     NaN    NaN         NaN     NaN    NaN        NaN        NaN   \n",
      "1         NaN     NaN    NaN         NaN     NaN    NaN        NaN        NaN   \n",
      "2         NaN     NaN    NaN         NaN     NaN    NaN        NaN        NaN   \n",
      "3         NaN     NaN    NaN         NaN     NaN    NaN        NaN        NaN   \n",
      "4         NaN     NaN    NaN         NaN     NaN    NaN        NaN        NaN   \n",
      "\n",
      "  state_us density_us  \n",
      "0      NaN        NaN  \n",
      "1      NaN        NaN  \n",
      "2      NaN        NaN  \n",
      "3      NaN        NaN  \n",
      "4      NaN        NaN  \n",
      "\n",
      "[5 rows x 607 columns]\n"
     ]
    }
   ],
   "source": [
    "print(summer_2002.head(5))\n",
    "print(spring_2014.head(5))\n",
    "print(spring_2015.head(5))\n",
    "print(spring_2017.head(5))\n",
    "print(spring_2019.head(5))"
   ]
  },
  {
   "cell_type": "markdown",
   "id": "14d40eba",
   "metadata": {},
   "source": [
    "## Extraction the variables"
   ]
  },
  {
   "cell_type": "markdown",
   "id": "93778bee",
   "metadata": {
    "jp-MarkdownHeadingCollapsed": true,
    "tags": []
   },
   "source": [
    "### World Values Survey (WVS)"
   ]
  },
  {
   "cell_type": "code",
   "execution_count": null,
   "id": "ca322629",
   "metadata": {},
   "outputs": [],
   "source": [
    "#demographics\n",
    "#liberalism vs. authoritarianism\n",
    "#socialism vs. capitalism\n",
    "#progressivism vs. conservatism\n",
    "#science\n",
    "#religion\n",
    "#environmental protection"
   ]
  },
  {
   "cell_type": "code",
   "execution_count": 5,
   "id": "4d972fb8",
   "metadata": {},
   "outputs": [
    {
     "data": {
      "text/plain": [
       "pandas.core.indexes.base.Index"
      ]
     },
     "execution_count": 5,
     "metadata": {},
     "output_type": "execute_result"
    }
   ],
   "source": [
    "type(spring_2019_gas.columns)"
   ]
  },
  {
   "cell_type": "markdown",
   "id": "89024c81-5377-47ad-8a72-1537519df01a",
   "metadata": {},
   "source": [
    "### Pew Research Center (PWC)'s Global Attitudes Survey (GAS)"
   ]
  },
  {
   "cell_type": "markdown",
   "id": "547843f3-aeb4-4ff7-9ced-5c8a0dcb7c0e",
   "metadata": {},
   "source": [
    "# Data transformation"
   ]
  },
  {
   "cell_type": "markdown",
   "id": "8eff1d2d-0a1b-4883-8d0b-6f823feb28d8",
   "metadata": {},
   "source": [
    "# Data analysis"
   ]
  },
  {
   "cell_type": "markdown",
   "id": "9937ffac-a909-423d-828a-4b21b8d4f96d",
   "metadata": {},
   "source": [
    "# Data representation"
   ]
  },
  {
   "cell_type": "markdown",
   "id": "25d592bc-d117-41e5-9e31-2d496077d6be",
   "metadata": {
    "tags": []
   },
   "source": [
    "## Correlations by country"
   ]
  },
  {
   "cell_type": "markdown",
   "id": "4a8cc001",
   "metadata": {
    "jp-MarkdownHeadingCollapsed": true,
    "tags": []
   },
   "source": [
    "#### United States"
   ]
  },
  {
   "cell_type": "code",
   "execution_count": 384,
   "id": "cc9b52e7",
   "metadata": {},
   "outputs": [],
   "source": [
    "united_states = US_image_accept_homosexuality_clean.loc[US_image_accept_homosexuality_clean['country'].isin(['United States'])]"
   ]
  },
  {
   "cell_type": "code",
   "execution_count": 385,
   "id": "3ddb0a65",
   "metadata": {},
   "outputs": [
    {
     "data": {
      "text/html": [
       "<div>\n",
       "<style scoped>\n",
       "    .dataframe tbody tr th:only-of-type {\n",
       "        vertical-align: middle;\n",
       "    }\n",
       "\n",
       "    .dataframe tbody tr th {\n",
       "        vertical-align: top;\n",
       "    }\n",
       "\n",
       "    .dataframe thead th {\n",
       "        text-align: right;\n",
       "    }\n",
       "</style>\n",
       "<table border=\"1\" class=\"dataframe\">\n",
       "  <thead>\n",
       "    <tr style=\"text-align: right;\">\n",
       "      <th></th>\n",
       "      <th>country</th>\n",
       "      <th>FAV_US</th>\n",
       "      <th>FAV_EU</th>\n",
       "      <th>HOMOSEXUALITY</th>\n",
       "      <th>RELIGION_IMPORT</th>\n",
       "      <th>WOMEN_JOB</th>\n",
       "      <th>FREE_SPEECH</th>\n",
       "      <th>GENDER_EQUALITY</th>\n",
       "    </tr>\n",
       "  </thead>\n",
       "  <tbody>\n",
       "    <tr>\n",
       "      <th>36923</th>\n",
       "      <td>United States</td>\n",
       "      <td>1.0</td>\n",
       "      <td>0.66</td>\n",
       "      <td>5.5</td>\n",
       "      <td>1.0</td>\n",
       "      <td>1.00</td>\n",
       "      <td>1.00</td>\n",
       "      <td>1.0</td>\n",
       "    </tr>\n",
       "    <tr>\n",
       "      <th>36924</th>\n",
       "      <td>United States</td>\n",
       "      <td>1.0</td>\n",
       "      <td>0.66</td>\n",
       "      <td>5.5</td>\n",
       "      <td>0.66</td>\n",
       "      <td>0.00</td>\n",
       "      <td>0.66</td>\n",
       "      <td>1.0</td>\n",
       "    </tr>\n",
       "    <tr>\n",
       "      <th>36925</th>\n",
       "      <td>United States</td>\n",
       "      <td>1.0</td>\n",
       "      <td>0.00</td>\n",
       "      <td>5.5</td>\n",
       "      <td>0.66</td>\n",
       "      <td>0.33</td>\n",
       "      <td>1.00</td>\n",
       "      <td>1.0</td>\n",
       "    </tr>\n",
       "    <tr>\n",
       "      <th>36927</th>\n",
       "      <td>United States</td>\n",
       "      <td>0.0</td>\n",
       "      <td>0.33</td>\n",
       "      <td>5.5</td>\n",
       "      <td>1.0</td>\n",
       "      <td>0.00</td>\n",
       "      <td>1.00</td>\n",
       "      <td>1.0</td>\n",
       "    </tr>\n",
       "    <tr>\n",
       "      <th>36928</th>\n",
       "      <td>United States</td>\n",
       "      <td>1.0</td>\n",
       "      <td>0.33</td>\n",
       "      <td>0.5</td>\n",
       "      <td>1.0</td>\n",
       "      <td>0.66</td>\n",
       "      <td>1.00</td>\n",
       "      <td>1.0</td>\n",
       "    </tr>\n",
       "    <tr>\n",
       "      <th>...</th>\n",
       "      <td>...</td>\n",
       "      <td>...</td>\n",
       "      <td>...</td>\n",
       "      <td>...</td>\n",
       "      <td>...</td>\n",
       "      <td>...</td>\n",
       "      <td>...</td>\n",
       "      <td>...</td>\n",
       "    </tr>\n",
       "    <tr>\n",
       "      <th>38420</th>\n",
       "      <td>United States</td>\n",
       "      <td>1.0</td>\n",
       "      <td>0.00</td>\n",
       "      <td>0.5</td>\n",
       "      <td>1.0</td>\n",
       "      <td>0.33</td>\n",
       "      <td>0.66</td>\n",
       "      <td>1.0</td>\n",
       "    </tr>\n",
       "    <tr>\n",
       "      <th>38421</th>\n",
       "      <td>United States</td>\n",
       "      <td>1.0</td>\n",
       "      <td>0.00</td>\n",
       "      <td>0.5</td>\n",
       "      <td>1.0</td>\n",
       "      <td>0.00</td>\n",
       "      <td>1.00</td>\n",
       "      <td>1.0</td>\n",
       "    </tr>\n",
       "    <tr>\n",
       "      <th>38422</th>\n",
       "      <td>United States</td>\n",
       "      <td>1.0</td>\n",
       "      <td>0.33</td>\n",
       "      <td>5.5</td>\n",
       "      <td>0.66</td>\n",
       "      <td>0.00</td>\n",
       "      <td>1.00</td>\n",
       "      <td>1.0</td>\n",
       "    </tr>\n",
       "    <tr>\n",
       "      <th>38423</th>\n",
       "      <td>United States</td>\n",
       "      <td>1.0</td>\n",
       "      <td>0.33</td>\n",
       "      <td>5.5</td>\n",
       "      <td>1.0</td>\n",
       "      <td>0.66</td>\n",
       "      <td>1.00</td>\n",
       "      <td>1.0</td>\n",
       "    </tr>\n",
       "    <tr>\n",
       "      <th>38424</th>\n",
       "      <td>United States</td>\n",
       "      <td>1.0</td>\n",
       "      <td>0.66</td>\n",
       "      <td>5.5</td>\n",
       "      <td>0.66</td>\n",
       "      <td>0.33</td>\n",
       "      <td>1.00</td>\n",
       "      <td>1.0</td>\n",
       "    </tr>\n",
       "  </tbody>\n",
       "</table>\n",
       "<p>1124 rows × 8 columns</p>\n",
       "</div>"
      ],
      "text/plain": [
       "             country  FAV_US  FAV_EU HOMOSEXUALITY RELIGION_IMPORT  WOMEN_JOB  \\\n",
       "36923  United States     1.0    0.66           5.5             1.0       1.00   \n",
       "36924  United States     1.0    0.66           5.5            0.66       0.00   \n",
       "36925  United States     1.0    0.00           5.5            0.66       0.33   \n",
       "36927  United States     0.0    0.33           5.5             1.0       0.00   \n",
       "36928  United States     1.0    0.33           0.5             1.0       0.66   \n",
       "...              ...     ...     ...           ...             ...        ...   \n",
       "38420  United States     1.0    0.00           0.5             1.0       0.33   \n",
       "38421  United States     1.0    0.00           0.5             1.0       0.00   \n",
       "38422  United States     1.0    0.33           5.5            0.66       0.00   \n",
       "38423  United States     1.0    0.33           5.5             1.0       0.66   \n",
       "38424  United States     1.0    0.66           5.5            0.66       0.33   \n",
       "\n",
       "       FREE_SPEECH  GENDER_EQUALITY  \n",
       "36923         1.00              1.0  \n",
       "36924         0.66              1.0  \n",
       "36925         1.00              1.0  \n",
       "36927         1.00              1.0  \n",
       "36928         1.00              1.0  \n",
       "...            ...              ...  \n",
       "38420         0.66              1.0  \n",
       "38421         1.00              1.0  \n",
       "38422         1.00              1.0  \n",
       "38423         1.00              1.0  \n",
       "38424         1.00              1.0  \n",
       "\n",
       "[1124 rows x 8 columns]"
      ]
     },
     "execution_count": 385,
     "metadata": {},
     "output_type": "execute_result"
    }
   ],
   "source": [
    "united_states"
   ]
  },
  {
   "cell_type": "code",
   "execution_count": 311,
   "id": "2cb3308c",
   "metadata": {
    "scrolled": true
   },
   "outputs": [
    {
     "data": {
      "text/plain": [
       "PearsonRResult(statistic=-0.12973326443261562, pvalue=1.8415738312969678e-06)"
      ]
     },
     "execution_count": 311,
     "metadata": {},
     "output_type": "execute_result"
    }
   ],
   "source": [
    "pearsonr(united_states.FAV_US, united_states.HOMOSEXUALITY)"
   ]
  },
  {
   "cell_type": "code",
   "execution_count": 386,
   "id": "9df7aa23",
   "metadata": {},
   "outputs": [
    {
     "data": {
      "text/plain": [
       "PearsonRResult(statistic=0.2588138786859622, pvalue=1.1648013847027328e-18)"
      ]
     },
     "execution_count": 386,
     "metadata": {},
     "output_type": "execute_result"
    }
   ],
   "source": [
    "pearsonr(united_states.FAV_EU, united_states.HOMOSEXUALITY)"
   ]
  },
  {
   "cell_type": "code",
   "execution_count": 387,
   "id": "63fd1d27",
   "metadata": {},
   "outputs": [
    {
     "data": {
      "text/plain": [
       "PearsonRResult(statistic=0.20890843819831478, pvalue=1.502143188142299e-12)"
      ]
     },
     "execution_count": 387,
     "metadata": {},
     "output_type": "execute_result"
    }
   ],
   "source": [
    "pearsonr(united_states.FAV_US, united_states.RELIGION_IMPORT)"
   ]
  },
  {
   "cell_type": "code",
   "execution_count": 388,
   "id": "dad331cd",
   "metadata": {},
   "outputs": [
    {
     "data": {
      "text/plain": [
       "PearsonRResult(statistic=-0.2740990677086065, pvalue=8.04444412416034e-21)"
      ]
     },
     "execution_count": 388,
     "metadata": {},
     "output_type": "execute_result"
    }
   ],
   "source": [
    "pearsonr(united_states.FAV_EU, united_states.RELIGION_IMPORT)"
   ]
  },
  {
   "cell_type": "code",
   "execution_count": 389,
   "id": "47f4d6b6",
   "metadata": {},
   "outputs": [
    {
     "data": {
      "text/plain": [
       "PearsonRResult(statistic=0.02151003504279819, pvalue=0.4712610629408658)"
      ]
     },
     "execution_count": 389,
     "metadata": {},
     "output_type": "execute_result"
    }
   ],
   "source": [
    "pearsonr(united_states.FAV_US, united_states.WOMEN_JOB)"
   ]
  },
  {
   "cell_type": "code",
   "execution_count": 390,
   "id": "b0353d3a",
   "metadata": {},
   "outputs": [
    {
     "data": {
      "text/plain": [
       "PearsonRResult(statistic=-0.15808461953428427, pvalue=9.951970661238007e-08)"
      ]
     },
     "execution_count": 390,
     "metadata": {},
     "output_type": "execute_result"
    }
   ],
   "source": [
    "pearsonr(united_states.FAV_EU, united_states.WOMEN_JOB)"
   ]
  },
  {
   "cell_type": "code",
   "execution_count": 253,
   "id": "ee6b326c",
   "metadata": {},
   "outputs": [
    {
     "data": {
      "text/plain": [
       "PearsonRResult(statistic=0.07264489455595637, pvalue=0.007716054737041842)"
      ]
     },
     "execution_count": 253,
     "metadata": {},
     "output_type": "execute_result"
    }
   ],
   "source": [
    "pearsonr(united_states.FAV_US, united_states.FREE_SPEECH)"
   ]
  },
  {
   "cell_type": "code",
   "execution_count": 391,
   "id": "cebed94d",
   "metadata": {},
   "outputs": [
    {
     "data": {
      "text/plain": [
       "PearsonRResult(statistic=0.006194861956645075, pvalue=0.8356502228819286)"
      ]
     },
     "execution_count": 391,
     "metadata": {},
     "output_type": "execute_result"
    }
   ],
   "source": [
    "pearsonr(united_states.FAV_EU, united_states.FREE_SPEECH)"
   ]
  },
  {
   "cell_type": "code",
   "execution_count": 314,
   "id": "3ab2cd02",
   "metadata": {},
   "outputs": [
    {
     "data": {
      "text/plain": [
       "PearsonRResult(statistic=0.03102219945495191, pvalue=0.2559212970911041)"
      ]
     },
     "execution_count": 314,
     "metadata": {},
     "output_type": "execute_result"
    }
   ],
   "source": [
    "pearsonr(united_states.FAV_US, united_states.GENDER_EQUALITY)"
   ]
  },
  {
   "cell_type": "code",
   "execution_count": 392,
   "id": "208dae56",
   "metadata": {},
   "outputs": [
    {
     "data": {
      "text/plain": [
       "PearsonRResult(statistic=0.14031655779976815, pvalue=2.3306028499721688e-06)"
      ]
     },
     "execution_count": 392,
     "metadata": {},
     "output_type": "execute_result"
    }
   ],
   "source": [
    "pearsonr(united_states.FAV_EU, united_states.GENDER_EQUALITY)"
   ]
  },
  {
   "cell_type": "code",
   "execution_count": 469,
   "id": "e445592b",
   "metadata": {},
   "outputs": [
    {
     "data": {
      "text/plain": [
       "PearsonRResult(statistic=-0.06729522781989752, pvalue=0.024058436379847815)"
      ]
     },
     "execution_count": 469,
     "metadata": {},
     "output_type": "execute_result"
    }
   ],
   "source": [
    "pearsonr(united_states.RELIGION_IMPORT, united_states.FREE_SPEECH)"
   ]
  },
  {
   "cell_type": "code",
   "execution_count": 470,
   "id": "ac8b5267",
   "metadata": {},
   "outputs": [
    {
     "data": {
      "text/plain": [
       "PearsonRResult(statistic=0.09260820881745552, pvalue=0.0018834572272249943)"
      ]
     },
     "execution_count": 470,
     "metadata": {},
     "output_type": "execute_result"
    }
   ],
   "source": [
    "pearsonr(united_states.GENDER_EQUALITY, united_states.FREE_SPEECH)"
   ]
  },
  {
   "cell_type": "code",
   "execution_count": 471,
   "id": "25307887",
   "metadata": {},
   "outputs": [
    {
     "data": {
      "text/plain": [
       "PearsonRResult(statistic=-0.11915009423775835, pvalue=6.215738142382579e-05)"
      ]
     },
     "execution_count": 471,
     "metadata": {},
     "output_type": "execute_result"
    }
   ],
   "source": [
    "pearsonr(united_states.RELIGION_IMPORT, united_states.GENDER_EQUALITY)"
   ]
  },
  {
   "cell_type": "markdown",
   "id": "7d52a771",
   "metadata": {
    "jp-MarkdownHeadingCollapsed": true,
    "tags": []
   },
   "source": [
    "#### India"
   ]
  },
  {
   "cell_type": "code",
   "execution_count": 394,
   "id": "f7a35438",
   "metadata": {},
   "outputs": [],
   "source": [
    "india = US_image_accept_homosexuality_clean.loc[US_image_accept_homosexuality_clean['country'].isin(['India'])]"
   ]
  },
  {
   "cell_type": "code",
   "execution_count": 395,
   "id": "042cf70a",
   "metadata": {},
   "outputs": [
    {
     "data": {
      "text/html": [
       "<div>\n",
       "<style scoped>\n",
       "    .dataframe tbody tr th:only-of-type {\n",
       "        vertical-align: middle;\n",
       "    }\n",
       "\n",
       "    .dataframe tbody tr th {\n",
       "        vertical-align: top;\n",
       "    }\n",
       "\n",
       "    .dataframe thead th {\n",
       "        text-align: right;\n",
       "    }\n",
       "</style>\n",
       "<table border=\"1\" class=\"dataframe\">\n",
       "  <thead>\n",
       "    <tr style=\"text-align: right;\">\n",
       "      <th></th>\n",
       "      <th>country</th>\n",
       "      <th>FAV_US</th>\n",
       "      <th>FAV_EU</th>\n",
       "      <th>HOMOSEXUALITY</th>\n",
       "      <th>RELIGION_IMPORT</th>\n",
       "      <th>WOMEN_JOB</th>\n",
       "      <th>FREE_SPEECH</th>\n",
       "      <th>GENDER_EQUALITY</th>\n",
       "    </tr>\n",
       "  </thead>\n",
       "  <tbody>\n",
       "    <tr>\n",
       "      <th>11277</th>\n",
       "      <td>India</td>\n",
       "      <td>0.33</td>\n",
       "      <td>0.33</td>\n",
       "      <td>5.5</td>\n",
       "      <td>0.33</td>\n",
       "      <td>1.00</td>\n",
       "      <td>0.66</td>\n",
       "      <td>0.66</td>\n",
       "    </tr>\n",
       "    <tr>\n",
       "      <th>11278</th>\n",
       "      <td>India</td>\n",
       "      <td>0.66</td>\n",
       "      <td>0.66</td>\n",
       "      <td>0.5</td>\n",
       "      <td>0.66</td>\n",
       "      <td>1.00</td>\n",
       "      <td>0.66</td>\n",
       "      <td>1.00</td>\n",
       "    </tr>\n",
       "    <tr>\n",
       "      <th>11279</th>\n",
       "      <td>India</td>\n",
       "      <td>1.00</td>\n",
       "      <td>0.66</td>\n",
       "      <td>0.5</td>\n",
       "      <td>0.66</td>\n",
       "      <td>0.66</td>\n",
       "      <td>0.66</td>\n",
       "      <td>0.66</td>\n",
       "    </tr>\n",
       "    <tr>\n",
       "      <th>11280</th>\n",
       "      <td>India</td>\n",
       "      <td>0.66</td>\n",
       "      <td>1.00</td>\n",
       "      <td>0.5</td>\n",
       "      <td>1.0</td>\n",
       "      <td>1.00</td>\n",
       "      <td>0.66</td>\n",
       "      <td>1.00</td>\n",
       "    </tr>\n",
       "    <tr>\n",
       "      <th>11281</th>\n",
       "      <td>India</td>\n",
       "      <td>1.00</td>\n",
       "      <td>0.66</td>\n",
       "      <td>0.5</td>\n",
       "      <td>1.0</td>\n",
       "      <td>1.00</td>\n",
       "      <td>1.00</td>\n",
       "      <td>1.00</td>\n",
       "    </tr>\n",
       "    <tr>\n",
       "      <th>...</th>\n",
       "      <td>...</td>\n",
       "      <td>...</td>\n",
       "      <td>...</td>\n",
       "      <td>...</td>\n",
       "      <td>...</td>\n",
       "      <td>...</td>\n",
       "      <td>...</td>\n",
       "      <td>...</td>\n",
       "    </tr>\n",
       "    <tr>\n",
       "      <th>13745</th>\n",
       "      <td>India</td>\n",
       "      <td>0.66</td>\n",
       "      <td>0.00</td>\n",
       "      <td>5.5</td>\n",
       "      <td>1.0</td>\n",
       "      <td>0.66</td>\n",
       "      <td>0.66</td>\n",
       "      <td>0.00</td>\n",
       "    </tr>\n",
       "    <tr>\n",
       "      <th>13746</th>\n",
       "      <td>India</td>\n",
       "      <td>0.66</td>\n",
       "      <td>1.00</td>\n",
       "      <td>5.5</td>\n",
       "      <td>1.0</td>\n",
       "      <td>1.00</td>\n",
       "      <td>1.00</td>\n",
       "      <td>1.00</td>\n",
       "    </tr>\n",
       "    <tr>\n",
       "      <th>13747</th>\n",
       "      <td>India</td>\n",
       "      <td>1.00</td>\n",
       "      <td>1.00</td>\n",
       "      <td>5.5</td>\n",
       "      <td>1.0</td>\n",
       "      <td>1.00</td>\n",
       "      <td>1.00</td>\n",
       "      <td>1.00</td>\n",
       "    </tr>\n",
       "    <tr>\n",
       "      <th>13748</th>\n",
       "      <td>India</td>\n",
       "      <td>0.66</td>\n",
       "      <td>0.66</td>\n",
       "      <td>5.5</td>\n",
       "      <td>1.0</td>\n",
       "      <td>1.00</td>\n",
       "      <td>1.00</td>\n",
       "      <td>1.00</td>\n",
       "    </tr>\n",
       "    <tr>\n",
       "      <th>13751</th>\n",
       "      <td>India</td>\n",
       "      <td>1.00</td>\n",
       "      <td>0.00</td>\n",
       "      <td>5.5</td>\n",
       "      <td>1.0</td>\n",
       "      <td>1.00</td>\n",
       "      <td>0.00</td>\n",
       "      <td>0.00</td>\n",
       "    </tr>\n",
       "  </tbody>\n",
       "</table>\n",
       "<p>998 rows × 8 columns</p>\n",
       "</div>"
      ],
      "text/plain": [
       "      country  FAV_US  FAV_EU HOMOSEXUALITY RELIGION_IMPORT  WOMEN_JOB  \\\n",
       "11277   India    0.33    0.33           5.5            0.33       1.00   \n",
       "11278   India    0.66    0.66           0.5            0.66       1.00   \n",
       "11279   India    1.00    0.66           0.5            0.66       0.66   \n",
       "11280   India    0.66    1.00           0.5             1.0       1.00   \n",
       "11281   India    1.00    0.66           0.5             1.0       1.00   \n",
       "...       ...     ...     ...           ...             ...        ...   \n",
       "13745   India    0.66    0.00           5.5             1.0       0.66   \n",
       "13746   India    0.66    1.00           5.5             1.0       1.00   \n",
       "13747   India    1.00    1.00           5.5             1.0       1.00   \n",
       "13748   India    0.66    0.66           5.5             1.0       1.00   \n",
       "13751   India    1.00    0.00           5.5             1.0       1.00   \n",
       "\n",
       "       FREE_SPEECH  GENDER_EQUALITY  \n",
       "11277         0.66             0.66  \n",
       "11278         0.66             1.00  \n",
       "11279         0.66             0.66  \n",
       "11280         0.66             1.00  \n",
       "11281         1.00             1.00  \n",
       "...            ...              ...  \n",
       "13745         0.66             0.00  \n",
       "13746         1.00             1.00  \n",
       "13747         1.00             1.00  \n",
       "13748         1.00             1.00  \n",
       "13751         0.00             0.00  \n",
       "\n",
       "[998 rows x 8 columns]"
      ]
     },
     "execution_count": 395,
     "metadata": {},
     "output_type": "execute_result"
    }
   ],
   "source": [
    "india"
   ]
  },
  {
   "cell_type": "code",
   "execution_count": 396,
   "id": "7c6e43c2",
   "metadata": {},
   "outputs": [
    {
     "data": {
      "text/plain": [
       "PearsonRResult(statistic=0.026929744761112165, pvalue=0.3954200346319932)"
      ]
     },
     "execution_count": 396,
     "metadata": {},
     "output_type": "execute_result"
    }
   ],
   "source": [
    "pearsonr(india.FAV_US, india.HOMOSEXUALITY)"
   ]
  },
  {
   "cell_type": "code",
   "execution_count": 398,
   "id": "c2ae7c7a",
   "metadata": {},
   "outputs": [
    {
     "data": {
      "text/plain": [
       "PearsonRResult(statistic=0.08901297923756223, pvalue=0.00489163180899939)"
      ]
     },
     "execution_count": 398,
     "metadata": {},
     "output_type": "execute_result"
    }
   ],
   "source": [
    "pearsonr(india.FAV_EU, india.HOMOSEXUALITY)"
   ]
  },
  {
   "cell_type": "code",
   "execution_count": 399,
   "id": "17d2d0fa",
   "metadata": {},
   "outputs": [
    {
     "data": {
      "text/plain": [
       "PearsonRResult(statistic=0.03758505356390432, pvalue=0.23550947463045688)"
      ]
     },
     "execution_count": 399,
     "metadata": {},
     "output_type": "execute_result"
    }
   ],
   "source": [
    "pearsonr(india.FAV_EU, india.RELIGION_IMPORT)"
   ]
  },
  {
   "cell_type": "code",
   "execution_count": 400,
   "id": "6b24ed0a",
   "metadata": {},
   "outputs": [
    {
     "data": {
      "text/plain": [
       "PearsonRResult(statistic=0.15817708836093072, pvalue=5.103458765554274e-07)"
      ]
     },
     "execution_count": 400,
     "metadata": {},
     "output_type": "execute_result"
    }
   ],
   "source": [
    "pearsonr(india.FAV_US, india.RELIGION_IMPORT)"
   ]
  },
  {
   "cell_type": "code",
   "execution_count": 401,
   "id": "7c6e0e3e",
   "metadata": {},
   "outputs": [
    {
     "data": {
      "text/plain": [
       "PearsonRResult(statistic=0.07222058989320851, pvalue=0.02250993542152901)"
      ]
     },
     "execution_count": 401,
     "metadata": {},
     "output_type": "execute_result"
    }
   ],
   "source": [
    "pearsonr(india.FAV_US, india.WOMEN_JOB)"
   ]
  },
  {
   "cell_type": "code",
   "execution_count": 402,
   "id": "ab9c9ab4",
   "metadata": {},
   "outputs": [
    {
     "data": {
      "text/plain": [
       "PearsonRResult(statistic=0.0811331870509249, pvalue=0.010344204496340237)"
      ]
     },
     "execution_count": 402,
     "metadata": {},
     "output_type": "execute_result"
    }
   ],
   "source": [
    "pearsonr(india.FAV_EU, india.WOMEN_JOB)"
   ]
  },
  {
   "cell_type": "code",
   "execution_count": 320,
   "id": "88823a30",
   "metadata": {
    "scrolled": true
   },
   "outputs": [
    {
     "data": {
      "text/plain": [
       "PearsonRResult(statistic=0.11815421918140807, pvalue=2.0044664882338005e-05)"
      ]
     },
     "execution_count": 320,
     "metadata": {},
     "output_type": "execute_result"
    }
   ],
   "source": [
    "pearsonr(india.FAV_US, india.FREE_SPEECH)"
   ]
  },
  {
   "cell_type": "code",
   "execution_count": 403,
   "id": "23e17c4e",
   "metadata": {},
   "outputs": [
    {
     "data": {
      "text/plain": [
       "PearsonRResult(statistic=0.13630414994823628, pvalue=1.5547360744485498e-05)"
      ]
     },
     "execution_count": 403,
     "metadata": {},
     "output_type": "execute_result"
    }
   ],
   "source": [
    "pearsonr(india.FAV_EU, india.FREE_SPEECH)"
   ]
  },
  {
   "cell_type": "code",
   "execution_count": 404,
   "id": "1ed55375",
   "metadata": {},
   "outputs": [
    {
     "data": {
      "text/plain": [
       "PearsonRResult(statistic=0.13763687819876025, pvalue=1.2803383539070892e-05)"
      ]
     },
     "execution_count": 404,
     "metadata": {},
     "output_type": "execute_result"
    }
   ],
   "source": [
    "pearsonr(india.FAV_US, india.GENDER_EQUALITY)"
   ]
  },
  {
   "cell_type": "code",
   "execution_count": 405,
   "id": "482b0b98",
   "metadata": {},
   "outputs": [
    {
     "data": {
      "text/plain": [
       "PearsonRResult(statistic=0.08923840389604895, pvalue=0.004783839698202574)"
      ]
     },
     "execution_count": 405,
     "metadata": {},
     "output_type": "execute_result"
    }
   ],
   "source": [
    "pearsonr(india.FAV_EU, india.GENDER_EQUALITY)"
   ]
  },
  {
   "cell_type": "code",
   "execution_count": 472,
   "id": "343fac8b",
   "metadata": {},
   "outputs": [
    {
     "data": {
      "text/plain": [
       "PearsonRResult(statistic=0.21883107535170773, pvalue=2.761815392212572e-12)"
      ]
     },
     "execution_count": 472,
     "metadata": {},
     "output_type": "execute_result"
    }
   ],
   "source": [
    "pearsonr(india.FREE_SPEECH, india.GENDER_EQUALITY)"
   ]
  },
  {
   "cell_type": "code",
   "execution_count": 473,
   "id": "df020265",
   "metadata": {},
   "outputs": [
    {
     "data": {
      "text/plain": [
       "PearsonRResult(statistic=0.1807153819564788, pvalue=8.964084171913412e-09)"
      ]
     },
     "execution_count": 473,
     "metadata": {},
     "output_type": "execute_result"
    }
   ],
   "source": [
    "pearsonr(india.RELIGION_IMPORT, india.GENDER_EQUALITY)"
   ]
  },
  {
   "cell_type": "code",
   "execution_count": 474,
   "id": "14c5fdd1",
   "metadata": {},
   "outputs": [
    {
     "data": {
      "text/plain": [
       "PearsonRResult(statistic=0.1340700200482948, pvalue=2.144258286666929e-05)"
      ]
     },
     "execution_count": 474,
     "metadata": {},
     "output_type": "execute_result"
    }
   ],
   "source": [
    "pearsonr(india.RELIGION_IMPORT, india.FREE_SPEECH)"
   ]
  },
  {
   "cell_type": "markdown",
   "id": "3838cf6e",
   "metadata": {
    "jp-MarkdownHeadingCollapsed": true,
    "tags": []
   },
   "source": [
    "#### Indonesia"
   ]
  },
  {
   "cell_type": "code",
   "execution_count": 406,
   "id": "1bf0d4af",
   "metadata": {},
   "outputs": [],
   "source": [
    "indonesia = US_image_accept_homosexuality_clean.loc[US_image_accept_homosexuality_clean['country'].isin(['Indonesia'])]"
   ]
  },
  {
   "cell_type": "code",
   "execution_count": 407,
   "id": "d73272a8",
   "metadata": {},
   "outputs": [
    {
     "data": {
      "text/html": [
       "<div>\n",
       "<style scoped>\n",
       "    .dataframe tbody tr th:only-of-type {\n",
       "        vertical-align: middle;\n",
       "    }\n",
       "\n",
       "    .dataframe tbody tr th {\n",
       "        vertical-align: top;\n",
       "    }\n",
       "\n",
       "    .dataframe thead th {\n",
       "        text-align: right;\n",
       "    }\n",
       "</style>\n",
       "<table border=\"1\" class=\"dataframe\">\n",
       "  <thead>\n",
       "    <tr style=\"text-align: right;\">\n",
       "      <th></th>\n",
       "      <th>country</th>\n",
       "      <th>FAV_US</th>\n",
       "      <th>FAV_EU</th>\n",
       "      <th>HOMOSEXUALITY</th>\n",
       "      <th>RELIGION_IMPORT</th>\n",
       "      <th>WOMEN_JOB</th>\n",
       "      <th>FREE_SPEECH</th>\n",
       "      <th>GENDER_EQUALITY</th>\n",
       "    </tr>\n",
       "  </thead>\n",
       "  <tbody>\n",
       "    <tr>\n",
       "      <th>13753</th>\n",
       "      <td>Indonesia</td>\n",
       "      <td>1.00</td>\n",
       "      <td>1.00</td>\n",
       "      <td>0.5</td>\n",
       "      <td>1.0</td>\n",
       "      <td>1.00</td>\n",
       "      <td>0.33</td>\n",
       "      <td>0.33</td>\n",
       "    </tr>\n",
       "    <tr>\n",
       "      <th>13754</th>\n",
       "      <td>Indonesia</td>\n",
       "      <td>0.00</td>\n",
       "      <td>1.00</td>\n",
       "      <td>0.5</td>\n",
       "      <td>1.0</td>\n",
       "      <td>0.66</td>\n",
       "      <td>0.66</td>\n",
       "      <td>0.66</td>\n",
       "    </tr>\n",
       "    <tr>\n",
       "      <th>13757</th>\n",
       "      <td>Indonesia</td>\n",
       "      <td>0.66</td>\n",
       "      <td>0.66</td>\n",
       "      <td>0.5</td>\n",
       "      <td>1.0</td>\n",
       "      <td>0.66</td>\n",
       "      <td>0.66</td>\n",
       "      <td>0.66</td>\n",
       "    </tr>\n",
       "    <tr>\n",
       "      <th>13758</th>\n",
       "      <td>Indonesia</td>\n",
       "      <td>0.66</td>\n",
       "      <td>0.66</td>\n",
       "      <td>0.5</td>\n",
       "      <td>1.0</td>\n",
       "      <td>0.33</td>\n",
       "      <td>1.00</td>\n",
       "      <td>1.00</td>\n",
       "    </tr>\n",
       "    <tr>\n",
       "      <th>13761</th>\n",
       "      <td>Indonesia</td>\n",
       "      <td>0.66</td>\n",
       "      <td>1.00</td>\n",
       "      <td>0.5</td>\n",
       "      <td>1.0</td>\n",
       "      <td>1.00</td>\n",
       "      <td>1.00</td>\n",
       "      <td>1.00</td>\n",
       "    </tr>\n",
       "    <tr>\n",
       "      <th>...</th>\n",
       "      <td>...</td>\n",
       "      <td>...</td>\n",
       "      <td>...</td>\n",
       "      <td>...</td>\n",
       "      <td>...</td>\n",
       "      <td>...</td>\n",
       "      <td>...</td>\n",
       "      <td>...</td>\n",
       "    </tr>\n",
       "    <tr>\n",
       "      <th>14958</th>\n",
       "      <td>Indonesia</td>\n",
       "      <td>0.66</td>\n",
       "      <td>0.66</td>\n",
       "      <td>0.5</td>\n",
       "      <td>1.0</td>\n",
       "      <td>0.66</td>\n",
       "      <td>0.66</td>\n",
       "      <td>0.66</td>\n",
       "    </tr>\n",
       "    <tr>\n",
       "      <th>14960</th>\n",
       "      <td>Indonesia</td>\n",
       "      <td>0.00</td>\n",
       "      <td>0.66</td>\n",
       "      <td>0.5</td>\n",
       "      <td>1.0</td>\n",
       "      <td>1.00</td>\n",
       "      <td>0.66</td>\n",
       "      <td>1.00</td>\n",
       "    </tr>\n",
       "    <tr>\n",
       "      <th>14961</th>\n",
       "      <td>Indonesia</td>\n",
       "      <td>0.33</td>\n",
       "      <td>0.33</td>\n",
       "      <td>0.5</td>\n",
       "      <td>1.0</td>\n",
       "      <td>0.33</td>\n",
       "      <td>0.66</td>\n",
       "      <td>0.33</td>\n",
       "    </tr>\n",
       "    <tr>\n",
       "      <th>14962</th>\n",
       "      <td>Indonesia</td>\n",
       "      <td>0.33</td>\n",
       "      <td>0.33</td>\n",
       "      <td>0.5</td>\n",
       "      <td>1.0</td>\n",
       "      <td>1.00</td>\n",
       "      <td>0.66</td>\n",
       "      <td>1.00</td>\n",
       "    </tr>\n",
       "    <tr>\n",
       "      <th>14963</th>\n",
       "      <td>Indonesia</td>\n",
       "      <td>0.33</td>\n",
       "      <td>0.33</td>\n",
       "      <td>0.5</td>\n",
       "      <td>1.0</td>\n",
       "      <td>1.00</td>\n",
       "      <td>1.00</td>\n",
       "      <td>1.00</td>\n",
       "    </tr>\n",
       "  </tbody>\n",
       "</table>\n",
       "<p>722 rows × 8 columns</p>\n",
       "</div>"
      ],
      "text/plain": [
       "         country  FAV_US  FAV_EU HOMOSEXUALITY RELIGION_IMPORT  WOMEN_JOB  \\\n",
       "13753  Indonesia    1.00    1.00           0.5             1.0       1.00   \n",
       "13754  Indonesia    0.00    1.00           0.5             1.0       0.66   \n",
       "13757  Indonesia    0.66    0.66           0.5             1.0       0.66   \n",
       "13758  Indonesia    0.66    0.66           0.5             1.0       0.33   \n",
       "13761  Indonesia    0.66    1.00           0.5             1.0       1.00   \n",
       "...          ...     ...     ...           ...             ...        ...   \n",
       "14958  Indonesia    0.66    0.66           0.5             1.0       0.66   \n",
       "14960  Indonesia    0.00    0.66           0.5             1.0       1.00   \n",
       "14961  Indonesia    0.33    0.33           0.5             1.0       0.33   \n",
       "14962  Indonesia    0.33    0.33           0.5             1.0       1.00   \n",
       "14963  Indonesia    0.33    0.33           0.5             1.0       1.00   \n",
       "\n",
       "       FREE_SPEECH  GENDER_EQUALITY  \n",
       "13753         0.33             0.33  \n",
       "13754         0.66             0.66  \n",
       "13757         0.66             0.66  \n",
       "13758         1.00             1.00  \n",
       "13761         1.00             1.00  \n",
       "...            ...              ...  \n",
       "14958         0.66             0.66  \n",
       "14960         0.66             1.00  \n",
       "14961         0.66             0.33  \n",
       "14962         0.66             1.00  \n",
       "14963         1.00             1.00  \n",
       "\n",
       "[722 rows x 8 columns]"
      ]
     },
     "execution_count": 407,
     "metadata": {},
     "output_type": "execute_result"
    }
   ],
   "source": [
    "indonesia"
   ]
  },
  {
   "cell_type": "code",
   "execution_count": 325,
   "id": "003c7966",
   "metadata": {
    "scrolled": true
   },
   "outputs": [
    {
     "data": {
      "text/plain": [
       "PearsonRResult(statistic=0.055897916559498606, pvalue=0.11392717025612425)"
      ]
     },
     "execution_count": 325,
     "metadata": {},
     "output_type": "execute_result"
    }
   ],
   "source": [
    "pearsonr(indonesia.FAV_US, indonesia.HOMOSEXUALITY)"
   ]
  },
  {
   "cell_type": "code",
   "execution_count": 408,
   "id": "7ea74fe4",
   "metadata": {},
   "outputs": [
    {
     "data": {
      "text/plain": [
       "PearsonRResult(statistic=-0.03337629510379053, pvalue=0.37050994247916713)"
      ]
     },
     "execution_count": 408,
     "metadata": {},
     "output_type": "execute_result"
    }
   ],
   "source": [
    "pearsonr(indonesia.FAV_EU, indonesia.HOMOSEXUALITY)"
   ]
  },
  {
   "cell_type": "code",
   "execution_count": 326,
   "id": "be145d8a",
   "metadata": {},
   "outputs": [
    {
     "data": {
      "text/plain": [
       "PearsonRResult(statistic=0.01554587285634188, pvalue=0.6604312350435747)"
      ]
     },
     "execution_count": 326,
     "metadata": {},
     "output_type": "execute_result"
    }
   ],
   "source": [
    "pearsonr(indonesia.FAV_US, indonesia.RELIGION_IMPORT)"
   ]
  },
  {
   "cell_type": "code",
   "execution_count": 409,
   "id": "61378555",
   "metadata": {},
   "outputs": [
    {
     "data": {
      "text/plain": [
       "PearsonRResult(statistic=0.00021848546949727182, pvalue=0.9953239882752042)"
      ]
     },
     "execution_count": 409,
     "metadata": {},
     "output_type": "execute_result"
    }
   ],
   "source": [
    "pearsonr(indonesia.FAV_EU, indonesia.RELIGION_IMPORT)"
   ]
  },
  {
   "cell_type": "code",
   "execution_count": 327,
   "id": "818f5042",
   "metadata": {},
   "outputs": [
    {
     "data": {
      "text/plain": [
       "PearsonRResult(statistic=0.013919615013026382, pvalue=0.6940565705461536)"
      ]
     },
     "execution_count": 327,
     "metadata": {},
     "output_type": "execute_result"
    }
   ],
   "source": [
    "pearsonr(indonesia.FAV_US, indonesia.WOMEN_JOB)"
   ]
  },
  {
   "cell_type": "code",
   "execution_count": 410,
   "id": "80c3f86e",
   "metadata": {},
   "outputs": [
    {
     "data": {
      "text/plain": [
       "PearsonRResult(statistic=0.01453075747541309, pvalue=0.6966945324043293)"
      ]
     },
     "execution_count": 410,
     "metadata": {},
     "output_type": "execute_result"
    }
   ],
   "source": [
    "pearsonr(indonesia.FAV_EU, indonesia.WOMEN_JOB)"
   ]
  },
  {
   "cell_type": "code",
   "execution_count": 328,
   "id": "0e16c594",
   "metadata": {},
   "outputs": [
    {
     "data": {
      "text/plain": [
       "PearsonRResult(statistic=0.05241728908875303, pvalue=0.13828351209429077)"
      ]
     },
     "execution_count": 328,
     "metadata": {},
     "output_type": "execute_result"
    }
   ],
   "source": [
    "pearsonr(indonesia.FAV_US, indonesia.FREE_SPEECH)"
   ]
  },
  {
   "cell_type": "code",
   "execution_count": 460,
   "id": "6db0b2fa",
   "metadata": {},
   "outputs": [
    {
     "data": {
      "text/plain": [
       "PearsonRResult(statistic=0.09310652665106511, pvalue=0.012318673845368775)"
      ]
     },
     "execution_count": 460,
     "metadata": {},
     "output_type": "execute_result"
    }
   ],
   "source": [
    "pearsonr(indonesia.FAV_EU, indonesia.FREE_SPEECH)"
   ]
  },
  {
   "cell_type": "code",
   "execution_count": 412,
   "id": "5a7ecc0b",
   "metadata": {},
   "outputs": [
    {
     "data": {
      "text/plain": [
       "PearsonRResult(statistic=0.07342755832933273, pvalue=0.04858141257143891)"
      ]
     },
     "execution_count": 412,
     "metadata": {},
     "output_type": "execute_result"
    }
   ],
   "source": [
    "pearsonr(indonesia.FAV_US, indonesia.GENDER_EQUALITY)"
   ]
  },
  {
   "cell_type": "code",
   "execution_count": 413,
   "id": "68b7fe8b",
   "metadata": {},
   "outputs": [
    {
     "data": {
      "text/plain": [
       "PearsonRResult(statistic=0.0792871069348077, pvalue=0.03316236785086856)"
      ]
     },
     "execution_count": 413,
     "metadata": {},
     "output_type": "execute_result"
    }
   ],
   "source": [
    "pearsonr(indonesia.FAV_EU, indonesia.GENDER_EQUALITY)"
   ]
  },
  {
   "cell_type": "code",
   "execution_count": 475,
   "id": "daedb15b",
   "metadata": {},
   "outputs": [
    {
     "data": {
      "text/plain": [
       "PearsonRResult(statistic=0.2698054682201706, pvalue=1.6519556486738388e-13)"
      ]
     },
     "execution_count": 475,
     "metadata": {},
     "output_type": "execute_result"
    }
   ],
   "source": [
    "pearsonr(indonesia.FREE_SPEECH, indonesia.GENDER_EQUALITY)"
   ]
  },
  {
   "cell_type": "code",
   "execution_count": 476,
   "id": "75608fef",
   "metadata": {},
   "outputs": [
    {
     "data": {
      "text/plain": [
       "PearsonRResult(statistic=0.02330611797920759, pvalue=0.5318157894005574)"
      ]
     },
     "execution_count": 476,
     "metadata": {},
     "output_type": "execute_result"
    }
   ],
   "source": [
    "pearsonr(indonesia.FREE_SPEECH, indonesia.RELIGION_IMPORT)"
   ]
  },
  {
   "cell_type": "code",
   "execution_count": 477,
   "id": "00384818",
   "metadata": {},
   "outputs": [
    {
     "data": {
      "text/plain": [
       "PearsonRResult(statistic=-0.020124586910901486, pvalue=0.5892890751172416)"
      ]
     },
     "execution_count": 477,
     "metadata": {},
     "output_type": "execute_result"
    }
   ],
   "source": [
    "pearsonr(indonesia.FREE_SPEECH, indonesia.HOMOSEXUALITY)"
   ]
  },
  {
   "cell_type": "code",
   "execution_count": 478,
   "id": "adb91983",
   "metadata": {},
   "outputs": [
    {
     "data": {
      "text/plain": [
       "PearsonRResult(statistic=0.09885336796269976, pvalue=0.007858106556556204)"
      ]
     },
     "execution_count": 478,
     "metadata": {},
     "output_type": "execute_result"
    }
   ],
   "source": [
    "pearsonr(indonesia.GENDER_EQUALITY, indonesia.RELIGION_IMPORT)"
   ]
  },
  {
   "cell_type": "markdown",
   "id": "9a18bea8",
   "metadata": {
    "jp-MarkdownHeadingCollapsed": true,
    "tags": []
   },
   "source": [
    "#### Turkey"
   ]
  },
  {
   "cell_type": "code",
   "execution_count": 414,
   "id": "3c66769c",
   "metadata": {},
   "outputs": [],
   "source": [
    "turkey = US_image_accept_homosexuality_clean.loc[US_image_accept_homosexuality_clean['country'].isin(['Turkey'])]"
   ]
  },
  {
   "cell_type": "code",
   "execution_count": 415,
   "id": "bb68a206",
   "metadata": {},
   "outputs": [
    {
     "data": {
      "text/html": [
       "<div>\n",
       "<style scoped>\n",
       "    .dataframe tbody tr th:only-of-type {\n",
       "        vertical-align: middle;\n",
       "    }\n",
       "\n",
       "    .dataframe tbody tr th {\n",
       "        vertical-align: top;\n",
       "    }\n",
       "\n",
       "    .dataframe thead th {\n",
       "        text-align: right;\n",
       "    }\n",
       "</style>\n",
       "<table border=\"1\" class=\"dataframe\">\n",
       "  <thead>\n",
       "    <tr style=\"text-align: right;\">\n",
       "      <th></th>\n",
       "      <th>country</th>\n",
       "      <th>FAV_US</th>\n",
       "      <th>FAV_EU</th>\n",
       "      <th>HOMOSEXUALITY</th>\n",
       "      <th>RELIGION_IMPORT</th>\n",
       "      <th>WOMEN_JOB</th>\n",
       "      <th>FREE_SPEECH</th>\n",
       "      <th>GENDER_EQUALITY</th>\n",
       "    </tr>\n",
       "  </thead>\n",
       "  <tbody>\n",
       "    <tr>\n",
       "      <th>33800</th>\n",
       "      <td>Turkey</td>\n",
       "      <td>0.33</td>\n",
       "      <td>0.33</td>\n",
       "      <td>5.5</td>\n",
       "      <td>0.33</td>\n",
       "      <td>0.00</td>\n",
       "      <td>1.00</td>\n",
       "      <td>1.00</td>\n",
       "    </tr>\n",
       "    <tr>\n",
       "      <th>33803</th>\n",
       "      <td>Turkey</td>\n",
       "      <td>0.00</td>\n",
       "      <td>0.66</td>\n",
       "      <td>5.5</td>\n",
       "      <td>1.0</td>\n",
       "      <td>0.66</td>\n",
       "      <td>0.66</td>\n",
       "      <td>1.00</td>\n",
       "    </tr>\n",
       "    <tr>\n",
       "      <th>33804</th>\n",
       "      <td>Turkey</td>\n",
       "      <td>0.00</td>\n",
       "      <td>0.66</td>\n",
       "      <td>5.5</td>\n",
       "      <td>0.66</td>\n",
       "      <td>1.00</td>\n",
       "      <td>1.00</td>\n",
       "      <td>1.00</td>\n",
       "    </tr>\n",
       "    <tr>\n",
       "      <th>33806</th>\n",
       "      <td>Turkey</td>\n",
       "      <td>0.00</td>\n",
       "      <td>0.00</td>\n",
       "      <td>5.5</td>\n",
       "      <td>0.0</td>\n",
       "      <td>0.00</td>\n",
       "      <td>1.00</td>\n",
       "      <td>1.00</td>\n",
       "    </tr>\n",
       "    <tr>\n",
       "      <th>33807</th>\n",
       "      <td>Turkey</td>\n",
       "      <td>0.00</td>\n",
       "      <td>0.00</td>\n",
       "      <td>5.5</td>\n",
       "      <td>1.0</td>\n",
       "      <td>1.00</td>\n",
       "      <td>1.00</td>\n",
       "      <td>1.00</td>\n",
       "    </tr>\n",
       "    <tr>\n",
       "      <th>...</th>\n",
       "      <td>...</td>\n",
       "      <td>...</td>\n",
       "      <td>...</td>\n",
       "      <td>...</td>\n",
       "      <td>...</td>\n",
       "      <td>...</td>\n",
       "      <td>...</td>\n",
       "      <td>...</td>\n",
       "    </tr>\n",
       "    <tr>\n",
       "      <th>34814</th>\n",
       "      <td>Turkey</td>\n",
       "      <td>0.00</td>\n",
       "      <td>0.00</td>\n",
       "      <td>0.5</td>\n",
       "      <td>1.0</td>\n",
       "      <td>0.66</td>\n",
       "      <td>1.00</td>\n",
       "      <td>1.00</td>\n",
       "    </tr>\n",
       "    <tr>\n",
       "      <th>34815</th>\n",
       "      <td>Turkey</td>\n",
       "      <td>0.00</td>\n",
       "      <td>0.33</td>\n",
       "      <td>0.5</td>\n",
       "      <td>1.0</td>\n",
       "      <td>0.66</td>\n",
       "      <td>1.00</td>\n",
       "      <td>1.00</td>\n",
       "    </tr>\n",
       "    <tr>\n",
       "      <th>34831</th>\n",
       "      <td>Turkey</td>\n",
       "      <td>0.66</td>\n",
       "      <td>1.00</td>\n",
       "      <td>0.5</td>\n",
       "      <td>1.0</td>\n",
       "      <td>1.00</td>\n",
       "      <td>1.00</td>\n",
       "      <td>1.00</td>\n",
       "    </tr>\n",
       "    <tr>\n",
       "      <th>34833</th>\n",
       "      <td>Turkey</td>\n",
       "      <td>0.66</td>\n",
       "      <td>1.00</td>\n",
       "      <td>0.5</td>\n",
       "      <td>1.0</td>\n",
       "      <td>0.66</td>\n",
       "      <td>1.00</td>\n",
       "      <td>0.66</td>\n",
       "    </tr>\n",
       "    <tr>\n",
       "      <th>34835</th>\n",
       "      <td>Turkey</td>\n",
       "      <td>0.00</td>\n",
       "      <td>0.66</td>\n",
       "      <td>0.5</td>\n",
       "      <td>0.66</td>\n",
       "      <td>1.00</td>\n",
       "      <td>0.66</td>\n",
       "      <td>1.00</td>\n",
       "    </tr>\n",
       "  </tbody>\n",
       "</table>\n",
       "<p>745 rows × 8 columns</p>\n",
       "</div>"
      ],
      "text/plain": [
       "      country  FAV_US  FAV_EU HOMOSEXUALITY RELIGION_IMPORT  WOMEN_JOB  \\\n",
       "33800  Turkey    0.33    0.33           5.5            0.33       0.00   \n",
       "33803  Turkey    0.00    0.66           5.5             1.0       0.66   \n",
       "33804  Turkey    0.00    0.66           5.5            0.66       1.00   \n",
       "33806  Turkey    0.00    0.00           5.5             0.0       0.00   \n",
       "33807  Turkey    0.00    0.00           5.5             1.0       1.00   \n",
       "...       ...     ...     ...           ...             ...        ...   \n",
       "34814  Turkey    0.00    0.00           0.5             1.0       0.66   \n",
       "34815  Turkey    0.00    0.33           0.5             1.0       0.66   \n",
       "34831  Turkey    0.66    1.00           0.5             1.0       1.00   \n",
       "34833  Turkey    0.66    1.00           0.5             1.0       0.66   \n",
       "34835  Turkey    0.00    0.66           0.5            0.66       1.00   \n",
       "\n",
       "       FREE_SPEECH  GENDER_EQUALITY  \n",
       "33800         1.00             1.00  \n",
       "33803         0.66             1.00  \n",
       "33804         1.00             1.00  \n",
       "33806         1.00             1.00  \n",
       "33807         1.00             1.00  \n",
       "...            ...              ...  \n",
       "34814         1.00             1.00  \n",
       "34815         1.00             1.00  \n",
       "34831         1.00             1.00  \n",
       "34833         1.00             0.66  \n",
       "34835         0.66             1.00  \n",
       "\n",
       "[745 rows x 8 columns]"
      ]
     },
     "execution_count": 415,
     "metadata": {},
     "output_type": "execute_result"
    }
   ],
   "source": [
    "turkey"
   ]
  },
  {
   "cell_type": "code",
   "execution_count": 332,
   "id": "0318e560",
   "metadata": {},
   "outputs": [
    {
     "data": {
      "text/plain": [
       "PearsonRResult(statistic=0.017623103866983705, pvalue=0.6242382056685217)"
      ]
     },
     "execution_count": 332,
     "metadata": {},
     "output_type": "execute_result"
    }
   ],
   "source": [
    "pearsonr(turkey.FAV_US, turkey.HOMOSEXUALITY)"
   ]
  },
  {
   "cell_type": "code",
   "execution_count": 416,
   "id": "c5716314",
   "metadata": {},
   "outputs": [
    {
     "data": {
      "text/plain": [
       "PearsonRResult(statistic=0.1170916942127761, pvalue=0.0013665042317001941)"
      ]
     },
     "execution_count": 416,
     "metadata": {},
     "output_type": "execute_result"
    }
   ],
   "source": [
    "pearsonr(turkey.FAV_EU, turkey.HOMOSEXUALITY)"
   ]
  },
  {
   "cell_type": "code",
   "execution_count": 333,
   "id": "97e662fa",
   "metadata": {},
   "outputs": [
    {
     "data": {
      "text/plain": [
       "PearsonRResult(statistic=-0.1487154488233416, pvalue=3.2313955248949366e-05)"
      ]
     },
     "execution_count": 333,
     "metadata": {},
     "output_type": "execute_result"
    }
   ],
   "source": [
    "pearsonr(turkey.FAV_US, turkey.RELIGION_IMPORT)"
   ]
  },
  {
   "cell_type": "code",
   "execution_count": 417,
   "id": "498b335d",
   "metadata": {},
   "outputs": [
    {
     "data": {
      "text/plain": [
       "PearsonRResult(statistic=-0.14991720542761455, pvalue=3.985616037513699e-05)"
      ]
     },
     "execution_count": 417,
     "metadata": {},
     "output_type": "execute_result"
    }
   ],
   "source": [
    "pearsonr(turkey.FAV_EU, turkey.RELIGION_IMPORT)"
   ]
  },
  {
   "cell_type": "code",
   "execution_count": 334,
   "id": "41663b53",
   "metadata": {},
   "outputs": [
    {
     "data": {
      "text/plain": [
       "PearsonRResult(statistic=-0.10611119569759346, pvalue=0.003100478539910327)"
      ]
     },
     "execution_count": 334,
     "metadata": {},
     "output_type": "execute_result"
    }
   ],
   "source": [
    "pearsonr(turkey.FAV_US, turkey.WOMEN_JOB)"
   ]
  },
  {
   "cell_type": "code",
   "execution_count": 418,
   "id": "dc6a7ad9",
   "metadata": {},
   "outputs": [
    {
     "data": {
      "text/plain": [
       "PearsonRResult(statistic=-0.07065053258938357, pvalue=0.05391045877268007)"
      ]
     },
     "execution_count": 418,
     "metadata": {},
     "output_type": "execute_result"
    }
   ],
   "source": [
    "pearsonr(turkey.FAV_EU, turkey.WOMEN_JOB)"
   ]
  },
  {
   "cell_type": "code",
   "execution_count": 272,
   "id": "cde86569",
   "metadata": {},
   "outputs": [
    {
     "data": {
      "text/plain": [
       "PearsonRResult(statistic=-0.061412943178088396, pvalue=0.08713142091875428)"
      ]
     },
     "execution_count": 272,
     "metadata": {},
     "output_type": "execute_result"
    }
   ],
   "source": [
    "pearsonr(turkey.FAV_US, turkey.FREE_SPEECH)"
   ]
  },
  {
   "cell_type": "code",
   "execution_count": 419,
   "id": "63861da8",
   "metadata": {},
   "outputs": [
    {
     "data": {
      "text/plain": [
       "PearsonRResult(statistic=0.0669850222057358, pvalue=0.06765197745878741)"
      ]
     },
     "execution_count": 419,
     "metadata": {},
     "output_type": "execute_result"
    }
   ],
   "source": [
    "pearsonr(turkey.FAV_EU, turkey.FREE_SPEECH)"
   ]
  },
  {
   "cell_type": "code",
   "execution_count": 335,
   "id": "27b0a7a2",
   "metadata": {},
   "outputs": [
    {
     "data": {
      "text/plain": [
       "PearsonRResult(statistic=-0.023330873484540833, pvalue=0.5166331986694861)"
      ]
     },
     "execution_count": 335,
     "metadata": {},
     "output_type": "execute_result"
    }
   ],
   "source": [
    "pearsonr(turkey.FAV_US, turkey.GENDER_EQUALITY)"
   ]
  },
  {
   "cell_type": "code",
   "execution_count": 420,
   "id": "de24abd9",
   "metadata": {},
   "outputs": [
    {
     "data": {
      "text/plain": [
       "PearsonRResult(statistic=0.04907984269115885, pvalue=0.18083903912938704)"
      ]
     },
     "execution_count": 420,
     "metadata": {},
     "output_type": "execute_result"
    }
   ],
   "source": [
    "pearsonr(turkey.FAV_EU, turkey.GENDER_EQUALITY)"
   ]
  },
  {
   "cell_type": "code",
   "execution_count": 479,
   "id": "639e3901",
   "metadata": {},
   "outputs": [
    {
     "data": {
      "text/plain": [
       "PearsonRResult(statistic=0.3992831497220699, pvalue=6.946489621794483e-30)"
      ]
     },
     "execution_count": 479,
     "metadata": {},
     "output_type": "execute_result"
    }
   ],
   "source": [
    "pearsonr(turkey.FREE_SPEECH, turkey.GENDER_EQUALITY)"
   ]
  },
  {
   "cell_type": "code",
   "execution_count": 480,
   "id": "b7913aab",
   "metadata": {},
   "outputs": [
    {
     "data": {
      "text/plain": [
       "PearsonRResult(statistic=0.050201559151219904, pvalue=0.17106235999607552)"
      ]
     },
     "execution_count": 480,
     "metadata": {},
     "output_type": "execute_result"
    }
   ],
   "source": [
    "pearsonr(turkey.RELIGION_IMPORT, turkey.GENDER_EQUALITY)"
   ]
  },
  {
   "cell_type": "code",
   "execution_count": 481,
   "id": "7443543b",
   "metadata": {},
   "outputs": [
    {
     "data": {
      "text/plain": [
       "PearsonRResult(statistic=-0.0410199258925916, pvalue=0.26347443795240016)"
      ]
     },
     "execution_count": 481,
     "metadata": {},
     "output_type": "execute_result"
    }
   ],
   "source": [
    "pearsonr(turkey.RELIGION_IMPORT, turkey.FREE_SPEECH)"
   ]
  },
  {
   "cell_type": "markdown",
   "id": "64fa814a",
   "metadata": {
    "jp-MarkdownHeadingCollapsed": true,
    "tags": []
   },
   "source": [
    "#### Japan"
   ]
  },
  {
   "cell_type": "code",
   "execution_count": 422,
   "id": "b119db8d",
   "metadata": {},
   "outputs": [],
   "source": [
    "japan = US_image_accept_homosexuality_clean.loc[US_image_accept_homosexuality_clean['country'].isin(['Japan'])]"
   ]
  },
  {
   "cell_type": "code",
   "execution_count": 423,
   "id": "c6c50dab",
   "metadata": {
    "scrolled": true
   },
   "outputs": [
    {
     "data": {
      "text/html": [
       "<div>\n",
       "<style scoped>\n",
       "    .dataframe tbody tr th:only-of-type {\n",
       "        vertical-align: middle;\n",
       "    }\n",
       "\n",
       "    .dataframe tbody tr th {\n",
       "        vertical-align: top;\n",
       "    }\n",
       "\n",
       "    .dataframe thead th {\n",
       "        text-align: right;\n",
       "    }\n",
       "</style>\n",
       "<table border=\"1\" class=\"dataframe\">\n",
       "  <thead>\n",
       "    <tr style=\"text-align: right;\">\n",
       "      <th></th>\n",
       "      <th>country</th>\n",
       "      <th>FAV_US</th>\n",
       "      <th>FAV_EU</th>\n",
       "      <th>HOMOSEXUALITY</th>\n",
       "      <th>RELIGION_IMPORT</th>\n",
       "      <th>WOMEN_JOB</th>\n",
       "      <th>FREE_SPEECH</th>\n",
       "      <th>GENDER_EQUALITY</th>\n",
       "    </tr>\n",
       "  </thead>\n",
       "  <tbody>\n",
       "    <tr>\n",
       "      <th>16967</th>\n",
       "      <td>Japan</td>\n",
       "      <td>0.66</td>\n",
       "      <td>0.66</td>\n",
       "      <td>5.5</td>\n",
       "      <td>0.0</td>\n",
       "      <td>0.33</td>\n",
       "      <td>1.00</td>\n",
       "      <td>1.00</td>\n",
       "    </tr>\n",
       "    <tr>\n",
       "      <th>16968</th>\n",
       "      <td>Japan</td>\n",
       "      <td>0.33</td>\n",
       "      <td>0.66</td>\n",
       "      <td>5.5</td>\n",
       "      <td>0.0</td>\n",
       "      <td>0.00</td>\n",
       "      <td>1.00</td>\n",
       "      <td>1.00</td>\n",
       "    </tr>\n",
       "    <tr>\n",
       "      <th>16969</th>\n",
       "      <td>Japan</td>\n",
       "      <td>0.66</td>\n",
       "      <td>0.66</td>\n",
       "      <td>5.5</td>\n",
       "      <td>0.0</td>\n",
       "      <td>0.66</td>\n",
       "      <td>0.66</td>\n",
       "      <td>0.66</td>\n",
       "    </tr>\n",
       "    <tr>\n",
       "      <th>16970</th>\n",
       "      <td>Japan</td>\n",
       "      <td>0.33</td>\n",
       "      <td>0.66</td>\n",
       "      <td>5.5</td>\n",
       "      <td>0.33</td>\n",
       "      <td>0.33</td>\n",
       "      <td>1.00</td>\n",
       "      <td>1.00</td>\n",
       "    </tr>\n",
       "    <tr>\n",
       "      <th>16971</th>\n",
       "      <td>Japan</td>\n",
       "      <td>0.33</td>\n",
       "      <td>0.66</td>\n",
       "      <td>5.5</td>\n",
       "      <td>0.33</td>\n",
       "      <td>0.00</td>\n",
       "      <td>1.00</td>\n",
       "      <td>1.00</td>\n",
       "    </tr>\n",
       "    <tr>\n",
       "      <th>...</th>\n",
       "      <td>...</td>\n",
       "      <td>...</td>\n",
       "      <td>...</td>\n",
       "      <td>...</td>\n",
       "      <td>...</td>\n",
       "      <td>...</td>\n",
       "      <td>...</td>\n",
       "      <td>...</td>\n",
       "    </tr>\n",
       "    <tr>\n",
       "      <th>17998</th>\n",
       "      <td>Japan</td>\n",
       "      <td>0.66</td>\n",
       "      <td>0.33</td>\n",
       "      <td>5.5</td>\n",
       "      <td>0.0</td>\n",
       "      <td>0.66</td>\n",
       "      <td>1.00</td>\n",
       "      <td>1.00</td>\n",
       "    </tr>\n",
       "    <tr>\n",
       "      <th>17999</th>\n",
       "      <td>Japan</td>\n",
       "      <td>0.66</td>\n",
       "      <td>0.66</td>\n",
       "      <td>5.5</td>\n",
       "      <td>0.66</td>\n",
       "      <td>0.33</td>\n",
       "      <td>1.00</td>\n",
       "      <td>1.00</td>\n",
       "    </tr>\n",
       "    <tr>\n",
       "      <th>18000</th>\n",
       "      <td>Japan</td>\n",
       "      <td>0.33</td>\n",
       "      <td>0.00</td>\n",
       "      <td>0.5</td>\n",
       "      <td>0.66</td>\n",
       "      <td>0.66</td>\n",
       "      <td>1.00</td>\n",
       "      <td>1.00</td>\n",
       "    </tr>\n",
       "    <tr>\n",
       "      <th>18001</th>\n",
       "      <td>Japan</td>\n",
       "      <td>0.66</td>\n",
       "      <td>0.33</td>\n",
       "      <td>5.5</td>\n",
       "      <td>0.33</td>\n",
       "      <td>0.33</td>\n",
       "      <td>1.00</td>\n",
       "      <td>1.00</td>\n",
       "    </tr>\n",
       "    <tr>\n",
       "      <th>18002</th>\n",
       "      <td>Japan</td>\n",
       "      <td>0.33</td>\n",
       "      <td>0.33</td>\n",
       "      <td>5.5</td>\n",
       "      <td>0.33</td>\n",
       "      <td>0.66</td>\n",
       "      <td>0.00</td>\n",
       "      <td>0.00</td>\n",
       "    </tr>\n",
       "  </tbody>\n",
       "</table>\n",
       "<p>802 rows × 8 columns</p>\n",
       "</div>"
      ],
      "text/plain": [
       "      country  FAV_US  FAV_EU HOMOSEXUALITY RELIGION_IMPORT  WOMEN_JOB  \\\n",
       "16967   Japan    0.66    0.66           5.5             0.0       0.33   \n",
       "16968   Japan    0.33    0.66           5.5             0.0       0.00   \n",
       "16969   Japan    0.66    0.66           5.5             0.0       0.66   \n",
       "16970   Japan    0.33    0.66           5.5            0.33       0.33   \n",
       "16971   Japan    0.33    0.66           5.5            0.33       0.00   \n",
       "...       ...     ...     ...           ...             ...        ...   \n",
       "17998   Japan    0.66    0.33           5.5             0.0       0.66   \n",
       "17999   Japan    0.66    0.66           5.5            0.66       0.33   \n",
       "18000   Japan    0.33    0.00           0.5            0.66       0.66   \n",
       "18001   Japan    0.66    0.33           5.5            0.33       0.33   \n",
       "18002   Japan    0.33    0.33           5.5            0.33       0.66   \n",
       "\n",
       "       FREE_SPEECH  GENDER_EQUALITY  \n",
       "16967         1.00             1.00  \n",
       "16968         1.00             1.00  \n",
       "16969         0.66             0.66  \n",
       "16970         1.00             1.00  \n",
       "16971         1.00             1.00  \n",
       "...            ...              ...  \n",
       "17998         1.00             1.00  \n",
       "17999         1.00             1.00  \n",
       "18000         1.00             1.00  \n",
       "18001         1.00             1.00  \n",
       "18002         0.00             0.00  \n",
       "\n",
       "[802 rows x 8 columns]"
      ]
     },
     "execution_count": 423,
     "metadata": {},
     "output_type": "execute_result"
    }
   ],
   "source": [
    "japan"
   ]
  },
  {
   "cell_type": "code",
   "execution_count": 424,
   "id": "384c628c",
   "metadata": {},
   "outputs": [
    {
     "data": {
      "text/plain": [
       "PearsonRResult(statistic=-0.005030218490068791, pvalue=0.886896353773297)"
      ]
     },
     "execution_count": 424,
     "metadata": {},
     "output_type": "execute_result"
    }
   ],
   "source": [
    "pearsonr(japan.FAV_US, japan.HOMOSEXUALITY)"
   ]
  },
  {
   "cell_type": "code",
   "execution_count": 425,
   "id": "47b066e1",
   "metadata": {},
   "outputs": [
    {
     "data": {
      "text/plain": [
       "PearsonRResult(statistic=0.044229863930647255, pvalue=0.21085023216654328)"
      ]
     },
     "execution_count": 425,
     "metadata": {},
     "output_type": "execute_result"
    }
   ],
   "source": [
    "pearsonr(japan.FAV_EU, japan.HOMOSEXUALITY)"
   ]
  },
  {
   "cell_type": "code",
   "execution_count": 340,
   "id": "db659902",
   "metadata": {},
   "outputs": [
    {
     "data": {
      "text/plain": [
       "PearsonRResult(statistic=0.024075573558776167, pvalue=0.47972037809204726)"
      ]
     },
     "execution_count": 340,
     "metadata": {},
     "output_type": "execute_result"
    }
   ],
   "source": [
    "pearsonr(japan.FAV_US, japan.RELIGION_IMPORT)"
   ]
  },
  {
   "cell_type": "code",
   "execution_count": 426,
   "id": "5abdd8fc",
   "metadata": {},
   "outputs": [
    {
     "data": {
      "text/plain": [
       "PearsonRResult(statistic=0.05669232461361302, pvalue=0.10865004042000997)"
      ]
     },
     "execution_count": 426,
     "metadata": {},
     "output_type": "execute_result"
    }
   ],
   "source": [
    "pearsonr(japan.FAV_EU, japan.RELIGION_IMPORT)"
   ]
  },
  {
   "cell_type": "code",
   "execution_count": 341,
   "id": "129a613b",
   "metadata": {},
   "outputs": [
    {
     "data": {
      "text/plain": [
       "PearsonRResult(statistic=0.04617339302816734, pvalue=0.17510762929788268)"
      ]
     },
     "execution_count": 341,
     "metadata": {},
     "output_type": "execute_result"
    }
   ],
   "source": [
    "pearsonr(japan.FAV_US, japan.WOMEN_JOB)"
   ]
  },
  {
   "cell_type": "code",
   "execution_count": 427,
   "id": "9c0026bc",
   "metadata": {},
   "outputs": [
    {
     "data": {
      "text/plain": [
       "PearsonRResult(statistic=-0.03846003503268369, pvalue=0.2766495523657375)"
      ]
     },
     "execution_count": 427,
     "metadata": {},
     "output_type": "execute_result"
    }
   ],
   "source": [
    "pearsonr(japan.FAV_EU, japan.WOMEN_JOB)"
   ]
  },
  {
   "cell_type": "code",
   "execution_count": 342,
   "id": "41b58749",
   "metadata": {},
   "outputs": [
    {
     "data": {
      "text/plain": [
       "PearsonRResult(statistic=-0.012203119130433399, pvalue=0.7202003635143125)"
      ]
     },
     "execution_count": 342,
     "metadata": {},
     "output_type": "execute_result"
    }
   ],
   "source": [
    "pearsonr(japan.FAV_US, japan.FREE_SPEECH)"
   ]
  },
  {
   "cell_type": "code",
   "execution_count": 428,
   "id": "97903364",
   "metadata": {},
   "outputs": [
    {
     "data": {
      "text/plain": [
       "PearsonRResult(statistic=0.05607765410043211, pvalue=0.11254235573255235)"
      ]
     },
     "execution_count": 428,
     "metadata": {},
     "output_type": "execute_result"
    }
   ],
   "source": [
    "pearsonr(japan.FAV_EU, japan.FREE_SPEECH)"
   ]
  },
  {
   "cell_type": "code",
   "execution_count": 343,
   "id": "1b7b9bd2",
   "metadata": {},
   "outputs": [
    {
     "data": {
      "text/plain": [
       "PearsonRResult(statistic=-0.006034991473518547, pvalue=0.8594010974692933)"
      ]
     },
     "execution_count": 343,
     "metadata": {},
     "output_type": "execute_result"
    }
   ],
   "source": [
    "pearsonr(japan.FAV_US, japan.GENDER_EQUALITY)"
   ]
  },
  {
   "cell_type": "code",
   "execution_count": 429,
   "id": "d2167445",
   "metadata": {},
   "outputs": [
    {
     "data": {
      "text/plain": [
       "PearsonRResult(statistic=0.06874503314156188, pvalue=0.051642931907217214)"
      ]
     },
     "execution_count": 429,
     "metadata": {},
     "output_type": "execute_result"
    }
   ],
   "source": [
    "pearsonr(japan.FAV_EU, japan.GENDER_EQUALITY)"
   ]
  },
  {
   "cell_type": "code",
   "execution_count": 482,
   "id": "1a8250df",
   "metadata": {},
   "outputs": [
    {
     "data": {
      "text/plain": [
       "PearsonRResult(statistic=0.37807861280838084, pvalue=1.1838119225696043e-28)"
      ]
     },
     "execution_count": 482,
     "metadata": {},
     "output_type": "execute_result"
    }
   ],
   "source": [
    "pearsonr(japan.FREE_SPEECH, japan.GENDER_EQUALITY)"
   ]
  },
  {
   "cell_type": "code",
   "execution_count": 483,
   "id": "876aeaf8",
   "metadata": {},
   "outputs": [
    {
     "data": {
      "text/plain": [
       "PearsonRResult(statistic=-0.07436740086397789, pvalue=0.03523155722827303)"
      ]
     },
     "execution_count": 483,
     "metadata": {},
     "output_type": "execute_result"
    }
   ],
   "source": [
    "pearsonr(japan.FREE_SPEECH, japan.WOMEN_JOB)"
   ]
  },
  {
   "cell_type": "code",
   "execution_count": 484,
   "id": "6a28f182",
   "metadata": {},
   "outputs": [
    {
     "data": {
      "text/plain": [
       "PearsonRResult(statistic=0.05299487781210288, pvalue=0.13374216503878386)"
      ]
     },
     "execution_count": 484,
     "metadata": {},
     "output_type": "execute_result"
    }
   ],
   "source": [
    "pearsonr(japan.RELIGION_IMPORT, japan.WOMEN_JOB)"
   ]
  },
  {
   "cell_type": "code",
   "execution_count": 485,
   "id": "661ad91c",
   "metadata": {},
   "outputs": [
    {
     "data": {
      "text/plain": [
       "PearsonRResult(statistic=0.05203914742952816, pvalue=0.14090554701634603)"
      ]
     },
     "execution_count": 485,
     "metadata": {},
     "output_type": "execute_result"
    }
   ],
   "source": [
    "pearsonr(japan.RELIGION_IMPORT, japan.GENDER_EQUALITY)"
   ]
  },
  {
   "cell_type": "markdown",
   "id": "4d0772ed",
   "metadata": {
    "jp-MarkdownHeadingCollapsed": true,
    "tags": []
   },
   "source": [
    "#### Nigeria"
   ]
  },
  {
   "cell_type": "code",
   "execution_count": 430,
   "id": "0ed77229",
   "metadata": {},
   "outputs": [],
   "source": [
    "nigeria = US_image_accept_homosexuality_clean.loc[US_image_accept_homosexuality_clean['country'].isin(['Nigeria'])]"
   ]
  },
  {
   "cell_type": "code",
   "execution_count": 431,
   "id": "17d542a4",
   "metadata": {
    "scrolled": true
   },
   "outputs": [
    {
     "data": {
      "text/html": [
       "<div>\n",
       "<style scoped>\n",
       "    .dataframe tbody tr th:only-of-type {\n",
       "        vertical-align: middle;\n",
       "    }\n",
       "\n",
       "    .dataframe tbody tr th {\n",
       "        vertical-align: top;\n",
       "    }\n",
       "\n",
       "    .dataframe thead th {\n",
       "        text-align: right;\n",
       "    }\n",
       "</style>\n",
       "<table border=\"1\" class=\"dataframe\">\n",
       "  <thead>\n",
       "    <tr style=\"text-align: right;\">\n",
       "      <th></th>\n",
       "      <th>country</th>\n",
       "      <th>FAV_US</th>\n",
       "      <th>FAV_EU</th>\n",
       "      <th>HOMOSEXUALITY</th>\n",
       "      <th>RELIGION_IMPORT</th>\n",
       "      <th>WOMEN_JOB</th>\n",
       "      <th>FREE_SPEECH</th>\n",
       "      <th>GENDER_EQUALITY</th>\n",
       "    </tr>\n",
       "  </thead>\n",
       "  <tbody>\n",
       "    <tr>\n",
       "      <th>23069</th>\n",
       "      <td>Nigeria</td>\n",
       "      <td>0.00</td>\n",
       "      <td>0.00</td>\n",
       "      <td>0.5</td>\n",
       "      <td>1.0</td>\n",
       "      <td>0.00</td>\n",
       "      <td>1.00</td>\n",
       "      <td>1.00</td>\n",
       "    </tr>\n",
       "    <tr>\n",
       "      <th>23070</th>\n",
       "      <td>Nigeria</td>\n",
       "      <td>0.66</td>\n",
       "      <td>0.66</td>\n",
       "      <td>0.5</td>\n",
       "      <td>1.0</td>\n",
       "      <td>0.33</td>\n",
       "      <td>1.00</td>\n",
       "      <td>1.00</td>\n",
       "    </tr>\n",
       "    <tr>\n",
       "      <th>23071</th>\n",
       "      <td>Nigeria</td>\n",
       "      <td>1.00</td>\n",
       "      <td>1.00</td>\n",
       "      <td>5.5</td>\n",
       "      <td>1.0</td>\n",
       "      <td>0.33</td>\n",
       "      <td>0.66</td>\n",
       "      <td>1.00</td>\n",
       "    </tr>\n",
       "    <tr>\n",
       "      <th>23072</th>\n",
       "      <td>Nigeria</td>\n",
       "      <td>0.00</td>\n",
       "      <td>0.00</td>\n",
       "      <td>0.5</td>\n",
       "      <td>1.0</td>\n",
       "      <td>1.00</td>\n",
       "      <td>0.66</td>\n",
       "      <td>0.66</td>\n",
       "    </tr>\n",
       "    <tr>\n",
       "      <th>23073</th>\n",
       "      <td>Nigeria</td>\n",
       "      <td>0.00</td>\n",
       "      <td>0.66</td>\n",
       "      <td>0.5</td>\n",
       "      <td>1.0</td>\n",
       "      <td>1.00</td>\n",
       "      <td>0.00</td>\n",
       "      <td>0.66</td>\n",
       "    </tr>\n",
       "    <tr>\n",
       "      <th>...</th>\n",
       "      <td>...</td>\n",
       "      <td>...</td>\n",
       "      <td>...</td>\n",
       "      <td>...</td>\n",
       "      <td>...</td>\n",
       "      <td>...</td>\n",
       "      <td>...</td>\n",
       "      <td>...</td>\n",
       "    </tr>\n",
       "    <tr>\n",
       "      <th>24059</th>\n",
       "      <td>Nigeria</td>\n",
       "      <td>0.33</td>\n",
       "      <td>0.33</td>\n",
       "      <td>0.5</td>\n",
       "      <td>1.0</td>\n",
       "      <td>0.66</td>\n",
       "      <td>0.66</td>\n",
       "      <td>0.66</td>\n",
       "    </tr>\n",
       "    <tr>\n",
       "      <th>24060</th>\n",
       "      <td>Nigeria</td>\n",
       "      <td>1.00</td>\n",
       "      <td>0.66</td>\n",
       "      <td>0.5</td>\n",
       "      <td>1.0</td>\n",
       "      <td>0.00</td>\n",
       "      <td>1.00</td>\n",
       "      <td>1.00</td>\n",
       "    </tr>\n",
       "    <tr>\n",
       "      <th>24061</th>\n",
       "      <td>Nigeria</td>\n",
       "      <td>0.33</td>\n",
       "      <td>0.33</td>\n",
       "      <td>0.5</td>\n",
       "      <td>1.0</td>\n",
       "      <td>0.66</td>\n",
       "      <td>1.00</td>\n",
       "      <td>0.66</td>\n",
       "    </tr>\n",
       "    <tr>\n",
       "      <th>24062</th>\n",
       "      <td>Nigeria</td>\n",
       "      <td>1.00</td>\n",
       "      <td>0.33</td>\n",
       "      <td>0.5</td>\n",
       "      <td>1.0</td>\n",
       "      <td>0.66</td>\n",
       "      <td>0.66</td>\n",
       "      <td>0.66</td>\n",
       "    </tr>\n",
       "    <tr>\n",
       "      <th>24063</th>\n",
       "      <td>Nigeria</td>\n",
       "      <td>0.33</td>\n",
       "      <td>0.66</td>\n",
       "      <td>0.5</td>\n",
       "      <td>0.66</td>\n",
       "      <td>0.66</td>\n",
       "      <td>0.33</td>\n",
       "      <td>0.33</td>\n",
       "    </tr>\n",
       "  </tbody>\n",
       "</table>\n",
       "<p>725 rows × 8 columns</p>\n",
       "</div>"
      ],
      "text/plain": [
       "       country  FAV_US  FAV_EU HOMOSEXUALITY RELIGION_IMPORT  WOMEN_JOB  \\\n",
       "23069  Nigeria    0.00    0.00           0.5             1.0       0.00   \n",
       "23070  Nigeria    0.66    0.66           0.5             1.0       0.33   \n",
       "23071  Nigeria    1.00    1.00           5.5             1.0       0.33   \n",
       "23072  Nigeria    0.00    0.00           0.5             1.0       1.00   \n",
       "23073  Nigeria    0.00    0.66           0.5             1.0       1.00   \n",
       "...        ...     ...     ...           ...             ...        ...   \n",
       "24059  Nigeria    0.33    0.33           0.5             1.0       0.66   \n",
       "24060  Nigeria    1.00    0.66           0.5             1.0       0.00   \n",
       "24061  Nigeria    0.33    0.33           0.5             1.0       0.66   \n",
       "24062  Nigeria    1.00    0.33           0.5             1.0       0.66   \n",
       "24063  Nigeria    0.33    0.66           0.5            0.66       0.66   \n",
       "\n",
       "       FREE_SPEECH  GENDER_EQUALITY  \n",
       "23069         1.00             1.00  \n",
       "23070         1.00             1.00  \n",
       "23071         0.66             1.00  \n",
       "23072         0.66             0.66  \n",
       "23073         0.00             0.66  \n",
       "...            ...              ...  \n",
       "24059         0.66             0.66  \n",
       "24060         1.00             1.00  \n",
       "24061         1.00             0.66  \n",
       "24062         0.66             0.66  \n",
       "24063         0.33             0.33  \n",
       "\n",
       "[725 rows x 8 columns]"
      ]
     },
     "execution_count": 431,
     "metadata": {},
     "output_type": "execute_result"
    }
   ],
   "source": [
    "nigeria"
   ]
  },
  {
   "cell_type": "code",
   "execution_count": 346,
   "id": "5484f880",
   "metadata": {},
   "outputs": [
    {
     "data": {
      "text/plain": [
       "PearsonRResult(statistic=-0.03961214167199152, pvalue=0.25231123139852196)"
      ]
     },
     "execution_count": 346,
     "metadata": {},
     "output_type": "execute_result"
    }
   ],
   "source": [
    "pearsonr(nigeria.FAV_US, nigeria.HOMOSEXUALITY)"
   ]
  },
  {
   "cell_type": "code",
   "execution_count": 432,
   "id": "25ea4e85",
   "metadata": {},
   "outputs": [
    {
     "data": {
      "text/plain": [
       "PearsonRResult(statistic=0.022802006541725546, pvalue=0.539887503032202)"
      ]
     },
     "execution_count": 432,
     "metadata": {},
     "output_type": "execute_result"
    }
   ],
   "source": [
    "pearsonr(nigeria.FAV_EU, nigeria.HOMOSEXUALITY)"
   ]
  },
  {
   "cell_type": "code",
   "execution_count": 347,
   "id": "3132bfab",
   "metadata": {
    "scrolled": true
   },
   "outputs": [
    {
     "data": {
      "text/plain": [
       "PearsonRResult(statistic=0.04376914662124386, pvalue=0.20587242552334797)"
      ]
     },
     "execution_count": 347,
     "metadata": {},
     "output_type": "execute_result"
    }
   ],
   "source": [
    "pearsonr(nigeria.FAV_US, nigeria.RELIGION_IMPORT)"
   ]
  },
  {
   "cell_type": "code",
   "execution_count": 433,
   "id": "96404e95",
   "metadata": {},
   "outputs": [
    {
     "data": {
      "text/plain": [
       "PearsonRResult(statistic=0.00507624689152799, pvalue=0.8914677910829741)"
      ]
     },
     "execution_count": 433,
     "metadata": {},
     "output_type": "execute_result"
    }
   ],
   "source": [
    "pearsonr(nigeria.FAV_EU, nigeria.RELIGION_IMPORT)"
   ]
  },
  {
   "cell_type": "code",
   "execution_count": 348,
   "id": "8089cdcd",
   "metadata": {},
   "outputs": [
    {
     "data": {
      "text/plain": [
       "PearsonRResult(statistic=-0.0925176466246165, pvalue=0.007398147569269286)"
      ]
     },
     "execution_count": 348,
     "metadata": {},
     "output_type": "execute_result"
    }
   ],
   "source": [
    "pearsonr(nigeria.FAV_US, nigeria.WOMEN_JOB)"
   ]
  },
  {
   "cell_type": "code",
   "execution_count": 434,
   "id": "69e4de49",
   "metadata": {},
   "outputs": [
    {
     "data": {
      "text/plain": [
       "PearsonRResult(statistic=-0.045958008032375236, pvalue=0.2164678152096431)"
      ]
     },
     "execution_count": 434,
     "metadata": {},
     "output_type": "execute_result"
    }
   ],
   "source": [
    "pearsonr(nigeria.FAV_EU, nigeria.WOMEN_JOB)"
   ]
  },
  {
   "cell_type": "code",
   "execution_count": 284,
   "id": "a48e0897",
   "metadata": {},
   "outputs": [
    {
     "data": {
      "text/plain": [
       "PearsonRResult(statistic=0.19764106330506964, pvalue=7.616767592766352e-09)"
      ]
     },
     "execution_count": 284,
     "metadata": {},
     "output_type": "execute_result"
    }
   ],
   "source": [
    "pearsonr(nigeria.FAV_US, nigeria.FREE_SPEECH)"
   ]
  },
  {
   "cell_type": "code",
   "execution_count": 435,
   "id": "f010e245",
   "metadata": {},
   "outputs": [
    {
     "data": {
      "text/plain": [
       "PearsonRResult(statistic=0.14043218485160242, pvalue=0.00014851354504597249)"
      ]
     },
     "execution_count": 435,
     "metadata": {},
     "output_type": "execute_result"
    }
   ],
   "source": [
    "pearsonr(nigeria.FAV_EU, nigeria.FREE_SPEECH)"
   ]
  },
  {
   "cell_type": "code",
   "execution_count": 349,
   "id": "b7bb0dc4",
   "metadata": {},
   "outputs": [
    {
     "data": {
      "text/plain": [
       "PearsonRResult(statistic=0.1360671530110903, pvalue=7.846220035837598e-05)"
      ]
     },
     "execution_count": 349,
     "metadata": {},
     "output_type": "execute_result"
    }
   ],
   "source": [
    "pearsonr(nigeria.FAV_US, nigeria.GENDER_EQUALITY)"
   ]
  },
  {
   "cell_type": "code",
   "execution_count": 436,
   "id": "cc4e28b2",
   "metadata": {
    "scrolled": true
   },
   "outputs": [
    {
     "data": {
      "text/plain": [
       "PearsonRResult(statistic=0.07188762446768489, pvalue=0.053015172106066766)"
      ]
     },
     "execution_count": 436,
     "metadata": {},
     "output_type": "execute_result"
    }
   ],
   "source": [
    "pearsonr(nigeria.FAV_EU, nigeria.GENDER_EQUALITY)"
   ]
  },
  {
   "cell_type": "code",
   "execution_count": 486,
   "id": "e7fb4d86",
   "metadata": {},
   "outputs": [
    {
     "data": {
      "text/plain": [
       "PearsonRResult(statistic=-0.04971819050887451, pvalue=0.18115071563740365)"
      ]
     },
     "execution_count": 486,
     "metadata": {},
     "output_type": "execute_result"
    }
   ],
   "source": [
    "pearsonr(nigeria.FREE_SPEECH, nigeria.WOMEN_JOB)"
   ]
  },
  {
   "cell_type": "code",
   "execution_count": 487,
   "id": "f9fa3fac",
   "metadata": {},
   "outputs": [
    {
     "data": {
      "text/plain": [
       "PearsonRResult(statistic=0.09192893398586705, pvalue=0.01327756307961585)"
      ]
     },
     "execution_count": 487,
     "metadata": {},
     "output_type": "execute_result"
    }
   ],
   "source": [
    "pearsonr(nigeria.RELIGION_IMPORT, nigeria.WOMEN_JOB)"
   ]
  },
  {
   "cell_type": "code",
   "execution_count": 488,
   "id": "7765e2b5",
   "metadata": {},
   "outputs": [
    {
     "data": {
      "text/plain": [
       "PearsonRResult(statistic=-0.08034929051345774, pvalue=0.030523014132425096)"
      ]
     },
     "execution_count": 488,
     "metadata": {},
     "output_type": "execute_result"
    }
   ],
   "source": [
    "pearsonr(nigeria.RELIGION_IMPORT, nigeria.GENDER_EQUALITY)"
   ]
  },
  {
   "cell_type": "markdown",
   "id": "a712fa95",
   "metadata": {
    "jp-MarkdownHeadingCollapsed": true,
    "tags": []
   },
   "source": [
    "#### Tunisia"
   ]
  },
  {
   "cell_type": "code",
   "execution_count": 437,
   "id": "109419fb",
   "metadata": {},
   "outputs": [],
   "source": [
    "tunisia = US_image_accept_homosexuality_clean.loc[US_image_accept_homosexuality_clean['country'].isin(['Tunisia'])]"
   ]
  },
  {
   "cell_type": "code",
   "execution_count": 438,
   "id": "5fcfaa9c",
   "metadata": {
    "scrolled": true
   },
   "outputs": [
    {
     "data": {
      "text/html": [
       "<div>\n",
       "<style scoped>\n",
       "    .dataframe tbody tr th:only-of-type {\n",
       "        vertical-align: middle;\n",
       "    }\n",
       "\n",
       "    .dataframe tbody tr th {\n",
       "        vertical-align: top;\n",
       "    }\n",
       "\n",
       "    .dataframe thead th {\n",
       "        text-align: right;\n",
       "    }\n",
       "</style>\n",
       "<table border=\"1\" class=\"dataframe\">\n",
       "  <thead>\n",
       "    <tr style=\"text-align: right;\">\n",
       "      <th></th>\n",
       "      <th>country</th>\n",
       "      <th>FAV_US</th>\n",
       "      <th>FAV_EU</th>\n",
       "      <th>HOMOSEXUALITY</th>\n",
       "      <th>RELIGION_IMPORT</th>\n",
       "      <th>WOMEN_JOB</th>\n",
       "      <th>FREE_SPEECH</th>\n",
       "      <th>GENDER_EQUALITY</th>\n",
       "    </tr>\n",
       "  </thead>\n",
       "  <tbody>\n",
       "    <tr>\n",
       "      <th>32757</th>\n",
       "      <td>Tunisia</td>\n",
       "      <td>0.00</td>\n",
       "      <td>0.33</td>\n",
       "      <td>0.5</td>\n",
       "      <td>1.0</td>\n",
       "      <td>0.66</td>\n",
       "      <td>1.00</td>\n",
       "      <td>0.66</td>\n",
       "    </tr>\n",
       "    <tr>\n",
       "      <th>32758</th>\n",
       "      <td>Tunisia</td>\n",
       "      <td>1.00</td>\n",
       "      <td>0.66</td>\n",
       "      <td>0.5</td>\n",
       "      <td>1.0</td>\n",
       "      <td>0.66</td>\n",
       "      <td>1.00</td>\n",
       "      <td>1.00</td>\n",
       "    </tr>\n",
       "    <tr>\n",
       "      <th>32760</th>\n",
       "      <td>Tunisia</td>\n",
       "      <td>0.33</td>\n",
       "      <td>0.66</td>\n",
       "      <td>0.5</td>\n",
       "      <td>1.0</td>\n",
       "      <td>1.00</td>\n",
       "      <td>0.66</td>\n",
       "      <td>0.00</td>\n",
       "    </tr>\n",
       "    <tr>\n",
       "      <th>32763</th>\n",
       "      <td>Tunisia</td>\n",
       "      <td>1.00</td>\n",
       "      <td>0.33</td>\n",
       "      <td>0.5</td>\n",
       "      <td>1.0</td>\n",
       "      <td>0.66</td>\n",
       "      <td>0.66</td>\n",
       "      <td>0.66</td>\n",
       "    </tr>\n",
       "    <tr>\n",
       "      <th>32767</th>\n",
       "      <td>Tunisia</td>\n",
       "      <td>0.00</td>\n",
       "      <td>0.66</td>\n",
       "      <td>0.5</td>\n",
       "      <td>1.0</td>\n",
       "      <td>0.66</td>\n",
       "      <td>0.66</td>\n",
       "      <td>1.00</td>\n",
       "    </tr>\n",
       "    <tr>\n",
       "      <th>...</th>\n",
       "      <td>...</td>\n",
       "      <td>...</td>\n",
       "      <td>...</td>\n",
       "      <td>...</td>\n",
       "      <td>...</td>\n",
       "      <td>...</td>\n",
       "      <td>...</td>\n",
       "      <td>...</td>\n",
       "    </tr>\n",
       "    <tr>\n",
       "      <th>33793</th>\n",
       "      <td>Tunisia</td>\n",
       "      <td>1.00</td>\n",
       "      <td>1.00</td>\n",
       "      <td>0.5</td>\n",
       "      <td>1.0</td>\n",
       "      <td>1.00</td>\n",
       "      <td>1.00</td>\n",
       "      <td>1.00</td>\n",
       "    </tr>\n",
       "    <tr>\n",
       "      <th>33794</th>\n",
       "      <td>Tunisia</td>\n",
       "      <td>0.66</td>\n",
       "      <td>0.66</td>\n",
       "      <td>0.5</td>\n",
       "      <td>1.0</td>\n",
       "      <td>1.00</td>\n",
       "      <td>0.33</td>\n",
       "      <td>0.33</td>\n",
       "    </tr>\n",
       "    <tr>\n",
       "      <th>33795</th>\n",
       "      <td>Tunisia</td>\n",
       "      <td>1.00</td>\n",
       "      <td>1.00</td>\n",
       "      <td>5.5</td>\n",
       "      <td>1.0</td>\n",
       "      <td>1.00</td>\n",
       "      <td>0.33</td>\n",
       "      <td>1.00</td>\n",
       "    </tr>\n",
       "    <tr>\n",
       "      <th>33796</th>\n",
       "      <td>Tunisia</td>\n",
       "      <td>0.33</td>\n",
       "      <td>0.33</td>\n",
       "      <td>0.5</td>\n",
       "      <td>1.0</td>\n",
       "      <td>1.00</td>\n",
       "      <td>0.00</td>\n",
       "      <td>0.33</td>\n",
       "    </tr>\n",
       "    <tr>\n",
       "      <th>33799</th>\n",
       "      <td>Tunisia</td>\n",
       "      <td>0.33</td>\n",
       "      <td>0.33</td>\n",
       "      <td>0.5</td>\n",
       "      <td>1.0</td>\n",
       "      <td>1.00</td>\n",
       "      <td>0.66</td>\n",
       "      <td>1.00</td>\n",
       "    </tr>\n",
       "  </tbody>\n",
       "</table>\n",
       "<p>645 rows × 8 columns</p>\n",
       "</div>"
      ],
      "text/plain": [
       "       country  FAV_US  FAV_EU HOMOSEXUALITY RELIGION_IMPORT  WOMEN_JOB  \\\n",
       "32757  Tunisia    0.00    0.33           0.5             1.0       0.66   \n",
       "32758  Tunisia    1.00    0.66           0.5             1.0       0.66   \n",
       "32760  Tunisia    0.33    0.66           0.5             1.0       1.00   \n",
       "32763  Tunisia    1.00    0.33           0.5             1.0       0.66   \n",
       "32767  Tunisia    0.00    0.66           0.5             1.0       0.66   \n",
       "...        ...     ...     ...           ...             ...        ...   \n",
       "33793  Tunisia    1.00    1.00           0.5             1.0       1.00   \n",
       "33794  Tunisia    0.66    0.66           0.5             1.0       1.00   \n",
       "33795  Tunisia    1.00    1.00           5.5             1.0       1.00   \n",
       "33796  Tunisia    0.33    0.33           0.5             1.0       1.00   \n",
       "33799  Tunisia    0.33    0.33           0.5             1.0       1.00   \n",
       "\n",
       "       FREE_SPEECH  GENDER_EQUALITY  \n",
       "32757         1.00             0.66  \n",
       "32758         1.00             1.00  \n",
       "32760         0.66             0.00  \n",
       "32763         0.66             0.66  \n",
       "32767         0.66             1.00  \n",
       "...            ...              ...  \n",
       "33793         1.00             1.00  \n",
       "33794         0.33             0.33  \n",
       "33795         0.33             1.00  \n",
       "33796         0.00             0.33  \n",
       "33799         0.66             1.00  \n",
       "\n",
       "[645 rows x 8 columns]"
      ]
     },
     "execution_count": 438,
     "metadata": {},
     "output_type": "execute_result"
    }
   ],
   "source": [
    "tunisia"
   ]
  },
  {
   "cell_type": "code",
   "execution_count": 353,
   "id": "b1472d44",
   "metadata": {},
   "outputs": [
    {
     "data": {
      "text/plain": [
       "PearsonRResult(statistic=-0.09312995042154744, pvalue=0.015051489507103553)"
      ]
     },
     "execution_count": 353,
     "metadata": {},
     "output_type": "execute_result"
    }
   ],
   "source": [
    "pearsonr(tunisia.FAV_US, tunisia.RELIGION_IMPORT)"
   ]
  },
  {
   "cell_type": "code",
   "execution_count": 439,
   "id": "d1c642ad",
   "metadata": {},
   "outputs": [
    {
     "data": {
      "text/plain": [
       "PearsonRResult(statistic=-0.06429070436703577, pvalue=0.102826574432534)"
      ]
     },
     "execution_count": 439,
     "metadata": {},
     "output_type": "execute_result"
    }
   ],
   "source": [
    "pearsonr(tunisia.FAV_EU, tunisia.RELIGION_IMPORT)"
   ]
  },
  {
   "cell_type": "code",
   "execution_count": 354,
   "id": "cde84441",
   "metadata": {},
   "outputs": [
    {
     "data": {
      "text/plain": [
       "PearsonRResult(statistic=-0.11642080311339809, pvalue=0.00234320864386844)"
      ]
     },
     "execution_count": 354,
     "metadata": {},
     "output_type": "execute_result"
    }
   ],
   "source": [
    "pearsonr(tunisia.FAV_US, tunisia.WOMEN_JOB)"
   ]
  },
  {
   "cell_type": "code",
   "execution_count": 440,
   "id": "1064a1f1",
   "metadata": {},
   "outputs": [
    {
     "data": {
      "text/plain": [
       "PearsonRResult(statistic=-0.03410634135159329, pvalue=0.3871677442625618)"
      ]
     },
     "execution_count": 440,
     "metadata": {},
     "output_type": "execute_result"
    }
   ],
   "source": [
    "pearsonr(tunisia.FAV_EU, tunisia.WOMEN_JOB)"
   ]
  },
  {
   "cell_type": "code",
   "execution_count": 355,
   "id": "8f260743",
   "metadata": {},
   "outputs": [
    {
     "data": {
      "text/plain": [
       "PearsonRResult(statistic=0.04771440239758318, pvalue=0.21365608312759096)"
      ]
     },
     "execution_count": 355,
     "metadata": {},
     "output_type": "execute_result"
    }
   ],
   "source": [
    "pearsonr(tunisia.FAV_US, tunisia.FREE_SPEECH)"
   ]
  },
  {
   "cell_type": "code",
   "execution_count": 441,
   "id": "50e0da9c",
   "metadata": {},
   "outputs": [
    {
     "data": {
      "text/plain": [
       "PearsonRResult(statistic=0.04708770198980779, pvalue=0.23239108634213024)"
      ]
     },
     "execution_count": 441,
     "metadata": {},
     "output_type": "execute_result"
    }
   ],
   "source": [
    "pearsonr(tunisia.FAV_EU, tunisia.FREE_SPEECH)"
   ]
  },
  {
   "cell_type": "code",
   "execution_count": 356,
   "id": "9a379fe8",
   "metadata": {},
   "outputs": [
    {
     "data": {
      "text/plain": [
       "PearsonRResult(statistic=0.08904070863082064, pvalue=0.020128009185906)"
      ]
     },
     "execution_count": 356,
     "metadata": {},
     "output_type": "execute_result"
    }
   ],
   "source": [
    "pearsonr(tunisia.FAV_US, tunisia.GENDER_EQUALITY)"
   ]
  },
  {
   "cell_type": "code",
   "execution_count": 442,
   "id": "8687f104",
   "metadata": {},
   "outputs": [
    {
     "data": {
      "text/plain": [
       "PearsonRResult(statistic=0.09313845845148039, pvalue=0.017982414634472227)"
      ]
     },
     "execution_count": 442,
     "metadata": {},
     "output_type": "execute_result"
    }
   ],
   "source": [
    "pearsonr(tunisia.FAV_EU, tunisia.GENDER_EQUALITY)"
   ]
  },
  {
   "cell_type": "code",
   "execution_count": 489,
   "id": "2ec3f3f5",
   "metadata": {},
   "outputs": [
    {
     "data": {
      "text/plain": [
       "PearsonRResult(statistic=0.008730830762307438, pvalue=0.8248512858665424)"
      ]
     },
     "execution_count": 489,
     "metadata": {},
     "output_type": "execute_result"
    }
   ],
   "source": [
    "pearsonr(tunisia.FREE_SPEECH, tunisia.WOMEN_JOB)"
   ]
  },
  {
   "cell_type": "code",
   "execution_count": 490,
   "id": "32292dca",
   "metadata": {},
   "outputs": [
    {
     "data": {
      "text/plain": [
       "PearsonRResult(statistic=0.22004890671198496, pvalue=1.6320621122743246e-08)"
      ]
     },
     "execution_count": 490,
     "metadata": {},
     "output_type": "execute_result"
    }
   ],
   "source": [
    "pearsonr(tunisia.RELIGION_IMPORT, tunisia.WOMEN_JOB)"
   ]
  },
  {
   "cell_type": "code",
   "execution_count": 491,
   "id": "165cfafe",
   "metadata": {},
   "outputs": [
    {
     "data": {
      "text/plain": [
       "PearsonRResult(statistic=-0.08558297104313392, pvalue=0.029756957512591303)"
      ]
     },
     "execution_count": 491,
     "metadata": {},
     "output_type": "execute_result"
    }
   ],
   "source": [
    "pearsonr(tunisia.RELIGION_IMPORT, tunisia.GENDER_EQUALITY)"
   ]
  },
  {
   "cell_type": "markdown",
   "id": "5182e07a",
   "metadata": {
    "jp-MarkdownHeadingCollapsed": true,
    "tags": []
   },
   "source": [
    "#### Lebanon"
   ]
  },
  {
   "cell_type": "code",
   "execution_count": 444,
   "id": "5c1453de",
   "metadata": {},
   "outputs": [],
   "source": [
    "lebanon = US_image_accept_homosexuality_clean.loc[US_image_accept_homosexuality_clean['country'].isin(['Lebanon'])]"
   ]
  },
  {
   "cell_type": "code",
   "execution_count": 445,
   "id": "c373eeff",
   "metadata": {},
   "outputs": [
    {
     "data": {
      "text/html": [
       "<div>\n",
       "<style scoped>\n",
       "    .dataframe tbody tr th:only-of-type {\n",
       "        vertical-align: middle;\n",
       "    }\n",
       "\n",
       "    .dataframe tbody tr th {\n",
       "        vertical-align: top;\n",
       "    }\n",
       "\n",
       "    .dataframe thead th {\n",
       "        text-align: right;\n",
       "    }\n",
       "</style>\n",
       "<table border=\"1\" class=\"dataframe\">\n",
       "  <thead>\n",
       "    <tr style=\"text-align: right;\">\n",
       "      <th></th>\n",
       "      <th>country</th>\n",
       "      <th>FAV_US</th>\n",
       "      <th>FAV_EU</th>\n",
       "      <th>HOMOSEXUALITY</th>\n",
       "      <th>RELIGION_IMPORT</th>\n",
       "      <th>WOMEN_JOB</th>\n",
       "      <th>FREE_SPEECH</th>\n",
       "      <th>GENDER_EQUALITY</th>\n",
       "    </tr>\n",
       "  </thead>\n",
       "  <tbody>\n",
       "    <tr>\n",
       "      <th>19022</th>\n",
       "      <td>Lebanon</td>\n",
       "      <td>1.00</td>\n",
       "      <td>1.00</td>\n",
       "      <td>5.5</td>\n",
       "      <td>0.66</td>\n",
       "      <td>0.33</td>\n",
       "      <td>0.00</td>\n",
       "      <td>1.00</td>\n",
       "    </tr>\n",
       "    <tr>\n",
       "      <th>19023</th>\n",
       "      <td>Lebanon</td>\n",
       "      <td>0.00</td>\n",
       "      <td>0.33</td>\n",
       "      <td>0.5</td>\n",
       "      <td>1.0</td>\n",
       "      <td>1.00</td>\n",
       "      <td>0.00</td>\n",
       "      <td>1.00</td>\n",
       "    </tr>\n",
       "    <tr>\n",
       "      <th>19024</th>\n",
       "      <td>Lebanon</td>\n",
       "      <td>0.33</td>\n",
       "      <td>0.66</td>\n",
       "      <td>0.5</td>\n",
       "      <td>0.66</td>\n",
       "      <td>0.00</td>\n",
       "      <td>1.00</td>\n",
       "      <td>1.00</td>\n",
       "    </tr>\n",
       "    <tr>\n",
       "      <th>19025</th>\n",
       "      <td>Lebanon</td>\n",
       "      <td>0.00</td>\n",
       "      <td>0.33</td>\n",
       "      <td>0.5</td>\n",
       "      <td>0.66</td>\n",
       "      <td>1.00</td>\n",
       "      <td>0.66</td>\n",
       "      <td>0.66</td>\n",
       "    </tr>\n",
       "    <tr>\n",
       "      <th>19026</th>\n",
       "      <td>Lebanon</td>\n",
       "      <td>0.00</td>\n",
       "      <td>0.33</td>\n",
       "      <td>0.5</td>\n",
       "      <td>1.0</td>\n",
       "      <td>0.00</td>\n",
       "      <td>1.00</td>\n",
       "      <td>1.00</td>\n",
       "    </tr>\n",
       "    <tr>\n",
       "      <th>...</th>\n",
       "      <td>...</td>\n",
       "      <td>...</td>\n",
       "      <td>...</td>\n",
       "      <td>...</td>\n",
       "      <td>...</td>\n",
       "      <td>...</td>\n",
       "      <td>...</td>\n",
       "      <td>...</td>\n",
       "    </tr>\n",
       "    <tr>\n",
       "      <th>20010</th>\n",
       "      <td>Lebanon</td>\n",
       "      <td>1.00</td>\n",
       "      <td>0.33</td>\n",
       "      <td>0.5</td>\n",
       "      <td>1.0</td>\n",
       "      <td>0.00</td>\n",
       "      <td>1.00</td>\n",
       "      <td>1.00</td>\n",
       "    </tr>\n",
       "    <tr>\n",
       "      <th>20011</th>\n",
       "      <td>Lebanon</td>\n",
       "      <td>0.00</td>\n",
       "      <td>0.66</td>\n",
       "      <td>0.5</td>\n",
       "      <td>1.0</td>\n",
       "      <td>0.33</td>\n",
       "      <td>1.00</td>\n",
       "      <td>1.00</td>\n",
       "    </tr>\n",
       "    <tr>\n",
       "      <th>20012</th>\n",
       "      <td>Lebanon</td>\n",
       "      <td>0.33</td>\n",
       "      <td>1.00</td>\n",
       "      <td>0.5</td>\n",
       "      <td>1.0</td>\n",
       "      <td>0.33</td>\n",
       "      <td>0.33</td>\n",
       "      <td>1.00</td>\n",
       "    </tr>\n",
       "    <tr>\n",
       "      <th>20013</th>\n",
       "      <td>Lebanon</td>\n",
       "      <td>0.00</td>\n",
       "      <td>0.00</td>\n",
       "      <td>0.5</td>\n",
       "      <td>1.0</td>\n",
       "      <td>0.33</td>\n",
       "      <td>0.00</td>\n",
       "      <td>1.00</td>\n",
       "    </tr>\n",
       "    <tr>\n",
       "      <th>20014</th>\n",
       "      <td>Lebanon</td>\n",
       "      <td>1.00</td>\n",
       "      <td>1.00</td>\n",
       "      <td>0.5</td>\n",
       "      <td>0.33</td>\n",
       "      <td>0.33</td>\n",
       "      <td>1.00</td>\n",
       "      <td>1.00</td>\n",
       "    </tr>\n",
       "  </tbody>\n",
       "</table>\n",
       "<p>824 rows × 8 columns</p>\n",
       "</div>"
      ],
      "text/plain": [
       "       country  FAV_US  FAV_EU HOMOSEXUALITY RELIGION_IMPORT  WOMEN_JOB  \\\n",
       "19022  Lebanon    1.00    1.00           5.5            0.66       0.33   \n",
       "19023  Lebanon    0.00    0.33           0.5             1.0       1.00   \n",
       "19024  Lebanon    0.33    0.66           0.5            0.66       0.00   \n",
       "19025  Lebanon    0.00    0.33           0.5            0.66       1.00   \n",
       "19026  Lebanon    0.00    0.33           0.5             1.0       0.00   \n",
       "...        ...     ...     ...           ...             ...        ...   \n",
       "20010  Lebanon    1.00    0.33           0.5             1.0       0.00   \n",
       "20011  Lebanon    0.00    0.66           0.5             1.0       0.33   \n",
       "20012  Lebanon    0.33    1.00           0.5             1.0       0.33   \n",
       "20013  Lebanon    0.00    0.00           0.5             1.0       0.33   \n",
       "20014  Lebanon    1.00    1.00           0.5            0.33       0.33   \n",
       "\n",
       "       FREE_SPEECH  GENDER_EQUALITY  \n",
       "19022         0.00             1.00  \n",
       "19023         0.00             1.00  \n",
       "19024         1.00             1.00  \n",
       "19025         0.66             0.66  \n",
       "19026         1.00             1.00  \n",
       "...            ...              ...  \n",
       "20010         1.00             1.00  \n",
       "20011         1.00             1.00  \n",
       "20012         0.33             1.00  \n",
       "20013         0.00             1.00  \n",
       "20014         1.00             1.00  \n",
       "\n",
       "[824 rows x 8 columns]"
      ]
     },
     "execution_count": 445,
     "metadata": {},
     "output_type": "execute_result"
    }
   ],
   "source": [
    "lebanon"
   ]
  },
  {
   "cell_type": "code",
   "execution_count": 446,
   "id": "bf952dc4",
   "metadata": {},
   "outputs": [
    {
     "data": {
      "text/plain": [
       "PearsonRResult(statistic=-0.20991360236600862, pvalue=1.1691266434066278e-09)"
      ]
     },
     "execution_count": 446,
     "metadata": {},
     "output_type": "execute_result"
    }
   ],
   "source": [
    "pearsonr(lebanon.FAV_US, lebanon.RELIGION_IMPORT)"
   ]
  },
  {
   "cell_type": "code",
   "execution_count": 447,
   "id": "02d60228",
   "metadata": {},
   "outputs": [
    {
     "data": {
      "text/plain": [
       "PearsonRResult(statistic=-0.12829569841548225, pvalue=0.00022209691332298885)"
      ]
     },
     "execution_count": 447,
     "metadata": {},
     "output_type": "execute_result"
    }
   ],
   "source": [
    "pearsonr(lebanon.FAV_EU, lebanon.RELIGION_IMPORT)"
   ]
  },
  {
   "cell_type": "code",
   "execution_count": 228,
   "id": "d299e9b5",
   "metadata": {},
   "outputs": [
    {
     "data": {
      "text/plain": [
       "PearsonRResult(statistic=-0.10135541540612843, pvalue=0.002655645203504121)"
      ]
     },
     "execution_count": 228,
     "metadata": {},
     "output_type": "execute_result"
    }
   ],
   "source": [
    "pearsonr(lebanon.FAV_US, lebanon.WOMEN_JOB)"
   ]
  },
  {
   "cell_type": "code",
   "execution_count": 448,
   "id": "581dec8d",
   "metadata": {},
   "outputs": [
    {
     "data": {
      "text/plain": [
       "PearsonRResult(statistic=-0.24101364720138282, pvalue=2.3577247336927987e-12)"
      ]
     },
     "execution_count": 448,
     "metadata": {},
     "output_type": "execute_result"
    }
   ],
   "source": [
    "pearsonr(lebanon.FAV_EU, lebanon.WOMEN_JOB)"
   ]
  },
  {
   "cell_type": "code",
   "execution_count": 292,
   "id": "452d0e10",
   "metadata": {},
   "outputs": [
    {
     "data": {
      "text/plain": [
       "PearsonRResult(statistic=0.10653963537247356, pvalue=0.0016500560018590327)"
      ]
     },
     "execution_count": 292,
     "metadata": {},
     "output_type": "execute_result"
    }
   ],
   "source": [
    "pearsonr(lebanon.FAV_US, lebanon.FREE_SPEECH)"
   ]
  },
  {
   "cell_type": "code",
   "execution_count": 449,
   "id": "b1745e42",
   "metadata": {},
   "outputs": [
    {
     "data": {
      "text/plain": [
       "PearsonRResult(statistic=0.19008828947102058, pvalue=3.8306597475265535e-08)"
      ]
     },
     "execution_count": 449,
     "metadata": {},
     "output_type": "execute_result"
    }
   ],
   "source": [
    "pearsonr(lebanon.FAV_EU, lebanon.FREE_SPEECH)"
   ]
  },
  {
   "cell_type": "code",
   "execution_count": 359,
   "id": "33612017",
   "metadata": {},
   "outputs": [
    {
     "data": {
      "text/plain": [
       "PearsonRResult(statistic=0.11207232472586146, pvalue=0.0009348478818564482)"
      ]
     },
     "execution_count": 359,
     "metadata": {},
     "output_type": "execute_result"
    }
   ],
   "source": [
    "pearsonr(lebanon.FAV_US, lebanon.GENDER_EQUALITY)"
   ]
  },
  {
   "cell_type": "code",
   "execution_count": 450,
   "id": "3d393b0a",
   "metadata": {},
   "outputs": [
    {
     "data": {
      "text/plain": [
       "PearsonRResult(statistic=0.17749781881569354, pvalue=2.9254982944275606e-07)"
      ]
     },
     "execution_count": 450,
     "metadata": {},
     "output_type": "execute_result"
    }
   ],
   "source": [
    "pearsonr(lebanon.FAV_EU, lebanon.GENDER_EQUALITY)"
   ]
  },
  {
   "cell_type": "code",
   "execution_count": 492,
   "id": "8239c9e6",
   "metadata": {},
   "outputs": [
    {
     "data": {
      "text/plain": [
       "PearsonRResult(statistic=-0.24341023221019456, pvalue=1.4067505984497613e-12)"
      ]
     },
     "execution_count": 492,
     "metadata": {},
     "output_type": "execute_result"
    }
   ],
   "source": [
    "pearsonr(lebanon.WOMEN_JOB, lebanon.FREE_SPEECH)"
   ]
  },
  {
   "cell_type": "code",
   "execution_count": 493,
   "id": "24a34107",
   "metadata": {},
   "outputs": [
    {
     "data": {
      "text/plain": [
       "PearsonRResult(statistic=0.13147182694188747, pvalue=0.0001539178906127571)"
      ]
     },
     "execution_count": 493,
     "metadata": {},
     "output_type": "execute_result"
    }
   ],
   "source": [
    "pearsonr(lebanon.WOMEN_JOB, lebanon.RELIGION_IMPORT)"
   ]
  },
  {
   "cell_type": "code",
   "execution_count": 494,
   "id": "fe2fb280",
   "metadata": {},
   "outputs": [
    {
     "data": {
      "text/plain": [
       "PearsonRResult(statistic=-0.029514291543050592, pvalue=0.397487056511229)"
      ]
     },
     "execution_count": 494,
     "metadata": {},
     "output_type": "execute_result"
    }
   ],
   "source": [
    "pearsonr(lebanon.GENDER_EQUALITY, lebanon.RELIGION_IMPORT)"
   ]
  },
  {
   "cell_type": "markdown",
   "id": "b54d4325",
   "metadata": {
    "jp-MarkdownHeadingCollapsed": true,
    "tags": []
   },
   "source": [
    "#### Kenya"
   ]
  },
  {
   "cell_type": "code",
   "execution_count": 451,
   "id": "f642fb88",
   "metadata": {},
   "outputs": [],
   "source": [
    "kenya = US_image_accept_homosexuality_clean.loc[US_image_accept_homosexuality_clean['country'].isin(['Kenya'])]"
   ]
  },
  {
   "cell_type": "code",
   "execution_count": 452,
   "id": "4bc1f405",
   "metadata": {},
   "outputs": [
    {
     "data": {
      "text/html": [
       "<div>\n",
       "<style scoped>\n",
       "    .dataframe tbody tr th:only-of-type {\n",
       "        vertical-align: middle;\n",
       "    }\n",
       "\n",
       "    .dataframe tbody tr th {\n",
       "        vertical-align: top;\n",
       "    }\n",
       "\n",
       "    .dataframe thead th {\n",
       "        text-align: right;\n",
       "    }\n",
       "</style>\n",
       "<table border=\"1\" class=\"dataframe\">\n",
       "  <thead>\n",
       "    <tr style=\"text-align: right;\">\n",
       "      <th></th>\n",
       "      <th>country</th>\n",
       "      <th>FAV_US</th>\n",
       "      <th>FAV_EU</th>\n",
       "      <th>HOMOSEXUALITY</th>\n",
       "      <th>RELIGION_IMPORT</th>\n",
       "      <th>WOMEN_JOB</th>\n",
       "      <th>FREE_SPEECH</th>\n",
       "      <th>GENDER_EQUALITY</th>\n",
       "    </tr>\n",
       "  </thead>\n",
       "  <tbody>\n",
       "    <tr>\n",
       "      <th>18004</th>\n",
       "      <td>Kenya</td>\n",
       "      <td>0.66</td>\n",
       "      <td>0.00</td>\n",
       "      <td>0.5</td>\n",
       "      <td>1.0</td>\n",
       "      <td>0.66</td>\n",
       "      <td>1.00</td>\n",
       "      <td>0.00</td>\n",
       "    </tr>\n",
       "    <tr>\n",
       "      <th>18008</th>\n",
       "      <td>Kenya</td>\n",
       "      <td>0.66</td>\n",
       "      <td>1.00</td>\n",
       "      <td>5.5</td>\n",
       "      <td>1.0</td>\n",
       "      <td>1.00</td>\n",
       "      <td>1.00</td>\n",
       "      <td>1.00</td>\n",
       "    </tr>\n",
       "    <tr>\n",
       "      <th>18009</th>\n",
       "      <td>Kenya</td>\n",
       "      <td>1.00</td>\n",
       "      <td>1.00</td>\n",
       "      <td>0.5</td>\n",
       "      <td>1.0</td>\n",
       "      <td>1.00</td>\n",
       "      <td>1.00</td>\n",
       "      <td>0.33</td>\n",
       "    </tr>\n",
       "    <tr>\n",
       "      <th>18010</th>\n",
       "      <td>Kenya</td>\n",
       "      <td>0.66</td>\n",
       "      <td>0.66</td>\n",
       "      <td>0.5</td>\n",
       "      <td>1.0</td>\n",
       "      <td>1.00</td>\n",
       "      <td>1.00</td>\n",
       "      <td>1.00</td>\n",
       "    </tr>\n",
       "    <tr>\n",
       "      <th>18011</th>\n",
       "      <td>Kenya</td>\n",
       "      <td>0.00</td>\n",
       "      <td>1.00</td>\n",
       "      <td>0.5</td>\n",
       "      <td>1.0</td>\n",
       "      <td>0.00</td>\n",
       "      <td>1.00</td>\n",
       "      <td>1.00</td>\n",
       "    </tr>\n",
       "    <tr>\n",
       "      <th>...</th>\n",
       "      <td>...</td>\n",
       "      <td>...</td>\n",
       "      <td>...</td>\n",
       "      <td>...</td>\n",
       "      <td>...</td>\n",
       "      <td>...</td>\n",
       "      <td>...</td>\n",
       "      <td>...</td>\n",
       "    </tr>\n",
       "    <tr>\n",
       "      <th>19011</th>\n",
       "      <td>Kenya</td>\n",
       "      <td>0.00</td>\n",
       "      <td>0.66</td>\n",
       "      <td>5.5</td>\n",
       "      <td>1.0</td>\n",
       "      <td>0.66</td>\n",
       "      <td>0.00</td>\n",
       "      <td>1.00</td>\n",
       "    </tr>\n",
       "    <tr>\n",
       "      <th>19014</th>\n",
       "      <td>Kenya</td>\n",
       "      <td>0.33</td>\n",
       "      <td>0.66</td>\n",
       "      <td>0.5</td>\n",
       "      <td>1.0</td>\n",
       "      <td>0.66</td>\n",
       "      <td>0.00</td>\n",
       "      <td>0.00</td>\n",
       "    </tr>\n",
       "    <tr>\n",
       "      <th>19018</th>\n",
       "      <td>Kenya</td>\n",
       "      <td>0.66</td>\n",
       "      <td>1.00</td>\n",
       "      <td>0.5</td>\n",
       "      <td>1.0</td>\n",
       "      <td>1.00</td>\n",
       "      <td>0.33</td>\n",
       "      <td>0.00</td>\n",
       "    </tr>\n",
       "    <tr>\n",
       "      <th>19019</th>\n",
       "      <td>Kenya</td>\n",
       "      <td>0.66</td>\n",
       "      <td>1.00</td>\n",
       "      <td>0.5</td>\n",
       "      <td>1.0</td>\n",
       "      <td>1.00</td>\n",
       "      <td>1.00</td>\n",
       "      <td>0.33</td>\n",
       "    </tr>\n",
       "    <tr>\n",
       "      <th>19020</th>\n",
       "      <td>Kenya</td>\n",
       "      <td>0.00</td>\n",
       "      <td>0.33</td>\n",
       "      <td>0.5</td>\n",
       "      <td>1.0</td>\n",
       "      <td>1.00</td>\n",
       "      <td>0.00</td>\n",
       "      <td>0.00</td>\n",
       "    </tr>\n",
       "  </tbody>\n",
       "</table>\n",
       "<p>695 rows × 8 columns</p>\n",
       "</div>"
      ],
      "text/plain": [
       "      country  FAV_US  FAV_EU HOMOSEXUALITY RELIGION_IMPORT  WOMEN_JOB  \\\n",
       "18004   Kenya    0.66    0.00           0.5             1.0       0.66   \n",
       "18008   Kenya    0.66    1.00           5.5             1.0       1.00   \n",
       "18009   Kenya    1.00    1.00           0.5             1.0       1.00   \n",
       "18010   Kenya    0.66    0.66           0.5             1.0       1.00   \n",
       "18011   Kenya    0.00    1.00           0.5             1.0       0.00   \n",
       "...       ...     ...     ...           ...             ...        ...   \n",
       "19011   Kenya    0.00    0.66           5.5             1.0       0.66   \n",
       "19014   Kenya    0.33    0.66           0.5             1.0       0.66   \n",
       "19018   Kenya    0.66    1.00           0.5             1.0       1.00   \n",
       "19019   Kenya    0.66    1.00           0.5             1.0       1.00   \n",
       "19020   Kenya    0.00    0.33           0.5             1.0       1.00   \n",
       "\n",
       "       FREE_SPEECH  GENDER_EQUALITY  \n",
       "18004         1.00             0.00  \n",
       "18008         1.00             1.00  \n",
       "18009         1.00             0.33  \n",
       "18010         1.00             1.00  \n",
       "18011         1.00             1.00  \n",
       "...            ...              ...  \n",
       "19011         0.00             1.00  \n",
       "19014         0.00             0.00  \n",
       "19018         0.33             0.00  \n",
       "19019         1.00             0.33  \n",
       "19020         0.00             0.00  \n",
       "\n",
       "[695 rows x 8 columns]"
      ]
     },
     "execution_count": 452,
     "metadata": {},
     "output_type": "execute_result"
    }
   ],
   "source": [
    "kenya"
   ]
  },
  {
   "cell_type": "code",
   "execution_count": 453,
   "id": "dce4bf3d",
   "metadata": {},
   "outputs": [
    {
     "data": {
      "text/plain": [
       "PearsonRResult(statistic=0.04846520247443346, pvalue=0.20190918907936128)"
      ]
     },
     "execution_count": 453,
     "metadata": {},
     "output_type": "execute_result"
    }
   ],
   "source": [
    "pearsonr(kenya.FAV_US, kenya.RELIGION_IMPORT)"
   ]
  },
  {
   "cell_type": "code",
   "execution_count": 454,
   "id": "ce4b5eb3",
   "metadata": {},
   "outputs": [
    {
     "data": {
      "text/plain": [
       "PearsonRResult(statistic=0.004044026940234754, pvalue=0.9152486381242596)"
      ]
     },
     "execution_count": 454,
     "metadata": {},
     "output_type": "execute_result"
    }
   ],
   "source": [
    "pearsonr(kenya.FAV_EU, kenya.RELIGION_IMPORT)"
   ]
  },
  {
   "cell_type": "code",
   "execution_count": 456,
   "id": "3343d405",
   "metadata": {},
   "outputs": [
    {
     "data": {
      "text/plain": [
       "PearsonRResult(statistic=0.00642429153304125, pvalue=0.8657498137572959)"
      ]
     },
     "execution_count": 456,
     "metadata": {},
     "output_type": "execute_result"
    }
   ],
   "source": [
    "pearsonr(kenya.FAV_US, kenya.WOMEN_JOB)"
   ]
  },
  {
   "cell_type": "code",
   "execution_count": 457,
   "id": "c7f8ab09",
   "metadata": {},
   "outputs": [
    {
     "data": {
      "text/plain": [
       "PearsonRResult(statistic=0.02864881966396924, pvalue=0.45081326867961863)"
      ]
     },
     "execution_count": 457,
     "metadata": {},
     "output_type": "execute_result"
    }
   ],
   "source": [
    "pearsonr(kenya.FAV_EU, kenya.WOMEN_JOB)"
   ]
  },
  {
   "cell_type": "code",
   "execution_count": 364,
   "id": "c28e6771",
   "metadata": {},
   "outputs": [
    {
     "data": {
      "text/plain": [
       "PearsonRResult(statistic=0.09751168786651201, pvalue=0.0054767511538547095)"
      ]
     },
     "execution_count": 364,
     "metadata": {},
     "output_type": "execute_result"
    }
   ],
   "source": [
    "pearsonr(kenya.FAV_US, kenya.FREE_SPEECH)"
   ]
  },
  {
   "cell_type": "code",
   "execution_count": 458,
   "id": "eda8424b",
   "metadata": {},
   "outputs": [
    {
     "data": {
      "text/plain": [
       "PearsonRResult(statistic=0.060343491448461205, pvalue=0.11196749428421766)"
      ]
     },
     "execution_count": 458,
     "metadata": {},
     "output_type": "execute_result"
    }
   ],
   "source": [
    "pearsonr(kenya.FAV_EU, kenya.FREE_SPEECH)"
   ]
  },
  {
   "cell_type": "code",
   "execution_count": 365,
   "id": "08af7c28",
   "metadata": {},
   "outputs": [
    {
     "data": {
      "text/plain": [
       "PearsonRResult(statistic=0.09129252520413861, pvalue=0.00933192333689028)"
      ]
     },
     "execution_count": 365,
     "metadata": {},
     "output_type": "execute_result"
    }
   ],
   "source": [
    "pearsonr(kenya.FAV_US, kenya.GENDER_EQUALITY)"
   ]
  },
  {
   "cell_type": "code",
   "execution_count": 459,
   "id": "066e17ca",
   "metadata": {},
   "outputs": [
    {
     "data": {
      "text/plain": [
       "PearsonRResult(statistic=0.09497154590890267, pvalue=0.012249367069262657)"
      ]
     },
     "execution_count": 459,
     "metadata": {},
     "output_type": "execute_result"
    }
   ],
   "source": [
    "pearsonr(kenya.FAV_EU, kenya.GENDER_EQUALITY)"
   ]
  },
  {
   "cell_type": "code",
   "execution_count": 495,
   "id": "07c8e511",
   "metadata": {},
   "outputs": [
    {
     "data": {
      "text/plain": [
       "PearsonRResult(statistic=-0.08473770712839152, pvalue=0.025487970079122162)"
      ]
     },
     "execution_count": 495,
     "metadata": {},
     "output_type": "execute_result"
    }
   ],
   "source": [
    "pearsonr(kenya.FREE_SPEECH, kenya.WOMEN_JOB)"
   ]
  },
  {
   "cell_type": "code",
   "execution_count": 496,
   "id": "a2c91f3e",
   "metadata": {},
   "outputs": [
    {
     "data": {
      "text/plain": [
       "PearsonRResult(statistic=0.023027031317208707, pvalue=0.5444843021140492)"
      ]
     },
     "execution_count": 496,
     "metadata": {},
     "output_type": "execute_result"
    }
   ],
   "source": [
    "pearsonr(kenya.RELIGION_IMPORT, kenya.WOMEN_JOB)"
   ]
  },
  {
   "cell_type": "code",
   "execution_count": 497,
   "id": "3229a726",
   "metadata": {},
   "outputs": [
    {
     "data": {
      "text/plain": [
       "PearsonRResult(statistic=0.07985697360226744, pvalue=0.03530607204179962)"
      ]
     },
     "execution_count": 497,
     "metadata": {},
     "output_type": "execute_result"
    }
   ],
   "source": [
    "pearsonr(kenya.RELIGION_IMPORT, kenya.FREE_SPEECH)"
   ]
  },
  {
   "cell_type": "code",
   "execution_count": 498,
   "id": "8389d468",
   "metadata": {},
   "outputs": [
    {
     "data": {
      "text/plain": [
       "PearsonRResult(statistic=-0.03642993072549287, pvalue=0.3375655607854419)"
      ]
     },
     "execution_count": 498,
     "metadata": {},
     "output_type": "execute_result"
    }
   ],
   "source": [
    "pearsonr(kenya.RELIGION_IMPORT, kenya.GENDER_EQUALITY)"
   ]
  },
  {
   "cell_type": "markdown",
   "id": "9b6ea290",
   "metadata": {
    "jp-MarkdownHeadingCollapsed": true,
    "tags": []
   },
   "source": [
    "#### Russia"
   ]
  },
  {
   "cell_type": "code",
   "execution_count": 462,
   "id": "91c87473",
   "metadata": {},
   "outputs": [],
   "source": [
    "russia = US_image_accept_homosexuality_clean.loc[US_image_accept_homosexuality_clean['country'].isin(['Russia'])]"
   ]
  },
  {
   "cell_type": "code",
   "execution_count": 463,
   "id": "6f07cffc",
   "metadata": {
    "scrolled": true
   },
   "outputs": [
    {
     "data": {
      "text/html": [
       "<div>\n",
       "<style scoped>\n",
       "    .dataframe tbody tr th:only-of-type {\n",
       "        vertical-align: middle;\n",
       "    }\n",
       "\n",
       "    .dataframe tbody tr th {\n",
       "        vertical-align: top;\n",
       "    }\n",
       "\n",
       "    .dataframe thead th {\n",
       "        text-align: right;\n",
       "    }\n",
       "</style>\n",
       "<table border=\"1\" class=\"dataframe\">\n",
       "  <thead>\n",
       "    <tr style=\"text-align: right;\">\n",
       "      <th></th>\n",
       "      <th>country</th>\n",
       "      <th>FAV_US</th>\n",
       "      <th>FAV_EU</th>\n",
       "      <th>HOMOSEXUALITY</th>\n",
       "      <th>RELIGION_IMPORT</th>\n",
       "      <th>WOMEN_JOB</th>\n",
       "      <th>FREE_SPEECH</th>\n",
       "      <th>GENDER_EQUALITY</th>\n",
       "    </tr>\n",
       "  </thead>\n",
       "  <tbody>\n",
       "    <tr>\n",
       "      <th>26132</th>\n",
       "      <td>Russia</td>\n",
       "      <td>0.33</td>\n",
       "      <td>0.66</td>\n",
       "      <td>0.5</td>\n",
       "      <td>0.66</td>\n",
       "      <td>0.33</td>\n",
       "      <td>0.66</td>\n",
       "      <td>1.00</td>\n",
       "    </tr>\n",
       "    <tr>\n",
       "      <th>26133</th>\n",
       "      <td>Russia</td>\n",
       "      <td>0.00</td>\n",
       "      <td>0.00</td>\n",
       "      <td>0.5</td>\n",
       "      <td>0.66</td>\n",
       "      <td>1.00</td>\n",
       "      <td>0.33</td>\n",
       "      <td>0.66</td>\n",
       "    </tr>\n",
       "    <tr>\n",
       "      <th>26134</th>\n",
       "      <td>Russia</td>\n",
       "      <td>0.00</td>\n",
       "      <td>0.66</td>\n",
       "      <td>0.5</td>\n",
       "      <td>1.0</td>\n",
       "      <td>0.33</td>\n",
       "      <td>1.00</td>\n",
       "      <td>1.00</td>\n",
       "    </tr>\n",
       "    <tr>\n",
       "      <th>26135</th>\n",
       "      <td>Russia</td>\n",
       "      <td>0.00</td>\n",
       "      <td>1.00</td>\n",
       "      <td>0.5</td>\n",
       "      <td>0.66</td>\n",
       "      <td>0.33</td>\n",
       "      <td>0.66</td>\n",
       "      <td>1.00</td>\n",
       "    </tr>\n",
       "    <tr>\n",
       "      <th>26136</th>\n",
       "      <td>Russia</td>\n",
       "      <td>0.33</td>\n",
       "      <td>0.33</td>\n",
       "      <td>0.5</td>\n",
       "      <td>0.0</td>\n",
       "      <td>0.33</td>\n",
       "      <td>0.66</td>\n",
       "      <td>0.33</td>\n",
       "    </tr>\n",
       "    <tr>\n",
       "      <th>...</th>\n",
       "      <td>...</td>\n",
       "      <td>...</td>\n",
       "      <td>...</td>\n",
       "      <td>...</td>\n",
       "      <td>...</td>\n",
       "      <td>...</td>\n",
       "      <td>...</td>\n",
       "      <td>...</td>\n",
       "    </tr>\n",
       "    <tr>\n",
       "      <th>27157</th>\n",
       "      <td>Russia</td>\n",
       "      <td>0.33</td>\n",
       "      <td>0.33</td>\n",
       "      <td>0.5</td>\n",
       "      <td>0.66</td>\n",
       "      <td>0.33</td>\n",
       "      <td>0.66</td>\n",
       "      <td>0.66</td>\n",
       "    </tr>\n",
       "    <tr>\n",
       "      <th>27161</th>\n",
       "      <td>Russia</td>\n",
       "      <td>0.33</td>\n",
       "      <td>0.33</td>\n",
       "      <td>0.5</td>\n",
       "      <td>1.0</td>\n",
       "      <td>0.66</td>\n",
       "      <td>1.00</td>\n",
       "      <td>1.00</td>\n",
       "    </tr>\n",
       "    <tr>\n",
       "      <th>27162</th>\n",
       "      <td>Russia</td>\n",
       "      <td>0.00</td>\n",
       "      <td>0.66</td>\n",
       "      <td>0.5</td>\n",
       "      <td>1.0</td>\n",
       "      <td>0.33</td>\n",
       "      <td>1.00</td>\n",
       "      <td>1.00</td>\n",
       "    </tr>\n",
       "    <tr>\n",
       "      <th>27163</th>\n",
       "      <td>Russia</td>\n",
       "      <td>0.33</td>\n",
       "      <td>1.00</td>\n",
       "      <td>0.5</td>\n",
       "      <td>0.0</td>\n",
       "      <td>0.00</td>\n",
       "      <td>1.00</td>\n",
       "      <td>1.00</td>\n",
       "    </tr>\n",
       "    <tr>\n",
       "      <th>27166</th>\n",
       "      <td>Russia</td>\n",
       "      <td>0.33</td>\n",
       "      <td>0.33</td>\n",
       "      <td>0.5</td>\n",
       "      <td>0.66</td>\n",
       "      <td>0.33</td>\n",
       "      <td>0.66</td>\n",
       "      <td>0.66</td>\n",
       "    </tr>\n",
       "  </tbody>\n",
       "</table>\n",
       "<p>672 rows × 8 columns</p>\n",
       "</div>"
      ],
      "text/plain": [
       "      country  FAV_US  FAV_EU HOMOSEXUALITY RELIGION_IMPORT  WOMEN_JOB  \\\n",
       "26132  Russia    0.33    0.66           0.5            0.66       0.33   \n",
       "26133  Russia    0.00    0.00           0.5            0.66       1.00   \n",
       "26134  Russia    0.00    0.66           0.5             1.0       0.33   \n",
       "26135  Russia    0.00    1.00           0.5            0.66       0.33   \n",
       "26136  Russia    0.33    0.33           0.5             0.0       0.33   \n",
       "...       ...     ...     ...           ...             ...        ...   \n",
       "27157  Russia    0.33    0.33           0.5            0.66       0.33   \n",
       "27161  Russia    0.33    0.33           0.5             1.0       0.66   \n",
       "27162  Russia    0.00    0.66           0.5             1.0       0.33   \n",
       "27163  Russia    0.33    1.00           0.5             0.0       0.00   \n",
       "27166  Russia    0.33    0.33           0.5            0.66       0.33   \n",
       "\n",
       "       FREE_SPEECH  GENDER_EQUALITY  \n",
       "26132         0.66             1.00  \n",
       "26133         0.33             0.66  \n",
       "26134         1.00             1.00  \n",
       "26135         0.66             1.00  \n",
       "26136         0.66             0.33  \n",
       "...            ...              ...  \n",
       "27157         0.66             0.66  \n",
       "27161         1.00             1.00  \n",
       "27162         1.00             1.00  \n",
       "27163         1.00             1.00  \n",
       "27166         0.66             0.66  \n",
       "\n",
       "[672 rows x 8 columns]"
      ]
     },
     "execution_count": 463,
     "metadata": {},
     "output_type": "execute_result"
    }
   ],
   "source": [
    "russia"
   ]
  },
  {
   "cell_type": "code",
   "execution_count": 464,
   "id": "45fb5d62",
   "metadata": {},
   "outputs": [
    {
     "data": {
      "text/plain": [
       "PearsonRResult(statistic=-0.07564781093853332, pvalue=0.04997546759574114)"
      ]
     },
     "execution_count": 464,
     "metadata": {},
     "output_type": "execute_result"
    }
   ],
   "source": [
    "pearsonr(russia.FAV_US, russia.RELIGION_IMPORT)"
   ]
  },
  {
   "cell_type": "code",
   "execution_count": 465,
   "id": "e0a08a18",
   "metadata": {},
   "outputs": [
    {
     "data": {
      "text/plain": [
       "PearsonRResult(statistic=-0.060886239742126765, pvalue=0.11482394986151312)"
      ]
     },
     "execution_count": 465,
     "metadata": {},
     "output_type": "execute_result"
    }
   ],
   "source": [
    "pearsonr(russia.FAV_EU, russia.RELIGION_IMPORT)"
   ]
  },
  {
   "cell_type": "code",
   "execution_count": 370,
   "id": "a0df8342",
   "metadata": {},
   "outputs": [
    {
     "data": {
      "text/plain": [
       "PearsonRResult(statistic=-0.03293442915862147, pvalue=0.3661578192839239)"
      ]
     },
     "execution_count": 370,
     "metadata": {},
     "output_type": "execute_result"
    }
   ],
   "source": [
    "pearsonr(russia.FAV_US, russia.WOMEN_JOB)"
   ]
  },
  {
   "cell_type": "code",
   "execution_count": 466,
   "id": "21c8ecca",
   "metadata": {},
   "outputs": [
    {
     "data": {
      "text/plain": [
       "PearsonRResult(statistic=-0.04723833273582914, pvalue=0.22134459934503195)"
      ]
     },
     "execution_count": 466,
     "metadata": {},
     "output_type": "execute_result"
    }
   ],
   "source": [
    "pearsonr(russia.FAV_EU, russia.WOMEN_JOB)"
   ]
  },
  {
   "cell_type": "code",
   "execution_count": 371,
   "id": "1693041a",
   "metadata": {
    "scrolled": true
   },
   "outputs": [
    {
     "data": {
      "text/plain": [
       "PearsonRResult(statistic=0.013197888714879875, pvalue=0.7173096047432588)"
      ]
     },
     "execution_count": 371,
     "metadata": {},
     "output_type": "execute_result"
    }
   ],
   "source": [
    "pearsonr(russia.FAV_US, russia.FREE_SPEECH)"
   ]
  },
  {
   "cell_type": "code",
   "execution_count": 467,
   "id": "63d50039",
   "metadata": {},
   "outputs": [
    {
     "data": {
      "text/plain": [
       "PearsonRResult(statistic=-0.0014985039877795838, pvalue=0.9690710801842606)"
      ]
     },
     "execution_count": 467,
     "metadata": {},
     "output_type": "execute_result"
    }
   ],
   "source": [
    "pearsonr(russia.FAV_EU, russia.FREE_SPEECH)"
   ]
  },
  {
   "cell_type": "code",
   "execution_count": 372,
   "id": "77c43a0e",
   "metadata": {
    "scrolled": true
   },
   "outputs": [
    {
     "data": {
      "text/plain": [
       "PearsonRResult(statistic=-0.014455251369239629, pvalue=0.6916968478307236)"
      ]
     },
     "execution_count": 372,
     "metadata": {},
     "output_type": "execute_result"
    }
   ],
   "source": [
    "pearsonr(russia.FAV_US, russia.GENDER_EQUALITY)"
   ]
  },
  {
   "cell_type": "code",
   "execution_count": 468,
   "id": "9c900129",
   "metadata": {},
   "outputs": [
    {
     "data": {
      "text/plain": [
       "PearsonRResult(statistic=0.08968789387345696, pvalue=0.020054038076300074)"
      ]
     },
     "execution_count": 468,
     "metadata": {},
     "output_type": "execute_result"
    }
   ],
   "source": [
    "pearsonr(russia.FAV_EU, russia.GENDER_EQUALITY)"
   ]
  },
  {
   "cell_type": "markdown",
   "id": "1555b078",
   "metadata": {},
   "source": [
    "## Defining the culture zones"
   ]
  },
  {
   "cell_type": "code",
   "execution_count": null,
   "id": "9d867cc0",
   "metadata": {},
   "outputs": [],
   "source": [
    "culture_zones = {'Anglosphere': ['USA', 'GBR', 'CAN', 'AUS', 'NZL', 'IRL'], \n",
    "                 'Latin America': ['BRA', 'MEX', 'COL', 'ARG', 'PER', 'VEN', 'CHL', 'ECU', 'GTM', 'BOL', 'HTI', 'CUB', 'DOM', 'HND', 'PRY', 'SLV', 'NIC', 'CRI', 'PAN', 'URY', 'JAM', 'TTO', 'GUY', 'SUR', 'BLZ', 'BHS', 'BRB', 'LCA', 'GRD', 'VCT', 'ATG', 'DMA', 'KNA']}"
   ]
  }
 ],
 "metadata": {
  "kernelspec": {
   "display_name": "Python 3 (ipykernel)",
   "language": "python",
   "name": "python3"
  },
  "language_info": {
   "codemirror_mode": {
    "name": "ipython",
    "version": 3
   },
   "file_extension": ".py",
   "mimetype": "text/x-python",
   "name": "python",
   "nbconvert_exporter": "python",
   "pygments_lexer": "ipython3",
   "version": "3.9.13"
  }
 },
 "nbformat": 4,
 "nbformat_minor": 5
}
