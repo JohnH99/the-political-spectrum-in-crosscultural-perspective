{
 "cells": [
  {
   "cell_type": "markdown",
   "id": "119ad4cc",
   "metadata": {},
   "source": [
    "# Loading the data and packages"
   ]
  },
  {
   "cell_type": "markdown",
   "id": "40c8af63",
   "metadata": {},
   "source": [
    "## Packages"
   ]
  },
  {
   "cell_type": "markdown",
   "id": "0757cda2",
   "metadata": {},
   "source": [
    "The NumPy and Pandas packages are required for operating with data frames."
   ]
  },
  {
   "cell_type": "code",
   "execution_count": 3,
   "id": "513731b4",
   "metadata": {},
   "outputs": [],
   "source": [
    "import numpy as np\n",
    "import pandas as pd"
   ]
  },
  {
   "cell_type": "markdown",
   "id": "f4a8c504",
   "metadata": {},
   "source": [
    "## Data"
   ]
  },
  {
   "cell_type": "markdown",
   "id": "b16e8f93",
   "metadata": {},
   "source": [
    "The data for measuring social and political attitudes is provided by global survey organizations like the World Values Survey Association, while the data for country-level variables like economic development is from international institutions like the World Bank and the UN Human Development Programme."
   ]
  },
  {
   "cell_type": "code",
   "execution_count": 5,
   "id": "9c39bdfb",
   "metadata": {},
   "outputs": [],
   "source": [
    "wvs7 = pd.read_csv('WVS_Cross-National_Wave_7_csv_v4_0.csv', dtype={519: 'str', 520: 'str', 521: 'str', 522: 'str'})"
   ]
  },
  {
   "cell_type": "code",
   "execution_count": null,
   "id": "ca11b15e",
   "metadata": {},
   "outputs": [],
   "source": [
    "print(wvs7.iloc[:,519])\n",
    "print(wvs7.iloc[:,520])\n",
    "print(wvs7.iloc[:,521])\n",
    "print(wvs7.iloc[:,522])"
   ]
  },
  {
   "cell_type": "code",
   "execution_count": 7,
   "id": "30e0dff6",
   "metadata": {},
   "outputs": [
    {
     "name": "stdout",
     "output_type": "stream",
     "text": [
      "                  version                        doi  A_WAVE  A_YEAR  A_STUDY  \\\n",
      "0      4-0-0 (2022-05-23)  doi.org/10.14281/18241.18       7    2019        2   \n",
      "1      4-0-0 (2022-05-23)  doi.org/10.14281/18241.18       7    2019        2   \n",
      "2      4-0-0 (2022-05-23)  doi.org/10.14281/18241.18       7    2019        2   \n",
      "3      4-0-0 (2022-05-23)  doi.org/10.14281/18241.18       7    2019        2   \n",
      "4      4-0-0 (2022-05-23)  doi.org/10.14281/18241.18       7    2019        2   \n",
      "...                   ...                        ...     ...     ...      ...   \n",
      "87817  4-0-0 (2022-05-23)  doi.org/10.14281/18241.18       7    2021        2   \n",
      "87818  4-0-0 (2022-05-23)  doi.org/10.14281/18241.18       7    2021        2   \n",
      "87819  4-0-0 (2022-05-23)  doi.org/10.14281/18241.18       7    2021        2   \n",
      "87820  4-0-0 (2022-05-23)  doi.org/10.14281/18241.18       7    2021        2   \n",
      "87821  4-0-0 (2022-05-23)  doi.org/10.14281/18241.18       7    2021        2   \n",
      "\n",
      "       B_COUNTRY B_COUNTRY_ALPHA  C_COW_NUM C_COW_ALPHA  D_INTERVIEW  ...  \\\n",
      "0            196             CYP        352         CYP    196070011  ...   \n",
      "1            196             CYP        352         CYP    196070036  ...   \n",
      "2            196             CYP        352         CYP    196070039  ...   \n",
      "3            196             CYP        352         CYP    196070040  ...   \n",
      "4            196             CYP        352         CYP    196070053  ...   \n",
      "...          ...             ...        ...         ...          ...  ...   \n",
      "87817        862             VEN        101         VEN    862071011  ...   \n",
      "87818        862             VEN        101         VEN    862071070  ...   \n",
      "87819        862             VEN        101         VEN    862071077  ...   \n",
      "87820        862             VEN        101         VEN    862071101  ...   \n",
      "87821        862             VEN        101         VEN    862071111  ...   \n",
      "\n",
      "       WVS_Polmistrust_PartyVoter  WVS_LR_MedianVoter  WVS_LibCon_MedianVoter  \\\n",
      "0                             NaN                 NaN                     NaN   \n",
      "1                             NaN                 NaN                     NaN   \n",
      "2                             NaN                 NaN                     NaN   \n",
      "3                             NaN                 NaN                     NaN   \n",
      "4                             NaN                 NaN                     NaN   \n",
      "...                           ...                 ...                     ...   \n",
      "87817                         NaN                 NaN                     NaN   \n",
      "87818                         NaN                 NaN                     NaN   \n",
      "87819                         NaN                 NaN                     NaN   \n",
      "87820                         NaN                 NaN                     NaN   \n",
      "87821                         NaN                 NaN                     NaN   \n",
      "\n",
      "       v2psbars  v2psorgs  v2psprbrch  v2psprlnks  v2psplats  v2xnp_client  \\\n",
      "0           NaN       NaN         NaN         NaN        NaN           NaN   \n",
      "1           NaN       NaN         NaN         NaN        NaN           NaN   \n",
      "2           NaN       NaN         NaN         NaN        NaN           NaN   \n",
      "3           NaN       NaN         NaN         NaN        NaN           NaN   \n",
      "4           NaN       NaN         NaN         NaN        NaN           NaN   \n",
      "...         ...       ...         ...         ...        ...           ...   \n",
      "87817       NaN       NaN         NaN         NaN        NaN           NaN   \n",
      "87818       NaN       NaN         NaN         NaN        NaN           NaN   \n",
      "87819       NaN       NaN         NaN         NaN        NaN           NaN   \n",
      "87820       NaN       NaN         NaN         NaN        NaN           NaN   \n",
      "87821       NaN       NaN         NaN         NaN        NaN           NaN   \n",
      "\n",
      "       v2xps_party  \n",
      "0              NaN  \n",
      "1              NaN  \n",
      "2              NaN  \n",
      "3              NaN  \n",
      "4              NaN  \n",
      "...            ...  \n",
      "87817          NaN  \n",
      "87818          NaN  \n",
      "87819          NaN  \n",
      "87820          NaN  \n",
      "87821          NaN  \n",
      "\n",
      "[87822 rows x 552 columns]\n"
     ]
    }
   ],
   "source": [
    "wvs7"
   ]
  },
  {
   "cell_type": "markdown",
   "id": "14d40eba",
   "metadata": {},
   "source": [
    "# Data extraction"
   ]
  },
  {
   "cell_type": "code",
   "execution_count": null,
   "id": "ca322629",
   "metadata": {},
   "outputs": [],
   "source": [
    "#demographics\n",
    "#liberalism vs. authoritarianism\n",
    "#socialism vs. capitalism\n",
    "#progressivism vs. conservatism\n",
    "#science\n",
    "#religion\n",
    "#environmental protection"
   ]
  },
  {
   "cell_type": "markdown",
   "id": "d421e870",
   "metadata": {},
   "source": [
    "# Data analysis"
   ]
  },
  {
   "cell_type": "markdown",
   "id": "1555b078",
   "metadata": {},
   "source": [
    "## Defining the culture zones"
   ]
  },
  {
   "cell_type": "code",
   "execution_count": null,
   "id": "9d867cc0",
   "metadata": {},
   "outputs": [],
   "source": [
    "culture_zones = {'Anglosphere': ['USA', 'GBR', 'CAN', 'AUS', 'NZL', 'IRL'], \n",
    "                 'Latin America': ['BRA', 'MEX', 'COL', 'ARG', 'PER', 'VEN', 'CHL', 'ECU', 'GTM', 'BOL', 'HTI', 'CUB', 'DOM', 'HND', 'PRY', 'SLV', 'NIC', 'CRI', 'PAN', 'URY', 'JAM', 'TTO', 'GUY', 'SUR', 'BLZ', 'BHS', 'BRB', 'LCA', 'GRD', 'VCT', 'ATG', 'DMA', 'KNA']}"
   ]
  }
 ],
 "metadata": {
  "kernelspec": {
   "display_name": "Python 3 (ipykernel)",
   "language": "python",
   "name": "python3"
  },
  "language_info": {
   "codemirror_mode": {
    "name": "ipython",
    "version": 3
   },
   "file_extension": ".py",
   "mimetype": "text/x-python",
   "name": "python",
   "nbconvert_exporter": "python",
   "pygments_lexer": "ipython3",
   "version": "3.9.13"
  }
 },
 "nbformat": 4,
 "nbformat_minor": 5
}
