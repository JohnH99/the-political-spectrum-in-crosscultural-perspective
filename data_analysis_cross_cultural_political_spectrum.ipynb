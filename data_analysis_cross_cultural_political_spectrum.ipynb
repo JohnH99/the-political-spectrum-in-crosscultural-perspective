{
 "cells": [
  {
   "cell_type": "markdown",
   "id": "0757cda2",
   "metadata": {},
   "source": [
    "The NumPy and Pandas packages are required for operating with data frames."
   ]
  },
  {
   "cell_type": "code",
   "execution_count": 1,
   "id": "513731b4",
   "metadata": {},
   "outputs": [],
   "source": [
    "import numpy as np\n",
    "import pandas as pd"
   ]
  },
  {
   "cell_type": "markdown",
   "id": "f4a8c504",
   "metadata": {
    "tags": []
   },
   "source": [
    "# Data management"
   ]
  },
  {
   "cell_type": "markdown",
   "id": "b4f2929a-6dee-419c-9b58-2088892be940",
   "metadata": {},
   "source": [
    "## Loading the datasets"
   ]
  },
  {
   "cell_type": "markdown",
   "id": "b16e8f93",
   "metadata": {},
   "source": [
    "The data for measuring social and political attitudes is provided by global survey organizations including the World Values Survey Association (WVSA) and Pew Research Center (PWC). The data for country-level variables like economic development is from international institutions like the World Bank and the UN Human Development Programme."
   ]
  },
  {
   "cell_type": "markdown",
   "id": "1f42aefb",
   "metadata": {
    "jp-MarkdownHeadingCollapsed": true,
    "tags": []
   },
   "source": [
    "### World Values Survey (WVS)"
   ]
  },
  {
   "cell_type": "code",
   "execution_count": 4,
   "id": "9c39bdfb",
   "metadata": {},
   "outputs": [
    {
     "name": "stderr",
     "output_type": "stream",
     "text": [
      "C:\\Users\\User\\AppData\\Local\\Temp\\ipykernel_11092\\3543982853.py:1: DtypeWarning: Columns (345,347,349,574,575,576) have mixed types. Specify dtype option on import or set low_memory=False.\n",
      "  wvs7 = pd.read_csv('./data/WVS_Cross-National_Wave_7_csv_v5_0.csv', dtype={519: 'str', 520: 'str', 521: 'str', 522: 'str'})\n"
     ]
    }
   ],
   "source": [
    "wvs7 = pd.read_csv('./data/WVS_Cross-National_Wave_7_csv_v5_0.csv', dtype={519: 'str', 520: 'str', 521: 'str', 522: 'str'})"
   ]
  },
  {
   "cell_type": "code",
   "execution_count": 5,
   "id": "ca11b15e",
   "metadata": {},
   "outputs": [
    {
     "name": "stdout",
     "output_type": "stream",
     "text": [
      "0        0.857\n",
      "1        0.857\n",
      "2        0.857\n",
      "3        0.857\n",
      "4        0.857\n",
      "         ...  \n",
      "94273      NaN\n",
      "94274      NaN\n",
      "94275      NaN\n",
      "94276      NaN\n",
      "94277      NaN\n",
      "Name: hdi, Length: 94278, dtype: object\n",
      "0        0.935\n",
      "1        0.935\n",
      "2        0.935\n",
      "3        0.935\n",
      "4        0.935\n",
      "         ...  \n",
      "94273      NaN\n",
      "94274      NaN\n",
      "94275      NaN\n",
      "94276      NaN\n",
      "94277      NaN\n",
      "Name: incomeindexHDI, Length: 94278, dtype: object\n",
      "0        -9999\n",
      "1        -9999\n",
      "2        -9999\n",
      "3        -9999\n",
      "4        -9999\n",
      "         ...  \n",
      "94273      NaN\n",
      "94274      NaN\n",
      "94275      NaN\n",
      "94276      NaN\n",
      "94277      NaN\n",
      "Name: humanineqiality, Length: 94278, dtype: object\n",
      "0        0.951\n",
      "1        0.951\n",
      "2        0.951\n",
      "3        0.951\n",
      "4        0.951\n",
      "         ...  \n",
      "94273      NaN\n",
      "94274      NaN\n",
      "94275      NaN\n",
      "94276      NaN\n",
      "94277      NaN\n",
      "Name: lifeexpectHDI, Length: 94278, dtype: object\n"
     ]
    }
   ],
   "source": [
    "print(wvs7.iloc[:,519])\n",
    "print(wvs7.iloc[:,520])\n",
    "print(wvs7.iloc[:,521])\n",
    "print(wvs7.iloc[:,522])"
   ]
  },
  {
   "cell_type": "markdown",
   "id": "94c7a5c2",
   "metadata": {},
   "source": [
    "## Inspecting the datasets"
   ]
  },
  {
   "cell_type": "code",
   "execution_count": 6,
   "id": "30e0dff6",
   "metadata": {
    "scrolled": true
   },
   "outputs": [
    {
     "data": {
      "text/plain": [
       "pandas.core.frame.DataFrame"
      ]
     },
     "execution_count": 6,
     "metadata": {},
     "output_type": "execute_result"
    }
   ],
   "source": [
    "type(wvs7)"
   ]
  },
  {
   "cell_type": "code",
   "execution_count": 7,
   "id": "c9e5f5a1",
   "metadata": {},
   "outputs": [
    {
     "data": {
      "text/html": [
       "<div>\n",
       "<style scoped>\n",
       "    .dataframe tbody tr th:only-of-type {\n",
       "        vertical-align: middle;\n",
       "    }\n",
       "\n",
       "    .dataframe tbody tr th {\n",
       "        vertical-align: top;\n",
       "    }\n",
       "\n",
       "    .dataframe thead th {\n",
       "        text-align: right;\n",
       "    }\n",
       "</style>\n",
       "<table border=\"1\" class=\"dataframe\">\n",
       "  <thead>\n",
       "    <tr style=\"text-align: right;\">\n",
       "      <th></th>\n",
       "      <th>version</th>\n",
       "      <th>doi</th>\n",
       "      <th>A_WAVE</th>\n",
       "      <th>A_YEAR</th>\n",
       "      <th>A_STUDY</th>\n",
       "      <th>B_COUNTRY</th>\n",
       "      <th>B_COUNTRY_ALPHA</th>\n",
       "      <th>C_COW_NUM</th>\n",
       "      <th>C_COW_ALPHA</th>\n",
       "      <th>D_INTERVIEW</th>\n",
       "      <th>...</th>\n",
       "      <th>WVS_Polmistrust_PartyVoter</th>\n",
       "      <th>WVS_LR_MedianVoter</th>\n",
       "      <th>WVS_LibCon_MedianVoter</th>\n",
       "      <th>v2psbars</th>\n",
       "      <th>v2psorgs</th>\n",
       "      <th>v2psprbrch</th>\n",
       "      <th>v2psprlnks</th>\n",
       "      <th>v2psplats</th>\n",
       "      <th>v2xnp_client</th>\n",
       "      <th>v2xps_party</th>\n",
       "    </tr>\n",
       "  </thead>\n",
       "  <tbody>\n",
       "    <tr>\n",
       "      <th>0</th>\n",
       "      <td>5-0-0 (2022-12-23)</td>\n",
       "      <td>doi.org/10.14281/18241.20</td>\n",
       "      <td>7</td>\n",
       "      <td>2018</td>\n",
       "      <td>2</td>\n",
       "      <td>20</td>\n",
       "      <td>AND</td>\n",
       "      <td>232</td>\n",
       "      <td>AND</td>\n",
       "      <td>20070001</td>\n",
       "      <td>...</td>\n",
       "      <td>62.434211</td>\n",
       "      <td>-999.0</td>\n",
       "      <td>-999.0</td>\n",
       "      <td>-999.0</td>\n",
       "      <td>-999.0</td>\n",
       "      <td>-999.0</td>\n",
       "      <td>-999.0</td>\n",
       "      <td>-999.0</td>\n",
       "      <td>-999.0</td>\n",
       "      <td>-999.0</td>\n",
       "    </tr>\n",
       "    <tr>\n",
       "      <th>1</th>\n",
       "      <td>5-0-0 (2022-12-23)</td>\n",
       "      <td>doi.org/10.14281/18241.20</td>\n",
       "      <td>7</td>\n",
       "      <td>2018</td>\n",
       "      <td>2</td>\n",
       "      <td>20</td>\n",
       "      <td>AND</td>\n",
       "      <td>232</td>\n",
       "      <td>AND</td>\n",
       "      <td>20070002</td>\n",
       "      <td>...</td>\n",
       "      <td>62.434211</td>\n",
       "      <td>-999.0</td>\n",
       "      <td>-999.0</td>\n",
       "      <td>-999.0</td>\n",
       "      <td>-999.0</td>\n",
       "      <td>-999.0</td>\n",
       "      <td>-999.0</td>\n",
       "      <td>-999.0</td>\n",
       "      <td>-999.0</td>\n",
       "      <td>-999.0</td>\n",
       "    </tr>\n",
       "    <tr>\n",
       "      <th>2</th>\n",
       "      <td>5-0-0 (2022-12-23)</td>\n",
       "      <td>doi.org/10.14281/18241.20</td>\n",
       "      <td>7</td>\n",
       "      <td>2018</td>\n",
       "      <td>2</td>\n",
       "      <td>20</td>\n",
       "      <td>AND</td>\n",
       "      <td>232</td>\n",
       "      <td>AND</td>\n",
       "      <td>20070003</td>\n",
       "      <td>...</td>\n",
       "      <td>62.434211</td>\n",
       "      <td>-999.0</td>\n",
       "      <td>-999.0</td>\n",
       "      <td>-999.0</td>\n",
       "      <td>-999.0</td>\n",
       "      <td>-999.0</td>\n",
       "      <td>-999.0</td>\n",
       "      <td>-999.0</td>\n",
       "      <td>-999.0</td>\n",
       "      <td>-999.0</td>\n",
       "    </tr>\n",
       "    <tr>\n",
       "      <th>3</th>\n",
       "      <td>5-0-0 (2022-12-23)</td>\n",
       "      <td>doi.org/10.14281/18241.20</td>\n",
       "      <td>7</td>\n",
       "      <td>2018</td>\n",
       "      <td>2</td>\n",
       "      <td>20</td>\n",
       "      <td>AND</td>\n",
       "      <td>232</td>\n",
       "      <td>AND</td>\n",
       "      <td>20070004</td>\n",
       "      <td>...</td>\n",
       "      <td>NaN</td>\n",
       "      <td>NaN</td>\n",
       "      <td>NaN</td>\n",
       "      <td>NaN</td>\n",
       "      <td>NaN</td>\n",
       "      <td>NaN</td>\n",
       "      <td>NaN</td>\n",
       "      <td>NaN</td>\n",
       "      <td>NaN</td>\n",
       "      <td>NaN</td>\n",
       "    </tr>\n",
       "    <tr>\n",
       "      <th>4</th>\n",
       "      <td>5-0-0 (2022-12-23)</td>\n",
       "      <td>doi.org/10.14281/18241.20</td>\n",
       "      <td>7</td>\n",
       "      <td>2018</td>\n",
       "      <td>2</td>\n",
       "      <td>20</td>\n",
       "      <td>AND</td>\n",
       "      <td>232</td>\n",
       "      <td>AND</td>\n",
       "      <td>20070005</td>\n",
       "      <td>...</td>\n",
       "      <td>66.964286</td>\n",
       "      <td>-999.0</td>\n",
       "      <td>-999.0</td>\n",
       "      <td>-999.0</td>\n",
       "      <td>-999.0</td>\n",
       "      <td>-999.0</td>\n",
       "      <td>-999.0</td>\n",
       "      <td>-999.0</td>\n",
       "      <td>-999.0</td>\n",
       "      <td>-999.0</td>\n",
       "    </tr>\n",
       "    <tr>\n",
       "      <th>5</th>\n",
       "      <td>5-0-0 (2022-12-23)</td>\n",
       "      <td>doi.org/10.14281/18241.20</td>\n",
       "      <td>7</td>\n",
       "      <td>2018</td>\n",
       "      <td>2</td>\n",
       "      <td>20</td>\n",
       "      <td>AND</td>\n",
       "      <td>232</td>\n",
       "      <td>AND</td>\n",
       "      <td>20070006</td>\n",
       "      <td>...</td>\n",
       "      <td>NaN</td>\n",
       "      <td>NaN</td>\n",
       "      <td>NaN</td>\n",
       "      <td>NaN</td>\n",
       "      <td>NaN</td>\n",
       "      <td>NaN</td>\n",
       "      <td>NaN</td>\n",
       "      <td>NaN</td>\n",
       "      <td>NaN</td>\n",
       "      <td>NaN</td>\n",
       "    </tr>\n",
       "    <tr>\n",
       "      <th>6</th>\n",
       "      <td>5-0-0 (2022-12-23)</td>\n",
       "      <td>doi.org/10.14281/18241.20</td>\n",
       "      <td>7</td>\n",
       "      <td>2018</td>\n",
       "      <td>2</td>\n",
       "      <td>20</td>\n",
       "      <td>AND</td>\n",
       "      <td>232</td>\n",
       "      <td>AND</td>\n",
       "      <td>20070007</td>\n",
       "      <td>...</td>\n",
       "      <td>NaN</td>\n",
       "      <td>NaN</td>\n",
       "      <td>NaN</td>\n",
       "      <td>NaN</td>\n",
       "      <td>NaN</td>\n",
       "      <td>NaN</td>\n",
       "      <td>NaN</td>\n",
       "      <td>NaN</td>\n",
       "      <td>NaN</td>\n",
       "      <td>NaN</td>\n",
       "    </tr>\n",
       "    <tr>\n",
       "      <th>7</th>\n",
       "      <td>5-0-0 (2022-12-23)</td>\n",
       "      <td>doi.org/10.14281/18241.20</td>\n",
       "      <td>7</td>\n",
       "      <td>2018</td>\n",
       "      <td>2</td>\n",
       "      <td>20</td>\n",
       "      <td>AND</td>\n",
       "      <td>232</td>\n",
       "      <td>AND</td>\n",
       "      <td>20070008</td>\n",
       "      <td>...</td>\n",
       "      <td>NaN</td>\n",
       "      <td>NaN</td>\n",
       "      <td>NaN</td>\n",
       "      <td>NaN</td>\n",
       "      <td>NaN</td>\n",
       "      <td>NaN</td>\n",
       "      <td>NaN</td>\n",
       "      <td>NaN</td>\n",
       "      <td>NaN</td>\n",
       "      <td>NaN</td>\n",
       "    </tr>\n",
       "    <tr>\n",
       "      <th>8</th>\n",
       "      <td>5-0-0 (2022-12-23)</td>\n",
       "      <td>doi.org/10.14281/18241.20</td>\n",
       "      <td>7</td>\n",
       "      <td>2018</td>\n",
       "      <td>2</td>\n",
       "      <td>20</td>\n",
       "      <td>AND</td>\n",
       "      <td>232</td>\n",
       "      <td>AND</td>\n",
       "      <td>20070009</td>\n",
       "      <td>...</td>\n",
       "      <td>66.964286</td>\n",
       "      <td>-999.0</td>\n",
       "      <td>-999.0</td>\n",
       "      <td>-999.0</td>\n",
       "      <td>-999.0</td>\n",
       "      <td>-999.0</td>\n",
       "      <td>-999.0</td>\n",
       "      <td>-999.0</td>\n",
       "      <td>-999.0</td>\n",
       "      <td>-999.0</td>\n",
       "    </tr>\n",
       "    <tr>\n",
       "      <th>9</th>\n",
       "      <td>5-0-0 (2022-12-23)</td>\n",
       "      <td>doi.org/10.14281/18241.20</td>\n",
       "      <td>7</td>\n",
       "      <td>2018</td>\n",
       "      <td>2</td>\n",
       "      <td>20</td>\n",
       "      <td>AND</td>\n",
       "      <td>232</td>\n",
       "      <td>AND</td>\n",
       "      <td>20070010</td>\n",
       "      <td>...</td>\n",
       "      <td>NaN</td>\n",
       "      <td>NaN</td>\n",
       "      <td>NaN</td>\n",
       "      <td>NaN</td>\n",
       "      <td>NaN</td>\n",
       "      <td>NaN</td>\n",
       "      <td>NaN</td>\n",
       "      <td>NaN</td>\n",
       "      <td>NaN</td>\n",
       "      <td>NaN</td>\n",
       "    </tr>\n",
       "  </tbody>\n",
       "</table>\n",
       "<p>10 rows × 606 columns</p>\n",
       "</div>"
      ],
      "text/plain": [
       "              version                        doi  A_WAVE  A_YEAR  A_STUDY  \\\n",
       "0  5-0-0 (2022-12-23)  doi.org/10.14281/18241.20       7    2018        2   \n",
       "1  5-0-0 (2022-12-23)  doi.org/10.14281/18241.20       7    2018        2   \n",
       "2  5-0-0 (2022-12-23)  doi.org/10.14281/18241.20       7    2018        2   \n",
       "3  5-0-0 (2022-12-23)  doi.org/10.14281/18241.20       7    2018        2   \n",
       "4  5-0-0 (2022-12-23)  doi.org/10.14281/18241.20       7    2018        2   \n",
       "5  5-0-0 (2022-12-23)  doi.org/10.14281/18241.20       7    2018        2   \n",
       "6  5-0-0 (2022-12-23)  doi.org/10.14281/18241.20       7    2018        2   \n",
       "7  5-0-0 (2022-12-23)  doi.org/10.14281/18241.20       7    2018        2   \n",
       "8  5-0-0 (2022-12-23)  doi.org/10.14281/18241.20       7    2018        2   \n",
       "9  5-0-0 (2022-12-23)  doi.org/10.14281/18241.20       7    2018        2   \n",
       "\n",
       "   B_COUNTRY B_COUNTRY_ALPHA  C_COW_NUM C_COW_ALPHA  D_INTERVIEW  ...  \\\n",
       "0         20             AND        232         AND     20070001  ...   \n",
       "1         20             AND        232         AND     20070002  ...   \n",
       "2         20             AND        232         AND     20070003  ...   \n",
       "3         20             AND        232         AND     20070004  ...   \n",
       "4         20             AND        232         AND     20070005  ...   \n",
       "5         20             AND        232         AND     20070006  ...   \n",
       "6         20             AND        232         AND     20070007  ...   \n",
       "7         20             AND        232         AND     20070008  ...   \n",
       "8         20             AND        232         AND     20070009  ...   \n",
       "9         20             AND        232         AND     20070010  ...   \n",
       "\n",
       "   WVS_Polmistrust_PartyVoter  WVS_LR_MedianVoter  WVS_LibCon_MedianVoter  \\\n",
       "0                   62.434211              -999.0                  -999.0   \n",
       "1                   62.434211              -999.0                  -999.0   \n",
       "2                   62.434211              -999.0                  -999.0   \n",
       "3                         NaN                 NaN                     NaN   \n",
       "4                   66.964286              -999.0                  -999.0   \n",
       "5                         NaN                 NaN                     NaN   \n",
       "6                         NaN                 NaN                     NaN   \n",
       "7                         NaN                 NaN                     NaN   \n",
       "8                   66.964286              -999.0                  -999.0   \n",
       "9                         NaN                 NaN                     NaN   \n",
       "\n",
       "   v2psbars  v2psorgs  v2psprbrch  v2psprlnks  v2psplats  v2xnp_client  \\\n",
       "0    -999.0    -999.0      -999.0      -999.0     -999.0        -999.0   \n",
       "1    -999.0    -999.0      -999.0      -999.0     -999.0        -999.0   \n",
       "2    -999.0    -999.0      -999.0      -999.0     -999.0        -999.0   \n",
       "3       NaN       NaN         NaN         NaN        NaN           NaN   \n",
       "4    -999.0    -999.0      -999.0      -999.0     -999.0        -999.0   \n",
       "5       NaN       NaN         NaN         NaN        NaN           NaN   \n",
       "6       NaN       NaN         NaN         NaN        NaN           NaN   \n",
       "7       NaN       NaN         NaN         NaN        NaN           NaN   \n",
       "8    -999.0    -999.0      -999.0      -999.0     -999.0        -999.0   \n",
       "9       NaN       NaN         NaN         NaN        NaN           NaN   \n",
       "\n",
       "   v2xps_party  \n",
       "0       -999.0  \n",
       "1       -999.0  \n",
       "2       -999.0  \n",
       "3          NaN  \n",
       "4       -999.0  \n",
       "5          NaN  \n",
       "6          NaN  \n",
       "7          NaN  \n",
       "8       -999.0  \n",
       "9          NaN  \n",
       "\n",
       "[10 rows x 606 columns]"
      ]
     },
     "execution_count": 7,
     "metadata": {},
     "output_type": "execute_result"
    }
   ],
   "source": [
    "wvs7.head(10)"
   ]
  },
  {
   "cell_type": "markdown",
   "id": "6b2213ea",
   "metadata": {
    "tags": []
   },
   "source": [
    "### Pew Research Center (PWC)'s Global Attitudes Survey (GAS)"
   ]
  },
  {
   "cell_type": "markdown",
   "id": "004791fe-18d0-47b6-aae3-af0db667a38f",
   "metadata": {},
   "source": [
    "#### Loading each wave with at least 33 included countries"
   ]
  },
  {
   "cell_type": "code",
   "execution_count": 3,
   "id": "8297c4b8-049f-43ae-a98a-2a2cf5df154b",
   "metadata": {},
   "outputs": [],
   "source": [
    "summer_2002 = pd.read_spss('./pew_research_center/gap_summer_2002_44_countries/Pew GAP final 44 country dataset 1.1sav.sav') # summer_2002 #44 countries"
   ]
  },
  {
   "cell_type": "code",
   "execution_count": 122,
   "id": "8e43511e-44de-48da-a437-f7e8aebea4d0",
   "metadata": {},
   "outputs": [
    {
     "ename": "ReadstatError",
     "evalue": "Unable to convert string to the requested encoding (invalid byte sequence)",
     "output_type": "error",
     "traceback": [
      "\u001b[1;31m---------------------------------------------------------------------------\u001b[0m",
      "\u001b[1;31mReadstatError\u001b[0m                             Traceback (most recent call last)",
      "\u001b[1;32m~\\AppData\\Local\\Temp\\ipykernel_11092\\1994439572.py\u001b[0m in \u001b[0;36m<module>\u001b[1;34m\u001b[0m\n\u001b[1;32m----> 1\u001b[1;33m \u001b[0mspring_2007\u001b[0m \u001b[1;33m=\u001b[0m \u001b[0mpd\u001b[0m\u001b[1;33m.\u001b[0m\u001b[0mread_spss\u001b[0m\u001b[1;33m(\u001b[0m\u001b[1;34m'./data/pew_research_center/gap_spring_2007_47_countries/GAP_2007_Data.sav'\u001b[0m\u001b[1;33m)\u001b[0m \u001b[1;31m# spring_2007 #48 countries\u001b[0m\u001b[1;33m\u001b[0m\u001b[1;33m\u001b[0m\u001b[0m\n\u001b[0m",
      "\u001b[1;32m~\\anaconda3\\lib\\site-packages\\pandas\\io\\spss.py\u001b[0m in \u001b[0;36mread_spss\u001b[1;34m(path, usecols, convert_categoricals)\u001b[0m\n\u001b[0;32m     44\u001b[0m             \u001b[0musecols\u001b[0m \u001b[1;33m=\u001b[0m \u001b[0mlist\u001b[0m\u001b[1;33m(\u001b[0m\u001b[0musecols\u001b[0m\u001b[1;33m)\u001b[0m  \u001b[1;31m# pyreadstat requires a list\u001b[0m\u001b[1;33m\u001b[0m\u001b[1;33m\u001b[0m\u001b[0m\n\u001b[0;32m     45\u001b[0m \u001b[1;33m\u001b[0m\u001b[0m\n\u001b[1;32m---> 46\u001b[1;33m     df, _ = pyreadstat.read_sav(\n\u001b[0m\u001b[0;32m     47\u001b[0m         \u001b[0mstringify_path\u001b[0m\u001b[1;33m(\u001b[0m\u001b[0mpath\u001b[0m\u001b[1;33m)\u001b[0m\u001b[1;33m,\u001b[0m \u001b[0musecols\u001b[0m\u001b[1;33m=\u001b[0m\u001b[0musecols\u001b[0m\u001b[1;33m,\u001b[0m \u001b[0mapply_value_formats\u001b[0m\u001b[1;33m=\u001b[0m\u001b[0mconvert_categoricals\u001b[0m\u001b[1;33m\u001b[0m\u001b[1;33m\u001b[0m\u001b[0m\n\u001b[0;32m     48\u001b[0m     )\n",
      "\u001b[1;32mpyreadstat\\pyreadstat.pyx\u001b[0m in \u001b[0;36mpyreadstat.pyreadstat.read_sav\u001b[1;34m()\u001b[0m\n",
      "\u001b[1;32mpyreadstat\\_readstat_parser.pyx\u001b[0m in \u001b[0;36mpyreadstat._readstat_parser.run_conversion\u001b[1;34m()\u001b[0m\n",
      "\u001b[1;32mpyreadstat\\_readstat_parser.pyx\u001b[0m in \u001b[0;36mpyreadstat._readstat_parser.run_readstat_parser\u001b[1;34m()\u001b[0m\n",
      "\u001b[1;32mpyreadstat\\_readstat_parser.pyx\u001b[0m in \u001b[0;36mpyreadstat._readstat_parser.check_exit_status\u001b[1;34m()\u001b[0m\n",
      "\u001b[1;31mReadstatError\u001b[0m: Unable to convert string to the requested encoding (invalid byte sequence)"
     ]
    }
   ],
   "source": [
    "spring_2007 = pd.read_spss('./data/pew_research_center/gap_spring_2007_47_countries/GAP_2007_Data.sav') # spring_2007 #48 countries"
   ]
  },
  {
   "cell_type": "code",
   "execution_count": 8,
   "id": "845d2a07-8f51-4a5f-97ed-b6d9ffc6a685",
   "metadata": {},
   "outputs": [],
   "source": [
    "spring_2014 = pd.read_spss('./pew_research_center/gap_spring_2014_44_countries/Pew Research Global Attitudes Spring 2014 Dataset for Web.sav') # spring_2014 #44 countries"
   ]
  },
  {
   "cell_type": "code",
   "execution_count": 9,
   "id": "e7bf6cc7",
   "metadata": {},
   "outputs": [],
   "source": [
    "spring_2015 = pd.read_spss('./pew_research_center/gap_spring_2015_40_countries/Pew Research Global Attitudes Spring 2015 Dataset for Web FINAL.sav') #40 countries"
   ]
  },
  {
   "cell_type": "code",
   "execution_count": 10,
   "id": "2e70a719-91f1-4eea-81ec-32f8107e3a63",
   "metadata": {},
   "outputs": [],
   "source": [
    "spring_2017 = pd.read_spss('./pew_research_center/gap_spring_2017_38_countries/Pew Research Global Attitudes Spring 2017 Dataset WEB FINAL.sav') # spring_2017 #38 countries"
   ]
  },
  {
   "cell_type": "code",
   "execution_count": 2,
   "id": "e6cabcaa",
   "metadata": {},
   "outputs": [],
   "source": [
    "spring_2019 = pd.read_spss('./data/pew_research_center/gap_spring_2019_34_countries/Pew Research Center Global Attitudes Spring 2019 Dataset WEB.sav') #34 countries"
   ]
  },
  {
   "cell_type": "markdown",
   "id": "524588f3-b226-425d-a54a-21447c79737b",
   "metadata": {},
   "source": [
    "#### Checking each wave"
   ]
  },
  {
   "cell_type": "code",
   "execution_count": 124,
   "id": "80f79dc0-b287-448c-a3cb-d361283babf2",
   "metadata": {},
   "outputs": [
    {
     "ename": "NameError",
     "evalue": "name 'summer_2002' is not defined",
     "output_type": "error",
     "traceback": [
      "\u001b[1;31m---------------------------------------------------------------------------\u001b[0m",
      "\u001b[1;31mNameError\u001b[0m                                 Traceback (most recent call last)",
      "\u001b[1;32m~\\AppData\\Local\\Temp\\ipykernel_11092\\2452263758.py\u001b[0m in \u001b[0;36m<module>\u001b[1;34m\u001b[0m\n\u001b[1;32m----> 1\u001b[1;33m \u001b[0mprint\u001b[0m\u001b[1;33m(\u001b[0m\u001b[0mtype\u001b[0m\u001b[1;33m(\u001b[0m\u001b[0msummer_2002\u001b[0m\u001b[1;33m)\u001b[0m\u001b[1;33m)\u001b[0m\u001b[1;33m\u001b[0m\u001b[1;33m\u001b[0m\u001b[0m\n\u001b[0m\u001b[0;32m      2\u001b[0m \u001b[0mprint\u001b[0m\u001b[1;33m(\u001b[0m\u001b[0mtype\u001b[0m\u001b[1;33m(\u001b[0m\u001b[0mspring_2014\u001b[0m\u001b[1;33m)\u001b[0m\u001b[1;33m)\u001b[0m\u001b[1;33m\u001b[0m\u001b[1;33m\u001b[0m\u001b[0m\n\u001b[0;32m      3\u001b[0m \u001b[0mprint\u001b[0m\u001b[1;33m(\u001b[0m\u001b[0mtype\u001b[0m\u001b[1;33m(\u001b[0m\u001b[0mspring_2015\u001b[0m\u001b[1;33m)\u001b[0m\u001b[1;33m)\u001b[0m\u001b[1;33m\u001b[0m\u001b[1;33m\u001b[0m\u001b[0m\n\u001b[0;32m      4\u001b[0m \u001b[0mprint\u001b[0m\u001b[1;33m(\u001b[0m\u001b[0mtype\u001b[0m\u001b[1;33m(\u001b[0m\u001b[0mspring_2017\u001b[0m\u001b[1;33m)\u001b[0m\u001b[1;33m)\u001b[0m\u001b[1;33m\u001b[0m\u001b[1;33m\u001b[0m\u001b[0m\n\u001b[0;32m      5\u001b[0m \u001b[0mprint\u001b[0m\u001b[1;33m(\u001b[0m\u001b[0mtype\u001b[0m\u001b[1;33m(\u001b[0m\u001b[0mspring_2019\u001b[0m\u001b[1;33m)\u001b[0m\u001b[1;33m)\u001b[0m\u001b[1;33m\u001b[0m\u001b[1;33m\u001b[0m\u001b[0m\n",
      "\u001b[1;31mNameError\u001b[0m: name 'summer_2002' is not defined"
     ]
    }
   ],
   "source": [
    "print(type(summer_2002))\n",
    "print(type(spring_2014))\n",
    "print(type(spring_2015))\n",
    "print(type(spring_2017))"
   ]
  },
  {
   "cell_type": "code",
   "execution_count": 3,
   "id": "f4aa3846",
   "metadata": {},
   "outputs": [
    {
     "name": "stdout",
     "output_type": "stream",
     "text": [
      "<class 'pandas.core.frame.DataFrame'>\n"
     ]
    }
   ],
   "source": [
    "print(type(spring_2019))"
   ]
  },
  {
   "cell_type": "code",
   "execution_count": 14,
   "id": "9335a7a3-a1f4-4f54-98ff-40f1bf17b838",
   "metadata": {},
   "outputs": [
    {
     "name": "stdout",
     "output_type": "stream",
     "text": [
      "(38263, 399)\n",
      "(48643, 1112)\n",
      "(45435, 896)\n",
      "(41953, 875)\n",
      "(38426, 607)\n"
     ]
    }
   ],
   "source": [
    "print(summer_2002.shape)\n",
    "print(spring_2014.shape)\n",
    "print(spring_2015.shape)\n",
    "print(spring_2017.shape)"
   ]
  },
  {
   "cell_type": "code",
   "execution_count": 4,
   "id": "d5891d0e",
   "metadata": {},
   "outputs": [
    {
     "name": "stdout",
     "output_type": "stream",
     "text": [
      "(38426, 607)\n"
     ]
    }
   ],
   "source": [
    "print(spring_2019.shape)"
   ]
  },
  {
   "cell_type": "code",
   "execution_count": 15,
   "id": "babd99b7-d540-4d83-925e-087fddadc199",
   "metadata": {},
   "outputs": [
    {
     "name": "stdout",
     "output_type": "stream",
     "text": [
      "     country  psraid  quest_id                       q1     q2     q3  \\\n",
      "0  Argentina     1.0       1.0   A particularly bad day   Four  Eight   \n",
      "1  Argentina     2.0       2.0  A particularly good day  Three    Six   \n",
      "2  Argentina     3.0       3.0  A particularly good day   Nine  Seven   \n",
      "3  Argentina     4.0       4.0  A particularly good day  Eight  Eight   \n",
      "4  Argentina     5.0       5.0            A typical day   Four  Seven   \n",
      "\n",
      "                         q4                                q5.1rec  \\\n",
      "0                     Eight                       Social relations   \n",
      "1                     Three                                  Crime   \n",
      "2  Don't know (DO NOT READ)  Economic problems, financial problems   \n",
      "3  Don't know (DO NOT READ)  Economic problems, financial problems   \n",
      "4  Don't know (DO NOT READ)                                 Health   \n",
      "\n",
      "                                 q5.2rec                   q5.3rec  ...  \\\n",
      "0                                 Health                       NaN  ...   \n",
      "1  Economic problems, financial problems  Problems with government  ...   \n",
      "2                                    NaN                       NaN  ...   \n",
      "3                                  Crime                       NaN  ...   \n",
      "4                                   Work                       NaN  ...   \n",
      "\n",
      "  q98ken q98kor q98mex q98nig q98tan         region  regionwt  \\\n",
      "0    NaN    NaN    NaN    NaN    NaN  Latin America  0.894119   \n",
      "1    NaN    NaN    NaN    NaN    NaN  Latin America  0.894119   \n",
      "2    NaN    NaN    NaN    NaN    NaN  Latin America  0.894119   \n",
      "3    NaN    NaN    NaN    NaN    NaN  Latin America  0.894119   \n",
      "4    NaN    NaN    NaN    NaN    NaN  Latin America  0.894119   \n",
      "\n",
      "            subreg subregwt           weight  \n",
      "0  NOT CATEGORIZED      1.0  Age 18-19 or NA  \n",
      "1  NOT CATEGORIZED      1.0  Age 18-19 or NA  \n",
      "2  NOT CATEGORIZED      1.0  Age 18-19 or NA  \n",
      "3  NOT CATEGORIZED      1.0  Age 18-19 or NA  \n",
      "4  NOT CATEGORIZED      1.0  Age 18-19 or NA  \n",
      "\n",
      "[5 rows x 399 columns]\n",
      "     PSRAID COUNTRY             Q1  Q2A  Q2B  Q3A  Q3B  Q4A  Q4B  Q4C  ...  \\\n",
      "0  100000.0   Spain  A typical day  NaN  0.0  NaN  NaN  NaN  NaN  NaN  ...   \n",
      "1  100001.0   Spain  A typical day  NaN  0.0  NaN  NaN  NaN  NaN  NaN  ...   \n",
      "2  100002.0   Spain  A typical day  NaN  0.0  NaN  NaN  NaN  NaN  NaN  ...   \n",
      "3  100003.0   Spain  A typical day  NaN  0.0  NaN  NaN  NaN  NaN  NaN  ...   \n",
      "4  100004.0   Spain  A typical day  NaN  0.0  NaN  NaN  NaN  NaN  NaN  ...   \n",
      "\n",
      "  STRATUM_VIE   PHONETYPE USR HPHONEUSE RACETHN2  LL  CP    weight      PSU  \\\n",
      "0         NaN    landline           NaN      NaN NaN NaN  1.006412  35001.0   \n",
      "1         NaN  cell phone           NaN      NaN NaN NaN  1.027599  35001.0   \n",
      "2         NaN    landline           NaN      NaN NaN NaN  0.757891  35001.0   \n",
      "3         NaN    landline           NaN      NaN NaN NaN  0.797066  35001.0   \n",
      "4         NaN    landline           NaN      NaN NaN NaN  0.813745  35001.0   \n",
      "\n",
      "   stratum  \n",
      "0  35004.0  \n",
      "1  35055.0  \n",
      "2  35004.0  \n",
      "3  35104.0  \n",
      "4  35004.0  \n",
      "\n",
      "[5 rows x 1112 columns]\n",
      "     PSRAID   COUNTRY                       Q1   Q2             Q3  \\\n",
      "0  100000.0  Ethiopia  A particularly good day  NaN  Somewhat good   \n",
      "1  100001.0  Ethiopia            A typical day  NaN  Somewhat good   \n",
      "2  100002.0  Ethiopia  A particularly good day  NaN  Somewhat good   \n",
      "3  100003.0  Ethiopia  A particularly good day  NaN  Somewhat good   \n",
      "4  100004.0  Ethiopia  A particularly good day  NaN  Somewhat good   \n",
      "\n",
      "                 Q4   Q5          Q6   Q7   Q8  ... DENSITY RACECMB RACETHN  \\\n",
      "0  Improve a little  NaN  Better off  NaN  NaN  ...     NaN     NaN     NaN   \n",
      "1   Worsen a little  NaN  Better off  NaN  NaN  ...     NaN     NaN     NaN   \n",
      "2     Improve a lot  NaN  Better off  NaN  NaN  ...     NaN     NaN     NaN   \n",
      "3   Remain the same  NaN   Worse off  NaN  NaN  ...     NaN     NaN     NaN   \n",
      "4   Worsen a little  NaN   Worse off  NaN  NaN  ...     NaN     NaN     NaN   \n",
      "\n",
      "  IPHONEUSE HPHONEUSE RACETHN2 PHONETYPE    WEIGHT     PSU stratum  \n",
      "0       NaN       NaN      NaN       NaN  0.687311  8012.0  8005.0  \n",
      "1       NaN       NaN      NaN       NaN  0.885817  8012.0  8005.0  \n",
      "2       NaN       NaN      NaN       NaN  0.957723  8012.0  8005.0  \n",
      "3       NaN       NaN      NaN       NaN  0.885817  8012.0  8005.0  \n",
      "4       NaN       NaN      NaN       NaN  1.185636  8012.0  8005.0  \n",
      "\n",
      "[5 rows x 896 columns]\n",
      "    ID        survey        Country qsplit                 desc_day  \\\n",
      "0  1.0  Spring, 2017  United States    NaN  A particularly good day   \n",
      "1  2.0  Spring, 2017  United States    NaN            A typical day   \n",
      "2  3.0  Spring, 2017  United States    NaN            A typical day   \n",
      "3  4.0  Spring, 2017  United States    NaN            A typical day   \n",
      "4  5.0  Spring, 2017  United States    NaN            A typical day   \n",
      "\n",
      "  country_satis nostalgia50 trust_gov       econ_sit improve_econ  ...  \\\n",
      "0           NaN       Worse     A lot  Somewhat good          NaN  ...   \n",
      "1           NaN      Better  Somewhat      Very good          NaN  ...   \n",
      "2           NaN      Better  Somewhat  Somewhat good          NaN  ...   \n",
      "3           NaN       Worse  Somewhat   Somewhat bad          NaN  ...   \n",
      "4           NaN      Better     A lot  Somewhat good          NaN  ...   \n",
      "\n",
      "  STRATUM_SPA STRATUM_SWE STRATUM_TAN STRATUM_TUN STRATUM_TUR STRATUM_BRI  \\\n",
      "0         NaN         NaN         NaN         NaN         NaN         NaN   \n",
      "1         NaN         NaN         NaN         NaN         NaN         NaN   \n",
      "2         NaN         NaN         NaN         NaN         NaN         NaN   \n",
      "3         NaN         NaN         NaN         NaN         NaN         NaN   \n",
      "4         NaN         NaN         NaN         NaN         NaN         NaN   \n",
      "\n",
      "  STRATUM_US STRATUM_VEN STRATUM_VIE    weight  \n",
      "0    51051.0         NaN         NaN  1.273254  \n",
      "1    51059.0         NaN         NaN  0.515682  \n",
      "2    29047.0         NaN         NaN  0.326488  \n",
      "3    29187.0         NaN         NaN  0.955893  \n",
      "4    22059.0         NaN         NaN  1.122629  \n",
      "\n",
      "[5 rows x 875 columns]\n",
      "          ID        survey    country    weight LADDER_NOW COUNTRY_SATIS  \\\n",
      "0  2273149.0  Spring, 2019  Argentina  2.637501             Dissatisfied   \n",
      "1  2273190.0  Spring, 2019  Argentina  0.762568                Satisfied   \n",
      "2  2273199.0  Spring, 2019  Argentina  0.475403             Dissatisfied   \n",
      "3  2273204.0  Spring, 2019  Argentina  1.016212             Dissatisfied   \n",
      "4  2273218.0  Spring, 2019  Argentina  0.592054             Dissatisfied   \n",
      "\n",
      "       ECON_SIT CHILDREN_BETTEROFF2   SATISFIED_DEMOCRACY RELIGION20YR  ...  \\\n",
      "0      Very bad  Same (DO NOT READ)  Not at all satisfied          NaN  ...   \n",
      "1     Very good          Better off    Somewhat satisfied          NaN  ...   \n",
      "2      Very bad          Better off    Somewhat satisfied          NaN  ...   \n",
      "3      Very bad           Worse off     Not too satisfied          NaN  ...   \n",
      "4  Somewhat bad          Better off    Somewhat satisfied          NaN  ...   \n",
      "\n",
      "  STRATUM_TUR PSU_TUR QS5TUR STRATUM_UKR PSU_UKR QS5UKR REGION_UK2 cregion_us  \\\n",
      "0         NaN     NaN    NaN         NaN     NaN    NaN        NaN        NaN   \n",
      "1         NaN     NaN    NaN         NaN     NaN    NaN        NaN        NaN   \n",
      "2         NaN     NaN    NaN         NaN     NaN    NaN        NaN        NaN   \n",
      "3         NaN     NaN    NaN         NaN     NaN    NaN        NaN        NaN   \n",
      "4         NaN     NaN    NaN         NaN     NaN    NaN        NaN        NaN   \n",
      "\n",
      "  state_us density_us  \n",
      "0      NaN        NaN  \n",
      "1      NaN        NaN  \n",
      "2      NaN        NaN  \n",
      "3      NaN        NaN  \n",
      "4      NaN        NaN  \n",
      "\n",
      "[5 rows x 607 columns]\n"
     ]
    }
   ],
   "source": [
    "print(summer_2002.head(5))\n",
    "print(spring_2014.head(5))\n",
    "print(spring_2015.head(5))\n",
    "print(spring_2017.head(5))"
   ]
  },
  {
   "cell_type": "code",
   "execution_count": 5,
   "id": "b2b88ed0",
   "metadata": {},
   "outputs": [
    {
     "name": "stdout",
     "output_type": "stream",
     "text": [
      "ID\n",
      "survey\n",
      "country\n",
      "weight\n",
      "LADDER_NOW\n",
      "COUNTRY_SATIS\n",
      "ECON_SIT\n",
      "CHILDREN_BETTEROFF2\n",
      "SATISFIED_DEMOCRACY\n",
      "RELIGION20YR\n",
      "RELIGION20YR_FU\n",
      "FAV_US\n",
      "FAV_CHINA\n",
      "FAV_RUSSIA\n",
      "FAV_EU\n",
      "FAV_UN\n",
      "FAV_GERMANY\n",
      "FAV_NATO\n",
      "PARTYFAV_ARGENTINA_CAMBIEMOS\n",
      "PARTYFAV_ARGENTINA_KIRCHNERISMO\n",
      "PARTYFAV_ARGENTINA_PERONISMO\n",
      "PARTYFAV_AUSTRALIA_LABOUR\n",
      "PARTYFAV_AUSTRALIA_LIBERAL\n",
      "PARTYFAV_AUSTRALIA_GREENS\n",
      "PARTYFAV_AUSTRALIA_ONENATION\n",
      "PARTYFAV_BRAZIL_PMDB\n",
      "PARTYFAV_BRAZIL_PSDB\n",
      "PARTYFAV_BRAZIL_PP\n",
      "PARTYFAV_BRAZIL_PT\n",
      "PARTYFAV_BULGARIA_GERB\n",
      "PARTYFAV_BULGARIA_BSP\n",
      "PARTYFAV_BULGARIA_DPS\n",
      "PARTYFAV_CANADA_LIB\n",
      "PARTYFAV_CANADA_CONS\n",
      "PARTYFAV_CANADA_NDP\n",
      "PARTYFAV_CZECH_ANO\n",
      "PARTYFAV_CZECH_ODS\n",
      "PARTYFAV_CZECH_PIRATI\n",
      "PARTYFAV_CZECH_SPD\n",
      "PARTYFAV_FRANCE_LESREPUBLICAINS\n",
      "PARTYFAV_FRANCE_SOCIALISTPARTY\n",
      "PARTYFAV_FRANCE_FRONTNATIONAL\n",
      "PARTYFAV_FRANCE_ENMARCHE\n",
      "PARTYFAV_FRANCE_INSOUMISE\n",
      "PARTYFAV_GERMANY_CDU\n",
      "PARTYFAV_GERMANY_SPD\n",
      "PARTYFAV_GERMANY_AFD\n",
      "PARTYFAV_GERMANY_DIELINKE\n",
      "PARTYFAV_GERMANY_GREENS\n",
      "PARTYFAV_GREECE_SYRIZA\n",
      "PARTYFAV_GREECE_NEWDEMOCRACY\n",
      "PARTYFAV_GREECE_DEMCOAL\n",
      "PARTYFAV_GREECE_GOLDEND\n",
      "PARTYFAV_HUNGARY_FIDESZ\n",
      "PARTYFAV_HUNGARY_MSZP\n",
      "PARTYFAV_HUNGARY_JOBBIK\n",
      "PARTYFAV_INDIA_BJP\n",
      "PARTYFAV_INDIA_INC\n",
      "PARTYFAV_INDONESIA_PDIP\n",
      "PARTYFAV_INDONESIA_GERINDRA\n",
      "PARTYFAV_INDONESIA_GOLKAR\n",
      "PARTYFAV_INDONESIA_DEMOKRAT\n",
      "PARTYFAV_INDONESIA_PKB\n",
      "PARTYFAV_ISRAEL_LIKUD\n",
      "PARTYFAV_ISRAEL_BLUEWHITE\n",
      "PARTYFAV_ISRAEL_HADASHT\n",
      "PARTYFAV_ISRAEL_LABOR\n",
      "PARTYFAV_ITALY_FORZA\n",
      "PARTYFAV_ITALY_DEMPARTY\n",
      "PARTYFAV_ITALY_5STAR\n",
      "PARTYFAV_ITALY_LEGANORD\n",
      "PARTYFAV_JAPAN_LDP\n",
      "PARTYFAV_JAPAN_DP\n",
      "PARTYFAV_JAPAN_CDP\n",
      "PARTYFAV_JAPAN_HOPE\n",
      "PARTYFAV_JAPAN_KOMEITO\n",
      "PARTYFAV_KENYA_JUBILEE\n",
      "PARTYFAV_KENYA_NASA\n",
      "PARTYFAV_KENYA_KANU\n",
      "PARTYFAV_KENYA_NARC\n",
      "PARTYFAV_LEBANON_FPM\n",
      "PARTYFAV_LEBANON_FUTURE\n",
      "PARTYFAV_LEBANON_AMAL\n",
      "FAV_HEZBOLLAH\n",
      "PARTYFAV_LITHUANIA_LVZS\n",
      "PARTYFAV_LITHUANIA_TS\n",
      "PARTYFAV_LITHUANIA_LSDP\n",
      "PARTYFAV_LITHUANIA_LRLS\n",
      "PARTYFAV_MEXICO_PAN\n",
      "PARTYFAV_MEXICO_PRI\n",
      "PARTYFAV_MEXICO_MORENA\n",
      "PARTYFAV_MEXICO_PRD\n",
      "PARTYFAV_NETHERLANDS_VVD\n",
      "Partyfav_netherlands_labour\n",
      "PARTYFAV_NETHERLANDS_PVV\n",
      "Partyfav_netherlands_socialist\n",
      "PARTYFAV_NETHERLANDS_FVD\n",
      "Partyfav_netherlands_dem66\n",
      "PARTYFAV_NIGERIA_APC\n",
      "PARTYFAV_NIGERIA_PDP\n",
      "PARTYFAV_NIGERIA_APGA\n",
      "PARTYFAV_NIGERIA_LP\n",
      "PARTYFAV_PHILIPPINES_LIBERAL\n",
      "PARTYFAV_PHILIPPINES_UNA\n",
      "PARTYFAV_PHILIPPINES_PDPLABAN\n",
      "partyfav_philippines_Nacionalista\n",
      "PARTYFAV_PHILIPPINES_LAKAS\n",
      "PARTYFAV_POLAND_PIS\n",
      "PARTYFAV_POLAND_PO\n",
      "PARTYFAV_POLAND_KUKIZ\n",
      "PARTYFAV_POLAND_NOWOCZESNA\n",
      "PARTYFAV_POLAND_PSL\n",
      "PARTYFAV_RUSSIA_EDINAYA\n",
      "PARTYFAV_RUSSIA_KPRF\n",
      "PARTYFAV_RUSSIA_LDPR\n",
      "PARTYFAV_RUSSIA_SPRAVED\n",
      "PARTYFAV_RUSSIA_YABLOKO\n",
      "PARTYFAV_SLOVAKIA_SMER\n",
      "PARTYFAV_SLOVAKIA_SAS\n",
      "PARTYFAV_SLOVAKIA_OLANO\n",
      "PARTYFAV_SLOVAKIA_SNS\n",
      "PARTYFAV_SAFRICA_ANC\n",
      "PARTYFAV_SAFRICA_DA\n",
      "PARTYFAV_SAFRICA_EFF\n",
      "PARTYFAV_SAFRICA_IFP\n",
      "PARTYFAV_SPAIN_PP\n",
      "PARTYFAV_SPAIN_PSOE\n",
      "PARTYFAV_SPAIN_PODEMOS\n",
      "PARTYFAV_SPAIN_CITIZENS\n",
      "PARTYFAV_SPAIN_VOX\n",
      "PARTYFAV_SWEDEN_SAP\n",
      "PARTYFAV_SWEDEN_MODERATEPARTY\n",
      "PARTYFAV_SWEDEN_SWEDENDEMS\n",
      "PARTYFAV_TUNISIA_ENNAHDHA\n",
      "PARTYFAV_TUNISIA_NIDAA\n",
      "PARTYFAV_TUNISIA_POPFRONT\n",
      "PARTYFAV_TURKEY_AKP\n",
      "PARTYFAV_TURKEY_CHP\n",
      "PARTYFAV_TURKEY_MHP\n",
      "PARTYFAV_TURKEY_IYI\n",
      "PARTYFAV_TURKEY_HDP\n",
      "PARTYFAV_UKRAINE_SOLIDARITY\n",
      "PARTYFAV_UKRAINE_PF\n",
      "PARTYFAV_UKRAINE_OB\n",
      "PARTYFAV_UKRAINE_SR\n",
      "PARTYFAV_UK_CONSERVATIVE\n",
      "PARTYFAV_UK_LABOUR\n",
      "PARTYFAV_UK_UKIP\n",
      "PARTYFAV_UK_LIBDEMS\n",
      "FUTURE_CULTURE\n",
      "FUTURE_GAP\n",
      "FUTURE_JOBS\n",
      "FUTURE_EDUCATION\n",
      "FUTURE_POLSYS\n",
      "FUTURE_USREL\n",
      "FUTURE_EURREL\n",
      "MEMBER_EU\n",
      "ECON_INTEGRATION\n",
      "MULTIPARTYFSU\n",
      "MULTIPARTY\n",
      "MULTIPARTY_EG\n",
      "CHANGE_ECONFSU\n",
      "CHANGE_ECON\n",
      "CHANGE_ECONEG\n",
      "ECON_COMMUNISM\n",
      "GERMAN_UNIFICATION\n",
      "GERMANY_STANDARD\n",
      "BENEFIT_ORDINARY\n",
      "BENEFIT_BUSINESS\n",
      "BENEFIT_POLITICIANS\n",
      "LAW_ORDER_INFLU\n",
      "FAMILY_VALUES_INFLU\n",
      "SPIRITUAL_VALUES_INFLU\n",
      "STANDARD_LIVING_INFLU\n",
      "PRIDE_INFLU\n",
      "HEALTH_INFLU\n",
      "EDUCATION_INFLU\n",
      "ALLIES_NEW_1\n",
      "THREATS_NEW_1\n",
      "NATO_DEF\n",
      "US_DEF_MILFORCE\n",
      "FOREIGNCOM_BUY\n",
      "FOREIGNCOM_NEW\n",
      "CHINA_INVEST\n",
      "US_MIL_ASIA\n",
      "BELIEVE_GOD\n",
      "HOMOSEXUALITY\n",
      "GLOBAL_COMMUNITY\n",
      "ECON_POWER\n",
      "US_OR_CHINA\n",
      "CLOSE_RELATIONSHIP\n",
      "RELATIONS_US\n",
      "ECON_TIES_US\n",
      "ECON_TIES_CHINA\n",
      "CONFID_TRUMP\n",
      "CONFID_XI\n",
      "CONFID_PUTIN\n",
      "CONFID_MERKEL\n",
      "CONFID_MACRON\n",
      "CONFID_ABE\n",
      "CONFID_MODI\n",
      "CONFID_ORBAN\n",
      "CONFID_KIM\n",
      "CONFID_SALMAN\n",
      "POLICY_CLIMATE\n",
      "POLICY_THEWALL\n",
      "POLICY_NUCLEAR\n",
      "POLICY_IMMIG\n",
      "POLICY_TARIFF\n",
      "POLICY_NORTHKOREA\n",
      "POLICY_EMBASSY\n",
      "CHINA_ECON\n",
      "CHINA_MILITARY\n",
      "US_INFLU_ECON\n",
      "US_INFLU_ECON2\n",
      "CHINA_INFLU_ECON\n",
      "CHINA_INFLU_ECON2\n",
      "FAV_JEWS91\n",
      "FAV_ROMA\n",
      "FAV_MUSLIMS_COUNTRY\n",
      "fav_muslimbulg\n",
      "CHURCHES_POLITICAL\n",
      "CHURCH_POLITICAL\n",
      "CHURCH_ROLE\n",
      "MOST_ELECTED\n",
      "VOTING_SAY\n",
      "MARKET_ECON\n",
      "SUCCESS\n",
      "STATE_BENEFIT\n",
      "NEIGHBORING_COUNTRIES\n",
      "RESTRICT_ENTRY\n",
      "MILITARY_FORCE\n",
      "MISFORTUNE_USSR\n",
      "USE_INTERNET\n",
      "OWN_CELL_STANDALONE\n",
      "SMARTPHONE\n",
      "SOCIAL_NET\n",
      "RELIGIOUS_FREEDOM\n",
      "PRESS_FREEDOM\n",
      "GENDER_EQUALITY\n",
      "FREE_SPEECH\n",
      "FREE_ELECTIONS\n",
      "INTERNET_FREEDOM\n",
      "FREE_JUDICIAL\n",
      "FREE_HRO\n",
      "FREE_OPPO\n",
      "BETTER_GENDER\n",
      "SAME_RIGHTS\n",
      "KIND_OF_MARRIAGE\n",
      "WOMEN_JOB\n",
      "WOMEN_RIGHTS\n",
      "INFLUENCE_FINANCE\n",
      "INFLUENCE_RAISE\n",
      "INFLUENCE_RELIG\n",
      "EQUAL_LEADERS\n",
      "EQUAL_ED\n",
      "EQUAL_JOBS\n",
      "EQUAL_POL\n",
      "RELIG_PRAYER\n",
      "RELIG_GOD\n",
      "ID_RELIGION\n",
      "ID_OCCUPATION\n",
      "ID_NATIONALITY\n",
      "ID_RACE\n",
      "ID_POLPARTY\n",
      "MEX_LIVE_US\n",
      "MEX_WO_AUTH\n",
      "SEX\n",
      "AGE\n",
      "LANGUAGE_HOME_BULGARIA\n",
      "LANGUAGE_HOME_CZECH\n",
      "LANGUAGE_HOME_FRANCE\n",
      "LANGUAGE_HOME_GERMANY\n",
      "LANGUAGE_HOME_GREECE\n",
      "LANGUAGE_HOME_HUNGARY\n",
      "LANGUAGE_HOME_ITALY\n",
      "LANGUAGE_HOME_LITHUANIA\n",
      "LANGUAGE_HOME_NETHERLANDS\n",
      "LANGUAGE_HOME_POLAND\n",
      "LANGUAGE_HOME_RUSSIA\n",
      "LANGUAGE_HOME_SLOVAKIA\n",
      "LANGUAGE_HOME_SPAIN\n",
      "LANGUAGE_HOME_SWEDEN\n",
      "LANGUAGE_HOME_UK\n",
      "UKR_LANG1_1\n",
      "UKR_LANG1_2\n",
      "UKR_LANG2_1\n",
      "UKR_LANG2_2\n",
      "TRAVEL_US\n",
      "TRAVEL_ANOTHER\n",
      "FRIENDS_ABROAD_INTOUCH\n",
      "FRIENDS_US_INTOUCH\n",
      "RECEIVE_MONEY\n",
      "US_DEPORTED\n",
      "D_RELIG_ARGENTINA\n",
      "D_RELIG_AUSTRALIA\n",
      "D_RELIG_BRAZIL\n",
      "D_RELIG_BULGARIA\n",
      "D_RELIG_CANADA\n",
      "D_RELIG_CZECH\n",
      "D_RELIG_FRANCE\n",
      "D_RELIG_GERMANY\n",
      "D_RELIG_GREECE\n",
      "D_RELIG_HUNGARY\n",
      "D_RELIG_INDIA_A\n",
      "D_RELIG2_INDIA_A\n",
      "D_RELIG_INDONESIA\n",
      "D_RELIG_ISRAEL\n",
      "D_RELIG_ISRAEL_JEWISH\n",
      "D_RELIG_ISRAEL2\n",
      "D_RELIG_ITALY\n",
      "D_RELIG_JAPAN_A\n",
      "D_RELIGION2_JAPAN_A\n",
      "D_RELIG_KENYA\n",
      "D_RELIG_LEBANON\n",
      "D_RELIG_LITHUANIA\n",
      "D_RELIG_MEXICO\n",
      "D_RELIG_NETHERLANDS\n",
      "D_RELIG_NIGERIA\n",
      "D_RELIG_PHILIPPINES\n",
      "D_RELIG_POLAND\n",
      "D_RELIG_RUSSIA\n",
      "D_RELIG_SAFRICA\n",
      "D_RELIG_SKOREA_A\n",
      "D_RELIG_SLOVAKIA\n",
      "D_RELIG_SPAIN\n",
      "D_RELIG_SWEDEN\n",
      "D_RELIG_TUNISIA\n",
      "D_RELIG_TURKEY\n",
      "D_RELIG_UK\n",
      "D_RELIG_UKRAINE\n",
      "d_relig_us\n",
      "d_relig_us_christian\n",
      "d_relig_us2\n",
      "EVIL_SPIRITS\n",
      "RELBEHAVIOR_FOOD\n",
      "RELBEHAVIOR_ALTAR\n",
      "RELBEHAVIOR_MARKING\n",
      "RELBEHAVIOR_SYMBOLS\n",
      "SEXSELECT_ABORTION\n",
      "RELPARTICIPATE_SING\n",
      "RELPARTICIPATE_STORY\n",
      "RELPARTICIPATE_PRAYER\n",
      "MUSLIM_BRANCH\n",
      "MUSLIM_BRANCH_ALEVI\n",
      "PRAY_SEVERAL\n",
      "PRAY_SALAH\n",
      "RELIGION_IMPORT\n",
      "D_EDUC_ARGENTINA_2017\n",
      "D_EDUC_AUSTRALIA_2017\n",
      "D_EDUC_AUSTRALIA_2017A\n",
      "D_EDUC_AUSTRALIA_2017B\n",
      "D_EDUC_BRAZIL\n",
      "D_EDUC_BULGARIA\n",
      "D_EDUC_CANADA_2017\n",
      "D_EDUC_CZECH\n",
      "D_EDUC_FRANCE\n",
      "D_EDUC_GERMANY_2017\n",
      "D_EDUC_GERMANY_VOCATIONAL\n",
      "D_EDUC_GREECE\n",
      "D_EDUC_HUNGARY\n",
      "D_EDUC_INDIA\n",
      "D_EDUC_INDONESIA\n",
      "D_EDUC_ISRAEL\n",
      "D_EDUC_ISRAEL_VOCATIONAL\n",
      "D_EDUC_ISRAEL_YEARS\n",
      "D_EDUC_ITALY_2017\n",
      "D_EDUC_JAPAN\n",
      "D_EDUC_KENYA\n",
      "D_EDUC_LEBANON\n",
      "D_EDUC_LITHUANIA\n",
      "D_EDUC_MEXICO_2017\n",
      "D_EDUC_NETHERLANDS\n",
      "D_EDUC_NIGERIA\n",
      "D_EDUC_PHILIPPINES\n",
      "D_EDUC_POLAND_2017\n",
      "D_EDUC_RUSSIA_2018\n",
      "D_EDUC_SAFRICA_2017\n",
      "D_EDUC_SKOREA_2017\n",
      "D_EDUC_SLOVAKIA\n",
      "D_EDUC_SPAIN\n",
      "D_EDUC_SWEDEN\n",
      "D_EDUC_TUNISIA_2017\n",
      "D_EDUC_TURKEY\n",
      "D_EDUC_UK_2017\n",
      "D_EDUC_UKRAINE\n",
      "d_educ_us_2017\n",
      "D_INCOME_ARGENTINA\n",
      "D_INCOME_AUSTRALIA\n",
      "D_INCOME_BRAZIL\n",
      "D_INCOME_BULGARIA\n",
      "D_INCOME_CANADA\n",
      "D_INCOME_CZECH\n",
      "D_INCOME_FRANCE\n",
      "D_INCOME_GERMANY\n",
      "D_INCOME_GREECE\n",
      "D_INCOME_HUNGARY\n",
      "D_INCOME_INDIA\n",
      "D_INCOME_INDONESIA\n",
      "D_INCOME_ISRAEL\n",
      "D_INCOME_ITALY\n",
      "D_INCOME_JAPAN\n",
      "D_INCOME_KENYA\n",
      "D_INCOME_LEBANON\n",
      "D_INCOME_LITHUANIA\n",
      "D_INCOME_MEXICO\n",
      "D_INCOME_NETHERLANDS\n",
      "D_INCOME_NIGERIA\n",
      "D_INCOME_PHILIPPINES\n",
      "D_INCOME_POLAND\n",
      "D_INCOME_RUSSIA\n",
      "D_INCOME_SAFRICA\n",
      "D_INCOME_SKOREA\n",
      "D_INCOME_SLOVAKIA\n",
      "D_INCOME_SPAIN\n",
      "D_INCOME_SWEDEN\n",
      "D_INCOME_TUNISIA\n",
      "D_INCOME_TURKEY\n",
      "D_INCOME_UK_CAT\n",
      "D_INCOME_UK_MONTH\n",
      "D_INCOME_UK_WEEK\n",
      "D_INCOME_UK_YEAR\n",
      "D_INCOME_UKRAINE\n",
      "d_income_us\n",
      "D_INCOME2_ARGENTINA\n",
      "D_INCOME2_AUSTRALIA\n",
      "D_INCOME2_BRAZIL\n",
      "D_INCOME2_BULGARIA\n",
      "D_INCOME2_CANADA\n",
      "D_INCOME2_CZECH\n",
      "D_INCOME2_FRANCE\n",
      "D_INCOME2_GERMANY\n",
      "D_INCOME2_GREECE\n",
      "D_INCOME2_HUNGARY\n",
      "D_INCOME2_INDIA\n",
      "D_INCOME2_INDONESIA\n",
      "D_INCOME2_ISRAEL\n",
      "D_INCOME2_ITALY\n",
      "D_INCOME2_JAPAN\n",
      "D_INCOME2_KENYA\n",
      "D_INCOME2_LEBANON\n",
      "D_INCOME2_LITHUANIA\n",
      "D_INCOME2_MEXICO\n",
      "D_INCOME2_NETHERLANDS\n",
      "D_INCOME2_NIGERIA\n",
      "D_INCOME2_PHILIPPINES\n",
      "D_INCOME2_POLAND\n",
      "D_INCOME2_RUSSIA\n",
      "D_INCOME2_SAFRICA\n",
      "D_INCOME2_SKOREA\n",
      "D_INCOME2_SLOVAKIA\n",
      "D_INCOME2_SPAIN\n",
      "D_INCOME2_SWEDEN\n",
      "D_INCOME2_TUNISIA\n",
      "D_INCOME2_TURKEY\n",
      "D_INCOME2_UK\n",
      "D_INCOME2_UKRAINE\n",
      "d_income2_us\n",
      "D_ETHNICITY_BRAZIL\n",
      "D_ETHNICITY_INDONESIA\n",
      "D_ETHNICITY_ISRAEL\n",
      "D_ETHNICITY_KENYA\n",
      "D_ETHNICITY_NIGERIA\n",
      "D_ETHNICITY_PHILIPPINES\n",
      "D_ETHNICITY_SAFRICA\n",
      "COUNTRY_BORN\n",
      "COUNTRY_NATIONAL\n",
      "d_hisp_originus\n",
      "d_race_us_1\n",
      "d_race_us_2\n",
      "d_race_us_3\n",
      "d_race_us_4\n",
      "d_race_us_5\n",
      "d_race_us_6\n",
      "d_race_us_7\n",
      "d_born_us\n",
      "D_HHPEOPLE\n",
      "D_ADULT_US\n",
      "POLITICAL_SCALE2\n",
      "D_PTYID_PROXIMITY_ARGENTINA\n",
      "d_ptyid_proximity_australia\n",
      "D_PTYID_PROXIMITY_BRAZIL\n",
      "D_PTYID_PROXIMITY_BULGARIA\n",
      "D_PTYID_PROXIMITY_CANADA\n",
      "D_PTYID_PROXIMITY_CZECH\n",
      "D_PTYID_PROXIMITY_FRANCE\n",
      "D_PTYID_PROXIMITY_GERMANY\n",
      "D_PTYID_PROXIMITY_GREECE\n",
      "D_PTYID_PROXIMITY_HUNGARY\n",
      "D_PTYID_PROXIMITY_INDIA\n",
      "D_PTYID_PROXIMITY_INDONESIA\n",
      "D_PTYID_PROXIMITY_ISRAEL\n",
      "D_PTYID_PROXIMITY_ITALY\n",
      "D_PTYID_PROXIMITY_JAPAN\n",
      "D_PTYID_PROXIMITY_KENYA\n",
      "D_PTYID_PROXIMITY_LITHUANIA\n",
      "D_PTYID_PROXIMITY_MEXICO\n",
      "d_ptyid_proximity_netherlands\n",
      "D_PTYID_PROXIMITY_NIGERIA\n",
      "D_PTYID_PROXIMITY_PHILIPPINES\n",
      "D_PTYID_PROXIMITY_POLAND\n",
      "D_PTYID_PROXIMITY_RUSSIA\n",
      "D_PTYID_PROXIMITY_SAFRICA\n",
      "D_PTYID_PROXIMITY_SLOVAKIA\n",
      "D_PTYID_PROXIMITY_SPAIN\n",
      "D_PTYID_PROXIMITY_SWEDEN\n",
      "D_PTYID_PROXIMITY_TUNISIA\n",
      "D_PTYID_PROXIMITY_TURKEY\n",
      "D_PTYID_PROXIMITY_UK\n",
      "D_PTYID_PROXIMITY_UKRAINE\n",
      "d_political_scale_us\n",
      "d_ptyid_us\n",
      "d_ptylean_us\n",
      "BREXIT_A\n",
      "BREXIT_B\n",
      "D_HOMEPHONE_US\n",
      "D_WORKING_CELL\n",
      "D_HHCELL\n",
      "D_DENSITY\n",
      "QDATE_S\n",
      "QDATE_E\n",
      "phone_sample\n",
      "QS8\n",
      "STRATUM_ARG\n",
      "PSU_ARG\n",
      "QS5ARG\n",
      "REGION_AUSTRALIA\n",
      "STRATUM_BRA\n",
      "PSU_BRA\n",
      "QS5BRA\n",
      "STRATUM_BUL\n",
      "PSU_BUL\n",
      "QS5BUL\n",
      "REGION_CANADA\n",
      "STRATUM_CZE\n",
      "PSU_CZE\n",
      "QS5CZE\n",
      "REGION_FRANCE\n",
      "REGION_GERMANY\n",
      "eastwest_ger\n",
      "STRATUM_GRE\n",
      "PSU_GRE\n",
      "QS5GRE\n",
      "STRATUM_HUN\n",
      "PSU_HUN\n",
      "QS5HUN\n",
      "STRATUM_IND\n",
      "PSU_IND\n",
      "QS5IND\n",
      "STRATUM_INO\n",
      "PSU_INO\n",
      "QS5INO\n",
      "STRATUM_ISR\n",
      "PSU_ISR\n",
      "QS5ISR\n",
      "QS6ISR\n",
      "STRATUM_ITA\n",
      "PSU_ITA\n",
      "QS5ITA\n",
      "REGION_JAPAN\n",
      "STRATUM_KEN\n",
      "PSU_KEN\n",
      "QS5KEN\n",
      "STRATUM_LEB\n",
      "PSU_LEB\n",
      "QS5LEB\n",
      "STRATUM_LIT\n",
      "PSU_LIT\n",
      "QS5LIT\n",
      "STRATUM_MEX\n",
      "PSU_MEX\n",
      "QS5MEX\n",
      "REGION_NETHERLANDS\n",
      "STRATUM_NIG\n",
      "PSU_NIG\n",
      "QS5NIG\n",
      "STRATUM_PHI\n",
      "PSU_PHI\n",
      "QS5PHI\n",
      "STRATUM_POL\n",
      "PSU_POL\n",
      "QS5POL\n",
      "STRATUM_RUS\n",
      "PSU_RUS\n",
      "QS5RUS\n",
      "STRATUM_SLO\n",
      "PSU_SLO\n",
      "QS5SLO\n",
      "STRATUM_RSA\n",
      "PSU_RSA\n",
      "QS5RSA\n",
      "REGION_KOREA\n",
      "REGION_SPAIN\n",
      "REGION_SWEDEN\n",
      "STRATUM_TUN\n",
      "PSU_TUN\n",
      "QS5TUN\n",
      "STRATUM_TUR\n",
      "PSU_TUR\n",
      "QS5TUR\n",
      "STRATUM_UKR\n",
      "PSU_UKR\n",
      "QS5UKR\n",
      "REGION_UK2\n",
      "cregion_us\n",
      "state_us\n",
      "density_us\n"
     ]
    }
   ],
   "source": [
    "for i in spring_2019.columns:\n",
    "    print(i)"
   ]
  },
  {
   "cell_type": "markdown",
   "id": "14d40eba",
   "metadata": {},
   "source": [
    "## Extracting the variables"
   ]
  },
  {
   "cell_type": "markdown",
   "id": "93778bee",
   "metadata": {
    "jp-MarkdownHeadingCollapsed": true,
    "tags": []
   },
   "source": [
    "### World Values Survey (WVS)"
   ]
  },
  {
   "cell_type": "code",
   "execution_count": 6,
   "id": "ca322629",
   "metadata": {},
   "outputs": [
    {
     "ename": "NameError",
     "evalue": "name 'wvs7' is not defined",
     "output_type": "error",
     "traceback": [
      "\u001b[1;31m---------------------------------------------------------------------------\u001b[0m",
      "\u001b[1;31mNameError\u001b[0m                                 Traceback (most recent call last)",
      "\u001b[1;32m~\\AppData\\Local\\Temp\\ipykernel_4112\\613094300.py\u001b[0m in \u001b[0;36m<module>\u001b[1;34m\u001b[0m\n\u001b[1;32m----> 1\u001b[1;33m wvs7_selected = wvs7.loc[:, ['B_COUNTRY_ALPHA', 'Q262', \"Q275R\", #demographics\n\u001b[0m\u001b[0;32m      2\u001b[0m \u001b[1;34m'Q8'\u001b[0m\u001b[1;33m,\u001b[0m \u001b[1;34m'Q11'\u001b[0m\u001b[1;33m,\u001b[0m \u001b[1;34m'Q17'\u001b[0m\u001b[1;33m,\u001b[0m \u001b[1;34m'Q45'\u001b[0m\u001b[1;33m,\u001b[0m \u001b[1;34m'Q154'\u001b[0m\u001b[1;33m,\u001b[0m \u001b[1;34m'Q198'\u001b[0m\u001b[1;33m,\u001b[0m \u001b[1;34m'Q196'\u001b[0m\u001b[1;33m,\u001b[0m \u001b[1;34m'Q197'\u001b[0m\u001b[1;33m,\u001b[0m \u001b[1;34m'Q235'\u001b[0m\u001b[1;33m,\u001b[0m \u001b[1;34m'Q237'\u001b[0m\u001b[1;33m,\u001b[0m \u001b[1;34m'Q243'\u001b[0m\u001b[1;33m,\u001b[0m \u001b[1;34m'Q245'\u001b[0m\u001b[1;33m,\u001b[0m \u001b[1;34m'Q246'\u001b[0m\u001b[1;33m,\u001b[0m \u001b[1;34m'Q248'\u001b[0m\u001b[1;33m,\u001b[0m \u001b[1;31m#liberalism vs. authoritarianism\u001b[0m\u001b[1;33m\u001b[0m\u001b[1;33m\u001b[0m\u001b[0m\n\u001b[0;32m      3\u001b[0m \u001b[1;34m'Q106'\u001b[0m\u001b[1;33m,\u001b[0m \u001b[1;34m'Q107'\u001b[0m\u001b[1;33m,\u001b[0m \u001b[1;34m'Q108'\u001b[0m\u001b[1;33m,\u001b[0m \u001b[1;34m'Q109'\u001b[0m\u001b[1;33m,\u001b[0m \u001b[1;34m'Q110'\u001b[0m\u001b[1;33m,\u001b[0m \u001b[1;34m'Q241'\u001b[0m\u001b[1;33m,\u001b[0m \u001b[1;34m'Q244'\u001b[0m\u001b[1;33m,\u001b[0m \u001b[1;34m'Q247'\u001b[0m\u001b[1;33m,\u001b[0m  \u001b[1;31m#socialism vs. free market\u001b[0m\u001b[1;33m\u001b[0m\u001b[1;33m\u001b[0m\u001b[0m\n\u001b[0;32m      4\u001b[0m \u001b[1;34m'Q29'\u001b[0m\u001b[1;33m,\u001b[0m \u001b[1;34m'Q31'\u001b[0m\u001b[1;33m,\u001b[0m \u001b[1;34m'Q33'\u001b[0m\u001b[1;33m,\u001b[0m \u001b[1;34m'Q249'\u001b[0m\u001b[1;33m,\u001b[0m \u001b[1;34m'Q182'\u001b[0m\u001b[1;33m,\u001b[0m \u001b[1;34m'Q186'\u001b[0m\u001b[1;33m,\u001b[0m \u001b[1;34m'Q193'\u001b[0m\u001b[1;33m,\u001b[0m \u001b[1;34m'Q183'\u001b[0m\u001b[1;33m,\u001b[0m\u001b[1;31m#progressivism vs. conservatism\u001b[0m\u001b[1;33m\u001b[0m\u001b[1;33m\u001b[0m\u001b[0m\n\u001b[0;32m      5\u001b[0m \u001b[1;31m#science\u001b[0m\u001b[1;33m\u001b[0m\u001b[1;33m\u001b[0m\u001b[0m\n",
      "\u001b[1;31mNameError\u001b[0m: name 'wvs7' is not defined"
     ]
    }
   ],
   "source": [
    "wvs7_selected = wvs7.loc[:, ['B_COUNTRY_ALPHA', 'Q262', \"Q275R\", #demographics\n",
    "'Q8', 'Q11', 'Q17', 'Q45', 'Q154', 'Q198', 'Q196', 'Q197', 'Q235', 'Q237', 'Q243', 'Q245', 'Q246', 'Q248', #liberalism vs. authoritarianism\n",
    "'Q106', 'Q107', 'Q108', 'Q109', 'Q110', 'Q241', 'Q244', 'Q247',  #socialism vs. free market\n",
    "'Q29', 'Q31', 'Q33', 'Q249', 'Q182', 'Q186', 'Q193', 'Q183',#progressivism vs. conservatism\n",
    "#science\n",
    "'Q6', 'Q164', 'Q173', 'Q242', #religion\n",
    "'Q163', #science and technology\n",
    "#environmental protection\n",
    "'hdi', 'GDPpercap1']] #moderators"
   ]
  },
  {
   "cell_type": "markdown",
   "id": "77549e7b",
   "metadata": {},
   "source": [
    "### Pew Research Center (PWC)'s Global Attitudes Survey (GAS)"
   ]
  },
  {
   "cell_type": "code",
   "execution_count": 9,
   "id": "2a874f66",
   "metadata": {},
   "outputs": [],
   "source": [
    "pew_spring_2019_selected = spring_2019.loc[:, ['country', #demographics\n",
    "'PRESS_FREEDOM', 'FREE_SPEECH', 'FREE_ELECTIONS', 'INTERNET_FREEDOM', 'FREE_HRO', 'FREE_OPPO',  #liberalism vs. authoritarianism\n",
    "'MARKET_ECON', 'SUCCESS',  #socialism vs. free market\n",
    "'GENDER_EQUALITY', 'KIND_OF_MARRIAGE', 'WOMEN_JOB', #gender equality\n",
    "'HOMOSEXUALITY', #tolerance for homosexuality\n",
    "'BELIEVE_GOD', 'RELIG_PRAYER', 'RELIG_GOD', 'RELIGION_IMPORT', #religion\n",
    "'FAV_US', 'FAV_CHINA', 'FAV_RUSSIA', 'FAV_EU', 'CONFID_TRUMP', 'CONFID_XI', 'CONFID_PUTIN', 'CONFID_MERKEL', 'CONFID_MACRON', 'POLICY_THEWALL', 'POLICY_IMMIG', 'POLICY_TARIFF']] #foreign countries"
   ]
  },
  {
   "cell_type": "markdown",
   "id": "cf0f3905",
   "metadata": {},
   "source": [
    "## Inspecting the datasets"
   ]
  },
  {
   "cell_type": "markdown",
   "id": "f8302e18",
   "metadata": {},
   "source": [
    "### World Values Survey (WVS)"
   ]
  },
  {
   "cell_type": "code",
   "execution_count": 20,
   "id": "a9ee89d7",
   "metadata": {},
   "outputs": [
    {
     "data": {
      "text/html": [
       "<div>\n",
       "<style scoped>\n",
       "    .dataframe tbody tr th:only-of-type {\n",
       "        vertical-align: middle;\n",
       "    }\n",
       "\n",
       "    .dataframe tbody tr th {\n",
       "        vertical-align: top;\n",
       "    }\n",
       "\n",
       "    .dataframe thead th {\n",
       "        text-align: right;\n",
       "    }\n",
       "</style>\n",
       "<table border=\"1\" class=\"dataframe\">\n",
       "  <thead>\n",
       "    <tr style=\"text-align: right;\">\n",
       "      <th></th>\n",
       "      <th>B_COUNTRY_ALPHA</th>\n",
       "      <th>Q262</th>\n",
       "      <th>Q275R</th>\n",
       "      <th>Q8</th>\n",
       "      <th>Q11</th>\n",
       "      <th>Q17</th>\n",
       "      <th>Q45</th>\n",
       "      <th>Q154</th>\n",
       "      <th>Q198</th>\n",
       "      <th>Q196</th>\n",
       "      <th>...</th>\n",
       "      <th>Q186</th>\n",
       "      <th>Q193</th>\n",
       "      <th>Q183</th>\n",
       "      <th>Q6</th>\n",
       "      <th>Q164</th>\n",
       "      <th>Q173</th>\n",
       "      <th>Q242</th>\n",
       "      <th>Q163</th>\n",
       "      <th>hdi</th>\n",
       "      <th>GDPpercap1</th>\n",
       "    </tr>\n",
       "  </thead>\n",
       "  <tbody>\n",
       "    <tr>\n",
       "      <th>0</th>\n",
       "      <td>AND</td>\n",
       "      <td>60</td>\n",
       "      <td>2</td>\n",
       "      <td>1</td>\n",
       "      <td>1</td>\n",
       "      <td>1</td>\n",
       "      <td>1</td>\n",
       "      <td>3</td>\n",
       "      <td>4</td>\n",
       "      <td>2</td>\n",
       "      <td>...</td>\n",
       "      <td>4</td>\n",
       "      <td>1</td>\n",
       "      <td>3</td>\n",
       "      <td>4</td>\n",
       "      <td>7</td>\n",
       "      <td>1</td>\n",
       "      <td>2</td>\n",
       "      <td>6</td>\n",
       "      <td>0.857</td>\n",
       "      <td>0.0</td>\n",
       "    </tr>\n",
       "    <tr>\n",
       "      <th>1</th>\n",
       "      <td>AND</td>\n",
       "      <td>47</td>\n",
       "      <td>3</td>\n",
       "      <td>2</td>\n",
       "      <td>2</td>\n",
       "      <td>1</td>\n",
       "      <td>1</td>\n",
       "      <td>4</td>\n",
       "      <td>4</td>\n",
       "      <td>1</td>\n",
       "      <td>...</td>\n",
       "      <td>10</td>\n",
       "      <td>5</td>\n",
       "      <td>5</td>\n",
       "      <td>4</td>\n",
       "      <td>1</td>\n",
       "      <td>2</td>\n",
       "      <td>7</td>\n",
       "      <td>10</td>\n",
       "      <td>0.857</td>\n",
       "      <td>0.0</td>\n",
       "    </tr>\n",
       "    <tr>\n",
       "      <th>2</th>\n",
       "      <td>AND</td>\n",
       "      <td>48</td>\n",
       "      <td>3</td>\n",
       "      <td>1</td>\n",
       "      <td>1</td>\n",
       "      <td>2</td>\n",
       "      <td>1</td>\n",
       "      <td>1</td>\n",
       "      <td>4</td>\n",
       "      <td>4</td>\n",
       "      <td>...</td>\n",
       "      <td>6</td>\n",
       "      <td>5</td>\n",
       "      <td>6</td>\n",
       "      <td>3</td>\n",
       "      <td>8</td>\n",
       "      <td>2</td>\n",
       "      <td>7</td>\n",
       "      <td>5</td>\n",
       "      <td>0.857</td>\n",
       "      <td>0.0</td>\n",
       "    </tr>\n",
       "    <tr>\n",
       "      <th>3</th>\n",
       "      <td>AND</td>\n",
       "      <td>62</td>\n",
       "      <td>1</td>\n",
       "      <td>2</td>\n",
       "      <td>2</td>\n",
       "      <td>1</td>\n",
       "      <td>2</td>\n",
       "      <td>3</td>\n",
       "      <td>4</td>\n",
       "      <td>2</td>\n",
       "      <td>...</td>\n",
       "      <td>10</td>\n",
       "      <td>7</td>\n",
       "      <td>6</td>\n",
       "      <td>4</td>\n",
       "      <td>1</td>\n",
       "      <td>3</td>\n",
       "      <td>8</td>\n",
       "      <td>6</td>\n",
       "      <td>0.857</td>\n",
       "      <td>0.0</td>\n",
       "    </tr>\n",
       "    <tr>\n",
       "      <th>4</th>\n",
       "      <td>AND</td>\n",
       "      <td>49</td>\n",
       "      <td>1</td>\n",
       "      <td>2</td>\n",
       "      <td>2</td>\n",
       "      <td>2</td>\n",
       "      <td>2</td>\n",
       "      <td>3</td>\n",
       "      <td>4</td>\n",
       "      <td>1</td>\n",
       "      <td>...</td>\n",
       "      <td>8</td>\n",
       "      <td>6</td>\n",
       "      <td>6</td>\n",
       "      <td>3</td>\n",
       "      <td>4</td>\n",
       "      <td>2</td>\n",
       "      <td>2</td>\n",
       "      <td>6</td>\n",
       "      <td>0.857</td>\n",
       "      <td>0.0</td>\n",
       "    </tr>\n",
       "    <tr>\n",
       "      <th>...</th>\n",
       "      <td>...</td>\n",
       "      <td>...</td>\n",
       "      <td>...</td>\n",
       "      <td>...</td>\n",
       "      <td>...</td>\n",
       "      <td>...</td>\n",
       "      <td>...</td>\n",
       "      <td>...</td>\n",
       "      <td>...</td>\n",
       "      <td>...</td>\n",
       "      <td>...</td>\n",
       "      <td>...</td>\n",
       "      <td>...</td>\n",
       "      <td>...</td>\n",
       "      <td>...</td>\n",
       "      <td>...</td>\n",
       "      <td>...</td>\n",
       "      <td>...</td>\n",
       "      <td>...</td>\n",
       "      <td>...</td>\n",
       "      <td>...</td>\n",
       "    </tr>\n",
       "    <tr>\n",
       "      <th>94273</th>\n",
       "      <td>NIR</td>\n",
       "      <td>83</td>\n",
       "      <td>3</td>\n",
       "      <td>2</td>\n",
       "      <td>2</td>\n",
       "      <td>2</td>\n",
       "      <td>1</td>\n",
       "      <td>1</td>\n",
       "      <td>2</td>\n",
       "      <td>2</td>\n",
       "      <td>...</td>\n",
       "      <td>1</td>\n",
       "      <td>3</td>\n",
       "      <td>1</td>\n",
       "      <td>1</td>\n",
       "      <td>10</td>\n",
       "      <td>1</td>\n",
       "      <td>5</td>\n",
       "      <td>10</td>\n",
       "      <td>NaN</td>\n",
       "      <td>NaN</td>\n",
       "    </tr>\n",
       "    <tr>\n",
       "      <th>94274</th>\n",
       "      <td>NIR</td>\n",
       "      <td>34</td>\n",
       "      <td>2</td>\n",
       "      <td>2</td>\n",
       "      <td>1</td>\n",
       "      <td>2</td>\n",
       "      <td>3</td>\n",
       "      <td>3</td>\n",
       "      <td>4</td>\n",
       "      <td>2</td>\n",
       "      <td>...</td>\n",
       "      <td>10</td>\n",
       "      <td>10</td>\n",
       "      <td>2</td>\n",
       "      <td>4</td>\n",
       "      <td>1</td>\n",
       "      <td>2</td>\n",
       "      <td>7</td>\n",
       "      <td>7</td>\n",
       "      <td>NaN</td>\n",
       "      <td>NaN</td>\n",
       "    </tr>\n",
       "    <tr>\n",
       "      <th>94275</th>\n",
       "      <td>NIR</td>\n",
       "      <td>19</td>\n",
       "      <td>2</td>\n",
       "      <td>1</td>\n",
       "      <td>2</td>\n",
       "      <td>1</td>\n",
       "      <td>2</td>\n",
       "      <td>3</td>\n",
       "      <td>4</td>\n",
       "      <td>1</td>\n",
       "      <td>...</td>\n",
       "      <td>1</td>\n",
       "      <td>1</td>\n",
       "      <td>1</td>\n",
       "      <td>3</td>\n",
       "      <td>10</td>\n",
       "      <td>1</td>\n",
       "      <td>1</td>\n",
       "      <td>5</td>\n",
       "      <td>NaN</td>\n",
       "      <td>NaN</td>\n",
       "    </tr>\n",
       "    <tr>\n",
       "      <th>94276</th>\n",
       "      <td>NIR</td>\n",
       "      <td>19</td>\n",
       "      <td>2</td>\n",
       "      <td>1</td>\n",
       "      <td>2</td>\n",
       "      <td>2</td>\n",
       "      <td>3</td>\n",
       "      <td>3</td>\n",
       "      <td>2</td>\n",
       "      <td>2</td>\n",
       "      <td>...</td>\n",
       "      <td>9</td>\n",
       "      <td>10</td>\n",
       "      <td>2</td>\n",
       "      <td>3</td>\n",
       "      <td>5</td>\n",
       "      <td>2</td>\n",
       "      <td>-1</td>\n",
       "      <td>6</td>\n",
       "      <td>NaN</td>\n",
       "      <td>NaN</td>\n",
       "    </tr>\n",
       "    <tr>\n",
       "      <th>94277</th>\n",
       "      <td>NIR</td>\n",
       "      <td>53</td>\n",
       "      <td>2</td>\n",
       "      <td>1</td>\n",
       "      <td>2</td>\n",
       "      <td>1</td>\n",
       "      <td>1</td>\n",
       "      <td>3</td>\n",
       "      <td>3</td>\n",
       "      <td>2</td>\n",
       "      <td>...</td>\n",
       "      <td>8</td>\n",
       "      <td>8</td>\n",
       "      <td>7</td>\n",
       "      <td>1</td>\n",
       "      <td>5</td>\n",
       "      <td>2</td>\n",
       "      <td>2</td>\n",
       "      <td>4</td>\n",
       "      <td>NaN</td>\n",
       "      <td>NaN</td>\n",
       "    </tr>\n",
       "  </tbody>\n",
       "</table>\n",
       "<p>94278 rows × 40 columns</p>\n",
       "</div>"
      ],
      "text/plain": [
       "      B_COUNTRY_ALPHA  Q262  Q275R  Q8  Q11  Q17  Q45  Q154  Q198  Q196  ...  \\\n",
       "0                 AND    60      2   1    1    1    1     3     4     2  ...   \n",
       "1                 AND    47      3   2    2    1    1     4     4     1  ...   \n",
       "2                 AND    48      3   1    1    2    1     1     4     4  ...   \n",
       "3                 AND    62      1   2    2    1    2     3     4     2  ...   \n",
       "4                 AND    49      1   2    2    2    2     3     4     1  ...   \n",
       "...               ...   ...    ...  ..  ...  ...  ...   ...   ...   ...  ...   \n",
       "94273             NIR    83      3   2    2    2    1     1     2     2  ...   \n",
       "94274             NIR    34      2   2    1    2    3     3     4     2  ...   \n",
       "94275             NIR    19      2   1    2    1    2     3     4     1  ...   \n",
       "94276             NIR    19      2   1    2    2    3     3     2     2  ...   \n",
       "94277             NIR    53      2   1    2    1    1     3     3     2  ...   \n",
       "\n",
       "       Q186  Q193  Q183  Q6  Q164  Q173  Q242  Q163    hdi  GDPpercap1  \n",
       "0         4     1     3   4     7     1     2     6  0.857         0.0  \n",
       "1        10     5     5   4     1     2     7    10  0.857         0.0  \n",
       "2         6     5     6   3     8     2     7     5  0.857         0.0  \n",
       "3        10     7     6   4     1     3     8     6  0.857         0.0  \n",
       "4         8     6     6   3     4     2     2     6  0.857         0.0  \n",
       "...     ...   ...   ...  ..   ...   ...   ...   ...    ...         ...  \n",
       "94273     1     3     1   1    10     1     5    10    NaN         NaN  \n",
       "94274    10    10     2   4     1     2     7     7    NaN         NaN  \n",
       "94275     1     1     1   3    10     1     1     5    NaN         NaN  \n",
       "94276     9    10     2   3     5     2    -1     6    NaN         NaN  \n",
       "94277     8     8     7   1     5     2     2     4    NaN         NaN  \n",
       "\n",
       "[94278 rows x 40 columns]"
      ]
     },
     "execution_count": 20,
     "metadata": {},
     "output_type": "execute_result"
    }
   ],
   "source": [
    "wvs7_selected"
   ]
  },
  {
   "cell_type": "markdown",
   "id": "51f20436",
   "metadata": {},
   "source": [
    "### Pew Research Center (PWC)'s Global Attitudes Survey (GAS)"
   ]
  },
  {
   "cell_type": "code",
   "execution_count": 143,
   "id": "ed4bbb50",
   "metadata": {},
   "outputs": [
    {
     "data": {
      "text/html": [
       "<div>\n",
       "<style scoped>\n",
       "    .dataframe tbody tr th:only-of-type {\n",
       "        vertical-align: middle;\n",
       "    }\n",
       "\n",
       "    .dataframe tbody tr th {\n",
       "        vertical-align: top;\n",
       "    }\n",
       "\n",
       "    .dataframe thead th {\n",
       "        text-align: right;\n",
       "    }\n",
       "</style>\n",
       "<table border=\"1\" class=\"dataframe\">\n",
       "  <thead>\n",
       "    <tr style=\"text-align: right;\">\n",
       "      <th></th>\n",
       "      <th>country</th>\n",
       "      <th>PRESS_FREEDOM</th>\n",
       "      <th>FREE_SPEECH</th>\n",
       "      <th>FREE_ELECTIONS</th>\n",
       "      <th>INTERNET_FREEDOM</th>\n",
       "      <th>FREE_HRO</th>\n",
       "      <th>FREE_OPPO</th>\n",
       "      <th>MARKET_ECON</th>\n",
       "      <th>SUCCESS</th>\n",
       "      <th>GENDER_EQUALITY</th>\n",
       "      <th>...</th>\n",
       "      <th>FAV_RUSSIA</th>\n",
       "      <th>FAV_EU</th>\n",
       "      <th>CONFID_TRUMP</th>\n",
       "      <th>CONFID_XI</th>\n",
       "      <th>CONFID_PUTIN</th>\n",
       "      <th>CONFID_MERKEL</th>\n",
       "      <th>CONFID_MACRON</th>\n",
       "      <th>POLICY_THEWALL</th>\n",
       "      <th>POLICY_IMMIG</th>\n",
       "      <th>POLICY_TARIFF</th>\n",
       "    </tr>\n",
       "  </thead>\n",
       "  <tbody>\n",
       "    <tr>\n",
       "      <th>0</th>\n",
       "      <td>Argentina</td>\n",
       "      <td>Not too important</td>\n",
       "      <td>Not important at all</td>\n",
       "      <td>Not important at all</td>\n",
       "      <td>Very important</td>\n",
       "      <td>Not important at all</td>\n",
       "      <td>Not important at all</td>\n",
       "      <td>Completely disagree</td>\n",
       "      <td>Mostly disagree</td>\n",
       "      <td>Very important</td>\n",
       "      <td>...</td>\n",
       "      <td>Don’t know (DO NOT READ)</td>\n",
       "      <td>Don’t know (DO NOT READ)</td>\n",
       "      <td>No confidence at all</td>\n",
       "      <td>Dont know (DO NOT READ)</td>\n",
       "      <td>Dont know (DO NOT READ)</td>\n",
       "      <td>Dont know (DO NOT READ)</td>\n",
       "      <td>Dont know (DO NOT READ)</td>\n",
       "      <td>Disapprove</td>\n",
       "      <td>Disapprove</td>\n",
       "      <td>Disapprove</td>\n",
       "    </tr>\n",
       "    <tr>\n",
       "      <th>1</th>\n",
       "      <td>Argentina</td>\n",
       "      <td>Very important</td>\n",
       "      <td>Very important</td>\n",
       "      <td>Very important</td>\n",
       "      <td>Very important</td>\n",
       "      <td>Very important</td>\n",
       "      <td>Very important</td>\n",
       "      <td>Completely agree</td>\n",
       "      <td>Completely agree</td>\n",
       "      <td>Very important</td>\n",
       "      <td>...</td>\n",
       "      <td>Very favorable</td>\n",
       "      <td>Very favorable</td>\n",
       "      <td>Some confidence</td>\n",
       "      <td>Some confidence</td>\n",
       "      <td>Some confidence</td>\n",
       "      <td>Some confidence</td>\n",
       "      <td>Some confidence</td>\n",
       "      <td>Disapprove</td>\n",
       "      <td>Disapprove</td>\n",
       "      <td>Disapprove</td>\n",
       "    </tr>\n",
       "    <tr>\n",
       "      <th>2</th>\n",
       "      <td>Argentina</td>\n",
       "      <td>Very important</td>\n",
       "      <td>Very important</td>\n",
       "      <td>Very important</td>\n",
       "      <td>Very important</td>\n",
       "      <td>Very important</td>\n",
       "      <td>Somewhat important</td>\n",
       "      <td>Mostly disagree</td>\n",
       "      <td>Don’t know (DO NOT READ)</td>\n",
       "      <td>Very important</td>\n",
       "      <td>...</td>\n",
       "      <td>Very unfavorable</td>\n",
       "      <td>Very unfavorable</td>\n",
       "      <td>No confidence at all</td>\n",
       "      <td>Not too much confidence</td>\n",
       "      <td>No confidence at all</td>\n",
       "      <td>No confidence at all</td>\n",
       "      <td>Not too much confidence</td>\n",
       "      <td>Disapprove</td>\n",
       "      <td>Disapprove</td>\n",
       "      <td>Disapprove</td>\n",
       "    </tr>\n",
       "    <tr>\n",
       "      <th>3</th>\n",
       "      <td>Argentina</td>\n",
       "      <td>Very important</td>\n",
       "      <td>Very important</td>\n",
       "      <td>Very important</td>\n",
       "      <td>Very important</td>\n",
       "      <td>Very important</td>\n",
       "      <td>Very important</td>\n",
       "      <td>Mostly agree</td>\n",
       "      <td>Mostly agree</td>\n",
       "      <td>Very important</td>\n",
       "      <td>...</td>\n",
       "      <td>Very favorable</td>\n",
       "      <td>Very favorable</td>\n",
       "      <td>A lot of confidence</td>\n",
       "      <td>A lot of confidence</td>\n",
       "      <td>A lot of confidence</td>\n",
       "      <td>A lot of confidence</td>\n",
       "      <td>Not too much confidence</td>\n",
       "      <td>Disapprove</td>\n",
       "      <td>Approve</td>\n",
       "      <td>Disapprove</td>\n",
       "    </tr>\n",
       "    <tr>\n",
       "      <th>4</th>\n",
       "      <td>Argentina</td>\n",
       "      <td>Not too important</td>\n",
       "      <td>Somewhat important</td>\n",
       "      <td>Very important</td>\n",
       "      <td>Not too important</td>\n",
       "      <td>Somewhat important</td>\n",
       "      <td>Very important</td>\n",
       "      <td>Completely disagree</td>\n",
       "      <td>Completely disagree</td>\n",
       "      <td>Very important</td>\n",
       "      <td>...</td>\n",
       "      <td>Very unfavorable</td>\n",
       "      <td>Somewhat favorable</td>\n",
       "      <td>No confidence at all</td>\n",
       "      <td>No confidence at all</td>\n",
       "      <td>Not too much confidence</td>\n",
       "      <td>Not too much confidence</td>\n",
       "      <td>Not too much confidence</td>\n",
       "      <td>Disapprove</td>\n",
       "      <td>Approve</td>\n",
       "      <td>Approve</td>\n",
       "    </tr>\n",
       "    <tr>\n",
       "      <th>...</th>\n",
       "      <td>...</td>\n",
       "      <td>...</td>\n",
       "      <td>...</td>\n",
       "      <td>...</td>\n",
       "      <td>...</td>\n",
       "      <td>...</td>\n",
       "      <td>...</td>\n",
       "      <td>...</td>\n",
       "      <td>...</td>\n",
       "      <td>...</td>\n",
       "      <td>...</td>\n",
       "      <td>...</td>\n",
       "      <td>...</td>\n",
       "      <td>...</td>\n",
       "      <td>...</td>\n",
       "      <td>...</td>\n",
       "      <td>...</td>\n",
       "      <td>...</td>\n",
       "      <td>...</td>\n",
       "      <td>...</td>\n",
       "      <td>...</td>\n",
       "    </tr>\n",
       "    <tr>\n",
       "      <th>38421</th>\n",
       "      <td>United States</td>\n",
       "      <td>Somewhat important</td>\n",
       "      <td>Very important</td>\n",
       "      <td>Very important</td>\n",
       "      <td>Somewhat important</td>\n",
       "      <td>Somewhat important</td>\n",
       "      <td>Don’t know (DO NOT READ)</td>\n",
       "      <td>Completely agree</td>\n",
       "      <td>Completely disagree</td>\n",
       "      <td>Very important</td>\n",
       "      <td>...</td>\n",
       "      <td>Somewhat unfavorable</td>\n",
       "      <td>Very unfavorable</td>\n",
       "      <td>A lot of confidence</td>\n",
       "      <td>Some confidence</td>\n",
       "      <td>Some confidence</td>\n",
       "      <td>Not too much confidence</td>\n",
       "      <td>Not too much confidence</td>\n",
       "      <td>Approve</td>\n",
       "      <td>Approve</td>\n",
       "      <td>Approve</td>\n",
       "    </tr>\n",
       "    <tr>\n",
       "      <th>38422</th>\n",
       "      <td>United States</td>\n",
       "      <td>Very important</td>\n",
       "      <td>Very important</td>\n",
       "      <td>Very important</td>\n",
       "      <td>Very important</td>\n",
       "      <td>Very important</td>\n",
       "      <td>Very important</td>\n",
       "      <td>Mostly agree</td>\n",
       "      <td>Mostly disagree</td>\n",
       "      <td>Very important</td>\n",
       "      <td>...</td>\n",
       "      <td>Somewhat unfavorable</td>\n",
       "      <td>Somewhat unfavorable</td>\n",
       "      <td>Some confidence</td>\n",
       "      <td>Some confidence</td>\n",
       "      <td>Some confidence</td>\n",
       "      <td>Some confidence</td>\n",
       "      <td>Some confidence</td>\n",
       "      <td>Approve</td>\n",
       "      <td>Approve</td>\n",
       "      <td>Disapprove</td>\n",
       "    </tr>\n",
       "    <tr>\n",
       "      <th>38423</th>\n",
       "      <td>United States</td>\n",
       "      <td>Very important</td>\n",
       "      <td>Very important</td>\n",
       "      <td>Very important</td>\n",
       "      <td>Very important</td>\n",
       "      <td>Very important</td>\n",
       "      <td>Very important</td>\n",
       "      <td>Completely agree</td>\n",
       "      <td>Mostly disagree</td>\n",
       "      <td>Very important</td>\n",
       "      <td>...</td>\n",
       "      <td>Somewhat unfavorable</td>\n",
       "      <td>Somewhat unfavorable</td>\n",
       "      <td>A lot of confidence</td>\n",
       "      <td>Some confidence</td>\n",
       "      <td>Not too much confidence</td>\n",
       "      <td>Not too much confidence</td>\n",
       "      <td>Some confidence</td>\n",
       "      <td>Approve</td>\n",
       "      <td>Approve</td>\n",
       "      <td>Approve</td>\n",
       "    </tr>\n",
       "    <tr>\n",
       "      <th>38424</th>\n",
       "      <td>United States</td>\n",
       "      <td>Very important</td>\n",
       "      <td>Very important</td>\n",
       "      <td>Very important</td>\n",
       "      <td>Very important</td>\n",
       "      <td>Very important</td>\n",
       "      <td>Very important</td>\n",
       "      <td>Mostly agree</td>\n",
       "      <td>Mostly disagree</td>\n",
       "      <td>Very important</td>\n",
       "      <td>...</td>\n",
       "      <td>Somewhat unfavorable</td>\n",
       "      <td>Somewhat favorable</td>\n",
       "      <td>Some confidence</td>\n",
       "      <td>Not too much confidence</td>\n",
       "      <td>Not too much confidence</td>\n",
       "      <td>Some confidence</td>\n",
       "      <td>Some confidence</td>\n",
       "      <td>Approve</td>\n",
       "      <td>Disapprove</td>\n",
       "      <td>Approve</td>\n",
       "    </tr>\n",
       "    <tr>\n",
       "      <th>38425</th>\n",
       "      <td>United States</td>\n",
       "      <td>Very important</td>\n",
       "      <td>Somewhat important</td>\n",
       "      <td>Don’t know (DO NOT READ)</td>\n",
       "      <td>Very important</td>\n",
       "      <td>Very important</td>\n",
       "      <td>Don’t know (DO NOT READ)</td>\n",
       "      <td>Mostly agree</td>\n",
       "      <td>Mostly disagree</td>\n",
       "      <td>Very important</td>\n",
       "      <td>...</td>\n",
       "      <td>Don’t know (DO NOT READ)</td>\n",
       "      <td>Somewhat unfavorable</td>\n",
       "      <td>Not too much confidence</td>\n",
       "      <td>Not too much confidence</td>\n",
       "      <td>Dont know (DO NOT READ)</td>\n",
       "      <td>Not too much confidence</td>\n",
       "      <td>Not too much confidence</td>\n",
       "      <td>Disapprove</td>\n",
       "      <td>Approve</td>\n",
       "      <td>Disapprove</td>\n",
       "    </tr>\n",
       "  </tbody>\n",
       "</table>\n",
       "<p>38426 rows × 29 columns</p>\n",
       "</div>"
      ],
      "text/plain": [
       "             country       PRESS_FREEDOM           FREE_SPEECH  \\\n",
       "0          Argentina   Not too important  Not important at all   \n",
       "1          Argentina      Very important        Very important   \n",
       "2          Argentina      Very important        Very important   \n",
       "3          Argentina      Very important        Very important   \n",
       "4          Argentina   Not too important    Somewhat important   \n",
       "...              ...                 ...                   ...   \n",
       "38421  United States  Somewhat important        Very important   \n",
       "38422  United States      Very important        Very important   \n",
       "38423  United States      Very important        Very important   \n",
       "38424  United States      Very important        Very important   \n",
       "38425  United States      Very important    Somewhat important   \n",
       "\n",
       "                 FREE_ELECTIONS    INTERNET_FREEDOM              FREE_HRO  \\\n",
       "0          Not important at all      Very important  Not important at all   \n",
       "1                Very important      Very important        Very important   \n",
       "2                Very important      Very important        Very important   \n",
       "3                Very important      Very important        Very important   \n",
       "4                Very important   Not too important    Somewhat important   \n",
       "...                         ...                 ...                   ...   \n",
       "38421            Very important  Somewhat important    Somewhat important   \n",
       "38422            Very important      Very important        Very important   \n",
       "38423            Very important      Very important        Very important   \n",
       "38424            Very important      Very important        Very important   \n",
       "38425  Don’t know (DO NOT READ)      Very important        Very important   \n",
       "\n",
       "                      FREE_OPPO          MARKET_ECON  \\\n",
       "0          Not important at all  Completely disagree   \n",
       "1                Very important     Completely agree   \n",
       "2            Somewhat important      Mostly disagree   \n",
       "3                Very important         Mostly agree   \n",
       "4                Very important  Completely disagree   \n",
       "...                         ...                  ...   \n",
       "38421  Don’t know (DO NOT READ)     Completely agree   \n",
       "38422            Very important         Mostly agree   \n",
       "38423            Very important     Completely agree   \n",
       "38424            Very important         Mostly agree   \n",
       "38425  Don’t know (DO NOT READ)         Mostly agree   \n",
       "\n",
       "                        SUCCESS GENDER_EQUALITY  ...  \\\n",
       "0               Mostly disagree  Very important  ...   \n",
       "1              Completely agree  Very important  ...   \n",
       "2      Don’t know (DO NOT READ)  Very important  ...   \n",
       "3                  Mostly agree  Very important  ...   \n",
       "4           Completely disagree  Very important  ...   \n",
       "...                         ...             ...  ...   \n",
       "38421       Completely disagree  Very important  ...   \n",
       "38422           Mostly disagree  Very important  ...   \n",
       "38423           Mostly disagree  Very important  ...   \n",
       "38424           Mostly disagree  Very important  ...   \n",
       "38425           Mostly disagree  Very important  ...   \n",
       "\n",
       "                     FAV_RUSSIA                    FAV_EU  \\\n",
       "0      Don’t know (DO NOT READ)  Don’t know (DO NOT READ)   \n",
       "1                Very favorable            Very favorable   \n",
       "2              Very unfavorable          Very unfavorable   \n",
       "3                Very favorable            Very favorable   \n",
       "4              Very unfavorable        Somewhat favorable   \n",
       "...                         ...                       ...   \n",
       "38421      Somewhat unfavorable          Very unfavorable   \n",
       "38422      Somewhat unfavorable      Somewhat unfavorable   \n",
       "38423      Somewhat unfavorable      Somewhat unfavorable   \n",
       "38424      Somewhat unfavorable        Somewhat favorable   \n",
       "38425  Don’t know (DO NOT READ)      Somewhat unfavorable   \n",
       "\n",
       "                  CONFID_TRUMP                CONFID_XI  \\\n",
       "0         No confidence at all  Dont know (DO NOT READ)   \n",
       "1              Some confidence          Some confidence   \n",
       "2         No confidence at all  Not too much confidence   \n",
       "3          A lot of confidence      A lot of confidence   \n",
       "4         No confidence at all     No confidence at all   \n",
       "...                        ...                      ...   \n",
       "38421      A lot of confidence          Some confidence   \n",
       "38422          Some confidence          Some confidence   \n",
       "38423      A lot of confidence          Some confidence   \n",
       "38424          Some confidence  Not too much confidence   \n",
       "38425  Not too much confidence  Not too much confidence   \n",
       "\n",
       "                  CONFID_PUTIN            CONFID_MERKEL  \\\n",
       "0      Dont know (DO NOT READ)  Dont know (DO NOT READ)   \n",
       "1              Some confidence          Some confidence   \n",
       "2         No confidence at all     No confidence at all   \n",
       "3          A lot of confidence      A lot of confidence   \n",
       "4      Not too much confidence  Not too much confidence   \n",
       "...                        ...                      ...   \n",
       "38421          Some confidence  Not too much confidence   \n",
       "38422          Some confidence          Some confidence   \n",
       "38423  Not too much confidence  Not too much confidence   \n",
       "38424  Not too much confidence          Some confidence   \n",
       "38425  Dont know (DO NOT READ)  Not too much confidence   \n",
       "\n",
       "                 CONFID_MACRON POLICY_THEWALL POLICY_IMMIG POLICY_TARIFF  \n",
       "0      Dont know (DO NOT READ)     Disapprove   Disapprove    Disapprove  \n",
       "1              Some confidence     Disapprove   Disapprove    Disapprove  \n",
       "2      Not too much confidence     Disapprove   Disapprove    Disapprove  \n",
       "3      Not too much confidence     Disapprove      Approve    Disapprove  \n",
       "4      Not too much confidence     Disapprove      Approve       Approve  \n",
       "...                        ...            ...          ...           ...  \n",
       "38421  Not too much confidence        Approve      Approve       Approve  \n",
       "38422          Some confidence        Approve      Approve    Disapprove  \n",
       "38423          Some confidence        Approve      Approve       Approve  \n",
       "38424          Some confidence        Approve   Disapprove       Approve  \n",
       "38425  Not too much confidence     Disapprove      Approve    Disapprove  \n",
       "\n",
       "[38426 rows x 29 columns]"
      ]
     },
     "execution_count": 143,
     "metadata": {},
     "output_type": "execute_result"
    }
   ],
   "source": [
    "pew_spring_2019_selected"
   ]
  },
  {
   "cell_type": "code",
   "execution_count": 12,
   "id": "a0b2481e",
   "metadata": {},
   "outputs": [
    {
     "data": {
      "text/html": [
       "<div>\n",
       "<style scoped>\n",
       "    .dataframe tbody tr th:only-of-type {\n",
       "        vertical-align: middle;\n",
       "    }\n",
       "\n",
       "    .dataframe tbody tr th {\n",
       "        vertical-align: top;\n",
       "    }\n",
       "\n",
       "    .dataframe thead th {\n",
       "        text-align: right;\n",
       "    }\n",
       "</style>\n",
       "<table border=\"1\" class=\"dataframe\">\n",
       "  <thead>\n",
       "    <tr style=\"text-align: right;\">\n",
       "      <th></th>\n",
       "      <th>KIND_OF_MARRIAGE</th>\n",
       "    </tr>\n",
       "  </thead>\n",
       "  <tbody>\n",
       "    <tr>\n",
       "      <th>0</th>\n",
       "      <td>One where the husband and wife both have jobs ...</td>\n",
       "    </tr>\n",
       "    <tr>\n",
       "      <th>1</th>\n",
       "      <td>One where the husband provides for the family ...</td>\n",
       "    </tr>\n",
       "    <tr>\n",
       "      <th>2</th>\n",
       "      <td>One where the husband provides for the family ...</td>\n",
       "    </tr>\n",
       "    <tr>\n",
       "      <th>3</th>\n",
       "      <td>One where the husband and wife both have jobs ...</td>\n",
       "    </tr>\n",
       "    <tr>\n",
       "      <th>4</th>\n",
       "      <td>One where the husband and wife both have jobs ...</td>\n",
       "    </tr>\n",
       "    <tr>\n",
       "      <th>...</th>\n",
       "      <td>...</td>\n",
       "    </tr>\n",
       "    <tr>\n",
       "      <th>38421</th>\n",
       "      <td>One where the husband provides for the family ...</td>\n",
       "    </tr>\n",
       "    <tr>\n",
       "      <th>38422</th>\n",
       "      <td>One where the husband and wife both have jobs ...</td>\n",
       "    </tr>\n",
       "    <tr>\n",
       "      <th>38423</th>\n",
       "      <td>One where the husband and wife both have jobs ...</td>\n",
       "    </tr>\n",
       "    <tr>\n",
       "      <th>38424</th>\n",
       "      <td>One where the husband and wife both have jobs ...</td>\n",
       "    </tr>\n",
       "    <tr>\n",
       "      <th>38425</th>\n",
       "      <td>One where the husband and wife both have jobs ...</td>\n",
       "    </tr>\n",
       "  </tbody>\n",
       "</table>\n",
       "<p>38426 rows × 1 columns</p>\n",
       "</div>"
      ],
      "text/plain": [
       "                                        KIND_OF_MARRIAGE\n",
       "0      One where the husband and wife both have jobs ...\n",
       "1      One where the husband provides for the family ...\n",
       "2      One where the husband provides for the family ...\n",
       "3      One where the husband and wife both have jobs ...\n",
       "4      One where the husband and wife both have jobs ...\n",
       "...                                                  ...\n",
       "38421  One where the husband provides for the family ...\n",
       "38422  One where the husband and wife both have jobs ...\n",
       "38423  One where the husband and wife both have jobs ...\n",
       "38424  One where the husband and wife both have jobs ...\n",
       "38425  One where the husband and wife both have jobs ...\n",
       "\n",
       "[38426 rows x 1 columns]"
      ]
     },
     "execution_count": 12,
     "metadata": {},
     "output_type": "execute_result"
    }
   ],
   "source": [
    "pew_spring_2019_selected.loc[:, ['KIND_OF_MARRIAGE']]"
   ]
  },
  {
   "cell_type": "markdown",
   "id": "547843f3-aeb4-4ff7-9ced-5c8a0dcb7c0e",
   "metadata": {},
   "source": [
    "# Data transformation"
   ]
  },
  {
   "cell_type": "markdown",
   "id": "aeb1f7ea",
   "metadata": {},
   "source": [
    "## Cleaning the data"
   ]
  },
  {
   "cell_type": "code",
   "execution_count": 21,
   "id": "16e7a118",
   "metadata": {
    "scrolled": true
   },
   "outputs": [],
   "source": [
    "wvs7_clean = wvs7_selected.loc[(wvs7_selected['Q262'] > 0) & \n",
    "                  (wvs7_selected['Q275R'] > 0) & \n",
    "                  (wvs7_selected['Q8'] > 0) & \n",
    "                  (wvs7_selected['Q11'] > 0) & \n",
    "                  (wvs7_selected['Q17'] > 0) & \n",
    "                  (wvs7_selected['Q45'] > 0) & \n",
    "                  (wvs7_selected['Q154'] > 0) & \n",
    "                  (wvs7_selected['Q198'] > 0) & \n",
    "                  (wvs7_selected['Q196'] > 0) & \n",
    "                  (wvs7_selected['Q197'] > 0) & \n",
    "                  (wvs7_selected['Q235'] > 0) & \n",
    "                  (wvs7_selected['Q237'] > 0) & \n",
    "                  (wvs7_selected['Q243'] > 0) & \n",
    "                  (wvs7_selected['Q245'] > 0) &              \n",
    "                  (wvs7_selected['Q246'] > 0) & \n",
    "                  (wvs7_selected['Q248'] > 0) & \n",
    "                  (wvs7_selected['Q106'] > 0) & \n",
    "                  (wvs7_selected['Q107'] > 0) & \n",
    "                  (wvs7_selected['Q108'] > 0) & \n",
    "                  (wvs7_selected['Q109'] > 0) & \n",
    "                  (wvs7_selected['Q110'] > 0) & \n",
    "                  (wvs7_selected['Q241'] > 0) & \n",
    "                  (wvs7_selected['Q244'] > 0) & \n",
    "                  (wvs7_selected['Q247'] > 0) & \n",
    "                  (wvs7_selected['Q29'] > 0) & \n",
    "                  (wvs7_selected['Q31'] > 0) & \n",
    "                  (wvs7_selected['Q33'] > 0) & \n",
    "                  (wvs7_selected['Q249'] > 0) & \n",
    "                  (wvs7_selected['Q182'] > 0) & \n",
    "                  (wvs7_selected['Q186'] > 0) & \n",
    "                  (wvs7_selected['Q193'] > 0) & \n",
    "                  (wvs7_selected['Q183'] > 0) & \n",
    "                  (wvs7_selected['Q6'] > 0) & \n",
    "                  (wvs7_selected['Q164'] > 0) & \n",
    "                  (wvs7_selected['Q173'] > 0) & \n",
    "                  (wvs7_selected['Q242'] > 0) & \n",
    "                  (wvs7_selected['Q163'] > 0) &              \n",
    "                  (wvs7_selected['GDPpercap1'] != 0.0)]"
   ]
  },
  {
   "cell_type": "code",
   "execution_count": 22,
   "id": "24e7c7e1",
   "metadata": {},
   "outputs": [],
   "source": [
    "wvs7_clean = wvs7_clean.dropna()"
   ]
  },
  {
   "cell_type": "markdown",
   "id": "eab7cf02",
   "metadata": {},
   "source": [
    "## Building indices"
   ]
  },
  {
   "cell_type": "code",
   "execution_count": 23,
   "id": "a65eb3f0",
   "metadata": {
    "scrolled": true
   },
   "outputs": [],
   "source": [
    "wvs7_clean['child_qualities'] = ((wvs7_clean['Q8'] * -1 + 2) + (wvs7_clean['Q11'] * -1 + 2) + (wvs7_clean['Q17']/2))/3\n",
    "wvs7_clean['authority'] = wvs7_clean['Q45']/3\n",
    "def aims_recoder(Q154):\n",
    "    if Q154 == 4:\n",
    "        return 1\n",
    "    else:\n",
    "        return 0\n",
    "wvs7_clean['aims'] = wvs7_clean['Q154'].apply(aims_recoder)\n",
    "wvs7_clean['privacy'] = (wvs7_clean['Q198']/4 + wvs7_clean['Q196']/4 + wvs7_clean['Q197']/4)/3\n",
    "wvs7_clean['political_system'] = (wvs7_clean['Q235']/4 + wvs7_clean['Q237']/4)/2\n",
    "wvs7_clean['democracy'] = (wvs7_clean['Q243']/10 + (wvs7_clean['Q245']*-1 + 10)/10 + wvs7_clean['Q246']/10 + (wvs7_clean['Q248']*-1 + 10)/10)/4\n",
    "wvs7_clean['civil_liberties'] = (wvs7_clean['child_qualities'] + wvs7_clean['authority'] + wvs7_clean['aims'] + wvs7_clean['privacy'] + wvs7_clean['political_system'] + wvs7_clean['democracy'])/6\n",
    "wvs7_clean['free_market'] = (wvs7_clean['Q106'] + (wvs7_clean['Q107']*-1+10) + wvs7_clean['Q108'] + wvs7_clean['Q109'] + (wvs7_clean['Q110']*-1+10) + (wvs7_clean['Q241']*-1+10) + (wvs7_clean['Q244']*-1+10) + (wvs7_clean['Q247']*-1+10))/8\n",
    "wvs7_clean['gender_equality'] = (wvs7_clean['Q29']/4 + wvs7_clean['Q31']/4 + wvs7_clean['Q33']/5 + wvs7_clean['Q249']/10)/4\n",
    "wvs7_clean['sexuality'] = (wvs7_clean['Q182']/10 + wvs7_clean['Q186']/10 + wvs7_clean['Q193']/10 + wvs7_clean['Q183']/10)/4\n",
    "wvs7_clean['religion'] = ((wvs7_clean['Q6']*-1+5)/4 + wvs7_clean['Q164']/10 + wvs7_clean['Q173']/3 + wvs7_clean['Q242']/10)/4\n",
    "wvs7_clean['science_and_technology'] = wvs7_clean['Q163']/10"
   ]
  },
  {
   "cell_type": "code",
   "execution_count": 24,
   "id": "e84578a7",
   "metadata": {},
   "outputs": [],
   "source": [
    "wvs7_clean['progressivism'] = (wvs7_clean['gender_equality'] + wvs7_clean['sexuality'] + (wvs7_clean['religion']*-1+1))/3"
   ]
  },
  {
   "cell_type": "markdown",
   "id": "e2d85cc4",
   "metadata": {},
   "source": [
    "### Pew Research Center (PWC)'s Global Attitudes Survey (GAS)"
   ]
  },
  {
   "cell_type": "markdown",
   "id": "a832cd1f",
   "metadata": {},
   "source": [
    "#### Extracting data: gender equality and US favorability"
   ]
  },
  {
   "cell_type": "code",
   "execution_count": 71,
   "id": "3dbefc86",
   "metadata": {},
   "outputs": [],
   "source": [
    "gender_us = pew_spring_2019_selected.loc[:, ['country', 'GENDER_EQUALITY', 'KIND_OF_MARRIAGE', 'WOMEN_JOB', 'FAV_US', 'FAV_CHINA', 'FAV_RUSSIA', 'FAV_EU']]"
   ]
  },
  {
   "cell_type": "code",
   "execution_count": 110,
   "id": "da82dc1f",
   "metadata": {},
   "outputs": [],
   "source": [
    "religion_country_images = pew_spring_2019_selected.loc[:, ['country', 'BELIEVE_GOD', 'RELIG_PRAYER', 'RELIG_GOD', 'RELIGION_IMPORT', 'FAV_US', 'FAV_CHINA', 'FAV_RUSSIA', 'FAV_EU']]"
   ]
  },
  {
   "cell_type": "code",
   "execution_count": 145,
   "id": "b9159dd0",
   "metadata": {},
   "outputs": [],
   "source": [
    "acceptance_homosexuality_country_images = pew_spring_2019_selected.loc[:, ['country', 'HOMOSEXUALITY', 'FAV_US', 'FAV_CHINA', 'FAV_RUSSIA', 'FAV_EU']]"
   ]
  },
  {
   "cell_type": "code",
   "execution_count": 72,
   "id": "2bd7f7a5",
   "metadata": {
    "scrolled": true
   },
   "outputs": [
    {
     "data": {
      "text/html": [
       "<div>\n",
       "<style scoped>\n",
       "    .dataframe tbody tr th:only-of-type {\n",
       "        vertical-align: middle;\n",
       "    }\n",
       "\n",
       "    .dataframe tbody tr th {\n",
       "        vertical-align: top;\n",
       "    }\n",
       "\n",
       "    .dataframe thead th {\n",
       "        text-align: right;\n",
       "    }\n",
       "</style>\n",
       "<table border=\"1\" class=\"dataframe\">\n",
       "  <thead>\n",
       "    <tr style=\"text-align: right;\">\n",
       "      <th></th>\n",
       "      <th>country</th>\n",
       "      <th>GENDER_EQUALITY</th>\n",
       "      <th>KIND_OF_MARRIAGE</th>\n",
       "      <th>WOMEN_JOB</th>\n",
       "      <th>FAV_US</th>\n",
       "      <th>FAV_CHINA</th>\n",
       "      <th>FAV_RUSSIA</th>\n",
       "      <th>FAV_EU</th>\n",
       "    </tr>\n",
       "  </thead>\n",
       "  <tbody>\n",
       "    <tr>\n",
       "      <th>0</th>\n",
       "      <td>Argentina</td>\n",
       "      <td>Very important</td>\n",
       "      <td>One where the husband and wife both have jobs ...</td>\n",
       "      <td>Mostly disagree</td>\n",
       "      <td>Somewhat unfavorable</td>\n",
       "      <td>Somewhat unfavorable</td>\n",
       "      <td>Don’t know (DO NOT READ)</td>\n",
       "      <td>Don’t know (DO NOT READ)</td>\n",
       "    </tr>\n",
       "    <tr>\n",
       "      <th>1</th>\n",
       "      <td>Argentina</td>\n",
       "      <td>Very important</td>\n",
       "      <td>One where the husband provides for the family ...</td>\n",
       "      <td>Completely agree</td>\n",
       "      <td>Very favorable</td>\n",
       "      <td>Very favorable</td>\n",
       "      <td>Very favorable</td>\n",
       "      <td>Very favorable</td>\n",
       "    </tr>\n",
       "    <tr>\n",
       "      <th>2</th>\n",
       "      <td>Argentina</td>\n",
       "      <td>Very important</td>\n",
       "      <td>One where the husband provides for the family ...</td>\n",
       "      <td>Completely disagree</td>\n",
       "      <td>Somewhat unfavorable</td>\n",
       "      <td>Very unfavorable</td>\n",
       "      <td>Very unfavorable</td>\n",
       "      <td>Very unfavorable</td>\n",
       "    </tr>\n",
       "    <tr>\n",
       "      <th>3</th>\n",
       "      <td>Argentina</td>\n",
       "      <td>Very important</td>\n",
       "      <td>One where the husband and wife both have jobs ...</td>\n",
       "      <td>Completely disagree</td>\n",
       "      <td>Very favorable</td>\n",
       "      <td>Somewhat unfavorable</td>\n",
       "      <td>Very favorable</td>\n",
       "      <td>Very favorable</td>\n",
       "    </tr>\n",
       "    <tr>\n",
       "      <th>4</th>\n",
       "      <td>Argentina</td>\n",
       "      <td>Very important</td>\n",
       "      <td>One where the husband and wife both have jobs ...</td>\n",
       "      <td>Mostly disagree</td>\n",
       "      <td>Very unfavorable</td>\n",
       "      <td>Very favorable</td>\n",
       "      <td>Very unfavorable</td>\n",
       "      <td>Somewhat favorable</td>\n",
       "    </tr>\n",
       "    <tr>\n",
       "      <th>...</th>\n",
       "      <td>...</td>\n",
       "      <td>...</td>\n",
       "      <td>...</td>\n",
       "      <td>...</td>\n",
       "      <td>...</td>\n",
       "      <td>...</td>\n",
       "      <td>...</td>\n",
       "      <td>...</td>\n",
       "    </tr>\n",
       "    <tr>\n",
       "      <th>38421</th>\n",
       "      <td>United States</td>\n",
       "      <td>Very important</td>\n",
       "      <td>One where the husband provides for the family ...</td>\n",
       "      <td>Completely disagree</td>\n",
       "      <td>Very favorable</td>\n",
       "      <td>Somewhat unfavorable</td>\n",
       "      <td>Somewhat unfavorable</td>\n",
       "      <td>Very unfavorable</td>\n",
       "    </tr>\n",
       "    <tr>\n",
       "      <th>38422</th>\n",
       "      <td>United States</td>\n",
       "      <td>Very important</td>\n",
       "      <td>One where the husband and wife both have jobs ...</td>\n",
       "      <td>Completely disagree</td>\n",
       "      <td>Very favorable</td>\n",
       "      <td>Somewhat favorable</td>\n",
       "      <td>Somewhat unfavorable</td>\n",
       "      <td>Somewhat unfavorable</td>\n",
       "    </tr>\n",
       "    <tr>\n",
       "      <th>38423</th>\n",
       "      <td>United States</td>\n",
       "      <td>Very important</td>\n",
       "      <td>One where the husband and wife both have jobs ...</td>\n",
       "      <td>Mostly agree</td>\n",
       "      <td>Very favorable</td>\n",
       "      <td>Somewhat unfavorable</td>\n",
       "      <td>Somewhat unfavorable</td>\n",
       "      <td>Somewhat unfavorable</td>\n",
       "    </tr>\n",
       "    <tr>\n",
       "      <th>38424</th>\n",
       "      <td>United States</td>\n",
       "      <td>Very important</td>\n",
       "      <td>One where the husband and wife both have jobs ...</td>\n",
       "      <td>Mostly disagree</td>\n",
       "      <td>Very favorable</td>\n",
       "      <td>Somewhat unfavorable</td>\n",
       "      <td>Somewhat unfavorable</td>\n",
       "      <td>Somewhat favorable</td>\n",
       "    </tr>\n",
       "    <tr>\n",
       "      <th>38425</th>\n",
       "      <td>United States</td>\n",
       "      <td>Very important</td>\n",
       "      <td>One where the husband and wife both have jobs ...</td>\n",
       "      <td>Completely disagree</td>\n",
       "      <td>Somewhat unfavorable</td>\n",
       "      <td>Don’t know (DO NOT READ)</td>\n",
       "      <td>Don’t know (DO NOT READ)</td>\n",
       "      <td>Somewhat unfavorable</td>\n",
       "    </tr>\n",
       "  </tbody>\n",
       "</table>\n",
       "<p>38426 rows × 8 columns</p>\n",
       "</div>"
      ],
      "text/plain": [
       "             country GENDER_EQUALITY  \\\n",
       "0          Argentina  Very important   \n",
       "1          Argentina  Very important   \n",
       "2          Argentina  Very important   \n",
       "3          Argentina  Very important   \n",
       "4          Argentina  Very important   \n",
       "...              ...             ...   \n",
       "38421  United States  Very important   \n",
       "38422  United States  Very important   \n",
       "38423  United States  Very important   \n",
       "38424  United States  Very important   \n",
       "38425  United States  Very important   \n",
       "\n",
       "                                        KIND_OF_MARRIAGE            WOMEN_JOB  \\\n",
       "0      One where the husband and wife both have jobs ...      Mostly disagree   \n",
       "1      One where the husband provides for the family ...     Completely agree   \n",
       "2      One where the husband provides for the family ...  Completely disagree   \n",
       "3      One where the husband and wife both have jobs ...  Completely disagree   \n",
       "4      One where the husband and wife both have jobs ...      Mostly disagree   \n",
       "...                                                  ...                  ...   \n",
       "38421  One where the husband provides for the family ...  Completely disagree   \n",
       "38422  One where the husband and wife both have jobs ...  Completely disagree   \n",
       "38423  One where the husband and wife both have jobs ...         Mostly agree   \n",
       "38424  One where the husband and wife both have jobs ...      Mostly disagree   \n",
       "38425  One where the husband and wife both have jobs ...  Completely disagree   \n",
       "\n",
       "                     FAV_US                 FAV_CHINA  \\\n",
       "0      Somewhat unfavorable      Somewhat unfavorable   \n",
       "1            Very favorable            Very favorable   \n",
       "2      Somewhat unfavorable          Very unfavorable   \n",
       "3            Very favorable      Somewhat unfavorable   \n",
       "4          Very unfavorable            Very favorable   \n",
       "...                     ...                       ...   \n",
       "38421        Very favorable      Somewhat unfavorable   \n",
       "38422        Very favorable        Somewhat favorable   \n",
       "38423        Very favorable      Somewhat unfavorable   \n",
       "38424        Very favorable      Somewhat unfavorable   \n",
       "38425  Somewhat unfavorable  Don’t know (DO NOT READ)   \n",
       "\n",
       "                     FAV_RUSSIA                    FAV_EU  \n",
       "0      Don’t know (DO NOT READ)  Don’t know (DO NOT READ)  \n",
       "1                Very favorable            Very favorable  \n",
       "2              Very unfavorable          Very unfavorable  \n",
       "3                Very favorable            Very favorable  \n",
       "4              Very unfavorable        Somewhat favorable  \n",
       "...                         ...                       ...  \n",
       "38421      Somewhat unfavorable          Very unfavorable  \n",
       "38422      Somewhat unfavorable      Somewhat unfavorable  \n",
       "38423      Somewhat unfavorable      Somewhat unfavorable  \n",
       "38424      Somewhat unfavorable        Somewhat favorable  \n",
       "38425  Don’t know (DO NOT READ)      Somewhat unfavorable  \n",
       "\n",
       "[38426 rows x 8 columns]"
      ]
     },
     "execution_count": 72,
     "metadata": {},
     "output_type": "execute_result"
    }
   ],
   "source": [
    "gender_us"
   ]
  },
  {
   "cell_type": "code",
   "execution_count": 111,
   "id": "08356088",
   "metadata": {
    "scrolled": true
   },
   "outputs": [
    {
     "data": {
      "text/html": [
       "<div>\n",
       "<style scoped>\n",
       "    .dataframe tbody tr th:only-of-type {\n",
       "        vertical-align: middle;\n",
       "    }\n",
       "\n",
       "    .dataframe tbody tr th {\n",
       "        vertical-align: top;\n",
       "    }\n",
       "\n",
       "    .dataframe thead th {\n",
       "        text-align: right;\n",
       "    }\n",
       "</style>\n",
       "<table border=\"1\" class=\"dataframe\">\n",
       "  <thead>\n",
       "    <tr style=\"text-align: right;\">\n",
       "      <th></th>\n",
       "      <th>country</th>\n",
       "      <th>BELIEVE_GOD</th>\n",
       "      <th>RELIG_PRAYER</th>\n",
       "      <th>RELIG_GOD</th>\n",
       "      <th>RELIGION_IMPORT</th>\n",
       "      <th>FAV_US</th>\n",
       "      <th>FAV_CHINA</th>\n",
       "      <th>FAV_RUSSIA</th>\n",
       "      <th>FAV_EU</th>\n",
       "    </tr>\n",
       "  </thead>\n",
       "  <tbody>\n",
       "    <tr>\n",
       "      <th>0</th>\n",
       "      <td>Argentina</td>\n",
       "      <td>It is necessary to believe in God in order to ...</td>\n",
       "      <td>Completely disagree</td>\n",
       "      <td>Completely agree</td>\n",
       "      <td>Very important</td>\n",
       "      <td>Somewhat unfavorable</td>\n",
       "      <td>Somewhat unfavorable</td>\n",
       "      <td>Don’t know (DO NOT READ)</td>\n",
       "      <td>Don’t know (DO NOT READ)</td>\n",
       "    </tr>\n",
       "    <tr>\n",
       "      <th>1</th>\n",
       "      <td>Argentina</td>\n",
       "      <td>It is necessary to believe in God in order to ...</td>\n",
       "      <td>Mostly disagree</td>\n",
       "      <td>Mostly agree</td>\n",
       "      <td>Very important</td>\n",
       "      <td>Very favorable</td>\n",
       "      <td>Very favorable</td>\n",
       "      <td>Very favorable</td>\n",
       "      <td>Very favorable</td>\n",
       "    </tr>\n",
       "    <tr>\n",
       "      <th>2</th>\n",
       "      <td>Argentina</td>\n",
       "      <td>It is not necessary to believe in God in order...</td>\n",
       "      <td>Mostly agree</td>\n",
       "      <td>Mostly agree</td>\n",
       "      <td>Not too important</td>\n",
       "      <td>Somewhat unfavorable</td>\n",
       "      <td>Very unfavorable</td>\n",
       "      <td>Very unfavorable</td>\n",
       "      <td>Very unfavorable</td>\n",
       "    </tr>\n",
       "    <tr>\n",
       "      <th>3</th>\n",
       "      <td>Argentina</td>\n",
       "      <td>It is not necessary to believe in God in order...</td>\n",
       "      <td>Mostly disagree</td>\n",
       "      <td>Mostly disagree</td>\n",
       "      <td>Not at all important</td>\n",
       "      <td>Very favorable</td>\n",
       "      <td>Somewhat unfavorable</td>\n",
       "      <td>Very favorable</td>\n",
       "      <td>Very favorable</td>\n",
       "    </tr>\n",
       "    <tr>\n",
       "      <th>4</th>\n",
       "      <td>Argentina</td>\n",
       "      <td>It is necessary to believe in God in order to ...</td>\n",
       "      <td>Mostly agree</td>\n",
       "      <td>Mostly agree</td>\n",
       "      <td>Very important</td>\n",
       "      <td>Very unfavorable</td>\n",
       "      <td>Very favorable</td>\n",
       "      <td>Very unfavorable</td>\n",
       "      <td>Somewhat favorable</td>\n",
       "    </tr>\n",
       "    <tr>\n",
       "      <th>...</th>\n",
       "      <td>...</td>\n",
       "      <td>...</td>\n",
       "      <td>...</td>\n",
       "      <td>...</td>\n",
       "      <td>...</td>\n",
       "      <td>...</td>\n",
       "      <td>...</td>\n",
       "      <td>...</td>\n",
       "      <td>...</td>\n",
       "    </tr>\n",
       "    <tr>\n",
       "      <th>38421</th>\n",
       "      <td>United States</td>\n",
       "      <td>It is necessary to believe in God in order to ...</td>\n",
       "      <td>Completely agree</td>\n",
       "      <td>Completely agree</td>\n",
       "      <td>Very important</td>\n",
       "      <td>Very favorable</td>\n",
       "      <td>Somewhat unfavorable</td>\n",
       "      <td>Somewhat unfavorable</td>\n",
       "      <td>Very unfavorable</td>\n",
       "    </tr>\n",
       "    <tr>\n",
       "      <th>38422</th>\n",
       "      <td>United States</td>\n",
       "      <td>It is not necessary to believe in God in order...</td>\n",
       "      <td>Mostly agree</td>\n",
       "      <td>Mostly agree</td>\n",
       "      <td>Somewhat important</td>\n",
       "      <td>Very favorable</td>\n",
       "      <td>Somewhat favorable</td>\n",
       "      <td>Somewhat unfavorable</td>\n",
       "      <td>Somewhat unfavorable</td>\n",
       "    </tr>\n",
       "    <tr>\n",
       "      <th>38423</th>\n",
       "      <td>United States</td>\n",
       "      <td>It is necessary to believe in God in order to ...</td>\n",
       "      <td>Mostly agree</td>\n",
       "      <td>Completely agree</td>\n",
       "      <td>Very important</td>\n",
       "      <td>Very favorable</td>\n",
       "      <td>Somewhat unfavorable</td>\n",
       "      <td>Somewhat unfavorable</td>\n",
       "      <td>Somewhat unfavorable</td>\n",
       "    </tr>\n",
       "    <tr>\n",
       "      <th>38424</th>\n",
       "      <td>United States</td>\n",
       "      <td>It is not necessary to believe in God in order...</td>\n",
       "      <td>Mostly disagree</td>\n",
       "      <td>Mostly agree</td>\n",
       "      <td>Somewhat important</td>\n",
       "      <td>Very favorable</td>\n",
       "      <td>Somewhat unfavorable</td>\n",
       "      <td>Somewhat unfavorable</td>\n",
       "      <td>Somewhat favorable</td>\n",
       "    </tr>\n",
       "    <tr>\n",
       "      <th>38425</th>\n",
       "      <td>United States</td>\n",
       "      <td>Refused (DO NOT READ)</td>\n",
       "      <td>Completely agree</td>\n",
       "      <td>Completely agree</td>\n",
       "      <td>Refused (DO NOT READ)</td>\n",
       "      <td>Somewhat unfavorable</td>\n",
       "      <td>Don’t know (DO NOT READ)</td>\n",
       "      <td>Don’t know (DO NOT READ)</td>\n",
       "      <td>Somewhat unfavorable</td>\n",
       "    </tr>\n",
       "  </tbody>\n",
       "</table>\n",
       "<p>38426 rows × 9 columns</p>\n",
       "</div>"
      ],
      "text/plain": [
       "             country                                        BELIEVE_GOD  \\\n",
       "0          Argentina  It is necessary to believe in God in order to ...   \n",
       "1          Argentina  It is necessary to believe in God in order to ...   \n",
       "2          Argentina  It is not necessary to believe in God in order...   \n",
       "3          Argentina  It is not necessary to believe in God in order...   \n",
       "4          Argentina  It is necessary to believe in God in order to ...   \n",
       "...              ...                                                ...   \n",
       "38421  United States  It is necessary to believe in God in order to ...   \n",
       "38422  United States  It is not necessary to believe in God in order...   \n",
       "38423  United States  It is necessary to believe in God in order to ...   \n",
       "38424  United States  It is not necessary to believe in God in order...   \n",
       "38425  United States                              Refused (DO NOT READ)   \n",
       "\n",
       "              RELIG_PRAYER         RELIG_GOD        RELIGION_IMPORT  \\\n",
       "0      Completely disagree  Completely agree         Very important   \n",
       "1          Mostly disagree      Mostly agree         Very important   \n",
       "2             Mostly agree      Mostly agree      Not too important   \n",
       "3          Mostly disagree   Mostly disagree   Not at all important   \n",
       "4             Mostly agree      Mostly agree         Very important   \n",
       "...                    ...               ...                    ...   \n",
       "38421     Completely agree  Completely agree         Very important   \n",
       "38422         Mostly agree      Mostly agree     Somewhat important   \n",
       "38423         Mostly agree  Completely agree         Very important   \n",
       "38424      Mostly disagree      Mostly agree     Somewhat important   \n",
       "38425     Completely agree  Completely agree  Refused (DO NOT READ)   \n",
       "\n",
       "                     FAV_US                 FAV_CHINA  \\\n",
       "0      Somewhat unfavorable      Somewhat unfavorable   \n",
       "1            Very favorable            Very favorable   \n",
       "2      Somewhat unfavorable          Very unfavorable   \n",
       "3            Very favorable      Somewhat unfavorable   \n",
       "4          Very unfavorable            Very favorable   \n",
       "...                     ...                       ...   \n",
       "38421        Very favorable      Somewhat unfavorable   \n",
       "38422        Very favorable        Somewhat favorable   \n",
       "38423        Very favorable      Somewhat unfavorable   \n",
       "38424        Very favorable      Somewhat unfavorable   \n",
       "38425  Somewhat unfavorable  Don’t know (DO NOT READ)   \n",
       "\n",
       "                     FAV_RUSSIA                    FAV_EU  \n",
       "0      Don’t know (DO NOT READ)  Don’t know (DO NOT READ)  \n",
       "1                Very favorable            Very favorable  \n",
       "2              Very unfavorable          Very unfavorable  \n",
       "3                Very favorable            Very favorable  \n",
       "4              Very unfavorable        Somewhat favorable  \n",
       "...                         ...                       ...  \n",
       "38421      Somewhat unfavorable          Very unfavorable  \n",
       "38422      Somewhat unfavorable      Somewhat unfavorable  \n",
       "38423      Somewhat unfavorable      Somewhat unfavorable  \n",
       "38424      Somewhat unfavorable        Somewhat favorable  \n",
       "38425  Don’t know (DO NOT READ)      Somewhat unfavorable  \n",
       "\n",
       "[38426 rows x 9 columns]"
      ]
     },
     "execution_count": 111,
     "metadata": {},
     "output_type": "execute_result"
    }
   ],
   "source": [
    "religion_country_images"
   ]
  },
  {
   "cell_type": "code",
   "execution_count": 146,
   "id": "8b3eb09e",
   "metadata": {
    "scrolled": true
   },
   "outputs": [
    {
     "data": {
      "text/html": [
       "<div>\n",
       "<style scoped>\n",
       "    .dataframe tbody tr th:only-of-type {\n",
       "        vertical-align: middle;\n",
       "    }\n",
       "\n",
       "    .dataframe tbody tr th {\n",
       "        vertical-align: top;\n",
       "    }\n",
       "\n",
       "    .dataframe thead th {\n",
       "        text-align: right;\n",
       "    }\n",
       "</style>\n",
       "<table border=\"1\" class=\"dataframe\">\n",
       "  <thead>\n",
       "    <tr style=\"text-align: right;\">\n",
       "      <th></th>\n",
       "      <th>country</th>\n",
       "      <th>HOMOSEXUALITY</th>\n",
       "      <th>FAV_US</th>\n",
       "      <th>FAV_CHINA</th>\n",
       "      <th>FAV_RUSSIA</th>\n",
       "      <th>FAV_EU</th>\n",
       "    </tr>\n",
       "  </thead>\n",
       "  <tbody>\n",
       "    <tr>\n",
       "      <th>0</th>\n",
       "      <td>Argentina</td>\n",
       "      <td>Homosexuality should be accepted by society</td>\n",
       "      <td>Somewhat unfavorable</td>\n",
       "      <td>Somewhat unfavorable</td>\n",
       "      <td>Don’t know (DO NOT READ)</td>\n",
       "      <td>Don’t know (DO NOT READ)</td>\n",
       "    </tr>\n",
       "    <tr>\n",
       "      <th>1</th>\n",
       "      <td>Argentina</td>\n",
       "      <td>Homosexuality should be accepted by society</td>\n",
       "      <td>Very favorable</td>\n",
       "      <td>Very favorable</td>\n",
       "      <td>Very favorable</td>\n",
       "      <td>Very favorable</td>\n",
       "    </tr>\n",
       "    <tr>\n",
       "      <th>2</th>\n",
       "      <td>Argentina</td>\n",
       "      <td>Homosexuality should be accepted by society</td>\n",
       "      <td>Somewhat unfavorable</td>\n",
       "      <td>Very unfavorable</td>\n",
       "      <td>Very unfavorable</td>\n",
       "      <td>Very unfavorable</td>\n",
       "    </tr>\n",
       "    <tr>\n",
       "      <th>3</th>\n",
       "      <td>Argentina</td>\n",
       "      <td>Homosexuality should be accepted by society</td>\n",
       "      <td>Very favorable</td>\n",
       "      <td>Somewhat unfavorable</td>\n",
       "      <td>Very favorable</td>\n",
       "      <td>Very favorable</td>\n",
       "    </tr>\n",
       "    <tr>\n",
       "      <th>4</th>\n",
       "      <td>Argentina</td>\n",
       "      <td>Refused (DO NOT READ)</td>\n",
       "      <td>Very unfavorable</td>\n",
       "      <td>Very favorable</td>\n",
       "      <td>Very unfavorable</td>\n",
       "      <td>Somewhat favorable</td>\n",
       "    </tr>\n",
       "    <tr>\n",
       "      <th>...</th>\n",
       "      <td>...</td>\n",
       "      <td>...</td>\n",
       "      <td>...</td>\n",
       "      <td>...</td>\n",
       "      <td>...</td>\n",
       "      <td>...</td>\n",
       "    </tr>\n",
       "    <tr>\n",
       "      <th>38421</th>\n",
       "      <td>United States</td>\n",
       "      <td>Homosexuality should not be accepted by society</td>\n",
       "      <td>Very favorable</td>\n",
       "      <td>Somewhat unfavorable</td>\n",
       "      <td>Somewhat unfavorable</td>\n",
       "      <td>Very unfavorable</td>\n",
       "    </tr>\n",
       "    <tr>\n",
       "      <th>38422</th>\n",
       "      <td>United States</td>\n",
       "      <td>Homosexuality should be accepted by society</td>\n",
       "      <td>Very favorable</td>\n",
       "      <td>Somewhat favorable</td>\n",
       "      <td>Somewhat unfavorable</td>\n",
       "      <td>Somewhat unfavorable</td>\n",
       "    </tr>\n",
       "    <tr>\n",
       "      <th>38423</th>\n",
       "      <td>United States</td>\n",
       "      <td>Homosexuality should be accepted by society</td>\n",
       "      <td>Very favorable</td>\n",
       "      <td>Somewhat unfavorable</td>\n",
       "      <td>Somewhat unfavorable</td>\n",
       "      <td>Somewhat unfavorable</td>\n",
       "    </tr>\n",
       "    <tr>\n",
       "      <th>38424</th>\n",
       "      <td>United States</td>\n",
       "      <td>Homosexuality should be accepted by society</td>\n",
       "      <td>Very favorable</td>\n",
       "      <td>Somewhat unfavorable</td>\n",
       "      <td>Somewhat unfavorable</td>\n",
       "      <td>Somewhat favorable</td>\n",
       "    </tr>\n",
       "    <tr>\n",
       "      <th>38425</th>\n",
       "      <td>United States</td>\n",
       "      <td>Refused (DO NOT READ)</td>\n",
       "      <td>Somewhat unfavorable</td>\n",
       "      <td>Don’t know (DO NOT READ)</td>\n",
       "      <td>Don’t know (DO NOT READ)</td>\n",
       "      <td>Somewhat unfavorable</td>\n",
       "    </tr>\n",
       "  </tbody>\n",
       "</table>\n",
       "<p>38426 rows × 6 columns</p>\n",
       "</div>"
      ],
      "text/plain": [
       "             country                                    HOMOSEXUALITY  \\\n",
       "0          Argentina      Homosexuality should be accepted by society   \n",
       "1          Argentina      Homosexuality should be accepted by society   \n",
       "2          Argentina      Homosexuality should be accepted by society   \n",
       "3          Argentina      Homosexuality should be accepted by society   \n",
       "4          Argentina                            Refused (DO NOT READ)   \n",
       "...              ...                                              ...   \n",
       "38421  United States  Homosexuality should not be accepted by society   \n",
       "38422  United States      Homosexuality should be accepted by society   \n",
       "38423  United States      Homosexuality should be accepted by society   \n",
       "38424  United States      Homosexuality should be accepted by society   \n",
       "38425  United States                            Refused (DO NOT READ)   \n",
       "\n",
       "                     FAV_US                 FAV_CHINA  \\\n",
       "0      Somewhat unfavorable      Somewhat unfavorable   \n",
       "1            Very favorable            Very favorable   \n",
       "2      Somewhat unfavorable          Very unfavorable   \n",
       "3            Very favorable      Somewhat unfavorable   \n",
       "4          Very unfavorable            Very favorable   \n",
       "...                     ...                       ...   \n",
       "38421        Very favorable      Somewhat unfavorable   \n",
       "38422        Very favorable        Somewhat favorable   \n",
       "38423        Very favorable      Somewhat unfavorable   \n",
       "38424        Very favorable      Somewhat unfavorable   \n",
       "38425  Somewhat unfavorable  Don’t know (DO NOT READ)   \n",
       "\n",
       "                     FAV_RUSSIA                    FAV_EU  \n",
       "0      Don’t know (DO NOT READ)  Don’t know (DO NOT READ)  \n",
       "1                Very favorable            Very favorable  \n",
       "2              Very unfavorable          Very unfavorable  \n",
       "3                Very favorable            Very favorable  \n",
       "4              Very unfavorable        Somewhat favorable  \n",
       "...                         ...                       ...  \n",
       "38421      Somewhat unfavorable          Very unfavorable  \n",
       "38422      Somewhat unfavorable      Somewhat unfavorable  \n",
       "38423      Somewhat unfavorable      Somewhat unfavorable  \n",
       "38424      Somewhat unfavorable        Somewhat favorable  \n",
       "38425  Don’t know (DO NOT READ)      Somewhat unfavorable  \n",
       "\n",
       "[38426 rows x 6 columns]"
      ]
     },
     "execution_count": 146,
     "metadata": {},
     "output_type": "execute_result"
    }
   ],
   "source": [
    "acceptance_homosexuality_country_images"
   ]
  },
  {
   "cell_type": "markdown",
   "id": "701370f1",
   "metadata": {},
   "source": [
    "#### Recoders"
   ]
  },
  {
   "cell_type": "code",
   "execution_count": 147,
   "id": "93e2e5b8",
   "metadata": {},
   "outputs": [],
   "source": [
    "def importance_recoder(item):\n",
    "    if item == 'Very important':\n",
    "        return 1\n",
    "    if item == 'Somewhat important':\n",
    "        return 0.66\n",
    "    if item == 'Not too important':\n",
    "        return 0.33\n",
    "    if item == 'Not important at all':\n",
    "        return 0\n",
    "    else:\n",
    "        return None\n",
    "        \n",
    "def agreement_recoder(item):\n",
    "    if item == 'Completely agree':\n",
    "        return 1\n",
    "    if item == 'Mostly agree':\n",
    "        return 0.66\n",
    "    if item == 'Mostly disagree':\n",
    "        return 0.33\n",
    "    if item == 'Completely disagree':\n",
    "        return 0\n",
    "    else:\n",
    "        return None\n",
    "    \n",
    "def favorability_recoder(item):\n",
    "    if item == 'Very favorable':\n",
    "        return 1\n",
    "    if item == 'Somewhat favorable':\n",
    "        return 0.66\n",
    "    if item == 'Somewhat unfavorable':\n",
    "        return 0.33\n",
    "    if item == 'Very unfavorable':\n",
    "        return 0\n",
    "    else:\n",
    "        return None\n",
    "    \n",
    "def kind_of_marriage_recoder(item):\n",
    "    if item == 'One where the husband provides for the family and the wife takes care of the house and children':\n",
    "        return 0\n",
    "    if item == 'One where the husband and wife both have jobs and together take care of the house and children':\n",
    "        return 1\n",
    "    else:\n",
    "        return None\n",
    "\n",
    "def necessary_to_believe(item):\n",
    "    if item == 'It is not necessary to believe in God in order to be moral and have good values':\n",
    "        return 0\n",
    "    if item == 'It is necessary to believe in God in order to be moral and have good values':\n",
    "        return 1\n",
    "    else:\n",
    "        return None\n",
    "\n",
    "def acceptance_homosexuality(item):\n",
    "    if item == 'Homosexuality should be accepted by society':\n",
    "        return 1\n",
    "    if item == 'Homosexuality should not be accepted by society':\n",
    "        return 0\n",
    "    else:\n",
    "        return None"
   ]
  },
  {
   "cell_type": "markdown",
   "id": "967a00f3",
   "metadata": {},
   "source": [
    "#### Recoding data: gender equality and US favorability"
   ]
  },
  {
   "cell_type": "code",
   "execution_count": 74,
   "id": "13a7158c",
   "metadata": {},
   "outputs": [],
   "source": [
    "gender_us['gender_equality_rec'] = gender_us['GENDER_EQUALITY'].apply(importance_recoder)"
   ]
  },
  {
   "cell_type": "code",
   "execution_count": 75,
   "id": "2ad62be0",
   "metadata": {},
   "outputs": [],
   "source": [
    "gender_us['kind_of_marriage_rec'] = gender_us['KIND_OF_MARRIAGE'].apply(kind_of_marriage_recoder)"
   ]
  },
  {
   "cell_type": "code",
   "execution_count": 76,
   "id": "12c7fd31",
   "metadata": {},
   "outputs": [],
   "source": [
    "gender_us['women_job_rec'] = gender_us['WOMEN_JOB'].apply(agreement_recoder)"
   ]
  },
  {
   "cell_type": "code",
   "execution_count": 114,
   "id": "90d618c1",
   "metadata": {},
   "outputs": [],
   "source": [
    "religion_country_images['necessary_to_believe'] = religion_country_images['BELIEVE_GOD'].apply(necessary_to_believe)"
   ]
  },
  {
   "cell_type": "code",
   "execution_count": 120,
   "id": "81fad796",
   "metadata": {},
   "outputs": [],
   "source": [
    "religion_country_images['importance_of_prayer'] = religion_country_images['RELIG_PRAYER'].apply(agreement_recoder)"
   ]
  },
  {
   "cell_type": "code",
   "execution_count": 121,
   "id": "b52b136c",
   "metadata": {},
   "outputs": [],
   "source": [
    "religion_country_images['importance_of_god'] = religion_country_images['RELIG_GOD'].apply(agreement_recoder)"
   ]
  },
  {
   "cell_type": "code",
   "execution_count": 117,
   "id": "5d8e7565",
   "metadata": {},
   "outputs": [],
   "source": [
    "religion_country_images['importance_of_religion'] = religion_country_images['RELIGION_IMPORT'].apply(importance_recoder)"
   ]
  },
  {
   "cell_type": "code",
   "execution_count": 148,
   "id": "ff2c65f8",
   "metadata": {},
   "outputs": [],
   "source": [
    "acceptance_homosexuality_country_images['accept_homosexuality'] = acceptance_homosexuality_country_images['HOMOSEXUALITY'].apply(acceptance_homosexuality)"
   ]
  },
  {
   "cell_type": "code",
   "execution_count": 77,
   "id": "1ccd57e5",
   "metadata": {},
   "outputs": [],
   "source": [
    "gender_us['fav_us_rec'] = gender_us['FAV_US'].apply(favorability_recoder)\n",
    "gender_us['fav_cn_rec'] = gender_us['FAV_CHINA'].apply(favorability_recoder)\n",
    "gender_us['fav_ru_rec'] = gender_us['FAV_RUSSIA'].apply(favorability_recoder)\n",
    "gender_us['fav_eu_rec'] = gender_us['FAV_EU'].apply(favorability_recoder)"
   ]
  },
  {
   "cell_type": "code",
   "execution_count": 118,
   "id": "7e6763e4",
   "metadata": {},
   "outputs": [],
   "source": [
    "religion_country_images['fav_us_rec'] = religion_country_images['FAV_US'].apply(favorability_recoder)\n",
    "religion_country_images['fav_cn_rec'] = religion_country_images['FAV_CHINA'].apply(favorability_recoder)\n",
    "religion_country_images['fav_ru_rec'] = religion_country_images['FAV_RUSSIA'].apply(favorability_recoder)\n",
    "religion_country_images['fav_eu_rec'] = religion_country_images['FAV_EU'].apply(favorability_recoder)"
   ]
  },
  {
   "cell_type": "code",
   "execution_count": 149,
   "id": "92b3dd75",
   "metadata": {},
   "outputs": [],
   "source": [
    "acceptance_homosexuality_country_images['fav_us_rec'] = acceptance_homosexuality_country_images['FAV_US'].apply(favorability_recoder)\n",
    "acceptance_homosexuality_country_images['fav_cn_rec'] = acceptance_homosexuality_country_images['FAV_CHINA'].apply(favorability_recoder)\n",
    "acceptance_homosexuality_country_images['fav_ru_rec'] = acceptance_homosexuality_country_images['FAV_RUSSIA'].apply(favorability_recoder)\n",
    "acceptance_homosexuality_country_images['fav_eu_rec'] = acceptance_homosexuality_country_images['FAV_EU'].apply(favorability_recoder)"
   ]
  },
  {
   "cell_type": "code",
   "execution_count": 78,
   "id": "8ea8a934",
   "metadata": {
    "scrolled": true
   },
   "outputs": [
    {
     "data": {
      "text/html": [
       "<div>\n",
       "<style scoped>\n",
       "    .dataframe tbody tr th:only-of-type {\n",
       "        vertical-align: middle;\n",
       "    }\n",
       "\n",
       "    .dataframe tbody tr th {\n",
       "        vertical-align: top;\n",
       "    }\n",
       "\n",
       "    .dataframe thead th {\n",
       "        text-align: right;\n",
       "    }\n",
       "</style>\n",
       "<table border=\"1\" class=\"dataframe\">\n",
       "  <thead>\n",
       "    <tr style=\"text-align: right;\">\n",
       "      <th></th>\n",
       "      <th>country</th>\n",
       "      <th>GENDER_EQUALITY</th>\n",
       "      <th>KIND_OF_MARRIAGE</th>\n",
       "      <th>WOMEN_JOB</th>\n",
       "      <th>FAV_US</th>\n",
       "      <th>FAV_CHINA</th>\n",
       "      <th>FAV_RUSSIA</th>\n",
       "      <th>FAV_EU</th>\n",
       "      <th>gender_equality_rec</th>\n",
       "      <th>kind_of_marriage_rec</th>\n",
       "      <th>women_job_rec</th>\n",
       "      <th>fav_us_rec</th>\n",
       "      <th>fav_chn_rec</th>\n",
       "      <th>fav_ru_rec</th>\n",
       "      <th>fav_eu_rec</th>\n",
       "    </tr>\n",
       "  </thead>\n",
       "  <tbody>\n",
       "    <tr>\n",
       "      <th>0</th>\n",
       "      <td>Argentina</td>\n",
       "      <td>Very important</td>\n",
       "      <td>One where the husband and wife both have jobs ...</td>\n",
       "      <td>Mostly disagree</td>\n",
       "      <td>Somewhat unfavorable</td>\n",
       "      <td>Somewhat unfavorable</td>\n",
       "      <td>Don’t know (DO NOT READ)</td>\n",
       "      <td>Don’t know (DO NOT READ)</td>\n",
       "      <td>1.0</td>\n",
       "      <td>1.0</td>\n",
       "      <td>0.33</td>\n",
       "      <td>0.33</td>\n",
       "      <td>0.33</td>\n",
       "      <td>NaN</td>\n",
       "      <td>NaN</td>\n",
       "    </tr>\n",
       "    <tr>\n",
       "      <th>1</th>\n",
       "      <td>Argentina</td>\n",
       "      <td>Very important</td>\n",
       "      <td>One where the husband provides for the family ...</td>\n",
       "      <td>Completely agree</td>\n",
       "      <td>Very favorable</td>\n",
       "      <td>Very favorable</td>\n",
       "      <td>Very favorable</td>\n",
       "      <td>Very favorable</td>\n",
       "      <td>1.0</td>\n",
       "      <td>0.0</td>\n",
       "      <td>1.00</td>\n",
       "      <td>1.00</td>\n",
       "      <td>1.00</td>\n",
       "      <td>1.00</td>\n",
       "      <td>1.00</td>\n",
       "    </tr>\n",
       "    <tr>\n",
       "      <th>2</th>\n",
       "      <td>Argentina</td>\n",
       "      <td>Very important</td>\n",
       "      <td>One where the husband provides for the family ...</td>\n",
       "      <td>Completely disagree</td>\n",
       "      <td>Somewhat unfavorable</td>\n",
       "      <td>Very unfavorable</td>\n",
       "      <td>Very unfavorable</td>\n",
       "      <td>Very unfavorable</td>\n",
       "      <td>1.0</td>\n",
       "      <td>0.0</td>\n",
       "      <td>0.00</td>\n",
       "      <td>0.33</td>\n",
       "      <td>0.00</td>\n",
       "      <td>0.00</td>\n",
       "      <td>0.00</td>\n",
       "    </tr>\n",
       "    <tr>\n",
       "      <th>3</th>\n",
       "      <td>Argentina</td>\n",
       "      <td>Very important</td>\n",
       "      <td>One where the husband and wife both have jobs ...</td>\n",
       "      <td>Completely disagree</td>\n",
       "      <td>Very favorable</td>\n",
       "      <td>Somewhat unfavorable</td>\n",
       "      <td>Very favorable</td>\n",
       "      <td>Very favorable</td>\n",
       "      <td>1.0</td>\n",
       "      <td>1.0</td>\n",
       "      <td>0.00</td>\n",
       "      <td>1.00</td>\n",
       "      <td>0.33</td>\n",
       "      <td>1.00</td>\n",
       "      <td>1.00</td>\n",
       "    </tr>\n",
       "    <tr>\n",
       "      <th>4</th>\n",
       "      <td>Argentina</td>\n",
       "      <td>Very important</td>\n",
       "      <td>One where the husband and wife both have jobs ...</td>\n",
       "      <td>Mostly disagree</td>\n",
       "      <td>Very unfavorable</td>\n",
       "      <td>Very favorable</td>\n",
       "      <td>Very unfavorable</td>\n",
       "      <td>Somewhat favorable</td>\n",
       "      <td>1.0</td>\n",
       "      <td>1.0</td>\n",
       "      <td>0.33</td>\n",
       "      <td>0.00</td>\n",
       "      <td>1.00</td>\n",
       "      <td>0.00</td>\n",
       "      <td>0.66</td>\n",
       "    </tr>\n",
       "    <tr>\n",
       "      <th>...</th>\n",
       "      <td>...</td>\n",
       "      <td>...</td>\n",
       "      <td>...</td>\n",
       "      <td>...</td>\n",
       "      <td>...</td>\n",
       "      <td>...</td>\n",
       "      <td>...</td>\n",
       "      <td>...</td>\n",
       "      <td>...</td>\n",
       "      <td>...</td>\n",
       "      <td>...</td>\n",
       "      <td>...</td>\n",
       "      <td>...</td>\n",
       "      <td>...</td>\n",
       "      <td>...</td>\n",
       "    </tr>\n",
       "    <tr>\n",
       "      <th>38421</th>\n",
       "      <td>United States</td>\n",
       "      <td>Very important</td>\n",
       "      <td>One where the husband provides for the family ...</td>\n",
       "      <td>Completely disagree</td>\n",
       "      <td>Very favorable</td>\n",
       "      <td>Somewhat unfavorable</td>\n",
       "      <td>Somewhat unfavorable</td>\n",
       "      <td>Very unfavorable</td>\n",
       "      <td>1.0</td>\n",
       "      <td>0.0</td>\n",
       "      <td>0.00</td>\n",
       "      <td>1.00</td>\n",
       "      <td>0.33</td>\n",
       "      <td>0.33</td>\n",
       "      <td>0.00</td>\n",
       "    </tr>\n",
       "    <tr>\n",
       "      <th>38422</th>\n",
       "      <td>United States</td>\n",
       "      <td>Very important</td>\n",
       "      <td>One where the husband and wife both have jobs ...</td>\n",
       "      <td>Completely disagree</td>\n",
       "      <td>Very favorable</td>\n",
       "      <td>Somewhat favorable</td>\n",
       "      <td>Somewhat unfavorable</td>\n",
       "      <td>Somewhat unfavorable</td>\n",
       "      <td>1.0</td>\n",
       "      <td>1.0</td>\n",
       "      <td>0.00</td>\n",
       "      <td>1.00</td>\n",
       "      <td>0.66</td>\n",
       "      <td>0.33</td>\n",
       "      <td>0.33</td>\n",
       "    </tr>\n",
       "    <tr>\n",
       "      <th>38423</th>\n",
       "      <td>United States</td>\n",
       "      <td>Very important</td>\n",
       "      <td>One where the husband and wife both have jobs ...</td>\n",
       "      <td>Mostly agree</td>\n",
       "      <td>Very favorable</td>\n",
       "      <td>Somewhat unfavorable</td>\n",
       "      <td>Somewhat unfavorable</td>\n",
       "      <td>Somewhat unfavorable</td>\n",
       "      <td>1.0</td>\n",
       "      <td>1.0</td>\n",
       "      <td>0.66</td>\n",
       "      <td>1.00</td>\n",
       "      <td>0.33</td>\n",
       "      <td>0.33</td>\n",
       "      <td>0.33</td>\n",
       "    </tr>\n",
       "    <tr>\n",
       "      <th>38424</th>\n",
       "      <td>United States</td>\n",
       "      <td>Very important</td>\n",
       "      <td>One where the husband and wife both have jobs ...</td>\n",
       "      <td>Mostly disagree</td>\n",
       "      <td>Very favorable</td>\n",
       "      <td>Somewhat unfavorable</td>\n",
       "      <td>Somewhat unfavorable</td>\n",
       "      <td>Somewhat favorable</td>\n",
       "      <td>1.0</td>\n",
       "      <td>1.0</td>\n",
       "      <td>0.33</td>\n",
       "      <td>1.00</td>\n",
       "      <td>0.33</td>\n",
       "      <td>0.33</td>\n",
       "      <td>0.66</td>\n",
       "    </tr>\n",
       "    <tr>\n",
       "      <th>38425</th>\n",
       "      <td>United States</td>\n",
       "      <td>Very important</td>\n",
       "      <td>One where the husband and wife both have jobs ...</td>\n",
       "      <td>Completely disagree</td>\n",
       "      <td>Somewhat unfavorable</td>\n",
       "      <td>Don’t know (DO NOT READ)</td>\n",
       "      <td>Don’t know (DO NOT READ)</td>\n",
       "      <td>Somewhat unfavorable</td>\n",
       "      <td>1.0</td>\n",
       "      <td>1.0</td>\n",
       "      <td>0.00</td>\n",
       "      <td>0.33</td>\n",
       "      <td>NaN</td>\n",
       "      <td>NaN</td>\n",
       "      <td>0.33</td>\n",
       "    </tr>\n",
       "  </tbody>\n",
       "</table>\n",
       "<p>38426 rows × 15 columns</p>\n",
       "</div>"
      ],
      "text/plain": [
       "             country GENDER_EQUALITY  \\\n",
       "0          Argentina  Very important   \n",
       "1          Argentina  Very important   \n",
       "2          Argentina  Very important   \n",
       "3          Argentina  Very important   \n",
       "4          Argentina  Very important   \n",
       "...              ...             ...   \n",
       "38421  United States  Very important   \n",
       "38422  United States  Very important   \n",
       "38423  United States  Very important   \n",
       "38424  United States  Very important   \n",
       "38425  United States  Very important   \n",
       "\n",
       "                                        KIND_OF_MARRIAGE            WOMEN_JOB  \\\n",
       "0      One where the husband and wife both have jobs ...      Mostly disagree   \n",
       "1      One where the husband provides for the family ...     Completely agree   \n",
       "2      One where the husband provides for the family ...  Completely disagree   \n",
       "3      One where the husband and wife both have jobs ...  Completely disagree   \n",
       "4      One where the husband and wife both have jobs ...      Mostly disagree   \n",
       "...                                                  ...                  ...   \n",
       "38421  One where the husband provides for the family ...  Completely disagree   \n",
       "38422  One where the husband and wife both have jobs ...  Completely disagree   \n",
       "38423  One where the husband and wife both have jobs ...         Mostly agree   \n",
       "38424  One where the husband and wife both have jobs ...      Mostly disagree   \n",
       "38425  One where the husband and wife both have jobs ...  Completely disagree   \n",
       "\n",
       "                     FAV_US                 FAV_CHINA  \\\n",
       "0      Somewhat unfavorable      Somewhat unfavorable   \n",
       "1            Very favorable            Very favorable   \n",
       "2      Somewhat unfavorable          Very unfavorable   \n",
       "3            Very favorable      Somewhat unfavorable   \n",
       "4          Very unfavorable            Very favorable   \n",
       "...                     ...                       ...   \n",
       "38421        Very favorable      Somewhat unfavorable   \n",
       "38422        Very favorable        Somewhat favorable   \n",
       "38423        Very favorable      Somewhat unfavorable   \n",
       "38424        Very favorable      Somewhat unfavorable   \n",
       "38425  Somewhat unfavorable  Don’t know (DO NOT READ)   \n",
       "\n",
       "                     FAV_RUSSIA                    FAV_EU  \\\n",
       "0      Don’t know (DO NOT READ)  Don’t know (DO NOT READ)   \n",
       "1                Very favorable            Very favorable   \n",
       "2              Very unfavorable          Very unfavorable   \n",
       "3                Very favorable            Very favorable   \n",
       "4              Very unfavorable        Somewhat favorable   \n",
       "...                         ...                       ...   \n",
       "38421      Somewhat unfavorable          Very unfavorable   \n",
       "38422      Somewhat unfavorable      Somewhat unfavorable   \n",
       "38423      Somewhat unfavorable      Somewhat unfavorable   \n",
       "38424      Somewhat unfavorable        Somewhat favorable   \n",
       "38425  Don’t know (DO NOT READ)      Somewhat unfavorable   \n",
       "\n",
       "       gender_equality_rec  kind_of_marriage_rec  women_job_rec  fav_us_rec  \\\n",
       "0                      1.0                   1.0           0.33        0.33   \n",
       "1                      1.0                   0.0           1.00        1.00   \n",
       "2                      1.0                   0.0           0.00        0.33   \n",
       "3                      1.0                   1.0           0.00        1.00   \n",
       "4                      1.0                   1.0           0.33        0.00   \n",
       "...                    ...                   ...            ...         ...   \n",
       "38421                  1.0                   0.0           0.00        1.00   \n",
       "38422                  1.0                   1.0           0.00        1.00   \n",
       "38423                  1.0                   1.0           0.66        1.00   \n",
       "38424                  1.0                   1.0           0.33        1.00   \n",
       "38425                  1.0                   1.0           0.00        0.33   \n",
       "\n",
       "       fav_chn_rec  fav_ru_rec  fav_eu_rec  \n",
       "0             0.33         NaN         NaN  \n",
       "1             1.00        1.00        1.00  \n",
       "2             0.00        0.00        0.00  \n",
       "3             0.33        1.00        1.00  \n",
       "4             1.00        0.00        0.66  \n",
       "...            ...         ...         ...  \n",
       "38421         0.33        0.33        0.00  \n",
       "38422         0.66        0.33        0.33  \n",
       "38423         0.33        0.33        0.33  \n",
       "38424         0.33        0.33        0.66  \n",
       "38425          NaN         NaN        0.33  \n",
       "\n",
       "[38426 rows x 15 columns]"
      ]
     },
     "execution_count": 78,
     "metadata": {},
     "output_type": "execute_result"
    }
   ],
   "source": [
    "gender_us"
   ]
  },
  {
   "cell_type": "code",
   "execution_count": 123,
   "id": "f6f06971",
   "metadata": {
    "scrolled": true
   },
   "outputs": [
    {
     "data": {
      "text/html": [
       "<div>\n",
       "<style scoped>\n",
       "    .dataframe tbody tr th:only-of-type {\n",
       "        vertical-align: middle;\n",
       "    }\n",
       "\n",
       "    .dataframe tbody tr th {\n",
       "        vertical-align: top;\n",
       "    }\n",
       "\n",
       "    .dataframe thead th {\n",
       "        text-align: right;\n",
       "    }\n",
       "</style>\n",
       "<table border=\"1\" class=\"dataframe\">\n",
       "  <thead>\n",
       "    <tr style=\"text-align: right;\">\n",
       "      <th></th>\n",
       "      <th>country</th>\n",
       "      <th>BELIEVE_GOD</th>\n",
       "      <th>RELIG_PRAYER</th>\n",
       "      <th>RELIG_GOD</th>\n",
       "      <th>RELIGION_IMPORT</th>\n",
       "      <th>FAV_US</th>\n",
       "      <th>FAV_CHINA</th>\n",
       "      <th>FAV_RUSSIA</th>\n",
       "      <th>FAV_EU</th>\n",
       "      <th>necessary_to_believe</th>\n",
       "      <th>importance_of_prayer</th>\n",
       "      <th>importance_of_god</th>\n",
       "      <th>importance_of_religion</th>\n",
       "      <th>fav_us_rec</th>\n",
       "      <th>fav_cn_rec</th>\n",
       "      <th>fav_ru_rec</th>\n",
       "      <th>fav_eu_rec</th>\n",
       "    </tr>\n",
       "  </thead>\n",
       "  <tbody>\n",
       "    <tr>\n",
       "      <th>0</th>\n",
       "      <td>Argentina</td>\n",
       "      <td>It is necessary to believe in God in order to ...</td>\n",
       "      <td>Completely disagree</td>\n",
       "      <td>Completely agree</td>\n",
       "      <td>Very important</td>\n",
       "      <td>Somewhat unfavorable</td>\n",
       "      <td>Somewhat unfavorable</td>\n",
       "      <td>Don’t know (DO NOT READ)</td>\n",
       "      <td>Don’t know (DO NOT READ)</td>\n",
       "      <td>1.0</td>\n",
       "      <td>0.00</td>\n",
       "      <td>1.00</td>\n",
       "      <td>1.00</td>\n",
       "      <td>0.33</td>\n",
       "      <td>0.33</td>\n",
       "      <td>NaN</td>\n",
       "      <td>NaN</td>\n",
       "    </tr>\n",
       "    <tr>\n",
       "      <th>1</th>\n",
       "      <td>Argentina</td>\n",
       "      <td>It is necessary to believe in God in order to ...</td>\n",
       "      <td>Mostly disagree</td>\n",
       "      <td>Mostly agree</td>\n",
       "      <td>Very important</td>\n",
       "      <td>Very favorable</td>\n",
       "      <td>Very favorable</td>\n",
       "      <td>Very favorable</td>\n",
       "      <td>Very favorable</td>\n",
       "      <td>1.0</td>\n",
       "      <td>0.33</td>\n",
       "      <td>0.66</td>\n",
       "      <td>1.00</td>\n",
       "      <td>1.00</td>\n",
       "      <td>1.00</td>\n",
       "      <td>1.00</td>\n",
       "      <td>1.00</td>\n",
       "    </tr>\n",
       "    <tr>\n",
       "      <th>2</th>\n",
       "      <td>Argentina</td>\n",
       "      <td>It is not necessary to believe in God in order...</td>\n",
       "      <td>Mostly agree</td>\n",
       "      <td>Mostly agree</td>\n",
       "      <td>Not too important</td>\n",
       "      <td>Somewhat unfavorable</td>\n",
       "      <td>Very unfavorable</td>\n",
       "      <td>Very unfavorable</td>\n",
       "      <td>Very unfavorable</td>\n",
       "      <td>0.0</td>\n",
       "      <td>0.66</td>\n",
       "      <td>0.66</td>\n",
       "      <td>0.33</td>\n",
       "      <td>0.33</td>\n",
       "      <td>0.00</td>\n",
       "      <td>0.00</td>\n",
       "      <td>0.00</td>\n",
       "    </tr>\n",
       "    <tr>\n",
       "      <th>3</th>\n",
       "      <td>Argentina</td>\n",
       "      <td>It is not necessary to believe in God in order...</td>\n",
       "      <td>Mostly disagree</td>\n",
       "      <td>Mostly disagree</td>\n",
       "      <td>Not at all important</td>\n",
       "      <td>Very favorable</td>\n",
       "      <td>Somewhat unfavorable</td>\n",
       "      <td>Very favorable</td>\n",
       "      <td>Very favorable</td>\n",
       "      <td>0.0</td>\n",
       "      <td>0.33</td>\n",
       "      <td>0.33</td>\n",
       "      <td>NaN</td>\n",
       "      <td>1.00</td>\n",
       "      <td>0.33</td>\n",
       "      <td>1.00</td>\n",
       "      <td>1.00</td>\n",
       "    </tr>\n",
       "    <tr>\n",
       "      <th>4</th>\n",
       "      <td>Argentina</td>\n",
       "      <td>It is necessary to believe in God in order to ...</td>\n",
       "      <td>Mostly agree</td>\n",
       "      <td>Mostly agree</td>\n",
       "      <td>Very important</td>\n",
       "      <td>Very unfavorable</td>\n",
       "      <td>Very favorable</td>\n",
       "      <td>Very unfavorable</td>\n",
       "      <td>Somewhat favorable</td>\n",
       "      <td>1.0</td>\n",
       "      <td>0.66</td>\n",
       "      <td>0.66</td>\n",
       "      <td>1.00</td>\n",
       "      <td>0.00</td>\n",
       "      <td>1.00</td>\n",
       "      <td>0.00</td>\n",
       "      <td>0.66</td>\n",
       "    </tr>\n",
       "    <tr>\n",
       "      <th>...</th>\n",
       "      <td>...</td>\n",
       "      <td>...</td>\n",
       "      <td>...</td>\n",
       "      <td>...</td>\n",
       "      <td>...</td>\n",
       "      <td>...</td>\n",
       "      <td>...</td>\n",
       "      <td>...</td>\n",
       "      <td>...</td>\n",
       "      <td>...</td>\n",
       "      <td>...</td>\n",
       "      <td>...</td>\n",
       "      <td>...</td>\n",
       "      <td>...</td>\n",
       "      <td>...</td>\n",
       "      <td>...</td>\n",
       "      <td>...</td>\n",
       "    </tr>\n",
       "    <tr>\n",
       "      <th>38421</th>\n",
       "      <td>United States</td>\n",
       "      <td>It is necessary to believe in God in order to ...</td>\n",
       "      <td>Completely agree</td>\n",
       "      <td>Completely agree</td>\n",
       "      <td>Very important</td>\n",
       "      <td>Very favorable</td>\n",
       "      <td>Somewhat unfavorable</td>\n",
       "      <td>Somewhat unfavorable</td>\n",
       "      <td>Very unfavorable</td>\n",
       "      <td>1.0</td>\n",
       "      <td>1.00</td>\n",
       "      <td>1.00</td>\n",
       "      <td>1.00</td>\n",
       "      <td>1.00</td>\n",
       "      <td>0.33</td>\n",
       "      <td>0.33</td>\n",
       "      <td>0.00</td>\n",
       "    </tr>\n",
       "    <tr>\n",
       "      <th>38422</th>\n",
       "      <td>United States</td>\n",
       "      <td>It is not necessary to believe in God in order...</td>\n",
       "      <td>Mostly agree</td>\n",
       "      <td>Mostly agree</td>\n",
       "      <td>Somewhat important</td>\n",
       "      <td>Very favorable</td>\n",
       "      <td>Somewhat favorable</td>\n",
       "      <td>Somewhat unfavorable</td>\n",
       "      <td>Somewhat unfavorable</td>\n",
       "      <td>0.0</td>\n",
       "      <td>0.66</td>\n",
       "      <td>0.66</td>\n",
       "      <td>0.66</td>\n",
       "      <td>1.00</td>\n",
       "      <td>0.66</td>\n",
       "      <td>0.33</td>\n",
       "      <td>0.33</td>\n",
       "    </tr>\n",
       "    <tr>\n",
       "      <th>38423</th>\n",
       "      <td>United States</td>\n",
       "      <td>It is necessary to believe in God in order to ...</td>\n",
       "      <td>Mostly agree</td>\n",
       "      <td>Completely agree</td>\n",
       "      <td>Very important</td>\n",
       "      <td>Very favorable</td>\n",
       "      <td>Somewhat unfavorable</td>\n",
       "      <td>Somewhat unfavorable</td>\n",
       "      <td>Somewhat unfavorable</td>\n",
       "      <td>1.0</td>\n",
       "      <td>0.66</td>\n",
       "      <td>1.00</td>\n",
       "      <td>1.00</td>\n",
       "      <td>1.00</td>\n",
       "      <td>0.33</td>\n",
       "      <td>0.33</td>\n",
       "      <td>0.33</td>\n",
       "    </tr>\n",
       "    <tr>\n",
       "      <th>38424</th>\n",
       "      <td>United States</td>\n",
       "      <td>It is not necessary to believe in God in order...</td>\n",
       "      <td>Mostly disagree</td>\n",
       "      <td>Mostly agree</td>\n",
       "      <td>Somewhat important</td>\n",
       "      <td>Very favorable</td>\n",
       "      <td>Somewhat unfavorable</td>\n",
       "      <td>Somewhat unfavorable</td>\n",
       "      <td>Somewhat favorable</td>\n",
       "      <td>0.0</td>\n",
       "      <td>0.33</td>\n",
       "      <td>0.66</td>\n",
       "      <td>0.66</td>\n",
       "      <td>1.00</td>\n",
       "      <td>0.33</td>\n",
       "      <td>0.33</td>\n",
       "      <td>0.66</td>\n",
       "    </tr>\n",
       "    <tr>\n",
       "      <th>38425</th>\n",
       "      <td>United States</td>\n",
       "      <td>Refused (DO NOT READ)</td>\n",
       "      <td>Completely agree</td>\n",
       "      <td>Completely agree</td>\n",
       "      <td>Refused (DO NOT READ)</td>\n",
       "      <td>Somewhat unfavorable</td>\n",
       "      <td>Don’t know (DO NOT READ)</td>\n",
       "      <td>Don’t know (DO NOT READ)</td>\n",
       "      <td>Somewhat unfavorable</td>\n",
       "      <td>NaN</td>\n",
       "      <td>1.00</td>\n",
       "      <td>1.00</td>\n",
       "      <td>NaN</td>\n",
       "      <td>0.33</td>\n",
       "      <td>NaN</td>\n",
       "      <td>NaN</td>\n",
       "      <td>0.33</td>\n",
       "    </tr>\n",
       "  </tbody>\n",
       "</table>\n",
       "<p>38426 rows × 17 columns</p>\n",
       "</div>"
      ],
      "text/plain": [
       "             country                                        BELIEVE_GOD  \\\n",
       "0          Argentina  It is necessary to believe in God in order to ...   \n",
       "1          Argentina  It is necessary to believe in God in order to ...   \n",
       "2          Argentina  It is not necessary to believe in God in order...   \n",
       "3          Argentina  It is not necessary to believe in God in order...   \n",
       "4          Argentina  It is necessary to believe in God in order to ...   \n",
       "...              ...                                                ...   \n",
       "38421  United States  It is necessary to believe in God in order to ...   \n",
       "38422  United States  It is not necessary to believe in God in order...   \n",
       "38423  United States  It is necessary to believe in God in order to ...   \n",
       "38424  United States  It is not necessary to believe in God in order...   \n",
       "38425  United States                              Refused (DO NOT READ)   \n",
       "\n",
       "              RELIG_PRAYER         RELIG_GOD        RELIGION_IMPORT  \\\n",
       "0      Completely disagree  Completely agree         Very important   \n",
       "1          Mostly disagree      Mostly agree         Very important   \n",
       "2             Mostly agree      Mostly agree      Not too important   \n",
       "3          Mostly disagree   Mostly disagree   Not at all important   \n",
       "4             Mostly agree      Mostly agree         Very important   \n",
       "...                    ...               ...                    ...   \n",
       "38421     Completely agree  Completely agree         Very important   \n",
       "38422         Mostly agree      Mostly agree     Somewhat important   \n",
       "38423         Mostly agree  Completely agree         Very important   \n",
       "38424      Mostly disagree      Mostly agree     Somewhat important   \n",
       "38425     Completely agree  Completely agree  Refused (DO NOT READ)   \n",
       "\n",
       "                     FAV_US                 FAV_CHINA  \\\n",
       "0      Somewhat unfavorable      Somewhat unfavorable   \n",
       "1            Very favorable            Very favorable   \n",
       "2      Somewhat unfavorable          Very unfavorable   \n",
       "3            Very favorable      Somewhat unfavorable   \n",
       "4          Very unfavorable            Very favorable   \n",
       "...                     ...                       ...   \n",
       "38421        Very favorable      Somewhat unfavorable   \n",
       "38422        Very favorable        Somewhat favorable   \n",
       "38423        Very favorable      Somewhat unfavorable   \n",
       "38424        Very favorable      Somewhat unfavorable   \n",
       "38425  Somewhat unfavorable  Don’t know (DO NOT READ)   \n",
       "\n",
       "                     FAV_RUSSIA                    FAV_EU  \\\n",
       "0      Don’t know (DO NOT READ)  Don’t know (DO NOT READ)   \n",
       "1                Very favorable            Very favorable   \n",
       "2              Very unfavorable          Very unfavorable   \n",
       "3                Very favorable            Very favorable   \n",
       "4              Very unfavorable        Somewhat favorable   \n",
       "...                         ...                       ...   \n",
       "38421      Somewhat unfavorable          Very unfavorable   \n",
       "38422      Somewhat unfavorable      Somewhat unfavorable   \n",
       "38423      Somewhat unfavorable      Somewhat unfavorable   \n",
       "38424      Somewhat unfavorable        Somewhat favorable   \n",
       "38425  Don’t know (DO NOT READ)      Somewhat unfavorable   \n",
       "\n",
       "       necessary_to_believe  importance_of_prayer  importance_of_god  \\\n",
       "0                       1.0                  0.00               1.00   \n",
       "1                       1.0                  0.33               0.66   \n",
       "2                       0.0                  0.66               0.66   \n",
       "3                       0.0                  0.33               0.33   \n",
       "4                       1.0                  0.66               0.66   \n",
       "...                     ...                   ...                ...   \n",
       "38421                   1.0                  1.00               1.00   \n",
       "38422                   0.0                  0.66               0.66   \n",
       "38423                   1.0                  0.66               1.00   \n",
       "38424                   0.0                  0.33               0.66   \n",
       "38425                   NaN                  1.00               1.00   \n",
       "\n",
       "       importance_of_religion  fav_us_rec  fav_cn_rec  fav_ru_rec  fav_eu_rec  \n",
       "0                        1.00        0.33        0.33         NaN         NaN  \n",
       "1                        1.00        1.00        1.00        1.00        1.00  \n",
       "2                        0.33        0.33        0.00        0.00        0.00  \n",
       "3                         NaN        1.00        0.33        1.00        1.00  \n",
       "4                        1.00        0.00        1.00        0.00        0.66  \n",
       "...                       ...         ...         ...         ...         ...  \n",
       "38421                    1.00        1.00        0.33        0.33        0.00  \n",
       "38422                    0.66        1.00        0.66        0.33        0.33  \n",
       "38423                    1.00        1.00        0.33        0.33        0.33  \n",
       "38424                    0.66        1.00        0.33        0.33        0.66  \n",
       "38425                     NaN        0.33         NaN         NaN        0.33  \n",
       "\n",
       "[38426 rows x 17 columns]"
      ]
     },
     "execution_count": 123,
     "metadata": {},
     "output_type": "execute_result"
    }
   ],
   "source": [
    "religion_country_images"
   ]
  },
  {
   "cell_type": "code",
   "execution_count": 150,
   "id": "a5bea073",
   "metadata": {
    "scrolled": true
   },
   "outputs": [
    {
     "data": {
      "text/html": [
       "<div>\n",
       "<style scoped>\n",
       "    .dataframe tbody tr th:only-of-type {\n",
       "        vertical-align: middle;\n",
       "    }\n",
       "\n",
       "    .dataframe tbody tr th {\n",
       "        vertical-align: top;\n",
       "    }\n",
       "\n",
       "    .dataframe thead th {\n",
       "        text-align: right;\n",
       "    }\n",
       "</style>\n",
       "<table border=\"1\" class=\"dataframe\">\n",
       "  <thead>\n",
       "    <tr style=\"text-align: right;\">\n",
       "      <th></th>\n",
       "      <th>country</th>\n",
       "      <th>HOMOSEXUALITY</th>\n",
       "      <th>FAV_US</th>\n",
       "      <th>FAV_CHINA</th>\n",
       "      <th>FAV_RUSSIA</th>\n",
       "      <th>FAV_EU</th>\n",
       "      <th>accept_homosexuality</th>\n",
       "      <th>fav_us_rec</th>\n",
       "      <th>fav_cn_rec</th>\n",
       "      <th>fav_ru_rec</th>\n",
       "      <th>fav_eu_rec</th>\n",
       "    </tr>\n",
       "  </thead>\n",
       "  <tbody>\n",
       "    <tr>\n",
       "      <th>0</th>\n",
       "      <td>Argentina</td>\n",
       "      <td>Homosexuality should be accepted by society</td>\n",
       "      <td>Somewhat unfavorable</td>\n",
       "      <td>Somewhat unfavorable</td>\n",
       "      <td>Don’t know (DO NOT READ)</td>\n",
       "      <td>Don’t know (DO NOT READ)</td>\n",
       "      <td>1.0</td>\n",
       "      <td>0.33</td>\n",
       "      <td>0.33</td>\n",
       "      <td>NaN</td>\n",
       "      <td>NaN</td>\n",
       "    </tr>\n",
       "    <tr>\n",
       "      <th>1</th>\n",
       "      <td>Argentina</td>\n",
       "      <td>Homosexuality should be accepted by society</td>\n",
       "      <td>Very favorable</td>\n",
       "      <td>Very favorable</td>\n",
       "      <td>Very favorable</td>\n",
       "      <td>Very favorable</td>\n",
       "      <td>1.0</td>\n",
       "      <td>1.00</td>\n",
       "      <td>1.00</td>\n",
       "      <td>1.00</td>\n",
       "      <td>1.00</td>\n",
       "    </tr>\n",
       "    <tr>\n",
       "      <th>2</th>\n",
       "      <td>Argentina</td>\n",
       "      <td>Homosexuality should be accepted by society</td>\n",
       "      <td>Somewhat unfavorable</td>\n",
       "      <td>Very unfavorable</td>\n",
       "      <td>Very unfavorable</td>\n",
       "      <td>Very unfavorable</td>\n",
       "      <td>1.0</td>\n",
       "      <td>0.33</td>\n",
       "      <td>0.00</td>\n",
       "      <td>0.00</td>\n",
       "      <td>0.00</td>\n",
       "    </tr>\n",
       "    <tr>\n",
       "      <th>3</th>\n",
       "      <td>Argentina</td>\n",
       "      <td>Homosexuality should be accepted by society</td>\n",
       "      <td>Very favorable</td>\n",
       "      <td>Somewhat unfavorable</td>\n",
       "      <td>Very favorable</td>\n",
       "      <td>Very favorable</td>\n",
       "      <td>1.0</td>\n",
       "      <td>1.00</td>\n",
       "      <td>0.33</td>\n",
       "      <td>1.00</td>\n",
       "      <td>1.00</td>\n",
       "    </tr>\n",
       "    <tr>\n",
       "      <th>4</th>\n",
       "      <td>Argentina</td>\n",
       "      <td>Refused (DO NOT READ)</td>\n",
       "      <td>Very unfavorable</td>\n",
       "      <td>Very favorable</td>\n",
       "      <td>Very unfavorable</td>\n",
       "      <td>Somewhat favorable</td>\n",
       "      <td>NaN</td>\n",
       "      <td>0.00</td>\n",
       "      <td>1.00</td>\n",
       "      <td>0.00</td>\n",
       "      <td>0.66</td>\n",
       "    </tr>\n",
       "    <tr>\n",
       "      <th>...</th>\n",
       "      <td>...</td>\n",
       "      <td>...</td>\n",
       "      <td>...</td>\n",
       "      <td>...</td>\n",
       "      <td>...</td>\n",
       "      <td>...</td>\n",
       "      <td>...</td>\n",
       "      <td>...</td>\n",
       "      <td>...</td>\n",
       "      <td>...</td>\n",
       "      <td>...</td>\n",
       "    </tr>\n",
       "    <tr>\n",
       "      <th>38421</th>\n",
       "      <td>United States</td>\n",
       "      <td>Homosexuality should not be accepted by society</td>\n",
       "      <td>Very favorable</td>\n",
       "      <td>Somewhat unfavorable</td>\n",
       "      <td>Somewhat unfavorable</td>\n",
       "      <td>Very unfavorable</td>\n",
       "      <td>0.0</td>\n",
       "      <td>1.00</td>\n",
       "      <td>0.33</td>\n",
       "      <td>0.33</td>\n",
       "      <td>0.00</td>\n",
       "    </tr>\n",
       "    <tr>\n",
       "      <th>38422</th>\n",
       "      <td>United States</td>\n",
       "      <td>Homosexuality should be accepted by society</td>\n",
       "      <td>Very favorable</td>\n",
       "      <td>Somewhat favorable</td>\n",
       "      <td>Somewhat unfavorable</td>\n",
       "      <td>Somewhat unfavorable</td>\n",
       "      <td>1.0</td>\n",
       "      <td>1.00</td>\n",
       "      <td>0.66</td>\n",
       "      <td>0.33</td>\n",
       "      <td>0.33</td>\n",
       "    </tr>\n",
       "    <tr>\n",
       "      <th>38423</th>\n",
       "      <td>United States</td>\n",
       "      <td>Homosexuality should be accepted by society</td>\n",
       "      <td>Very favorable</td>\n",
       "      <td>Somewhat unfavorable</td>\n",
       "      <td>Somewhat unfavorable</td>\n",
       "      <td>Somewhat unfavorable</td>\n",
       "      <td>1.0</td>\n",
       "      <td>1.00</td>\n",
       "      <td>0.33</td>\n",
       "      <td>0.33</td>\n",
       "      <td>0.33</td>\n",
       "    </tr>\n",
       "    <tr>\n",
       "      <th>38424</th>\n",
       "      <td>United States</td>\n",
       "      <td>Homosexuality should be accepted by society</td>\n",
       "      <td>Very favorable</td>\n",
       "      <td>Somewhat unfavorable</td>\n",
       "      <td>Somewhat unfavorable</td>\n",
       "      <td>Somewhat favorable</td>\n",
       "      <td>1.0</td>\n",
       "      <td>1.00</td>\n",
       "      <td>0.33</td>\n",
       "      <td>0.33</td>\n",
       "      <td>0.66</td>\n",
       "    </tr>\n",
       "    <tr>\n",
       "      <th>38425</th>\n",
       "      <td>United States</td>\n",
       "      <td>Refused (DO NOT READ)</td>\n",
       "      <td>Somewhat unfavorable</td>\n",
       "      <td>Don’t know (DO NOT READ)</td>\n",
       "      <td>Don’t know (DO NOT READ)</td>\n",
       "      <td>Somewhat unfavorable</td>\n",
       "      <td>NaN</td>\n",
       "      <td>0.33</td>\n",
       "      <td>NaN</td>\n",
       "      <td>NaN</td>\n",
       "      <td>0.33</td>\n",
       "    </tr>\n",
       "  </tbody>\n",
       "</table>\n",
       "<p>38426 rows × 11 columns</p>\n",
       "</div>"
      ],
      "text/plain": [
       "             country                                    HOMOSEXUALITY  \\\n",
       "0          Argentina      Homosexuality should be accepted by society   \n",
       "1          Argentina      Homosexuality should be accepted by society   \n",
       "2          Argentina      Homosexuality should be accepted by society   \n",
       "3          Argentina      Homosexuality should be accepted by society   \n",
       "4          Argentina                            Refused (DO NOT READ)   \n",
       "...              ...                                              ...   \n",
       "38421  United States  Homosexuality should not be accepted by society   \n",
       "38422  United States      Homosexuality should be accepted by society   \n",
       "38423  United States      Homosexuality should be accepted by society   \n",
       "38424  United States      Homosexuality should be accepted by society   \n",
       "38425  United States                            Refused (DO NOT READ)   \n",
       "\n",
       "                     FAV_US                 FAV_CHINA  \\\n",
       "0      Somewhat unfavorable      Somewhat unfavorable   \n",
       "1            Very favorable            Very favorable   \n",
       "2      Somewhat unfavorable          Very unfavorable   \n",
       "3            Very favorable      Somewhat unfavorable   \n",
       "4          Very unfavorable            Very favorable   \n",
       "...                     ...                       ...   \n",
       "38421        Very favorable      Somewhat unfavorable   \n",
       "38422        Very favorable        Somewhat favorable   \n",
       "38423        Very favorable      Somewhat unfavorable   \n",
       "38424        Very favorable      Somewhat unfavorable   \n",
       "38425  Somewhat unfavorable  Don’t know (DO NOT READ)   \n",
       "\n",
       "                     FAV_RUSSIA                    FAV_EU  \\\n",
       "0      Don’t know (DO NOT READ)  Don’t know (DO NOT READ)   \n",
       "1                Very favorable            Very favorable   \n",
       "2              Very unfavorable          Very unfavorable   \n",
       "3                Very favorable            Very favorable   \n",
       "4              Very unfavorable        Somewhat favorable   \n",
       "...                         ...                       ...   \n",
       "38421      Somewhat unfavorable          Very unfavorable   \n",
       "38422      Somewhat unfavorable      Somewhat unfavorable   \n",
       "38423      Somewhat unfavorable      Somewhat unfavorable   \n",
       "38424      Somewhat unfavorable        Somewhat favorable   \n",
       "38425  Don’t know (DO NOT READ)      Somewhat unfavorable   \n",
       "\n",
       "       accept_homosexuality  fav_us_rec  fav_cn_rec  fav_ru_rec  fav_eu_rec  \n",
       "0                       1.0        0.33        0.33         NaN         NaN  \n",
       "1                       1.0        1.00        1.00        1.00        1.00  \n",
       "2                       1.0        0.33        0.00        0.00        0.00  \n",
       "3                       1.0        1.00        0.33        1.00        1.00  \n",
       "4                       NaN        0.00        1.00        0.00        0.66  \n",
       "...                     ...         ...         ...         ...         ...  \n",
       "38421                   0.0        1.00        0.33        0.33        0.00  \n",
       "38422                   1.0        1.00        0.66        0.33        0.33  \n",
       "38423                   1.0        1.00        0.33        0.33        0.33  \n",
       "38424                   1.0        1.00        0.33        0.33        0.66  \n",
       "38425                   NaN        0.33         NaN         NaN        0.33  \n",
       "\n",
       "[38426 rows x 11 columns]"
      ]
     },
     "execution_count": 150,
     "metadata": {},
     "output_type": "execute_result"
    }
   ],
   "source": [
    "acceptance_homosexuality_country_images"
   ]
  },
  {
   "cell_type": "markdown",
   "id": "2b36a3b0",
   "metadata": {},
   "source": [
    "#### Cleaning data: gender equality and US favorability"
   ]
  },
  {
   "cell_type": "code",
   "execution_count": 122,
   "id": "efb80854",
   "metadata": {},
   "outputs": [],
   "source": [
    "gender_us_clean = gender_us.dropna()"
   ]
  },
  {
   "cell_type": "code",
   "execution_count": 124,
   "id": "6903d1c2",
   "metadata": {},
   "outputs": [],
   "source": [
    "religion_country_images_clean = religion_country_images.dropna()"
   ]
  },
  {
   "cell_type": "code",
   "execution_count": 152,
   "id": "707156b1",
   "metadata": {},
   "outputs": [],
   "source": [
    "acceptance_homosexuality_country_images_clean = acceptance_homosexuality_country_images.dropna()"
   ]
  },
  {
   "cell_type": "markdown",
   "id": "42bb406b",
   "metadata": {},
   "source": [
    "#### Building indices: gender equality and US favorability"
   ]
  },
  {
   "cell_type": "code",
   "execution_count": 82,
   "id": "7bf626c9",
   "metadata": {},
   "outputs": [
    {
     "name": "stderr",
     "output_type": "stream",
     "text": [
      "C:\\Users\\User\\AppData\\Local\\Temp\\ipykernel_4112\\753801675.py:1: SettingWithCopyWarning: \n",
      "A value is trying to be set on a copy of a slice from a DataFrame.\n",
      "Try using .loc[row_indexer,col_indexer] = value instead\n",
      "\n",
      "See the caveats in the documentation: https://pandas.pydata.org/pandas-docs/stable/user_guide/indexing.html#returning-a-view-versus-a-copy\n",
      "  gender_us_clean['gender_equality_index'] = gender_us['gender_equality_rec'] + gender_us['kind_of_marriage_rec'] - gender_us['women_job_rec']\n"
     ]
    }
   ],
   "source": [
    "gender_us_clean['gender_equality_index'] = gender_us['gender_equality_rec'] + gender_us['kind_of_marriage_rec'] - gender_us['women_job_rec']"
   ]
  },
  {
   "cell_type": "code",
   "execution_count": 126,
   "id": "7baa98b9",
   "metadata": {},
   "outputs": [
    {
     "name": "stderr",
     "output_type": "stream",
     "text": [
      "C:\\Users\\User\\AppData\\Local\\Temp\\ipykernel_4112\\3864953900.py:1: SettingWithCopyWarning: \n",
      "A value is trying to be set on a copy of a slice from a DataFrame.\n",
      "Try using .loc[row_indexer,col_indexer] = value instead\n",
      "\n",
      "See the caveats in the documentation: https://pandas.pydata.org/pandas-docs/stable/user_guide/indexing.html#returning-a-view-versus-a-copy\n",
      "  religion_country_images_clean['religiosity_index'] = religion_country_images_clean['necessary_to_believe'] + religion_country_images_clean['importance_of_prayer'] + religion_country_images_clean['importance_of_god'] + religion_country_images_clean['importance_of_religion']\n"
     ]
    }
   ],
   "source": [
    "religion_country_images_clean['religiosity_index'] = religion_country_images_clean['necessary_to_believe'] + religion_country_images_clean['importance_of_prayer'] + religion_country_images_clean['importance_of_god'] + religion_country_images_clean['importance_of_religion']"
   ]
  },
  {
   "cell_type": "markdown",
   "id": "c0c4742f",
   "metadata": {},
   "source": [
    "## Inspecting the data"
   ]
  },
  {
   "cell_type": "code",
   "execution_count": 25,
   "id": "1d3b9ef1",
   "metadata": {
    "scrolled": true
   },
   "outputs": [
    {
     "data": {
      "text/html": [
       "<div>\n",
       "<style scoped>\n",
       "    .dataframe tbody tr th:only-of-type {\n",
       "        vertical-align: middle;\n",
       "    }\n",
       "\n",
       "    .dataframe tbody tr th {\n",
       "        vertical-align: top;\n",
       "    }\n",
       "\n",
       "    .dataframe thead th {\n",
       "        text-align: right;\n",
       "    }\n",
       "</style>\n",
       "<table border=\"1\" class=\"dataframe\">\n",
       "  <thead>\n",
       "    <tr style=\"text-align: right;\">\n",
       "      <th></th>\n",
       "      <th>B_COUNTRY_ALPHA</th>\n",
       "      <th>Q262</th>\n",
       "      <th>Q275R</th>\n",
       "      <th>Q8</th>\n",
       "      <th>Q11</th>\n",
       "      <th>Q17</th>\n",
       "      <th>Q45</th>\n",
       "      <th>Q154</th>\n",
       "      <th>Q198</th>\n",
       "      <th>Q196</th>\n",
       "      <th>...</th>\n",
       "      <th>privacy</th>\n",
       "      <th>political_system</th>\n",
       "      <th>democracy</th>\n",
       "      <th>civil_liberties</th>\n",
       "      <th>free_market</th>\n",
       "      <th>gender_equality</th>\n",
       "      <th>sexuality</th>\n",
       "      <th>religion</th>\n",
       "      <th>science_and_technology</th>\n",
       "      <th>progressivism</th>\n",
       "    </tr>\n",
       "  </thead>\n",
       "  <tbody>\n",
       "    <tr>\n",
       "      <th>1008</th>\n",
       "      <td>ARG</td>\n",
       "      <td>37</td>\n",
       "      <td>2</td>\n",
       "      <td>2</td>\n",
       "      <td>1</td>\n",
       "      <td>2</td>\n",
       "      <td>1</td>\n",
       "      <td>2</td>\n",
       "      <td>4</td>\n",
       "      <td>4</td>\n",
       "      <td>...</td>\n",
       "      <td>1.000000</td>\n",
       "      <td>1.000</td>\n",
       "      <td>0.825</td>\n",
       "      <td>0.637500</td>\n",
       "      <td>5.000</td>\n",
       "      <td>0.8250</td>\n",
       "      <td>0.850</td>\n",
       "      <td>0.483333</td>\n",
       "      <td>0.8</td>\n",
       "      <td>0.730556</td>\n",
       "    </tr>\n",
       "    <tr>\n",
       "      <th>1009</th>\n",
       "      <td>ARG</td>\n",
       "      <td>58</td>\n",
       "      <td>1</td>\n",
       "      <td>2</td>\n",
       "      <td>1</td>\n",
       "      <td>2</td>\n",
       "      <td>1</td>\n",
       "      <td>2</td>\n",
       "      <td>4</td>\n",
       "      <td>4</td>\n",
       "      <td>...</td>\n",
       "      <td>1.000000</td>\n",
       "      <td>0.875</td>\n",
       "      <td>0.825</td>\n",
       "      <td>0.616667</td>\n",
       "      <td>2.875</td>\n",
       "      <td>0.8250</td>\n",
       "      <td>0.625</td>\n",
       "      <td>0.633333</td>\n",
       "      <td>0.7</td>\n",
       "      <td>0.605556</td>\n",
       "    </tr>\n",
       "    <tr>\n",
       "      <th>1010</th>\n",
       "      <td>ARG</td>\n",
       "      <td>32</td>\n",
       "      <td>2</td>\n",
       "      <td>2</td>\n",
       "      <td>2</td>\n",
       "      <td>2</td>\n",
       "      <td>1</td>\n",
       "      <td>3</td>\n",
       "      <td>1</td>\n",
       "      <td>1</td>\n",
       "      <td>...</td>\n",
       "      <td>0.500000</td>\n",
       "      <td>0.875</td>\n",
       "      <td>0.750</td>\n",
       "      <td>0.465278</td>\n",
       "      <td>2.750</td>\n",
       "      <td>0.7625</td>\n",
       "      <td>0.875</td>\n",
       "      <td>0.608333</td>\n",
       "      <td>1.0</td>\n",
       "      <td>0.676389</td>\n",
       "    </tr>\n",
       "    <tr>\n",
       "      <th>1012</th>\n",
       "      <td>ARG</td>\n",
       "      <td>65</td>\n",
       "      <td>2</td>\n",
       "      <td>1</td>\n",
       "      <td>2</td>\n",
       "      <td>2</td>\n",
       "      <td>1</td>\n",
       "      <td>2</td>\n",
       "      <td>1</td>\n",
       "      <td>1</td>\n",
       "      <td>...</td>\n",
       "      <td>0.250000</td>\n",
       "      <td>1.000</td>\n",
       "      <td>0.775</td>\n",
       "      <td>0.504167</td>\n",
       "      <td>4.250</td>\n",
       "      <td>0.8250</td>\n",
       "      <td>0.325</td>\n",
       "      <td>0.608333</td>\n",
       "      <td>1.0</td>\n",
       "      <td>0.513889</td>\n",
       "    </tr>\n",
       "    <tr>\n",
       "      <th>1013</th>\n",
       "      <td>ARG</td>\n",
       "      <td>27</td>\n",
       "      <td>2</td>\n",
       "      <td>1</td>\n",
       "      <td>2</td>\n",
       "      <td>2</td>\n",
       "      <td>1</td>\n",
       "      <td>3</td>\n",
       "      <td>1</td>\n",
       "      <td>1</td>\n",
       "      <td>...</td>\n",
       "      <td>0.250000</td>\n",
       "      <td>1.000</td>\n",
       "      <td>0.750</td>\n",
       "      <td>0.500000</td>\n",
       "      <td>3.625</td>\n",
       "      <td>0.8250</td>\n",
       "      <td>0.675</td>\n",
       "      <td>0.362500</td>\n",
       "      <td>1.0</td>\n",
       "      <td>0.712500</td>\n",
       "    </tr>\n",
       "    <tr>\n",
       "      <th>...</th>\n",
       "      <td>...</td>\n",
       "      <td>...</td>\n",
       "      <td>...</td>\n",
       "      <td>...</td>\n",
       "      <td>...</td>\n",
       "      <td>...</td>\n",
       "      <td>...</td>\n",
       "      <td>...</td>\n",
       "      <td>...</td>\n",
       "      <td>...</td>\n",
       "      <td>...</td>\n",
       "      <td>...</td>\n",
       "      <td>...</td>\n",
       "      <td>...</td>\n",
       "      <td>...</td>\n",
       "      <td>...</td>\n",
       "      <td>...</td>\n",
       "      <td>...</td>\n",
       "      <td>...</td>\n",
       "      <td>...</td>\n",
       "      <td>...</td>\n",
       "    </tr>\n",
       "    <tr>\n",
       "      <th>92634</th>\n",
       "      <td>URY</td>\n",
       "      <td>66</td>\n",
       "      <td>3</td>\n",
       "      <td>2</td>\n",
       "      <td>2</td>\n",
       "      <td>2</td>\n",
       "      <td>2</td>\n",
       "      <td>2</td>\n",
       "      <td>4</td>\n",
       "      <td>4</td>\n",
       "      <td>...</td>\n",
       "      <td>1.000000</td>\n",
       "      <td>0.750</td>\n",
       "      <td>0.825</td>\n",
       "      <td>0.595833</td>\n",
       "      <td>4.375</td>\n",
       "      <td>0.7000</td>\n",
       "      <td>0.375</td>\n",
       "      <td>0.520833</td>\n",
       "      <td>0.4</td>\n",
       "      <td>0.518056</td>\n",
       "    </tr>\n",
       "    <tr>\n",
       "      <th>92635</th>\n",
       "      <td>URY</td>\n",
       "      <td>47</td>\n",
       "      <td>2</td>\n",
       "      <td>1</td>\n",
       "      <td>2</td>\n",
       "      <td>1</td>\n",
       "      <td>1</td>\n",
       "      <td>4</td>\n",
       "      <td>4</td>\n",
       "      <td>1</td>\n",
       "      <td>...</td>\n",
       "      <td>0.500000</td>\n",
       "      <td>0.500</td>\n",
       "      <td>0.475</td>\n",
       "      <td>0.551389</td>\n",
       "      <td>5.000</td>\n",
       "      <td>0.8250</td>\n",
       "      <td>0.425</td>\n",
       "      <td>0.533333</td>\n",
       "      <td>0.1</td>\n",
       "      <td>0.572222</td>\n",
       "    </tr>\n",
       "    <tr>\n",
       "      <th>92636</th>\n",
       "      <td>URY</td>\n",
       "      <td>32</td>\n",
       "      <td>2</td>\n",
       "      <td>2</td>\n",
       "      <td>2</td>\n",
       "      <td>2</td>\n",
       "      <td>1</td>\n",
       "      <td>2</td>\n",
       "      <td>4</td>\n",
       "      <td>1</td>\n",
       "      <td>...</td>\n",
       "      <td>0.666667</td>\n",
       "      <td>0.750</td>\n",
       "      <td>0.775</td>\n",
       "      <td>0.476389</td>\n",
       "      <td>4.375</td>\n",
       "      <td>0.8250</td>\n",
       "      <td>0.650</td>\n",
       "      <td>0.608333</td>\n",
       "      <td>0.6</td>\n",
       "      <td>0.622222</td>\n",
       "    </tr>\n",
       "    <tr>\n",
       "      <th>92638</th>\n",
       "      <td>URY</td>\n",
       "      <td>67</td>\n",
       "      <td>1</td>\n",
       "      <td>2</td>\n",
       "      <td>2</td>\n",
       "      <td>2</td>\n",
       "      <td>1</td>\n",
       "      <td>1</td>\n",
       "      <td>4</td>\n",
       "      <td>2</td>\n",
       "      <td>...</td>\n",
       "      <td>0.750000</td>\n",
       "      <td>0.625</td>\n",
       "      <td>0.725</td>\n",
       "      <td>0.461111</td>\n",
       "      <td>4.500</td>\n",
       "      <td>0.7750</td>\n",
       "      <td>0.600</td>\n",
       "      <td>0.462500</td>\n",
       "      <td>0.8</td>\n",
       "      <td>0.637500</td>\n",
       "    </tr>\n",
       "    <tr>\n",
       "      <th>92639</th>\n",
       "      <td>URY</td>\n",
       "      <td>45</td>\n",
       "      <td>1</td>\n",
       "      <td>2</td>\n",
       "      <td>2</td>\n",
       "      <td>2</td>\n",
       "      <td>1</td>\n",
       "      <td>2</td>\n",
       "      <td>4</td>\n",
       "      <td>1</td>\n",
       "      <td>...</td>\n",
       "      <td>0.750000</td>\n",
       "      <td>0.375</td>\n",
       "      <td>0.550</td>\n",
       "      <td>0.390278</td>\n",
       "      <td>4.125</td>\n",
       "      <td>0.7250</td>\n",
       "      <td>0.325</td>\n",
       "      <td>0.633333</td>\n",
       "      <td>0.3</td>\n",
       "      <td>0.472222</td>\n",
       "    </tr>\n",
       "  </tbody>\n",
       "</table>\n",
       "<p>57064 rows × 53 columns</p>\n",
       "</div>"
      ],
      "text/plain": [
       "      B_COUNTRY_ALPHA  Q262  Q275R  Q8  Q11  Q17  Q45  Q154  Q198  Q196  ...  \\\n",
       "1008              ARG    37      2   2    1    2    1     2     4     4  ...   \n",
       "1009              ARG    58      1   2    1    2    1     2     4     4  ...   \n",
       "1010              ARG    32      2   2    2    2    1     3     1     1  ...   \n",
       "1012              ARG    65      2   1    2    2    1     2     1     1  ...   \n",
       "1013              ARG    27      2   1    2    2    1     3     1     1  ...   \n",
       "...               ...   ...    ...  ..  ...  ...  ...   ...   ...   ...  ...   \n",
       "92634             URY    66      3   2    2    2    2     2     4     4  ...   \n",
       "92635             URY    47      2   1    2    1    1     4     4     1  ...   \n",
       "92636             URY    32      2   2    2    2    1     2     4     1  ...   \n",
       "92638             URY    67      1   2    2    2    1     1     4     2  ...   \n",
       "92639             URY    45      1   2    2    2    1     2     4     1  ...   \n",
       "\n",
       "        privacy  political_system  democracy  civil_liberties  free_market  \\\n",
       "1008   1.000000             1.000      0.825         0.637500        5.000   \n",
       "1009   1.000000             0.875      0.825         0.616667        2.875   \n",
       "1010   0.500000             0.875      0.750         0.465278        2.750   \n",
       "1012   0.250000             1.000      0.775         0.504167        4.250   \n",
       "1013   0.250000             1.000      0.750         0.500000        3.625   \n",
       "...         ...               ...        ...              ...          ...   \n",
       "92634  1.000000             0.750      0.825         0.595833        4.375   \n",
       "92635  0.500000             0.500      0.475         0.551389        5.000   \n",
       "92636  0.666667             0.750      0.775         0.476389        4.375   \n",
       "92638  0.750000             0.625      0.725         0.461111        4.500   \n",
       "92639  0.750000             0.375      0.550         0.390278        4.125   \n",
       "\n",
       "       gender_equality  sexuality  religion  science_and_technology  \\\n",
       "1008            0.8250      0.850  0.483333                     0.8   \n",
       "1009            0.8250      0.625  0.633333                     0.7   \n",
       "1010            0.7625      0.875  0.608333                     1.0   \n",
       "1012            0.8250      0.325  0.608333                     1.0   \n",
       "1013            0.8250      0.675  0.362500                     1.0   \n",
       "...                ...        ...       ...                     ...   \n",
       "92634           0.7000      0.375  0.520833                     0.4   \n",
       "92635           0.8250      0.425  0.533333                     0.1   \n",
       "92636           0.8250      0.650  0.608333                     0.6   \n",
       "92638           0.7750      0.600  0.462500                     0.8   \n",
       "92639           0.7250      0.325  0.633333                     0.3   \n",
       "\n",
       "       progressivism  \n",
       "1008        0.730556  \n",
       "1009        0.605556  \n",
       "1010        0.676389  \n",
       "1012        0.513889  \n",
       "1013        0.712500  \n",
       "...              ...  \n",
       "92634       0.518056  \n",
       "92635       0.572222  \n",
       "92636       0.622222  \n",
       "92638       0.637500  \n",
       "92639       0.472222  \n",
       "\n",
       "[57064 rows x 53 columns]"
      ]
     },
     "execution_count": 25,
     "metadata": {},
     "output_type": "execute_result"
    }
   ],
   "source": [
    "wvs7_clean"
   ]
  },
  {
   "cell_type": "code",
   "execution_count": 83,
   "id": "9721d424",
   "metadata": {
    "scrolled": true
   },
   "outputs": [
    {
     "data": {
      "text/html": [
       "<div>\n",
       "<style scoped>\n",
       "    .dataframe tbody tr th:only-of-type {\n",
       "        vertical-align: middle;\n",
       "    }\n",
       "\n",
       "    .dataframe tbody tr th {\n",
       "        vertical-align: top;\n",
       "    }\n",
       "\n",
       "    .dataframe thead th {\n",
       "        text-align: right;\n",
       "    }\n",
       "</style>\n",
       "<table border=\"1\" class=\"dataframe\">\n",
       "  <thead>\n",
       "    <tr style=\"text-align: right;\">\n",
       "      <th></th>\n",
       "      <th>country</th>\n",
       "      <th>GENDER_EQUALITY</th>\n",
       "      <th>KIND_OF_MARRIAGE</th>\n",
       "      <th>WOMEN_JOB</th>\n",
       "      <th>FAV_US</th>\n",
       "      <th>FAV_CHINA</th>\n",
       "      <th>FAV_RUSSIA</th>\n",
       "      <th>FAV_EU</th>\n",
       "      <th>gender_equality_rec</th>\n",
       "      <th>kind_of_marriage_rec</th>\n",
       "      <th>women_job_rec</th>\n",
       "      <th>fav_us_rec</th>\n",
       "      <th>fav_chn_rec</th>\n",
       "      <th>fav_ru_rec</th>\n",
       "      <th>fav_eu_rec</th>\n",
       "      <th>gender_equality_index</th>\n",
       "    </tr>\n",
       "  </thead>\n",
       "  <tbody>\n",
       "    <tr>\n",
       "      <th>1</th>\n",
       "      <td>Argentina</td>\n",
       "      <td>Very important</td>\n",
       "      <td>One where the husband provides for the family ...</td>\n",
       "      <td>Completely agree</td>\n",
       "      <td>Very favorable</td>\n",
       "      <td>Very favorable</td>\n",
       "      <td>Very favorable</td>\n",
       "      <td>Very favorable</td>\n",
       "      <td>1.0</td>\n",
       "      <td>0.0</td>\n",
       "      <td>1.00</td>\n",
       "      <td>1.00</td>\n",
       "      <td>1.00</td>\n",
       "      <td>1.00</td>\n",
       "      <td>1.00</td>\n",
       "      <td>0.00</td>\n",
       "    </tr>\n",
       "    <tr>\n",
       "      <th>2</th>\n",
       "      <td>Argentina</td>\n",
       "      <td>Very important</td>\n",
       "      <td>One where the husband provides for the family ...</td>\n",
       "      <td>Completely disagree</td>\n",
       "      <td>Somewhat unfavorable</td>\n",
       "      <td>Very unfavorable</td>\n",
       "      <td>Very unfavorable</td>\n",
       "      <td>Very unfavorable</td>\n",
       "      <td>1.0</td>\n",
       "      <td>0.0</td>\n",
       "      <td>0.00</td>\n",
       "      <td>0.33</td>\n",
       "      <td>0.00</td>\n",
       "      <td>0.00</td>\n",
       "      <td>0.00</td>\n",
       "      <td>1.00</td>\n",
       "    </tr>\n",
       "    <tr>\n",
       "      <th>3</th>\n",
       "      <td>Argentina</td>\n",
       "      <td>Very important</td>\n",
       "      <td>One where the husband and wife both have jobs ...</td>\n",
       "      <td>Completely disagree</td>\n",
       "      <td>Very favorable</td>\n",
       "      <td>Somewhat unfavorable</td>\n",
       "      <td>Very favorable</td>\n",
       "      <td>Very favorable</td>\n",
       "      <td>1.0</td>\n",
       "      <td>1.0</td>\n",
       "      <td>0.00</td>\n",
       "      <td>1.00</td>\n",
       "      <td>0.33</td>\n",
       "      <td>1.00</td>\n",
       "      <td>1.00</td>\n",
       "      <td>2.00</td>\n",
       "    </tr>\n",
       "    <tr>\n",
       "      <th>4</th>\n",
       "      <td>Argentina</td>\n",
       "      <td>Very important</td>\n",
       "      <td>One where the husband and wife both have jobs ...</td>\n",
       "      <td>Mostly disagree</td>\n",
       "      <td>Very unfavorable</td>\n",
       "      <td>Very favorable</td>\n",
       "      <td>Very unfavorable</td>\n",
       "      <td>Somewhat favorable</td>\n",
       "      <td>1.0</td>\n",
       "      <td>1.0</td>\n",
       "      <td>0.33</td>\n",
       "      <td>0.00</td>\n",
       "      <td>1.00</td>\n",
       "      <td>0.00</td>\n",
       "      <td>0.66</td>\n",
       "      <td>1.67</td>\n",
       "    </tr>\n",
       "    <tr>\n",
       "      <th>7</th>\n",
       "      <td>Argentina</td>\n",
       "      <td>Very important</td>\n",
       "      <td>One where the husband and wife both have jobs ...</td>\n",
       "      <td>Completely disagree</td>\n",
       "      <td>Somewhat favorable</td>\n",
       "      <td>Very favorable</td>\n",
       "      <td>Very favorable</td>\n",
       "      <td>Very favorable</td>\n",
       "      <td>1.0</td>\n",
       "      <td>1.0</td>\n",
       "      <td>0.00</td>\n",
       "      <td>0.66</td>\n",
       "      <td>1.00</td>\n",
       "      <td>1.00</td>\n",
       "      <td>1.00</td>\n",
       "      <td>2.00</td>\n",
       "    </tr>\n",
       "    <tr>\n",
       "      <th>...</th>\n",
       "      <td>...</td>\n",
       "      <td>...</td>\n",
       "      <td>...</td>\n",
       "      <td>...</td>\n",
       "      <td>...</td>\n",
       "      <td>...</td>\n",
       "      <td>...</td>\n",
       "      <td>...</td>\n",
       "      <td>...</td>\n",
       "      <td>...</td>\n",
       "      <td>...</td>\n",
       "      <td>...</td>\n",
       "      <td>...</td>\n",
       "      <td>...</td>\n",
       "      <td>...</td>\n",
       "      <td>...</td>\n",
       "    </tr>\n",
       "    <tr>\n",
       "      <th>38420</th>\n",
       "      <td>United States</td>\n",
       "      <td>Very important</td>\n",
       "      <td>One where the husband and wife both have jobs ...</td>\n",
       "      <td>Mostly disagree</td>\n",
       "      <td>Very favorable</td>\n",
       "      <td>Very unfavorable</td>\n",
       "      <td>Somewhat unfavorable</td>\n",
       "      <td>Very unfavorable</td>\n",
       "      <td>1.0</td>\n",
       "      <td>1.0</td>\n",
       "      <td>0.33</td>\n",
       "      <td>1.00</td>\n",
       "      <td>0.00</td>\n",
       "      <td>0.33</td>\n",
       "      <td>0.00</td>\n",
       "      <td>1.67</td>\n",
       "    </tr>\n",
       "    <tr>\n",
       "      <th>38421</th>\n",
       "      <td>United States</td>\n",
       "      <td>Very important</td>\n",
       "      <td>One where the husband provides for the family ...</td>\n",
       "      <td>Completely disagree</td>\n",
       "      <td>Very favorable</td>\n",
       "      <td>Somewhat unfavorable</td>\n",
       "      <td>Somewhat unfavorable</td>\n",
       "      <td>Very unfavorable</td>\n",
       "      <td>1.0</td>\n",
       "      <td>0.0</td>\n",
       "      <td>0.00</td>\n",
       "      <td>1.00</td>\n",
       "      <td>0.33</td>\n",
       "      <td>0.33</td>\n",
       "      <td>0.00</td>\n",
       "      <td>1.00</td>\n",
       "    </tr>\n",
       "    <tr>\n",
       "      <th>38422</th>\n",
       "      <td>United States</td>\n",
       "      <td>Very important</td>\n",
       "      <td>One where the husband and wife both have jobs ...</td>\n",
       "      <td>Completely disagree</td>\n",
       "      <td>Very favorable</td>\n",
       "      <td>Somewhat favorable</td>\n",
       "      <td>Somewhat unfavorable</td>\n",
       "      <td>Somewhat unfavorable</td>\n",
       "      <td>1.0</td>\n",
       "      <td>1.0</td>\n",
       "      <td>0.00</td>\n",
       "      <td>1.00</td>\n",
       "      <td>0.66</td>\n",
       "      <td>0.33</td>\n",
       "      <td>0.33</td>\n",
       "      <td>2.00</td>\n",
       "    </tr>\n",
       "    <tr>\n",
       "      <th>38423</th>\n",
       "      <td>United States</td>\n",
       "      <td>Very important</td>\n",
       "      <td>One where the husband and wife both have jobs ...</td>\n",
       "      <td>Mostly agree</td>\n",
       "      <td>Very favorable</td>\n",
       "      <td>Somewhat unfavorable</td>\n",
       "      <td>Somewhat unfavorable</td>\n",
       "      <td>Somewhat unfavorable</td>\n",
       "      <td>1.0</td>\n",
       "      <td>1.0</td>\n",
       "      <td>0.66</td>\n",
       "      <td>1.00</td>\n",
       "      <td>0.33</td>\n",
       "      <td>0.33</td>\n",
       "      <td>0.33</td>\n",
       "      <td>1.34</td>\n",
       "    </tr>\n",
       "    <tr>\n",
       "      <th>38424</th>\n",
       "      <td>United States</td>\n",
       "      <td>Very important</td>\n",
       "      <td>One where the husband and wife both have jobs ...</td>\n",
       "      <td>Mostly disagree</td>\n",
       "      <td>Very favorable</td>\n",
       "      <td>Somewhat unfavorable</td>\n",
       "      <td>Somewhat unfavorable</td>\n",
       "      <td>Somewhat favorable</td>\n",
       "      <td>1.0</td>\n",
       "      <td>1.0</td>\n",
       "      <td>0.33</td>\n",
       "      <td>1.00</td>\n",
       "      <td>0.33</td>\n",
       "      <td>0.33</td>\n",
       "      <td>0.66</td>\n",
       "      <td>1.67</td>\n",
       "    </tr>\n",
       "  </tbody>\n",
       "</table>\n",
       "<p>26435 rows × 16 columns</p>\n",
       "</div>"
      ],
      "text/plain": [
       "             country GENDER_EQUALITY  \\\n",
       "1          Argentina  Very important   \n",
       "2          Argentina  Very important   \n",
       "3          Argentina  Very important   \n",
       "4          Argentina  Very important   \n",
       "7          Argentina  Very important   \n",
       "...              ...             ...   \n",
       "38420  United States  Very important   \n",
       "38421  United States  Very important   \n",
       "38422  United States  Very important   \n",
       "38423  United States  Very important   \n",
       "38424  United States  Very important   \n",
       "\n",
       "                                        KIND_OF_MARRIAGE            WOMEN_JOB  \\\n",
       "1      One where the husband provides for the family ...     Completely agree   \n",
       "2      One where the husband provides for the family ...  Completely disagree   \n",
       "3      One where the husband and wife both have jobs ...  Completely disagree   \n",
       "4      One where the husband and wife both have jobs ...      Mostly disagree   \n",
       "7      One where the husband and wife both have jobs ...  Completely disagree   \n",
       "...                                                  ...                  ...   \n",
       "38420  One where the husband and wife both have jobs ...      Mostly disagree   \n",
       "38421  One where the husband provides for the family ...  Completely disagree   \n",
       "38422  One where the husband and wife both have jobs ...  Completely disagree   \n",
       "38423  One where the husband and wife both have jobs ...         Mostly agree   \n",
       "38424  One where the husband and wife both have jobs ...      Mostly disagree   \n",
       "\n",
       "                     FAV_US             FAV_CHINA            FAV_RUSSIA  \\\n",
       "1            Very favorable        Very favorable        Very favorable   \n",
       "2      Somewhat unfavorable      Very unfavorable      Very unfavorable   \n",
       "3            Very favorable  Somewhat unfavorable        Very favorable   \n",
       "4          Very unfavorable        Very favorable      Very unfavorable   \n",
       "7        Somewhat favorable        Very favorable        Very favorable   \n",
       "...                     ...                   ...                   ...   \n",
       "38420        Very favorable      Very unfavorable  Somewhat unfavorable   \n",
       "38421        Very favorable  Somewhat unfavorable  Somewhat unfavorable   \n",
       "38422        Very favorable    Somewhat favorable  Somewhat unfavorable   \n",
       "38423        Very favorable  Somewhat unfavorable  Somewhat unfavorable   \n",
       "38424        Very favorable  Somewhat unfavorable  Somewhat unfavorable   \n",
       "\n",
       "                     FAV_EU  gender_equality_rec  kind_of_marriage_rec  \\\n",
       "1            Very favorable                  1.0                   0.0   \n",
       "2          Very unfavorable                  1.0                   0.0   \n",
       "3            Very favorable                  1.0                   1.0   \n",
       "4        Somewhat favorable                  1.0                   1.0   \n",
       "7            Very favorable                  1.0                   1.0   \n",
       "...                     ...                  ...                   ...   \n",
       "38420      Very unfavorable                  1.0                   1.0   \n",
       "38421      Very unfavorable                  1.0                   0.0   \n",
       "38422  Somewhat unfavorable                  1.0                   1.0   \n",
       "38423  Somewhat unfavorable                  1.0                   1.0   \n",
       "38424    Somewhat favorable                  1.0                   1.0   \n",
       "\n",
       "       women_job_rec  fav_us_rec  fav_chn_rec  fav_ru_rec  fav_eu_rec  \\\n",
       "1               1.00        1.00         1.00        1.00        1.00   \n",
       "2               0.00        0.33         0.00        0.00        0.00   \n",
       "3               0.00        1.00         0.33        1.00        1.00   \n",
       "4               0.33        0.00         1.00        0.00        0.66   \n",
       "7               0.00        0.66         1.00        1.00        1.00   \n",
       "...              ...         ...          ...         ...         ...   \n",
       "38420           0.33        1.00         0.00        0.33        0.00   \n",
       "38421           0.00        1.00         0.33        0.33        0.00   \n",
       "38422           0.00        1.00         0.66        0.33        0.33   \n",
       "38423           0.66        1.00         0.33        0.33        0.33   \n",
       "38424           0.33        1.00         0.33        0.33        0.66   \n",
       "\n",
       "       gender_equality_index  \n",
       "1                       0.00  \n",
       "2                       1.00  \n",
       "3                       2.00  \n",
       "4                       1.67  \n",
       "7                       2.00  \n",
       "...                      ...  \n",
       "38420                   1.67  \n",
       "38421                   1.00  \n",
       "38422                   2.00  \n",
       "38423                   1.34  \n",
       "38424                   1.67  \n",
       "\n",
       "[26435 rows x 16 columns]"
      ]
     },
     "execution_count": 83,
     "metadata": {},
     "output_type": "execute_result"
    }
   ],
   "source": [
    "gender_us_clean"
   ]
  },
  {
   "cell_type": "code",
   "execution_count": 127,
   "id": "c97b35ba",
   "metadata": {
    "scrolled": true
   },
   "outputs": [
    {
     "data": {
      "text/html": [
       "<div>\n",
       "<style scoped>\n",
       "    .dataframe tbody tr th:only-of-type {\n",
       "        vertical-align: middle;\n",
       "    }\n",
       "\n",
       "    .dataframe tbody tr th {\n",
       "        vertical-align: top;\n",
       "    }\n",
       "\n",
       "    .dataframe thead th {\n",
       "        text-align: right;\n",
       "    }\n",
       "</style>\n",
       "<table border=\"1\" class=\"dataframe\">\n",
       "  <thead>\n",
       "    <tr style=\"text-align: right;\">\n",
       "      <th></th>\n",
       "      <th>country</th>\n",
       "      <th>BELIEVE_GOD</th>\n",
       "      <th>RELIG_PRAYER</th>\n",
       "      <th>RELIG_GOD</th>\n",
       "      <th>RELIGION_IMPORT</th>\n",
       "      <th>FAV_US</th>\n",
       "      <th>FAV_CHINA</th>\n",
       "      <th>FAV_RUSSIA</th>\n",
       "      <th>FAV_EU</th>\n",
       "      <th>necessary_to_believe</th>\n",
       "      <th>importance_of_prayer</th>\n",
       "      <th>importance_of_god</th>\n",
       "      <th>importance_of_religion</th>\n",
       "      <th>fav_us_rec</th>\n",
       "      <th>fav_cn_rec</th>\n",
       "      <th>fav_ru_rec</th>\n",
       "      <th>fav_eu_rec</th>\n",
       "      <th>religiosity_index</th>\n",
       "    </tr>\n",
       "  </thead>\n",
       "  <tbody>\n",
       "    <tr>\n",
       "      <th>1</th>\n",
       "      <td>Argentina</td>\n",
       "      <td>It is necessary to believe in God in order to ...</td>\n",
       "      <td>Mostly disagree</td>\n",
       "      <td>Mostly agree</td>\n",
       "      <td>Very important</td>\n",
       "      <td>Very favorable</td>\n",
       "      <td>Very favorable</td>\n",
       "      <td>Very favorable</td>\n",
       "      <td>Very favorable</td>\n",
       "      <td>1.0</td>\n",
       "      <td>0.33</td>\n",
       "      <td>0.66</td>\n",
       "      <td>1.00</td>\n",
       "      <td>1.00</td>\n",
       "      <td>1.00</td>\n",
       "      <td>1.00</td>\n",
       "      <td>1.00</td>\n",
       "      <td>2.99</td>\n",
       "    </tr>\n",
       "    <tr>\n",
       "      <th>2</th>\n",
       "      <td>Argentina</td>\n",
       "      <td>It is not necessary to believe in God in order...</td>\n",
       "      <td>Mostly agree</td>\n",
       "      <td>Mostly agree</td>\n",
       "      <td>Not too important</td>\n",
       "      <td>Somewhat unfavorable</td>\n",
       "      <td>Very unfavorable</td>\n",
       "      <td>Very unfavorable</td>\n",
       "      <td>Very unfavorable</td>\n",
       "      <td>0.0</td>\n",
       "      <td>0.66</td>\n",
       "      <td>0.66</td>\n",
       "      <td>0.33</td>\n",
       "      <td>0.33</td>\n",
       "      <td>0.00</td>\n",
       "      <td>0.00</td>\n",
       "      <td>0.00</td>\n",
       "      <td>1.65</td>\n",
       "    </tr>\n",
       "    <tr>\n",
       "      <th>4</th>\n",
       "      <td>Argentina</td>\n",
       "      <td>It is necessary to believe in God in order to ...</td>\n",
       "      <td>Mostly agree</td>\n",
       "      <td>Mostly agree</td>\n",
       "      <td>Very important</td>\n",
       "      <td>Very unfavorable</td>\n",
       "      <td>Very favorable</td>\n",
       "      <td>Very unfavorable</td>\n",
       "      <td>Somewhat favorable</td>\n",
       "      <td>1.0</td>\n",
       "      <td>0.66</td>\n",
       "      <td>0.66</td>\n",
       "      <td>1.00</td>\n",
       "      <td>0.00</td>\n",
       "      <td>1.00</td>\n",
       "      <td>0.00</td>\n",
       "      <td>0.66</td>\n",
       "      <td>3.32</td>\n",
       "    </tr>\n",
       "    <tr>\n",
       "      <th>7</th>\n",
       "      <td>Argentina</td>\n",
       "      <td>It is not necessary to believe in God in order...</td>\n",
       "      <td>Mostly disagree</td>\n",
       "      <td>Completely agree</td>\n",
       "      <td>Very important</td>\n",
       "      <td>Somewhat favorable</td>\n",
       "      <td>Very favorable</td>\n",
       "      <td>Very favorable</td>\n",
       "      <td>Very favorable</td>\n",
       "      <td>0.0</td>\n",
       "      <td>0.33</td>\n",
       "      <td>1.00</td>\n",
       "      <td>1.00</td>\n",
       "      <td>0.66</td>\n",
       "      <td>1.00</td>\n",
       "      <td>1.00</td>\n",
       "      <td>1.00</td>\n",
       "      <td>2.33</td>\n",
       "    </tr>\n",
       "    <tr>\n",
       "      <th>14</th>\n",
       "      <td>Argentina</td>\n",
       "      <td>It is not necessary to believe in God in order...</td>\n",
       "      <td>Mostly agree</td>\n",
       "      <td>Mostly agree</td>\n",
       "      <td>Not too important</td>\n",
       "      <td>Very unfavorable</td>\n",
       "      <td>Very unfavorable</td>\n",
       "      <td>Very unfavorable</td>\n",
       "      <td>Somewhat favorable</td>\n",
       "      <td>0.0</td>\n",
       "      <td>0.66</td>\n",
       "      <td>0.66</td>\n",
       "      <td>0.33</td>\n",
       "      <td>0.00</td>\n",
       "      <td>0.00</td>\n",
       "      <td>0.00</td>\n",
       "      <td>0.66</td>\n",
       "      <td>1.65</td>\n",
       "    </tr>\n",
       "    <tr>\n",
       "      <th>...</th>\n",
       "      <td>...</td>\n",
       "      <td>...</td>\n",
       "      <td>...</td>\n",
       "      <td>...</td>\n",
       "      <td>...</td>\n",
       "      <td>...</td>\n",
       "      <td>...</td>\n",
       "      <td>...</td>\n",
       "      <td>...</td>\n",
       "      <td>...</td>\n",
       "      <td>...</td>\n",
       "      <td>...</td>\n",
       "      <td>...</td>\n",
       "      <td>...</td>\n",
       "      <td>...</td>\n",
       "      <td>...</td>\n",
       "      <td>...</td>\n",
       "      <td>...</td>\n",
       "    </tr>\n",
       "    <tr>\n",
       "      <th>38420</th>\n",
       "      <td>United States</td>\n",
       "      <td>It is necessary to believe in God in order to ...</td>\n",
       "      <td>Completely agree</td>\n",
       "      <td>Completely agree</td>\n",
       "      <td>Very important</td>\n",
       "      <td>Very favorable</td>\n",
       "      <td>Very unfavorable</td>\n",
       "      <td>Somewhat unfavorable</td>\n",
       "      <td>Very unfavorable</td>\n",
       "      <td>1.0</td>\n",
       "      <td>1.00</td>\n",
       "      <td>1.00</td>\n",
       "      <td>1.00</td>\n",
       "      <td>1.00</td>\n",
       "      <td>0.00</td>\n",
       "      <td>0.33</td>\n",
       "      <td>0.00</td>\n",
       "      <td>4.00</td>\n",
       "    </tr>\n",
       "    <tr>\n",
       "      <th>38421</th>\n",
       "      <td>United States</td>\n",
       "      <td>It is necessary to believe in God in order to ...</td>\n",
       "      <td>Completely agree</td>\n",
       "      <td>Completely agree</td>\n",
       "      <td>Very important</td>\n",
       "      <td>Very favorable</td>\n",
       "      <td>Somewhat unfavorable</td>\n",
       "      <td>Somewhat unfavorable</td>\n",
       "      <td>Very unfavorable</td>\n",
       "      <td>1.0</td>\n",
       "      <td>1.00</td>\n",
       "      <td>1.00</td>\n",
       "      <td>1.00</td>\n",
       "      <td>1.00</td>\n",
       "      <td>0.33</td>\n",
       "      <td>0.33</td>\n",
       "      <td>0.00</td>\n",
       "      <td>4.00</td>\n",
       "    </tr>\n",
       "    <tr>\n",
       "      <th>38422</th>\n",
       "      <td>United States</td>\n",
       "      <td>It is not necessary to believe in God in order...</td>\n",
       "      <td>Mostly agree</td>\n",
       "      <td>Mostly agree</td>\n",
       "      <td>Somewhat important</td>\n",
       "      <td>Very favorable</td>\n",
       "      <td>Somewhat favorable</td>\n",
       "      <td>Somewhat unfavorable</td>\n",
       "      <td>Somewhat unfavorable</td>\n",
       "      <td>0.0</td>\n",
       "      <td>0.66</td>\n",
       "      <td>0.66</td>\n",
       "      <td>0.66</td>\n",
       "      <td>1.00</td>\n",
       "      <td>0.66</td>\n",
       "      <td>0.33</td>\n",
       "      <td>0.33</td>\n",
       "      <td>1.98</td>\n",
       "    </tr>\n",
       "    <tr>\n",
       "      <th>38423</th>\n",
       "      <td>United States</td>\n",
       "      <td>It is necessary to believe in God in order to ...</td>\n",
       "      <td>Mostly agree</td>\n",
       "      <td>Completely agree</td>\n",
       "      <td>Very important</td>\n",
       "      <td>Very favorable</td>\n",
       "      <td>Somewhat unfavorable</td>\n",
       "      <td>Somewhat unfavorable</td>\n",
       "      <td>Somewhat unfavorable</td>\n",
       "      <td>1.0</td>\n",
       "      <td>0.66</td>\n",
       "      <td>1.00</td>\n",
       "      <td>1.00</td>\n",
       "      <td>1.00</td>\n",
       "      <td>0.33</td>\n",
       "      <td>0.33</td>\n",
       "      <td>0.33</td>\n",
       "      <td>3.66</td>\n",
       "    </tr>\n",
       "    <tr>\n",
       "      <th>38424</th>\n",
       "      <td>United States</td>\n",
       "      <td>It is not necessary to believe in God in order...</td>\n",
       "      <td>Mostly disagree</td>\n",
       "      <td>Mostly agree</td>\n",
       "      <td>Somewhat important</td>\n",
       "      <td>Very favorable</td>\n",
       "      <td>Somewhat unfavorable</td>\n",
       "      <td>Somewhat unfavorable</td>\n",
       "      <td>Somewhat favorable</td>\n",
       "      <td>0.0</td>\n",
       "      <td>0.33</td>\n",
       "      <td>0.66</td>\n",
       "      <td>0.66</td>\n",
       "      <td>1.00</td>\n",
       "      <td>0.33</td>\n",
       "      <td>0.33</td>\n",
       "      <td>0.66</td>\n",
       "      <td>1.65</td>\n",
       "    </tr>\n",
       "  </tbody>\n",
       "</table>\n",
       "<p>21859 rows × 18 columns</p>\n",
       "</div>"
      ],
      "text/plain": [
       "             country                                        BELIEVE_GOD  \\\n",
       "1          Argentina  It is necessary to believe in God in order to ...   \n",
       "2          Argentina  It is not necessary to believe in God in order...   \n",
       "4          Argentina  It is necessary to believe in God in order to ...   \n",
       "7          Argentina  It is not necessary to believe in God in order...   \n",
       "14         Argentina  It is not necessary to believe in God in order...   \n",
       "...              ...                                                ...   \n",
       "38420  United States  It is necessary to believe in God in order to ...   \n",
       "38421  United States  It is necessary to believe in God in order to ...   \n",
       "38422  United States  It is not necessary to believe in God in order...   \n",
       "38423  United States  It is necessary to believe in God in order to ...   \n",
       "38424  United States  It is not necessary to believe in God in order...   \n",
       "\n",
       "           RELIG_PRAYER         RELIG_GOD     RELIGION_IMPORT  \\\n",
       "1       Mostly disagree      Mostly agree      Very important   \n",
       "2          Mostly agree      Mostly agree   Not too important   \n",
       "4          Mostly agree      Mostly agree      Very important   \n",
       "7       Mostly disagree  Completely agree      Very important   \n",
       "14         Mostly agree      Mostly agree   Not too important   \n",
       "...                 ...               ...                 ...   \n",
       "38420  Completely agree  Completely agree      Very important   \n",
       "38421  Completely agree  Completely agree      Very important   \n",
       "38422      Mostly agree      Mostly agree  Somewhat important   \n",
       "38423      Mostly agree  Completely agree      Very important   \n",
       "38424   Mostly disagree      Mostly agree  Somewhat important   \n",
       "\n",
       "                     FAV_US             FAV_CHINA            FAV_RUSSIA  \\\n",
       "1            Very favorable        Very favorable        Very favorable   \n",
       "2      Somewhat unfavorable      Very unfavorable      Very unfavorable   \n",
       "4          Very unfavorable        Very favorable      Very unfavorable   \n",
       "7        Somewhat favorable        Very favorable        Very favorable   \n",
       "14         Very unfavorable      Very unfavorable      Very unfavorable   \n",
       "...                     ...                   ...                   ...   \n",
       "38420        Very favorable      Very unfavorable  Somewhat unfavorable   \n",
       "38421        Very favorable  Somewhat unfavorable  Somewhat unfavorable   \n",
       "38422        Very favorable    Somewhat favorable  Somewhat unfavorable   \n",
       "38423        Very favorable  Somewhat unfavorable  Somewhat unfavorable   \n",
       "38424        Very favorable  Somewhat unfavorable  Somewhat unfavorable   \n",
       "\n",
       "                     FAV_EU  necessary_to_believe  importance_of_prayer  \\\n",
       "1            Very favorable                   1.0                  0.33   \n",
       "2          Very unfavorable                   0.0                  0.66   \n",
       "4        Somewhat favorable                   1.0                  0.66   \n",
       "7            Very favorable                   0.0                  0.33   \n",
       "14       Somewhat favorable                   0.0                  0.66   \n",
       "...                     ...                   ...                   ...   \n",
       "38420      Very unfavorable                   1.0                  1.00   \n",
       "38421      Very unfavorable                   1.0                  1.00   \n",
       "38422  Somewhat unfavorable                   0.0                  0.66   \n",
       "38423  Somewhat unfavorable                   1.0                  0.66   \n",
       "38424    Somewhat favorable                   0.0                  0.33   \n",
       "\n",
       "       importance_of_god  importance_of_religion  fav_us_rec  fav_cn_rec  \\\n",
       "1                   0.66                    1.00        1.00        1.00   \n",
       "2                   0.66                    0.33        0.33        0.00   \n",
       "4                   0.66                    1.00        0.00        1.00   \n",
       "7                   1.00                    1.00        0.66        1.00   \n",
       "14                  0.66                    0.33        0.00        0.00   \n",
       "...                  ...                     ...         ...         ...   \n",
       "38420               1.00                    1.00        1.00        0.00   \n",
       "38421               1.00                    1.00        1.00        0.33   \n",
       "38422               0.66                    0.66        1.00        0.66   \n",
       "38423               1.00                    1.00        1.00        0.33   \n",
       "38424               0.66                    0.66        1.00        0.33   \n",
       "\n",
       "       fav_ru_rec  fav_eu_rec  religiosity_index  \n",
       "1            1.00        1.00               2.99  \n",
       "2            0.00        0.00               1.65  \n",
       "4            0.00        0.66               3.32  \n",
       "7            1.00        1.00               2.33  \n",
       "14           0.00        0.66               1.65  \n",
       "...           ...         ...                ...  \n",
       "38420        0.33        0.00               4.00  \n",
       "38421        0.33        0.00               4.00  \n",
       "38422        0.33        0.33               1.98  \n",
       "38423        0.33        0.33               3.66  \n",
       "38424        0.33        0.66               1.65  \n",
       "\n",
       "[21859 rows x 18 columns]"
      ]
     },
     "execution_count": 127,
     "metadata": {},
     "output_type": "execute_result"
    }
   ],
   "source": [
    "religion_country_images_clean"
   ]
  },
  {
   "cell_type": "code",
   "execution_count": 153,
   "id": "505ceb0e",
   "metadata": {
    "scrolled": true
   },
   "outputs": [
    {
     "data": {
      "text/html": [
       "<div>\n",
       "<style scoped>\n",
       "    .dataframe tbody tr th:only-of-type {\n",
       "        vertical-align: middle;\n",
       "    }\n",
       "\n",
       "    .dataframe tbody tr th {\n",
       "        vertical-align: top;\n",
       "    }\n",
       "\n",
       "    .dataframe thead th {\n",
       "        text-align: right;\n",
       "    }\n",
       "</style>\n",
       "<table border=\"1\" class=\"dataframe\">\n",
       "  <thead>\n",
       "    <tr style=\"text-align: right;\">\n",
       "      <th></th>\n",
       "      <th>country</th>\n",
       "      <th>HOMOSEXUALITY</th>\n",
       "      <th>FAV_US</th>\n",
       "      <th>FAV_CHINA</th>\n",
       "      <th>FAV_RUSSIA</th>\n",
       "      <th>FAV_EU</th>\n",
       "      <th>accept_homosexuality</th>\n",
       "      <th>fav_us_rec</th>\n",
       "      <th>fav_cn_rec</th>\n",
       "      <th>fav_ru_rec</th>\n",
       "      <th>fav_eu_rec</th>\n",
       "    </tr>\n",
       "  </thead>\n",
       "  <tbody>\n",
       "    <tr>\n",
       "      <th>1</th>\n",
       "      <td>Argentina</td>\n",
       "      <td>Homosexuality should be accepted by society</td>\n",
       "      <td>Very favorable</td>\n",
       "      <td>Very favorable</td>\n",
       "      <td>Very favorable</td>\n",
       "      <td>Very favorable</td>\n",
       "      <td>1.0</td>\n",
       "      <td>1.00</td>\n",
       "      <td>1.00</td>\n",
       "      <td>1.00</td>\n",
       "      <td>1.00</td>\n",
       "    </tr>\n",
       "    <tr>\n",
       "      <th>2</th>\n",
       "      <td>Argentina</td>\n",
       "      <td>Homosexuality should be accepted by society</td>\n",
       "      <td>Somewhat unfavorable</td>\n",
       "      <td>Very unfavorable</td>\n",
       "      <td>Very unfavorable</td>\n",
       "      <td>Very unfavorable</td>\n",
       "      <td>1.0</td>\n",
       "      <td>0.33</td>\n",
       "      <td>0.00</td>\n",
       "      <td>0.00</td>\n",
       "      <td>0.00</td>\n",
       "    </tr>\n",
       "    <tr>\n",
       "      <th>3</th>\n",
       "      <td>Argentina</td>\n",
       "      <td>Homosexuality should be accepted by society</td>\n",
       "      <td>Very favorable</td>\n",
       "      <td>Somewhat unfavorable</td>\n",
       "      <td>Very favorable</td>\n",
       "      <td>Very favorable</td>\n",
       "      <td>1.0</td>\n",
       "      <td>1.00</td>\n",
       "      <td>0.33</td>\n",
       "      <td>1.00</td>\n",
       "      <td>1.00</td>\n",
       "    </tr>\n",
       "    <tr>\n",
       "      <th>7</th>\n",
       "      <td>Argentina</td>\n",
       "      <td>Homosexuality should be accepted by society</td>\n",
       "      <td>Somewhat favorable</td>\n",
       "      <td>Very favorable</td>\n",
       "      <td>Very favorable</td>\n",
       "      <td>Very favorable</td>\n",
       "      <td>1.0</td>\n",
       "      <td>0.66</td>\n",
       "      <td>1.00</td>\n",
       "      <td>1.00</td>\n",
       "      <td>1.00</td>\n",
       "    </tr>\n",
       "    <tr>\n",
       "      <th>8</th>\n",
       "      <td>Argentina</td>\n",
       "      <td>Homosexuality should be accepted by society</td>\n",
       "      <td>Very unfavorable</td>\n",
       "      <td>Very unfavorable</td>\n",
       "      <td>Very unfavorable</td>\n",
       "      <td>Very unfavorable</td>\n",
       "      <td>1.0</td>\n",
       "      <td>0.00</td>\n",
       "      <td>0.00</td>\n",
       "      <td>0.00</td>\n",
       "      <td>0.00</td>\n",
       "    </tr>\n",
       "    <tr>\n",
       "      <th>...</th>\n",
       "      <td>...</td>\n",
       "      <td>...</td>\n",
       "      <td>...</td>\n",
       "      <td>...</td>\n",
       "      <td>...</td>\n",
       "      <td>...</td>\n",
       "      <td>...</td>\n",
       "      <td>...</td>\n",
       "      <td>...</td>\n",
       "      <td>...</td>\n",
       "      <td>...</td>\n",
       "    </tr>\n",
       "    <tr>\n",
       "      <th>38420</th>\n",
       "      <td>United States</td>\n",
       "      <td>Homosexuality should not be accepted by society</td>\n",
       "      <td>Very favorable</td>\n",
       "      <td>Very unfavorable</td>\n",
       "      <td>Somewhat unfavorable</td>\n",
       "      <td>Very unfavorable</td>\n",
       "      <td>0.0</td>\n",
       "      <td>1.00</td>\n",
       "      <td>0.00</td>\n",
       "      <td>0.33</td>\n",
       "      <td>0.00</td>\n",
       "    </tr>\n",
       "    <tr>\n",
       "      <th>38421</th>\n",
       "      <td>United States</td>\n",
       "      <td>Homosexuality should not be accepted by society</td>\n",
       "      <td>Very favorable</td>\n",
       "      <td>Somewhat unfavorable</td>\n",
       "      <td>Somewhat unfavorable</td>\n",
       "      <td>Very unfavorable</td>\n",
       "      <td>0.0</td>\n",
       "      <td>1.00</td>\n",
       "      <td>0.33</td>\n",
       "      <td>0.33</td>\n",
       "      <td>0.00</td>\n",
       "    </tr>\n",
       "    <tr>\n",
       "      <th>38422</th>\n",
       "      <td>United States</td>\n",
       "      <td>Homosexuality should be accepted by society</td>\n",
       "      <td>Very favorable</td>\n",
       "      <td>Somewhat favorable</td>\n",
       "      <td>Somewhat unfavorable</td>\n",
       "      <td>Somewhat unfavorable</td>\n",
       "      <td>1.0</td>\n",
       "      <td>1.00</td>\n",
       "      <td>0.66</td>\n",
       "      <td>0.33</td>\n",
       "      <td>0.33</td>\n",
       "    </tr>\n",
       "    <tr>\n",
       "      <th>38423</th>\n",
       "      <td>United States</td>\n",
       "      <td>Homosexuality should be accepted by society</td>\n",
       "      <td>Very favorable</td>\n",
       "      <td>Somewhat unfavorable</td>\n",
       "      <td>Somewhat unfavorable</td>\n",
       "      <td>Somewhat unfavorable</td>\n",
       "      <td>1.0</td>\n",
       "      <td>1.00</td>\n",
       "      <td>0.33</td>\n",
       "      <td>0.33</td>\n",
       "      <td>0.33</td>\n",
       "    </tr>\n",
       "    <tr>\n",
       "      <th>38424</th>\n",
       "      <td>United States</td>\n",
       "      <td>Homosexuality should be accepted by society</td>\n",
       "      <td>Very favorable</td>\n",
       "      <td>Somewhat unfavorable</td>\n",
       "      <td>Somewhat unfavorable</td>\n",
       "      <td>Somewhat favorable</td>\n",
       "      <td>1.0</td>\n",
       "      <td>1.00</td>\n",
       "      <td>0.33</td>\n",
       "      <td>0.33</td>\n",
       "      <td>0.66</td>\n",
       "    </tr>\n",
       "  </tbody>\n",
       "</table>\n",
       "<p>26605 rows × 11 columns</p>\n",
       "</div>"
      ],
      "text/plain": [
       "             country                                    HOMOSEXUALITY  \\\n",
       "1          Argentina      Homosexuality should be accepted by society   \n",
       "2          Argentina      Homosexuality should be accepted by society   \n",
       "3          Argentina      Homosexuality should be accepted by society   \n",
       "7          Argentina      Homosexuality should be accepted by society   \n",
       "8          Argentina      Homosexuality should be accepted by society   \n",
       "...              ...                                              ...   \n",
       "38420  United States  Homosexuality should not be accepted by society   \n",
       "38421  United States  Homosexuality should not be accepted by society   \n",
       "38422  United States      Homosexuality should be accepted by society   \n",
       "38423  United States      Homosexuality should be accepted by society   \n",
       "38424  United States      Homosexuality should be accepted by society   \n",
       "\n",
       "                     FAV_US             FAV_CHINA            FAV_RUSSIA  \\\n",
       "1            Very favorable        Very favorable        Very favorable   \n",
       "2      Somewhat unfavorable      Very unfavorable      Very unfavorable   \n",
       "3            Very favorable  Somewhat unfavorable        Very favorable   \n",
       "7        Somewhat favorable        Very favorable        Very favorable   \n",
       "8          Very unfavorable      Very unfavorable      Very unfavorable   \n",
       "...                     ...                   ...                   ...   \n",
       "38420        Very favorable      Very unfavorable  Somewhat unfavorable   \n",
       "38421        Very favorable  Somewhat unfavorable  Somewhat unfavorable   \n",
       "38422        Very favorable    Somewhat favorable  Somewhat unfavorable   \n",
       "38423        Very favorable  Somewhat unfavorable  Somewhat unfavorable   \n",
       "38424        Very favorable  Somewhat unfavorable  Somewhat unfavorable   \n",
       "\n",
       "                     FAV_EU  accept_homosexuality  fav_us_rec  fav_cn_rec  \\\n",
       "1            Very favorable                   1.0        1.00        1.00   \n",
       "2          Very unfavorable                   1.0        0.33        0.00   \n",
       "3            Very favorable                   1.0        1.00        0.33   \n",
       "7            Very favorable                   1.0        0.66        1.00   \n",
       "8          Very unfavorable                   1.0        0.00        0.00   \n",
       "...                     ...                   ...         ...         ...   \n",
       "38420      Very unfavorable                   0.0        1.00        0.00   \n",
       "38421      Very unfavorable                   0.0        1.00        0.33   \n",
       "38422  Somewhat unfavorable                   1.0        1.00        0.66   \n",
       "38423  Somewhat unfavorable                   1.0        1.00        0.33   \n",
       "38424    Somewhat favorable                   1.0        1.00        0.33   \n",
       "\n",
       "       fav_ru_rec  fav_eu_rec  \n",
       "1            1.00        1.00  \n",
       "2            0.00        0.00  \n",
       "3            1.00        1.00  \n",
       "7            1.00        1.00  \n",
       "8            0.00        0.00  \n",
       "...           ...         ...  \n",
       "38420        0.33        0.00  \n",
       "38421        0.33        0.00  \n",
       "38422        0.33        0.33  \n",
       "38423        0.33        0.33  \n",
       "38424        0.33        0.66  \n",
       "\n",
       "[26605 rows x 11 columns]"
      ]
     },
     "execution_count": 153,
     "metadata": {},
     "output_type": "execute_result"
    }
   ],
   "source": [
    "acceptance_homosexuality_country_images_clean"
   ]
  },
  {
   "cell_type": "markdown",
   "id": "8eff1d2d-0a1b-4883-8d0b-6f823feb28d8",
   "metadata": {},
   "source": [
    "# Data analysis"
   ]
  },
  {
   "cell_type": "markdown",
   "id": "746a5cf9",
   "metadata": {},
   "source": [
    "## Calculating the correlations"
   ]
  },
  {
   "cell_type": "markdown",
   "id": "029ee126",
   "metadata": {},
   "source": [
    "##### Age"
   ]
  },
  {
   "cell_type": "code",
   "execution_count": 71,
   "id": "fde879d2",
   "metadata": {},
   "outputs": [],
   "source": [
    "age_freedom = wvs7_clean.groupby('B_COUNTRY_ALPHA')[['Q262','civil_liberties']].corr().unstack().iloc[:,1]"
   ]
  },
  {
   "cell_type": "code",
   "execution_count": 72,
   "id": "a58d4d5d",
   "metadata": {},
   "outputs": [],
   "source": [
    "age_market = wvs7_clean.groupby('B_COUNTRY_ALPHA')[['Q262','free_market']].corr().unstack().iloc[:,1]"
   ]
  },
  {
   "cell_type": "code",
   "execution_count": 73,
   "id": "1ed1f788",
   "metadata": {},
   "outputs": [],
   "source": [
    "age_gender = wvs7_clean.groupby('B_COUNTRY_ALPHA')[['Q262','gender_equality']].corr().unstack().iloc[:,1]"
   ]
  },
  {
   "cell_type": "code",
   "execution_count": 74,
   "id": "1827ebfa",
   "metadata": {},
   "outputs": [],
   "source": [
    "age_sexuality = wvs7_clean.groupby('B_COUNTRY_ALPHA')[['Q262','sexuality']].corr().unstack().iloc[:,1]"
   ]
  },
  {
   "cell_type": "code",
   "execution_count": 75,
   "id": "1493ace3",
   "metadata": {},
   "outputs": [],
   "source": [
    "age_religion = wvs7_clean.groupby('B_COUNTRY_ALPHA')[['Q262','religion']].corr().unstack().iloc[:,1]"
   ]
  },
  {
   "cell_type": "code",
   "execution_count": 76,
   "id": "64aa6f5d",
   "metadata": {},
   "outputs": [],
   "source": [
    "age_science_and_technology = wvs7_clean.groupby('B_COUNTRY_ALPHA')[['Q262','science_and_technology']].corr().unstack().iloc[:,1]"
   ]
  },
  {
   "cell_type": "markdown",
   "id": "b4f97456",
   "metadata": {},
   "source": [
    "#### Education"
   ]
  },
  {
   "cell_type": "code",
   "execution_count": 77,
   "id": "3478fa98",
   "metadata": {},
   "outputs": [],
   "source": [
    "education_freedom = wvs7_clean.groupby('B_COUNTRY_ALPHA')[['Q275R','civil_liberties']].corr().unstack().iloc[:,1]"
   ]
  },
  {
   "cell_type": "code",
   "execution_count": 78,
   "id": "b7a1bb0f",
   "metadata": {},
   "outputs": [],
   "source": [
    "education_market = wvs7_clean.groupby('B_COUNTRY_ALPHA')[['Q275R','free_market']].corr().unstack().iloc[:,1]"
   ]
  },
  {
   "cell_type": "code",
   "execution_count": 79,
   "id": "436a057d",
   "metadata": {},
   "outputs": [],
   "source": [
    "education_gender = wvs7_clean.groupby('B_COUNTRY_ALPHA')[['Q275R','gender_equality']].corr().unstack().iloc[:,1]"
   ]
  },
  {
   "cell_type": "code",
   "execution_count": 80,
   "id": "9a8dd8d7",
   "metadata": {},
   "outputs": [],
   "source": [
    "education_sexuality = wvs7_clean.groupby('B_COUNTRY_ALPHA')[['Q275R','sexuality']].corr().unstack().iloc[:,1]"
   ]
  },
  {
   "cell_type": "code",
   "execution_count": 81,
   "id": "9627c39f",
   "metadata": {},
   "outputs": [],
   "source": [
    "education_religion = wvs7_clean.groupby('B_COUNTRY_ALPHA')[['Q275R','religion']].corr().unstack().iloc[:,1]"
   ]
  },
  {
   "cell_type": "code",
   "execution_count": 82,
   "id": "fa415fcc",
   "metadata": {},
   "outputs": [],
   "source": [
    "education_science_and_technology = wvs7_clean.groupby('B_COUNTRY_ALPHA')[['Q275R','science_and_technology']].corr().unstack().iloc[:,1]"
   ]
  },
  {
   "cell_type": "markdown",
   "id": "6389ecac",
   "metadata": {},
   "source": [
    "#### Political orientations"
   ]
  },
  {
   "cell_type": "code",
   "execution_count": 83,
   "id": "873bc90f",
   "metadata": {},
   "outputs": [],
   "source": [
    "freedom_market = wvs7_clean.groupby('B_COUNTRY_ALPHA')[['civil_liberties', 'free_market']].corr().unstack().iloc[:,1]"
   ]
  },
  {
   "cell_type": "code",
   "execution_count": 84,
   "id": "cdd0cde3",
   "metadata": {},
   "outputs": [],
   "source": [
    "freedom_gender = wvs7_clean.groupby('B_COUNTRY_ALPHA')[['civil_liberties', 'gender_equality']].corr().unstack().iloc[:,1]"
   ]
  },
  {
   "cell_type": "code",
   "execution_count": 85,
   "id": "99109a5e",
   "metadata": {},
   "outputs": [],
   "source": [
    "freedom_sexuality = wvs7_clean.groupby('B_COUNTRY_ALPHA')[['civil_liberties', 'sexuality']].corr().unstack().iloc[:,1]"
   ]
  },
  {
   "cell_type": "code",
   "execution_count": 86,
   "id": "bfff68d6",
   "metadata": {},
   "outputs": [],
   "source": [
    "freedom_religion = wvs7_clean.groupby('B_COUNTRY_ALPHA')[['civil_liberties', 'religion']].corr().unstack().iloc[:,1]"
   ]
  },
  {
   "cell_type": "code",
   "execution_count": 87,
   "id": "6aea1cb3",
   "metadata": {},
   "outputs": [],
   "source": [
    "freedom_science_and_technology = wvs7_clean.groupby('B_COUNTRY_ALPHA')[['civil_liberties', 'science_and_technology']].corr().unstack().iloc[:,1]"
   ]
  },
  {
   "cell_type": "code",
   "execution_count": 88,
   "id": "b246556c",
   "metadata": {},
   "outputs": [],
   "source": [
    "freedom_progressivism = wvs7_clean.groupby('B_COUNTRY_ALPHA')[['civil_liberties', 'progressivism']].corr().unstack().iloc[:,1]"
   ]
  },
  {
   "cell_type": "code",
   "execution_count": 89,
   "id": "e8ad0901",
   "metadata": {},
   "outputs": [],
   "source": [
    "market_gender = wvs7_clean.groupby('B_COUNTRY_ALPHA')[['free_market', 'gender_equality']].corr().unstack().iloc[:,1]"
   ]
  },
  {
   "cell_type": "code",
   "execution_count": 90,
   "id": "f053dd3a",
   "metadata": {},
   "outputs": [],
   "source": [
    "market_sexuality = wvs7_clean.groupby('B_COUNTRY_ALPHA')[['free_market', 'sexuality']].corr().unstack().iloc[:,1]"
   ]
  },
  {
   "cell_type": "code",
   "execution_count": 91,
   "id": "ca4c1f8b",
   "metadata": {},
   "outputs": [],
   "source": [
    "market_religion = wvs7_clean.groupby('B_COUNTRY_ALPHA')[['free_market', 'religion']].corr().unstack().iloc[:,1]"
   ]
  },
  {
   "cell_type": "code",
   "execution_count": 92,
   "id": "81685410",
   "metadata": {},
   "outputs": [],
   "source": [
    "market_science_and_technology = wvs7_clean.groupby('B_COUNTRY_ALPHA')[['free_market', 'science_and_technology']].corr().unstack().iloc[:,1]"
   ]
  },
  {
   "cell_type": "code",
   "execution_count": 93,
   "id": "87651903",
   "metadata": {},
   "outputs": [],
   "source": [
    "gender_religion = wvs7_clean.groupby('B_COUNTRY_ALPHA')[['gender_equality', 'religion']].corr().unstack().iloc[:,1]"
   ]
  },
  {
   "cell_type": "code",
   "execution_count": 94,
   "id": "f5ff0040",
   "metadata": {},
   "outputs": [],
   "source": [
    "sexuality_religion = wvs7_clean.groupby('B_COUNTRY_ALPHA')[['sexuality', 'religion']].corr().unstack().iloc[:,1]"
   ]
  },
  {
   "cell_type": "code",
   "execution_count": 95,
   "id": "b3687feb",
   "metadata": {},
   "outputs": [],
   "source": [
    "science_and_technology_religion = wvs7_clean.groupby('B_COUNTRY_ALPHA')[['religion', 'science_and_technology']].corr().unstack().iloc[:,1]"
   ]
  },
  {
   "cell_type": "code",
   "execution_count": 96,
   "id": "d4ea560d",
   "metadata": {},
   "outputs": [],
   "source": [
    "gender_sexuality = wvs7_clean.groupby('B_COUNTRY_ALPHA')[['gender_equality', 'sexuality']].corr().unstack().iloc[:,1]"
   ]
  },
  {
   "cell_type": "code",
   "execution_count": 97,
   "id": "d73a5595",
   "metadata": {},
   "outputs": [],
   "source": [
    "gender_science_and_technology = wvs7_clean.groupby('B_COUNTRY_ALPHA')[['gender_equality', 'science_and_technology']].corr().unstack().iloc[:,1]"
   ]
  },
  {
   "cell_type": "code",
   "execution_count": 98,
   "id": "d4b82c08",
   "metadata": {},
   "outputs": [],
   "source": [
    "sexuality_science_and_technology = wvs7_clean.groupby('B_COUNTRY_ALPHA')[['sexuality', 'science_and_technology']].corr().unstack().iloc[:,1]"
   ]
  },
  {
   "cell_type": "code",
   "execution_count": 99,
   "id": "c58a7a26",
   "metadata": {},
   "outputs": [],
   "source": [
    "market_progressivism = wvs7_clean.groupby('B_COUNTRY_ALPHA')[['free_market', 'progressivism']].corr().unstack().iloc[:,1]"
   ]
  },
  {
   "cell_type": "code",
   "execution_count": 114,
   "id": "9eaf9af3",
   "metadata": {},
   "outputs": [],
   "source": [
    "science_and_technology_progressivism = wvs7_clean.groupby('B_COUNTRY_ALPHA')[['science_and_technology', 'progressivism']].corr().unstack().iloc[:,1]"
   ]
  },
  {
   "cell_type": "code",
   "execution_count": 100,
   "id": "1b831418",
   "metadata": {},
   "outputs": [],
   "source": [
    "pd.set_option('display.max_rows', None)"
   ]
  },
  {
   "cell_type": "markdown",
   "id": "43c98cf9",
   "metadata": {},
   "source": [
    "#### Country images"
   ]
  },
  {
   "cell_type": "code",
   "execution_count": 66,
   "id": "f3e4cfd0",
   "metadata": {},
   "outputs": [],
   "source": [
    "us_image_gender_equality = gender_us_clean.groupby('country')[['gender_equality_index', 'fav_us_rec']].corr().unstack().iloc[:,1]"
   ]
  },
  {
   "cell_type": "code",
   "execution_count": 84,
   "id": "88df195c",
   "metadata": {},
   "outputs": [],
   "source": [
    "eu_image_gender_equality = gender_us_clean.groupby('country')[['gender_equality_index', 'fav_eu_rec']].corr().unstack().iloc[:,1]"
   ]
  },
  {
   "cell_type": "code",
   "execution_count": 90,
   "id": "ed77050d",
   "metadata": {},
   "outputs": [],
   "source": [
    "cn_image_gender_equality = gender_us_clean.groupby('country')[['gender_equality_index', 'fav_chn_rec']].corr().unstack().iloc[:,1]"
   ]
  },
  {
   "cell_type": "code",
   "execution_count": 91,
   "id": "68684a72",
   "metadata": {},
   "outputs": [],
   "source": [
    "ru_image_gender_equality = gender_us_clean.groupby('country')[['gender_equality_index', 'fav_ru_rec']].corr().unstack().iloc[:,1]"
   ]
  },
  {
   "cell_type": "code",
   "execution_count": 97,
   "id": "de7d129b",
   "metadata": {},
   "outputs": [],
   "source": [
    "us_image_eu_image = gender_us_clean.groupby('country')[['fav_us_rec', 'fav_eu_rec']].corr().unstack().iloc[:,1]"
   ]
  },
  {
   "cell_type": "code",
   "execution_count": 101,
   "id": "16f269f1",
   "metadata": {},
   "outputs": [],
   "source": [
    "us_image_cn_image = gender_us_clean.groupby('country')[['fav_us_rec', 'fav_chn_rec']].corr().unstack().iloc[:,1]"
   ]
  },
  {
   "cell_type": "code",
   "execution_count": 99,
   "id": "f4fb0dec",
   "metadata": {},
   "outputs": [],
   "source": [
    "us_image_ru_image = gender_us_clean.groupby('country')[['fav_us_rec', 'fav_ru_rec']].corr().unstack().iloc[:,1]"
   ]
  },
  {
   "cell_type": "code",
   "execution_count": 100,
   "id": "eacaad4d",
   "metadata": {},
   "outputs": [],
   "source": [
    "cn_image_ru_image =gender_us_clean.groupby('country')[['fav_chn_rec', 'fav_ru_rec']].corr().unstack().iloc[:,1]"
   ]
  },
  {
   "cell_type": "code",
   "execution_count": 128,
   "id": "0d160d84",
   "metadata": {},
   "outputs": [],
   "source": [
    "us_image_religiosity = religion_country_images_clean.groupby('country')[['religiosity_index', 'fav_us_rec']].corr().unstack().iloc[:,1]"
   ]
  },
  {
   "cell_type": "code",
   "execution_count": 132,
   "id": "619a769b",
   "metadata": {},
   "outputs": [],
   "source": [
    "cn_image_religiosity = religion_country_images_clean.groupby('country')[['religiosity_index', 'fav_cn_rec']].corr().unstack().iloc[:,1]"
   ]
  },
  {
   "cell_type": "code",
   "execution_count": 136,
   "id": "e50dae7f",
   "metadata": {},
   "outputs": [],
   "source": [
    "ru_image_religiosity = religion_country_images_clean.groupby('country')[['religiosity_index', 'fav_ru_rec']].corr().unstack().iloc[:,1]"
   ]
  },
  {
   "cell_type": "code",
   "execution_count": 141,
   "id": "078df766",
   "metadata": {},
   "outputs": [],
   "source": [
    "eu_image_religiosity = religion_country_images_clean.groupby('country')[['religiosity_index', 'fav_eu_rec']].corr().unstack().iloc[:,1]"
   ]
  },
  {
   "cell_type": "code",
   "execution_count": 156,
   "id": "60f5777d",
   "metadata": {},
   "outputs": [],
   "source": [
    "us_image_homosexuality = acceptance_homosexuality_country_images_clean.groupby('country')[['accept_homosexuality', 'fav_us_rec']].corr().unstack().iloc[:,1]"
   ]
  },
  {
   "cell_type": "code",
   "execution_count": 158,
   "id": "f2716aa3",
   "metadata": {},
   "outputs": [],
   "source": [
    "eu_image_homosexuality = acceptance_homosexuality_country_images_clean.groupby('country')[['accept_homosexuality', 'fav_eu_rec']].corr().unstack().iloc[:,1]"
   ]
  },
  {
   "cell_type": "code",
   "execution_count": 161,
   "id": "6dbcab77",
   "metadata": {},
   "outputs": [],
   "source": [
    "cn_image_homosexuality = acceptance_homosexuality_country_images_clean.groupby('country')[['accept_homosexuality', 'fav_cn_rec']].corr().unstack().iloc[:,1]"
   ]
  },
  {
   "cell_type": "code",
   "execution_count": 160,
   "id": "e13d12a2",
   "metadata": {},
   "outputs": [],
   "source": [
    "ru_image_homosexuality = acceptance_homosexuality_country_images_clean.groupby('country')[['accept_homosexuality', 'fav_ru_rec']].corr().unstack().iloc[:,1]"
   ]
  },
  {
   "cell_type": "markdown",
   "id": "47468d73",
   "metadata": {},
   "source": [
    "## Displaying the correlations"
   ]
  },
  {
   "cell_type": "markdown",
   "id": "4fd344d0",
   "metadata": {},
   "source": [
    "##### Age"
   ]
  },
  {
   "cell_type": "code",
   "execution_count": 36,
   "id": "6fa880ae",
   "metadata": {
    "scrolled": true
   },
   "outputs": [
    {
     "data": {
      "text/plain": [
       "B_COUNTRY_ALPHA\n",
       "GRC   -0.256327\n",
       "CYP   -0.206967\n",
       "SRB   -0.202304\n",
       "NIR   -0.199262\n",
       "RUS   -0.188368\n",
       "ROU   -0.186098\n",
       "MAC   -0.183513\n",
       "SVK   -0.177205\n",
       "UKR   -0.173654\n",
       "TWN   -0.167949\n",
       "NZL   -0.161922\n",
       "LBY   -0.159505\n",
       "KOR   -0.158592\n",
       "COL   -0.154485\n",
       "CHN   -0.154009\n",
       "ARG   -0.151759\n",
       "PRI   -0.118031\n",
       "SGP   -0.116814\n",
       "VNM   -0.102901\n",
       "GTM   -0.101730\n",
       "MMR   -0.095211\n",
       "TUN   -0.094070\n",
       "MAR   -0.092767\n",
       "HKG   -0.090773\n",
       "CHL   -0.089241\n",
       "URY   -0.064504\n",
       "AND   -0.064255\n",
       "ECU   -0.057510\n",
       "BGD   -0.053726\n",
       "NLD   -0.051795\n",
       "MEX   -0.048790\n",
       "THA   -0.048260\n",
       "VEN   -0.047607\n",
       "BRA   -0.045922\n",
       "ARM   -0.043378\n",
       "NGA   -0.043207\n",
       "AUS   -0.040952\n",
       "PAK   -0.037289\n",
       "CZE   -0.036917\n",
       "NIC   -0.036253\n",
       "GBR   -0.030260\n",
       "IDN   -0.028069\n",
       "KEN   -0.025687\n",
       "DEU   -0.019596\n",
       "PER   -0.007058\n",
       "ETH   -0.004505\n",
       "MDV    0.000297\n",
       "KGZ    0.003737\n",
       "BOL    0.028014\n",
       "USA    0.034259\n",
       "MNG    0.037060\n",
       "JPN    0.048373\n",
       "PHL    0.084597\n",
       "CAN    0.092206\n",
       "MYS    0.109389\n",
       "KAZ    0.122568\n",
       "ZWE    0.174506\n",
       "Name: (Q262, civil_liberties), dtype: float64"
      ]
     },
     "execution_count": 36,
     "metadata": {},
     "output_type": "execute_result"
    }
   ],
   "source": [
    "age_freedom.sort_values()"
   ]
  },
  {
   "cell_type": "code",
   "execution_count": 37,
   "id": "91db5397",
   "metadata": {},
   "outputs": [
    {
     "data": {
      "text/plain": [
       "-0.0681402380869998"
      ]
     },
     "execution_count": 37,
     "metadata": {},
     "output_type": "execute_result"
    }
   ],
   "source": [
    "age_freedom.mean()"
   ]
  },
  {
   "cell_type": "code",
   "execution_count": 38,
   "id": "167f6e84",
   "metadata": {
    "scrolled": true
   },
   "outputs": [
    {
     "data": {
      "text/plain": [
       "B_COUNTRY_ALPHA\n",
       "CHN   -0.256518\n",
       "CZE   -0.174371\n",
       "ARM   -0.149190\n",
       "SVK   -0.145982\n",
       "RUS   -0.128323\n",
       "MMR   -0.127997\n",
       "NLD   -0.123180\n",
       "SRB   -0.120052\n",
       "KGZ   -0.119375\n",
       "CYP   -0.109650\n",
       "IDN   -0.107946\n",
       "VEN   -0.105364\n",
       "GRC   -0.104254\n",
       "UKR   -0.099869\n",
       "MDV   -0.099214\n",
       "PRI   -0.094694\n",
       "COL   -0.094138\n",
       "ROU   -0.079604\n",
       "JPN   -0.076394\n",
       "KAZ   -0.053771\n",
       "VNM   -0.048451\n",
       "TUN   -0.045465\n",
       "SGP   -0.043089\n",
       "PHL   -0.042038\n",
       "MAC   -0.036263\n",
       "URY   -0.032165\n",
       "ZWE   -0.027630\n",
       "TWN   -0.027616\n",
       "NIC   -0.020966\n",
       "KEN   -0.020099\n",
       "THA   -0.016301\n",
       "DEU   -0.011999\n",
       "NGA   -0.007850\n",
       "BRA   -0.001671\n",
       "BOL   -0.001103\n",
       "HKG    0.003266\n",
       "PAK    0.007007\n",
       "MYS    0.018107\n",
       "MNG    0.018248\n",
       "PER    0.019877\n",
       "BGD    0.024412\n",
       "MEX    0.028396\n",
       "GTM    0.028837\n",
       "AND    0.029136\n",
       "LBY    0.035326\n",
       "AUS    0.042762\n",
       "ETH    0.048644\n",
       "ECU    0.050689\n",
       "NZL    0.059524\n",
       "ARG    0.067159\n",
       "KOR    0.070066\n",
       "CHL    0.074789\n",
       "NIR    0.077945\n",
       "MAR    0.080515\n",
       "CAN    0.098820\n",
       "GBR    0.099562\n",
       "USA    0.121051\n",
       "Name: (Q262, free_market), dtype: float64"
      ]
     },
     "execution_count": 38,
     "metadata": {},
     "output_type": "execute_result"
    }
   ],
   "source": [
    "age_market.sort_values()"
   ]
  },
  {
   "cell_type": "code",
   "execution_count": 39,
   "id": "1b25d4da",
   "metadata": {},
   "outputs": [
    {
     "data": {
      "text/plain": [
       "-0.02892024067671907"
      ]
     },
     "execution_count": 39,
     "metadata": {},
     "output_type": "execute_result"
    }
   ],
   "source": [
    "age_market.mean()"
   ]
  },
  {
   "cell_type": "code",
   "execution_count": 40,
   "id": "c73c21fa",
   "metadata": {
    "scrolled": true
   },
   "outputs": [
    {
     "data": {
      "text/plain": [
       "B_COUNTRY_ALPHA\n",
       "TWN   -0.388943\n",
       "SGP   -0.273286\n",
       "NZL   -0.242862\n",
       "GRC   -0.233979\n",
       "MDV   -0.233534\n",
       "CYP   -0.211848\n",
       "KOR   -0.208589\n",
       "AUS   -0.206903\n",
       "URY   -0.205395\n",
       "CHN   -0.180865\n",
       "PHL   -0.170336\n",
       "GBR   -0.167308\n",
       "COL   -0.159426\n",
       "ECU   -0.156024\n",
       "HKG   -0.149361\n",
       "UKR   -0.130954\n",
       "JPN   -0.130797\n",
       "AND   -0.125288\n",
       "VNM   -0.124475\n",
       "MAR   -0.113773\n",
       "MAC   -0.109815\n",
       "ROU   -0.108227\n",
       "DEU   -0.107254\n",
       "SVK   -0.102318\n",
       "MMR   -0.100007\n",
       "PER   -0.098605\n",
       "BOL   -0.098072\n",
       "PRI   -0.094091\n",
       "MEX   -0.094042\n",
       "ARM   -0.091307\n",
       "NIC   -0.083153\n",
       "KEN   -0.071980\n",
       "NIR   -0.067471\n",
       "ARG   -0.067327\n",
       "CHL   -0.063117\n",
       "VEN   -0.057698\n",
       "SRB   -0.051976\n",
       "BGD   -0.051451\n",
       "KAZ   -0.039850\n",
       "LBY   -0.034417\n",
       "ETH   -0.032434\n",
       "TUN   -0.029952\n",
       "BRA   -0.023730\n",
       "PAK   -0.020989\n",
       "CZE   -0.016886\n",
       "NLD   -0.011055\n",
       "NGA    0.002560\n",
       "THA    0.003125\n",
       "USA    0.016349\n",
       "RUS    0.016617\n",
       "IDN    0.024477\n",
       "MNG    0.040171\n",
       "CAN    0.047673\n",
       "MYS    0.047979\n",
       "KGZ    0.050792\n",
       "GTM    0.052421\n",
       "ZWE    0.069733\n",
       "Name: (Q262, gender_equality), dtype: float64"
      ]
     },
     "execution_count": 40,
     "metadata": {},
     "output_type": "execute_result"
    }
   ],
   "source": [
    "age_gender.sort_values()"
   ]
  },
  {
   "cell_type": "code",
   "execution_count": 41,
   "id": "cb4fa1ce",
   "metadata": {},
   "outputs": [
    {
     "data": {
      "text/plain": [
       "-0.0906889657111124"
      ]
     },
     "execution_count": 41,
     "metadata": {},
     "output_type": "execute_result"
    }
   ],
   "source": [
    "age_gender.mean()"
   ]
  },
  {
   "cell_type": "code",
   "execution_count": 42,
   "id": "0f8ffa75",
   "metadata": {
    "scrolled": true
   },
   "outputs": [
    {
     "data": {
      "text/plain": [
       "B_COUNTRY_ALPHA\n",
       "JPN   -0.474479\n",
       "SGP   -0.458886\n",
       "TWN   -0.428282\n",
       "GRC   -0.388436\n",
       "NZL   -0.387267\n",
       "HKG   -0.386173\n",
       "CYP   -0.371903\n",
       "NIR   -0.336749\n",
       "PRI   -0.311331\n",
       "UKR   -0.289086\n",
       "MAC   -0.282063\n",
       "SVK   -0.280468\n",
       "AUS   -0.278801\n",
       "GTM   -0.276535\n",
       "SRB   -0.269051\n",
       "CZE   -0.258760\n",
       "CHN   -0.251481\n",
       "GBR   -0.247460\n",
       "BOL   -0.226339\n",
       "AND   -0.219696\n",
       "ARM   -0.218050\n",
       "COL   -0.216961\n",
       "USA   -0.209796\n",
       "ROU   -0.203290\n",
       "DEU   -0.201250\n",
       "MEX   -0.193609\n",
       "CHL   -0.190368\n",
       "CAN   -0.187308\n",
       "KOR   -0.180169\n",
       "ARG   -0.179330\n",
       "BRA   -0.175325\n",
       "ECU   -0.164959\n",
       "URY   -0.157820\n",
       "RUS   -0.152635\n",
       "PER   -0.138034\n",
       "NLD   -0.120576\n",
       "THA   -0.108158\n",
       "MDV   -0.103526\n",
       "NIC   -0.102930\n",
       "PHL   -0.095062\n",
       "ETH   -0.088615\n",
       "KGZ   -0.072318\n",
       "MNG   -0.067286\n",
       "VEN   -0.065235\n",
       "NGA   -0.057126\n",
       "MMR   -0.047067\n",
       "MAR   -0.045913\n",
       "VNM   -0.035326\n",
       "PAK   -0.032007\n",
       "TUN   -0.029619\n",
       "ZWE   -0.027974\n",
       "KEN   -0.019606\n",
       "MYS   -0.011196\n",
       "BGD   -0.010298\n",
       "LBY    0.019061\n",
       "KAZ    0.044858\n",
       "IDN    0.065088\n",
       "Name: (Q262, sexuality), dtype: float64"
      ]
     },
     "execution_count": 42,
     "metadata": {},
     "output_type": "execute_result"
    }
   ],
   "source": [
    "age_sexuality.sort_values()"
   ]
  },
  {
   "cell_type": "code",
   "execution_count": 43,
   "id": "08dbd0a5",
   "metadata": {},
   "outputs": [
    {
     "data": {
      "text/plain": [
       "-0.1789996781201676"
      ]
     },
     "execution_count": 43,
     "metadata": {},
     "output_type": "execute_result"
    }
   ],
   "source": [
    "age_sexuality.mean()"
   ]
  },
  {
   "cell_type": "code",
   "execution_count": 44,
   "id": "de02a2fa",
   "metadata": {
    "scrolled": true
   },
   "outputs": [
    {
     "data": {
      "text/plain": [
       "B_COUNTRY_ALPHA\n",
       "LBY   -0.197718\n",
       "KGZ   -0.111600\n",
       "MAR   -0.099888\n",
       "TUN   -0.088691\n",
       "ARM   -0.080330\n",
       "MNG   -0.060270\n",
       "MDV   -0.055143\n",
       "KAZ   -0.051572\n",
       "ZWE   -0.048364\n",
       "CAN   -0.046027\n",
       "BGD   -0.031331\n",
       "HKG   -0.030777\n",
       "ETH   -0.026900\n",
       "THA   -0.018568\n",
       "IDN   -0.001311\n",
       "MAC    0.001594\n",
       "PHL    0.003555\n",
       "KEN    0.006157\n",
       "ECU    0.006372\n",
       "MMR    0.008057\n",
       "CHN    0.010608\n",
       "NIC    0.023290\n",
       "DEU    0.024195\n",
       "BOL    0.028067\n",
       "NGA    0.029530\n",
       "PAK    0.032849\n",
       "MYS    0.036629\n",
       "SRB    0.038885\n",
       "PRI    0.043862\n",
       "GBR    0.046950\n",
       "VNM    0.048892\n",
       "GTM    0.049043\n",
       "VEN    0.054060\n",
       "SGP    0.074117\n",
       "URY    0.075891\n",
       "NLD    0.080241\n",
       "PER    0.080564\n",
       "RUS    0.088547\n",
       "CYP    0.089632\n",
       "USA    0.092188\n",
       "BRA    0.095514\n",
       "TWN    0.098433\n",
       "MEX    0.100424\n",
       "KOR    0.101037\n",
       "NZL    0.105899\n",
       "AUS    0.121234\n",
       "CZE    0.122132\n",
       "CHL    0.156018\n",
       "JPN    0.161298\n",
       "UKR    0.163525\n",
       "COL    0.178678\n",
       "AND    0.181005\n",
       "ARG    0.186316\n",
       "NIR    0.206779\n",
       "SVK    0.239512\n",
       "ROU    0.256757\n",
       "GRC    0.270454\n",
       "Name: (Q262, religion), dtype: float64"
      ]
     },
     "execution_count": 44,
     "metadata": {},
     "output_type": "execute_result"
    }
   ],
   "source": [
    "age_religion.sort_values()"
   ]
  },
  {
   "cell_type": "code",
   "execution_count": 45,
   "id": "3c23ce70",
   "metadata": {
    "scrolled": true
   },
   "outputs": [
    {
     "data": {
      "text/plain": [
       "0.05035614715693915"
      ]
     },
     "execution_count": 45,
     "metadata": {},
     "output_type": "execute_result"
    }
   ],
   "source": [
    "age_religion.mean()"
   ]
  },
  {
   "cell_type": "code",
   "execution_count": 27,
   "id": "9db9dbe5",
   "metadata": {
    "scrolled": true
   },
   "outputs": [
    {
     "data": {
      "text/plain": [
       "B_COUNTRY_ALPHA\n",
       "SVK   -0.224315\n",
       "CZE   -0.152447\n",
       "ROU   -0.138051\n",
       "ZWE   -0.131458\n",
       "CHL   -0.114475\n",
       "BOL   -0.106094\n",
       "KOR   -0.089452\n",
       "UKR   -0.088341\n",
       "GRC   -0.080768\n",
       "MDV   -0.069531\n",
       "PER   -0.064344\n",
       "BGD   -0.063851\n",
       "TUN   -0.062493\n",
       "KAZ   -0.061286\n",
       "JPN   -0.058672\n",
       "ARG   -0.052038\n",
       "KEN   -0.049877\n",
       "RUS   -0.045031\n",
       "COL   -0.045000\n",
       "BRA   -0.039345\n",
       "SRB   -0.038157\n",
       "ECU   -0.031072\n",
       "MAR   -0.030925\n",
       "LBY   -0.022444\n",
       "MEX   -0.016258\n",
       "MMR   -0.014027\n",
       "ARM   -0.009126\n",
       "THA   -0.001837\n",
       "NZL    0.008471\n",
       "VNM    0.011843\n",
       "AUS    0.014432\n",
       "PAK    0.017534\n",
       "MNG    0.023414\n",
       "MAC    0.024745\n",
       "NIC    0.031236\n",
       "ETH    0.032316\n",
       "PHL    0.037055\n",
       "GBR    0.039025\n",
       "NGA    0.043287\n",
       "GTM    0.043606\n",
       "IDN    0.044429\n",
       "MYS    0.047776\n",
       "PRI    0.047881\n",
       "HKG    0.049040\n",
       "DEU    0.049179\n",
       "CAN    0.060935\n",
       "URY    0.061855\n",
       "CYP    0.071613\n",
       "KGZ    0.072667\n",
       "NLD    0.073148\n",
       "USA    0.140028\n",
       "CHN    0.146544\n",
       "SGP    0.209740\n",
       "Name: (Q262, science_and_technology), dtype: float64"
      ]
     },
     "execution_count": 27,
     "metadata": {},
     "output_type": "execute_result"
    }
   ],
   "source": [
    "age_science_and_technology.sort_values()"
   ]
  },
  {
   "cell_type": "code",
   "execution_count": 28,
   "id": "a4c26d2d",
   "metadata": {},
   "outputs": [
    {
     "data": {
      "text/plain": [
       "-0.009413524710509621"
      ]
     },
     "execution_count": 28,
     "metadata": {},
     "output_type": "execute_result"
    }
   ],
   "source": [
    "age_science_and_technology.mean()"
   ]
  },
  {
   "cell_type": "markdown",
   "id": "badac4f8",
   "metadata": {},
   "source": [
    "#### Education"
   ]
  },
  {
   "cell_type": "code",
   "execution_count": 46,
   "id": "8fac971e",
   "metadata": {
    "scrolled": true
   },
   "outputs": [
    {
     "data": {
      "text/plain": [
       "B_COUNTRY_ALPHA\n",
       "CHL   -0.042763\n",
       "MDV   -0.004837\n",
       "UKR    0.009031\n",
       "PHL    0.022253\n",
       "VEN    0.025700\n",
       "MNG    0.026273\n",
       "GTM    0.026884\n",
       "KAZ    0.031010\n",
       "BGD    0.039782\n",
       "PAK    0.046745\n",
       "MAR    0.047030\n",
       "PRI    0.055280\n",
       "ZWE    0.055310\n",
       "TUN    0.056032\n",
       "MYS    0.062472\n",
       "MEX    0.074004\n",
       "NIC    0.076670\n",
       "SVK    0.084170\n",
       "CZE    0.086543\n",
       "KOR    0.091165\n",
       "THA    0.099005\n",
       "PER    0.099895\n",
       "SGP    0.105372\n",
       "NGA    0.107789\n",
       "RUS    0.110480\n",
       "LBY    0.111327\n",
       "CAN    0.113532\n",
       "ETH    0.125170\n",
       "HKG    0.127959\n",
       "ROU    0.132059\n",
       "MAC    0.135975\n",
       "NZL    0.139712\n",
       "ARM    0.142814\n",
       "KEN    0.148433\n",
       "ARG    0.148652\n",
       "BRA    0.149997\n",
       "JPN    0.157825\n",
       "AND    0.170435\n",
       "BOL    0.174642\n",
       "CYP    0.174844\n",
       "VNM    0.174882\n",
       "COL    0.178107\n",
       "SRB    0.194949\n",
       "KGZ    0.195865\n",
       "MMR    0.196715\n",
       "CHN    0.199746\n",
       "IDN    0.207902\n",
       "DEU    0.227517\n",
       "USA    0.229170\n",
       "NLD    0.245266\n",
       "ECU    0.250681\n",
       "AUS    0.263810\n",
       "GBR    0.271938\n",
       "TWN    0.285424\n",
       "GRC    0.294414\n",
       "NIR    0.318621\n",
       "URY    0.439324\n",
       "Name: (Q275R, civil_liberties), dtype: float64"
      ]
     },
     "execution_count": 46,
     "metadata": {},
     "output_type": "execute_result"
    }
   ],
   "source": [
    "education_freedom.sort_values()"
   ]
  },
  {
   "cell_type": "code",
   "execution_count": 47,
   "id": "65b08321",
   "metadata": {},
   "outputs": [
    {
     "data": {
      "text/plain": [
       "0.13542108480773996"
      ]
     },
     "execution_count": 47,
     "metadata": {},
     "output_type": "execute_result"
    }
   ],
   "source": [
    "education_freedom.mean()"
   ]
  },
  {
   "cell_type": "code",
   "execution_count": 48,
   "id": "8e40c10f",
   "metadata": {
    "scrolled": true
   },
   "outputs": [
    {
     "data": {
      "text/plain": [
       "B_COUNTRY_ALPHA\n",
       "URY   -0.175813\n",
       "THA   -0.126380\n",
       "GTM   -0.096869\n",
       "ARM   -0.081916\n",
       "NZL   -0.074234\n",
       "KGZ   -0.071454\n",
       "KAZ   -0.064010\n",
       "GBR   -0.050269\n",
       "CYP   -0.040978\n",
       "NIR   -0.036648\n",
       "BRA   -0.030190\n",
       "AUS   -0.026883\n",
       "LBY   -0.019264\n",
       "BGD   -0.006413\n",
       "DEU    0.000150\n",
       "KOR    0.010578\n",
       "ARG    0.019489\n",
       "NGA    0.028487\n",
       "PHL    0.030327\n",
       "AND    0.033124\n",
       "CAN    0.034592\n",
       "VNM    0.035588\n",
       "KEN    0.035614\n",
       "MAC    0.037756\n",
       "JPN    0.042295\n",
       "USA    0.045248\n",
       "NIC    0.050052\n",
       "RUS    0.061117\n",
       "NLD    0.070892\n",
       "PER    0.071045\n",
       "COL    0.072240\n",
       "MNG    0.074539\n",
       "MEX    0.077015\n",
       "GRC    0.081623\n",
       "TUN    0.081704\n",
       "MAR    0.084548\n",
       "MYS    0.087517\n",
       "CHL    0.089445\n",
       "ECU    0.092297\n",
       "PRI    0.095427\n",
       "HKG    0.104915\n",
       "BOL    0.110719\n",
       "VEN    0.117823\n",
       "PAK    0.121787\n",
       "SGP    0.123277\n",
       "ZWE    0.124145\n",
       "CHN    0.127716\n",
       "ROU    0.141283\n",
       "SRB    0.145591\n",
       "IDN    0.148357\n",
       "TWN    0.148606\n",
       "MDV    0.167684\n",
       "ETH    0.179537\n",
       "UKR    0.186350\n",
       "CZE    0.187076\n",
       "SVK    0.190915\n",
       "MMR    0.191027\n",
       "Name: (Q275R, free_market), dtype: float64"
      ]
     },
     "execution_count": 48,
     "metadata": {},
     "output_type": "execute_result"
    }
   ],
   "source": [
    "education_market.sort_values()"
   ]
  },
  {
   "cell_type": "code",
   "execution_count": 49,
   "id": "4dbd284d",
   "metadata": {},
   "outputs": [
    {
     "data": {
      "text/plain": [
       "0.05365256515182895"
      ]
     },
     "execution_count": 49,
     "metadata": {},
     "output_type": "execute_result"
    }
   ],
   "source": [
    "education_market.mean()"
   ]
  },
  {
   "cell_type": "code",
   "execution_count": 50,
   "id": "96ec57fd",
   "metadata": {
    "scrolled": true
   },
   "outputs": [
    {
     "data": {
      "text/plain": [
       "B_COUNTRY_ALPHA\n",
       "MNG   -0.028559\n",
       "BGD    0.008140\n",
       "CHL    0.021273\n",
       "MYS    0.030968\n",
       "VEN    0.037086\n",
       "TUN    0.063240\n",
       "UKR    0.067227\n",
       "PAK    0.074206\n",
       "ROU    0.077769\n",
       "CAN    0.079835\n",
       "HKG    0.087348\n",
       "JPN    0.092219\n",
       "ZWE    0.093676\n",
       "KEN    0.098523\n",
       "CZE    0.098722\n",
       "THA    0.105321\n",
       "PRI    0.112414\n",
       "MDV    0.114748\n",
       "DEU    0.115884\n",
       "LBY    0.117778\n",
       "MAC    0.118510\n",
       "MEX    0.123031\n",
       "KOR    0.126076\n",
       "CHN    0.128062\n",
       "ETH    0.130435\n",
       "AND    0.134095\n",
       "RUS    0.134726\n",
       "MAR    0.134857\n",
       "KAZ    0.142039\n",
       "NLD    0.158655\n",
       "SVK    0.164491\n",
       "VNM    0.167648\n",
       "NIC    0.173919\n",
       "USA    0.179285\n",
       "SRB    0.179828\n",
       "GTM    0.180919\n",
       "NGA    0.182358\n",
       "PER    0.188613\n",
       "PHL    0.194319\n",
       "ECU    0.197556\n",
       "AUS    0.201181\n",
       "ARM    0.202004\n",
       "BRA    0.204690\n",
       "KGZ    0.205574\n",
       "NZL    0.209961\n",
       "COL    0.215101\n",
       "ARG    0.230651\n",
       "GBR    0.234945\n",
       "IDN    0.239534\n",
       "GRC    0.244209\n",
       "BOL    0.244248\n",
       "NIR    0.253377\n",
       "MMR    0.257328\n",
       "SGP    0.272638\n",
       "CYP    0.314215\n",
       "URY    0.331727\n",
       "TWN    0.339971\n",
       "Name: (Q275R, gender_equality), dtype: float64"
      ]
     },
     "execution_count": 50,
     "metadata": {},
     "output_type": "execute_result"
    }
   ],
   "source": [
    "education_gender.sort_values()"
   ]
  },
  {
   "cell_type": "code",
   "execution_count": 51,
   "id": "19a87841",
   "metadata": {
    "scrolled": true
   },
   "outputs": [
    {
     "data": {
      "text/plain": [
       "0.15453674571408582"
      ]
     },
     "execution_count": 51,
     "metadata": {},
     "output_type": "execute_result"
    }
   ],
   "source": [
    "education_gender.mean()"
   ]
  },
  {
   "cell_type": "code",
   "execution_count": 52,
   "id": "323a643e",
   "metadata": {
    "scrolled": true
   },
   "outputs": [
    {
     "data": {
      "text/plain": [
       "B_COUNTRY_ALPHA\n",
       "IDN   -0.132078\n",
       "ETH   -0.124809\n",
       "LBY   -0.105352\n",
       "BGD   -0.055170\n",
       "PAK   -0.032393\n",
       "MYS   -0.006343\n",
       "PHL    0.009395\n",
       "TUN    0.010750\n",
       "PER    0.012283\n",
       "VEN    0.012634\n",
       "KEN    0.016397\n",
       "MMR    0.017053\n",
       "KAZ    0.020651\n",
       "MAR    0.049523\n",
       "AND    0.053777\n",
       "GTM    0.056199\n",
       "NIC    0.057060\n",
       "SVK    0.060662\n",
       "CAN    0.062435\n",
       "KGZ    0.070136\n",
       "RUS    0.078281\n",
       "ZWE    0.079046\n",
       "CHL    0.086478\n",
       "NGA    0.089740\n",
       "VNM    0.091149\n",
       "AUS    0.098423\n",
       "THA    0.100828\n",
       "KOR    0.104629\n",
       "NLD    0.105694\n",
       "MNG    0.106516\n",
       "UKR    0.109068\n",
       "BOL    0.109295\n",
       "USA    0.121040\n",
       "MDV    0.121694\n",
       "SRB    0.123840\n",
       "MEX    0.131098\n",
       "CZE    0.138585\n",
       "DEU    0.144078\n",
       "ROU    0.149447\n",
       "ECU    0.149978\n",
       "JPN    0.153106\n",
       "PRI    0.156189\n",
       "BRA    0.166536\n",
       "ARG    0.173255\n",
       "ARM    0.173935\n",
       "MAC    0.176151\n",
       "NZL    0.193198\n",
       "COL    0.219985\n",
       "NIR    0.226985\n",
       "CHN    0.245101\n",
       "GBR    0.258592\n",
       "SGP    0.263805\n",
       "HKG    0.296996\n",
       "CYP    0.302876\n",
       "TWN    0.313970\n",
       "URY    0.359847\n",
       "GRC    0.375758\n",
       "Name: (Q275R, sexuality), dtype: float64"
      ]
     },
     "execution_count": 52,
     "metadata": {},
     "output_type": "execute_result"
    }
   ],
   "source": [
    "education_sexuality.sort_values()"
   ]
  },
  {
   "cell_type": "code",
   "execution_count": 53,
   "id": "759afe29",
   "metadata": {},
   "outputs": [
    {
     "data": {
      "text/plain": [
       "0.11136849948557707"
      ]
     },
     "execution_count": 53,
     "metadata": {},
     "output_type": "execute_result"
    }
   ],
   "source": [
    "education_sexuality.mean()"
   ]
  },
  {
   "cell_type": "code",
   "execution_count": 57,
   "id": "b0b604ec",
   "metadata": {
    "scrolled": true
   },
   "outputs": [
    {
     "data": {
      "text/plain": [
       "B_COUNTRY_ALPHA\n",
       "GRC   -0.367883\n",
       "URY   -0.302312\n",
       "KGZ   -0.218109\n",
       "ROU   -0.202552\n",
       "USA   -0.201106\n",
       "MMR   -0.176701\n",
       "COL   -0.168702\n",
       "ARG   -0.167162\n",
       "BRA   -0.167119\n",
       "MEX   -0.161028\n",
       "PER   -0.157285\n",
       "ARM   -0.132513\n",
       "SRB   -0.132426\n",
       "GBR   -0.113564\n",
       "ECU   -0.109225\n",
       "BOL   -0.101379\n",
       "CZE   -0.093629\n",
       "JPN   -0.086081\n",
       "NZL   -0.083751\n",
       "MDV   -0.076716\n",
       "NIC   -0.076064\n",
       "SVK   -0.075179\n",
       "NGA   -0.074335\n",
       "ZWE   -0.071642\n",
       "DEU   -0.070718\n",
       "VNM   -0.065829\n",
       "CYP   -0.060381\n",
       "UKR   -0.059804\n",
       "KEN   -0.055070\n",
       "GTM   -0.054616\n",
       "CAN   -0.053502\n",
       "SGP   -0.052599\n",
       "KOR   -0.051936\n",
       "PRI   -0.051777\n",
       "IDN   -0.048141\n",
       "CHL   -0.046014\n",
       "NLD   -0.042283\n",
       "BGD   -0.023330\n",
       "PHL   -0.014933\n",
       "MYS   -0.012381\n",
       "AUS   -0.009273\n",
       "CHN   -0.007412\n",
       "THA   -0.005373\n",
       "RUS    0.001437\n",
       "ETH    0.024610\n",
       "TUN    0.033383\n",
       "MAR    0.040241\n",
       "MNG    0.043229\n",
       "PAK    0.045106\n",
       "KAZ    0.049422\n",
       "LBY    0.054753\n",
       "MAC    0.061801\n",
       "HKG    0.079010\n",
       "Name: (Q275R, religion), dtype: float64"
      ]
     },
     "execution_count": 57,
     "metadata": {},
     "output_type": "execute_result"
    }
   ],
   "source": [
    "education_religion.sort_values()"
   ]
  },
  {
   "cell_type": "code",
   "execution_count": 58,
   "id": "250c147a",
   "metadata": {},
   "outputs": [
    {
     "data": {
      "text/plain": [
       "-0.0729970161591033"
      ]
     },
     "execution_count": 58,
     "metadata": {},
     "output_type": "execute_result"
    }
   ],
   "source": [
    "education_religion.mean()"
   ]
  },
  {
   "cell_type": "code",
   "execution_count": 30,
   "id": "192b27b3",
   "metadata": {
    "scrolled": true
   },
   "outputs": [
    {
     "data": {
      "text/plain": [
       "B_COUNTRY_ALPHA\n",
       "SGP   -0.130089\n",
       "IDN   -0.061187\n",
       "HKG   -0.057623\n",
       "ARM   -0.048866\n",
       "PHL   -0.046287\n",
       "ETH   -0.041558\n",
       "MMR   -0.039264\n",
       "PAK   -0.024178\n",
       "GTM   -0.012813\n",
       "CHN   -0.007060\n",
       "VNM   -0.002123\n",
       "MNG    0.002490\n",
       "UKR    0.011769\n",
       "MYS    0.020555\n",
       "BOL    0.022760\n",
       "NGA    0.030193\n",
       "MAC    0.032543\n",
       "MAR    0.033107\n",
       "ZWE    0.033542\n",
       "KGZ    0.037292\n",
       "MDV    0.039116\n",
       "NIC    0.040088\n",
       "PER    0.043921\n",
       "KOR    0.055469\n",
       "DEU    0.057643\n",
       "ECU    0.062180\n",
       "PRI    0.067985\n",
       "CYP    0.070145\n",
       "TUN    0.074046\n",
       "KEN    0.082883\n",
       "THA    0.087647\n",
       "RUS    0.092198\n",
       "SRB    0.093966\n",
       "LBY    0.097183\n",
       "GRC    0.102026\n",
       "COL    0.107745\n",
       "BGD    0.109090\n",
       "MEX    0.113048\n",
       "ARG    0.115291\n",
       "CHL    0.122086\n",
       "KAZ    0.125164\n",
       "BRA    0.139697\n",
       "NZL    0.141111\n",
       "CZE    0.146773\n",
       "ROU    0.152254\n",
       "CAN    0.153517\n",
       "GBR    0.165002\n",
       "AUS    0.178312\n",
       "NLD    0.181020\n",
       "JPN    0.188526\n",
       "SVK    0.193581\n",
       "URY    0.243811\n",
       "USA    0.248800\n",
       "Name: (Q275R, science_and_technology), dtype: float64"
      ]
     },
     "execution_count": 30,
     "metadata": {},
     "output_type": "execute_result"
    }
   ],
   "source": [
    "education_science_and_technology.sort_values()"
   ]
  },
  {
   "cell_type": "markdown",
   "id": "d6af3031",
   "metadata": {},
   "source": [
    "#### Political orientations"
   ]
  },
  {
   "cell_type": "code",
   "execution_count": 56,
   "id": "9f4688c3",
   "metadata": {
    "scrolled": true
   },
   "outputs": [
    {
     "data": {
      "text/plain": [
       "B_COUNTRY_ALPHA\n",
       "ARG   -0.258808\n",
       "NIR   -0.233390\n",
       "AUS   -0.186134\n",
       "CYP   -0.180798\n",
       "GBR   -0.174962\n",
       "MAC   -0.164065\n",
       "USA   -0.151182\n",
       "NZL   -0.141695\n",
       "NLD   -0.130653\n",
       "THA   -0.129577\n",
       "BRA   -0.108188\n",
       "JPN   -0.107566\n",
       "AND   -0.107041\n",
       "KEN   -0.099103\n",
       "MDV   -0.087643\n",
       "URY   -0.079600\n",
       "UKR   -0.076551\n",
       "DEU   -0.064665\n",
       "LBY   -0.062246\n",
       "KOR   -0.044371\n",
       "TUN   -0.041286\n",
       "CAN   -0.031094\n",
       "MEX   -0.027549\n",
       "VEN   -0.027416\n",
       "HKG   -0.020876\n",
       "CZE   -0.014401\n",
       "MYS   -0.011992\n",
       "NGA   -0.011249\n",
       "SRB   -0.004979\n",
       "GTM   -0.004848\n",
       "SVK    0.004111\n",
       "GRC    0.006369\n",
       "CHL    0.010895\n",
       "SGP    0.014443\n",
       "COL    0.019669\n",
       "KAZ    0.024758\n",
       "BGD    0.027408\n",
       "PER    0.034614\n",
       "ARM    0.036819\n",
       "PHL    0.040843\n",
       "KGZ    0.047556\n",
       "MAR    0.050565\n",
       "ZWE    0.063471\n",
       "PRI    0.067558\n",
       "MNG    0.068570\n",
       "PAK    0.072769\n",
       "VNM    0.089278\n",
       "NIC    0.099995\n",
       "RUS    0.105348\n",
       "ECU    0.112943\n",
       "CHN    0.123200\n",
       "BOL    0.128879\n",
       "TWN    0.136527\n",
       "MMR    0.139585\n",
       "ETH    0.151928\n",
       "ROU    0.161705\n",
       "IDN    0.175569\n",
       "Name: (civil_liberties, free_market), dtype: float64"
      ]
     },
     "execution_count": 56,
     "metadata": {},
     "output_type": "execute_result"
    }
   ],
   "source": [
    "freedom_market.sort_values()"
   ]
  },
  {
   "cell_type": "code",
   "execution_count": 57,
   "id": "835af3dc",
   "metadata": {},
   "outputs": [
    {
     "data": {
      "text/plain": [
       "-0.013483382888893766"
      ]
     },
     "execution_count": 57,
     "metadata": {},
     "output_type": "execute_result"
    }
   ],
   "source": [
    "freedom_market.mean()"
   ]
  },
  {
   "cell_type": "code",
   "execution_count": 58,
   "id": "9e7efdad",
   "metadata": {
    "scrolled": true
   },
   "outputs": [
    {
     "data": {
      "text/plain": [
       "B_COUNTRY_ALPHA\n",
       "KAZ   -0.084406\n",
       "PAK    0.001794\n",
       "BGD    0.005619\n",
       "PHL    0.043427\n",
       "VNM    0.061182\n",
       "VEN    0.078983\n",
       "PER    0.079075\n",
       "ETH    0.082512\n",
       "GTM    0.087608\n",
       "MEX    0.099212\n",
       "KEN    0.111854\n",
       "TUN    0.116540\n",
       "NGA    0.117071\n",
       "ARM    0.120267\n",
       "MNG    0.124936\n",
       "RUS    0.132132\n",
       "NIC    0.144156\n",
       "ZWE    0.151111\n",
       "IDN    0.155777\n",
       "COL    0.158839\n",
       "MDV    0.166454\n",
       "PRI    0.182262\n",
       "CHL    0.184575\n",
       "BOL    0.185330\n",
       "KGZ    0.186957\n",
       "CHN    0.191975\n",
       "BRA    0.192053\n",
       "SGP    0.194007\n",
       "CZE    0.203137\n",
       "MYS    0.207025\n",
       "MAR    0.211364\n",
       "SVK    0.226634\n",
       "ARG    0.240099\n",
       "MMR    0.240512\n",
       "ROU    0.241202\n",
       "NZL    0.244976\n",
       "LBY    0.247306\n",
       "ECU    0.248172\n",
       "UKR    0.254214\n",
       "CYP    0.257385\n",
       "SRB    0.259572\n",
       "THA    0.265528\n",
       "NIR    0.266085\n",
       "URY    0.267538\n",
       "GRC    0.290740\n",
       "AND    0.291413\n",
       "AUS    0.293108\n",
       "DEU    0.293583\n",
       "NLD    0.302656\n",
       "JPN    0.307462\n",
       "HKG    0.317211\n",
       "MAC    0.317805\n",
       "GBR    0.317921\n",
       "CAN    0.323450\n",
       "TWN    0.336937\n",
       "USA    0.353680\n",
       "KOR    0.395277\n",
       "Name: (civil_liberties, gender_equality), dtype: float64"
      ]
     },
     "execution_count": 58,
     "metadata": {},
     "output_type": "execute_result"
    }
   ],
   "source": [
    "freedom_gender.sort_values()"
   ]
  },
  {
   "cell_type": "code",
   "execution_count": 59,
   "id": "354679ac",
   "metadata": {},
   "outputs": [
    {
     "data": {
      "text/plain": [
       "0.19812796304370703"
      ]
     },
     "execution_count": 59,
     "metadata": {},
     "output_type": "execute_result"
    }
   ],
   "source": [
    "freedom_gender.mean()"
   ]
  },
  {
   "cell_type": "code",
   "execution_count": 60,
   "id": "af1f5a33",
   "metadata": {
    "scrolled": true
   },
   "outputs": [
    {
     "data": {
      "text/plain": [
       "B_COUNTRY_ALPHA\n",
       "IDN   -0.085192\n",
       "ZWE   -0.048387\n",
       "LBY   -0.042135\n",
       "MNG   -0.031084\n",
       "VEN    0.003598\n",
       "MYS    0.008684\n",
       "PAK    0.025835\n",
       "BOL    0.033102\n",
       "BGD    0.033224\n",
       "MMR    0.033234\n",
       "HKG    0.038673\n",
       "PHL    0.045970\n",
       "VNM    0.057531\n",
       "KEN    0.059154\n",
       "MEX    0.060823\n",
       "MDV    0.061550\n",
       "UKR    0.067804\n",
       "TUN    0.071204\n",
       "NIC    0.085944\n",
       "NGA    0.091186\n",
       "CZE    0.092886\n",
       "ETH    0.094531\n",
       "PER    0.114023\n",
       "ECU    0.115816\n",
       "CHN    0.116887\n",
       "GTM    0.118727\n",
       "RUS    0.121134\n",
       "MAC    0.140020\n",
       "KAZ    0.146833\n",
       "SRB    0.149125\n",
       "ROU    0.153175\n",
       "JPN    0.158998\n",
       "CHL    0.162176\n",
       "PRI    0.167283\n",
       "KGZ    0.170250\n",
       "KOR    0.174298\n",
       "THA    0.176156\n",
       "ARG    0.180568\n",
       "MAR    0.185943\n",
       "ARM    0.218277\n",
       "BRA    0.228453\n",
       "CAN    0.230148\n",
       "COL    0.250279\n",
       "AND    0.251157\n",
       "SVK    0.259731\n",
       "GRC    0.274446\n",
       "DEU    0.279251\n",
       "TWN    0.284969\n",
       "NLD    0.288409\n",
       "NZL    0.298665\n",
       "AUS    0.304201\n",
       "URY    0.312983\n",
       "GBR    0.317098\n",
       "SGP    0.324347\n",
       "CYP    0.325404\n",
       "USA    0.355656\n",
       "NIR    0.357976\n",
       "Name: (civil_liberties, sexuality), dtype: float64"
      ]
     },
     "execution_count": 60,
     "metadata": {},
     "output_type": "execute_result"
    }
   ],
   "source": [
    "freedom_sexuality.sort_values()"
   ]
  },
  {
   "cell_type": "code",
   "execution_count": 61,
   "id": "9cf1f171",
   "metadata": {},
   "outputs": [
    {
     "data": {
      "text/plain": [
       "0.14861399208935352"
      ]
     },
     "execution_count": 61,
     "metadata": {},
     "output_type": "execute_result"
    }
   ],
   "source": [
    "freedom_sexuality.mean()"
   ]
  },
  {
   "cell_type": "code",
   "execution_count": 62,
   "id": "ab62f020",
   "metadata": {
    "scrolled": true
   },
   "outputs": [
    {
     "data": {
      "text/plain": [
       "B_COUNTRY_ALPHA\n",
       "USA   -0.411442\n",
       "SVK   -0.389259\n",
       "CAN   -0.362482\n",
       "GRC   -0.356459\n",
       "KOR   -0.333824\n",
       "URY   -0.316203\n",
       "MAR   -0.284944\n",
       "ROU   -0.268163\n",
       "SRB   -0.253994\n",
       "NIR   -0.247332\n",
       "CHL   -0.241733\n",
       "ARG   -0.241130\n",
       "MAC   -0.238777\n",
       "BRA   -0.235524\n",
       "COL   -0.232920\n",
       "HKG   -0.227077\n",
       "NLD   -0.224744\n",
       "CZE   -0.218002\n",
       "KGZ   -0.215170\n",
       "GBR   -0.212333\n",
       "AUS   -0.211551\n",
       "UKR   -0.207135\n",
       "SGP   -0.204363\n",
       "NZL   -0.202484\n",
       "MMR   -0.196067\n",
       "AND   -0.189319\n",
       "ECU   -0.185875\n",
       "CYP   -0.183417\n",
       "TWN   -0.174354\n",
       "RUS   -0.165918\n",
       "MNG   -0.163385\n",
       "PRI   -0.153051\n",
       "BOL   -0.149496\n",
       "ZWE   -0.145514\n",
       "GTM   -0.142588\n",
       "ARM   -0.139052\n",
       "ETH   -0.138007\n",
       "KAZ   -0.136731\n",
       "IDN   -0.128591\n",
       "MEX   -0.128397\n",
       "PER   -0.128108\n",
       "NGA   -0.124500\n",
       "JPN   -0.110858\n",
       "CHN   -0.101227\n",
       "DEU   -0.086412\n",
       "VNM   -0.057261\n",
       "MYS   -0.047575\n",
       "THA   -0.021289\n",
       "PHL   -0.018270\n",
       "NIC   -0.018038\n",
       "VEN    0.002153\n",
       "MDV    0.022526\n",
       "BGD    0.023467\n",
       "PAK    0.032900\n",
       "KEN    0.033176\n",
       "TUN    0.051054\n",
       "LBY    0.090018\n",
       "Name: (civil_liberties, religion), dtype: float64"
      ]
     },
     "execution_count": 62,
     "metadata": {},
     "output_type": "execute_result"
    }
   ],
   "source": [
    "freedom_religion.sort_values()"
   ]
  },
  {
   "cell_type": "code",
   "execution_count": 63,
   "id": "2664123c",
   "metadata": {
    "scrolled": true
   },
   "outputs": [
    {
     "data": {
      "text/plain": [
       "-0.16342197537555994"
      ]
     },
     "execution_count": 63,
     "metadata": {},
     "output_type": "execute_result"
    }
   ],
   "source": [
    "freedom_religion.mean()"
   ]
  },
  {
   "cell_type": "code",
   "execution_count": 55,
   "id": "ee2822f6",
   "metadata": {
    "scrolled": true
   },
   "outputs": [
    {
     "data": {
      "text/plain": [
       "B_COUNTRY_ALPHA\n",
       "SGP   -0.230354\n",
       "KGZ   -0.140920\n",
       "VNM   -0.108052\n",
       "MMR   -0.092163\n",
       "IDN   -0.086976\n",
       "CHN   -0.072617\n",
       "ETH   -0.065660\n",
       "KAZ   -0.057142\n",
       "ZWE   -0.045381\n",
       "MNG   -0.044961\n",
       "PAK   -0.035851\n",
       "MEX   -0.035378\n",
       "MYS   -0.028278\n",
       "PHL   -0.026132\n",
       "PRI   -0.023444\n",
       "SVK   -0.023037\n",
       "ARM   -0.020678\n",
       "RUS   -0.003261\n",
       "BOL   -0.002896\n",
       "NIC    0.002576\n",
       "GTM    0.003785\n",
       "JPN    0.008861\n",
       "PER    0.017018\n",
       "ECU    0.021943\n",
       "KEN    0.026717\n",
       "DEU    0.029876\n",
       "COL    0.033268\n",
       "CYP    0.036129\n",
       "NGA    0.039812\n",
       "MAR    0.041108\n",
       "BGD    0.045446\n",
       "HKG    0.049580\n",
       "BRA    0.050239\n",
       "TUN    0.050912\n",
       "MDV    0.052955\n",
       "THA    0.054578\n",
       "CZE    0.057295\n",
       "URY    0.065240\n",
       "CHL    0.077054\n",
       "SRB    0.102223\n",
       "LBY    0.105336\n",
       "CAN    0.111851\n",
       "NLD    0.111978\n",
       "GRC    0.117660\n",
       "GBR    0.129712\n",
       "NZL    0.138666\n",
       "KOR    0.148816\n",
       "ARG    0.150533\n",
       "ROU    0.156155\n",
       "UKR    0.158992\n",
       "AUS    0.162278\n",
       "MAC    0.192834\n",
       "USA    0.296841\n",
       "Name: (civil_liberties, science_and_technology), dtype: float64"
      ]
     },
     "execution_count": 55,
     "metadata": {},
     "output_type": "execute_result"
    }
   ],
   "source": [
    "freedom_science_and_technology.sort_values()"
   ]
  },
  {
   "cell_type": "code",
   "execution_count": 56,
   "id": "fb08daa1",
   "metadata": {},
   "outputs": [
    {
     "data": {
      "text/plain": [
       "0.032171405938085325"
      ]
     },
     "execution_count": 56,
     "metadata": {},
     "output_type": "execute_result"
    }
   ],
   "source": [
    "freedom_science_and_technology.mean()"
   ]
  },
  {
   "cell_type": "code",
   "execution_count": 64,
   "id": "e5681835",
   "metadata": {
    "scrolled": true
   },
   "outputs": [
    {
     "data": {
      "text/plain": [
       "B_COUNTRY_ALPHA\n",
       "PAK    0.004401\n",
       "BGD    0.011289\n",
       "VEN    0.043249\n",
       "PHL    0.065231\n",
       "TUN    0.085376\n",
       "VNM    0.090986\n",
       "IDN    0.099434\n",
       "ZWE    0.103374\n",
       "KEN    0.105329\n",
       "KAZ    0.112738\n",
       "MYS    0.123554\n",
       "MNG    0.125168\n",
       "MEX    0.135804\n",
       "NIC    0.139646\n",
       "MDV    0.141865\n",
       "ETH    0.161051\n",
       "LBY    0.170066\n",
       "BOL    0.170222\n",
       "PER    0.170858\n",
       "NGA    0.176280\n",
       "GTM    0.188516\n",
       "RUS    0.211077\n",
       "CHN    0.224223\n",
       "CZE    0.228295\n",
       "THA    0.240829\n",
       "PRI    0.245365\n",
       "ARM    0.249495\n",
       "ECU    0.262331\n",
       "MMR    0.264331\n",
       "UKR    0.271033\n",
       "JPN    0.278283\n",
       "KGZ    0.280023\n",
       "CHL    0.282787\n",
       "HKG    0.285589\n",
       "ROU    0.297569\n",
       "ARG    0.306663\n",
       "SRB    0.312605\n",
       "DEU    0.313781\n",
       "BRA    0.314600\n",
       "COL    0.315135\n",
       "NZL    0.320580\n",
       "AND    0.330336\n",
       "MAR    0.336783\n",
       "SGP    0.342914\n",
       "NLD    0.347395\n",
       "MAC    0.350673\n",
       "AUS    0.357156\n",
       "GBR    0.369966\n",
       "CYP    0.371487\n",
       "TWN    0.379195\n",
       "CAN    0.381723\n",
       "SVK    0.390648\n",
       "NIR    0.392739\n",
       "URY    0.410939\n",
       "GRC    0.414931\n",
       "KOR    0.453707\n",
       "USA    0.462828\n",
       "Name: (civil_liberties, progressivism), dtype: float64"
      ]
     },
     "execution_count": 64,
     "metadata": {},
     "output_type": "execute_result"
    }
   ],
   "source": [
    "freedom_progressivism.sort_values()"
   ]
  },
  {
   "cell_type": "code",
   "execution_count": 54,
   "id": "e5670662",
   "metadata": {},
   "outputs": [
    {
     "data": {
      "text/plain": [
       "0.2432198271723454"
      ]
     },
     "execution_count": 54,
     "metadata": {},
     "output_type": "execute_result"
    }
   ],
   "source": [
    "freedom_progressivism.mean()"
   ]
  },
  {
   "cell_type": "code",
   "execution_count": 66,
   "id": "e375cfba",
   "metadata": {
    "scrolled": true
   },
   "outputs": [
    {
     "data": {
      "text/plain": [
       "B_COUNTRY_ALPHA\n",
       "THA   -0.298061\n",
       "CHL   -0.285646\n",
       "NZL   -0.255428\n",
       "USA   -0.254853\n",
       "AUS   -0.216938\n",
       "GBR   -0.208639\n",
       "CAN   -0.205225\n",
       "KGZ   -0.202975\n",
       "CYP   -0.199430\n",
       "KAZ   -0.185653\n",
       "ARG   -0.178992\n",
       "GTM   -0.167811\n",
       "DEU   -0.160772\n",
       "NIR   -0.151041\n",
       "JPN   -0.147429\n",
       "TUN   -0.130761\n",
       "GRC   -0.129985\n",
       "PHL   -0.128608\n",
       "SRB   -0.126360\n",
       "MEX   -0.125411\n",
       "NLD   -0.121143\n",
       "BRA   -0.119964\n",
       "MAC   -0.119486\n",
       "COL   -0.116691\n",
       "NGA   -0.110075\n",
       "KOR   -0.109512\n",
       "MYS   -0.107823\n",
       "HKG   -0.089138\n",
       "VNM   -0.086858\n",
       "RUS   -0.083568\n",
       "BGD   -0.082860\n",
       "URY   -0.082682\n",
       "LBY   -0.079974\n",
       "KEN   -0.066673\n",
       "MNG   -0.066170\n",
       "NIC   -0.062612\n",
       "VEN   -0.059627\n",
       "MAR   -0.057338\n",
       "ZWE   -0.033618\n",
       "PRI   -0.030965\n",
       "UKR   -0.027009\n",
       "ECU   -0.025823\n",
       "PER   -0.024718\n",
       "MDV   -0.017621\n",
       "TWN   -0.001051\n",
       "SVK   -0.000112\n",
       "PAK    0.000933\n",
       "ARM    0.009572\n",
       "AND    0.012981\n",
       "BOL    0.025529\n",
       "CZE    0.043283\n",
       "IDN    0.050698\n",
       "MMR    0.066547\n",
       "CHN    0.095218\n",
       "ETH    0.101877\n",
       "SGP    0.116797\n",
       "ROU    0.158155\n",
       "Name: (free_market, gender_equality), dtype: float64"
      ]
     },
     "execution_count": 66,
     "metadata": {},
     "output_type": "execute_result"
    }
   ],
   "source": [
    "market_gender.sort_values()"
   ]
  },
  {
   "cell_type": "code",
   "execution_count": 67,
   "id": "58ab55a1",
   "metadata": {},
   "outputs": [
    {
     "data": {
      "text/plain": [
       "-0.085290131426834"
      ]
     },
     "execution_count": 67,
     "metadata": {},
     "output_type": "execute_result"
    }
   ],
   "source": [
    "market_gender.mean()"
   ]
  },
  {
   "cell_type": "code",
   "execution_count": 68,
   "id": "458d8105",
   "metadata": {
    "scrolled": true
   },
   "outputs": [
    {
     "data": {
      "text/plain": [
       "B_COUNTRY_ALPHA\n",
       "USA   -0.309545\n",
       "NIR   -0.223883\n",
       "CAN   -0.197684\n",
       "ARG   -0.184362\n",
       "KEN   -0.176916\n",
       "GBR   -0.169641\n",
       "NZL   -0.166350\n",
       "URY   -0.158957\n",
       "AUS   -0.150277\n",
       "THA   -0.146997\n",
       "CHL   -0.145674\n",
       "GTM   -0.136607\n",
       "ETH   -0.134204\n",
       "VEN   -0.128834\n",
       "CYP   -0.102747\n",
       "MNG   -0.087155\n",
       "DEU   -0.079986\n",
       "IDN   -0.064988\n",
       "PHL   -0.059804\n",
       "COL   -0.057082\n",
       "ECU   -0.052278\n",
       "NIC   -0.041916\n",
       "NLD   -0.039517\n",
       "BRA   -0.032751\n",
       "ZWE   -0.028916\n",
       "PRI   -0.026974\n",
       "MEX   -0.018952\n",
       "BOL   -0.006925\n",
       "MYS    0.008500\n",
       "MAC    0.011190\n",
       "JPN    0.018251\n",
       "ARM    0.028192\n",
       "HKG    0.031720\n",
       "KGZ    0.041967\n",
       "MDV    0.042917\n",
       "SVK    0.044210\n",
       "LBY    0.047652\n",
       "VNM    0.061382\n",
       "PAK    0.064650\n",
       "PER    0.065943\n",
       "NGA    0.067479\n",
       "KAZ    0.067794\n",
       "ROU    0.076317\n",
       "RUS    0.081760\n",
       "SGP    0.090462\n",
       "CHN    0.103836\n",
       "TWN    0.114840\n",
       "AND    0.125997\n",
       "SRB    0.137402\n",
       "MMR    0.143534\n",
       "KOR    0.152411\n",
       "GRC    0.157131\n",
       "CZE    0.179515\n",
       "MAR    0.188695\n",
       "UKR    0.191903\n",
       "BGD    0.215505\n",
       "TUN    0.222405\n",
       "Name: (free_market, sexuality), dtype: float64"
      ]
     },
     "execution_count": 68,
     "metadata": {},
     "output_type": "execute_result"
    }
   ],
   "source": [
    "market_sexuality.sort_values()"
   ]
  },
  {
   "cell_type": "code",
   "execution_count": 69,
   "id": "a1c9c76f",
   "metadata": {},
   "outputs": [
    {
     "data": {
      "text/plain": [
       "-0.006076518088742938"
      ]
     },
     "execution_count": 69,
     "metadata": {},
     "output_type": "execute_result"
    }
   ],
   "source": [
    "market_sexuality.mean()"
   ]
  },
  {
   "cell_type": "code",
   "execution_count": 70,
   "id": "5d893de9",
   "metadata": {
    "scrolled": true
   },
   "outputs": [
    {
     "data": {
      "text/plain": [
       "B_COUNTRY_ALPHA\n",
       "ROU   -0.325126\n",
       "PAK   -0.310430\n",
       "KEN   -0.282505\n",
       "MDV   -0.275077\n",
       "TUN   -0.263495\n",
       "BGD   -0.262829\n",
       "ETH   -0.258754\n",
       "MYS   -0.245215\n",
       "PER   -0.236857\n",
       "ECU   -0.234216\n",
       "IDN   -0.224947\n",
       "LBY   -0.210393\n",
       "NGA   -0.208234\n",
       "MNG   -0.203994\n",
       "BOL   -0.179439\n",
       "SRB   -0.172405\n",
       "MMR   -0.159623\n",
       "PHL   -0.159276\n",
       "MAR   -0.149966\n",
       "MEX   -0.143639\n",
       "SVK   -0.130869\n",
       "ZWE   -0.123567\n",
       "THA   -0.122200\n",
       "UKR   -0.119003\n",
       "COL   -0.109283\n",
       "GTM   -0.107306\n",
       "ARM   -0.106271\n",
       "SGP   -0.104862\n",
       "KGZ   -0.104180\n",
       "NIC   -0.103980\n",
       "VEN   -0.085531\n",
       "VNM   -0.082597\n",
       "KAZ   -0.081569\n",
       "RUS   -0.079206\n",
       "BRA   -0.076946\n",
       "JPN   -0.072867\n",
       "HKG   -0.067780\n",
       "AND   -0.065050\n",
       "PRI   -0.060193\n",
       "CYP   -0.057434\n",
       "TWN   -0.051954\n",
       "GRC   -0.050494\n",
       "CZE   -0.037622\n",
       "NZL   -0.037033\n",
       "NLD   -0.007188\n",
       "CHL    0.000247\n",
       "AUS    0.007814\n",
       "URY    0.010871\n",
       "CHN    0.015651\n",
       "KOR    0.019763\n",
       "ARG    0.036196\n",
       "DEU    0.050727\n",
       "CAN    0.055258\n",
       "GBR    0.071313\n",
       "MAC    0.116855\n",
       "USA    0.140643\n",
       "NIR    0.171713\n",
       "Name: (free_market, religion), dtype: float64"
      ]
     },
     "execution_count": 70,
     "metadata": {},
     "output_type": "execute_result"
    }
   ],
   "source": [
    "market_religion.sort_values()"
   ]
  },
  {
   "cell_type": "code",
   "execution_count": 71,
   "id": "db3ff801",
   "metadata": {
    "scrolled": false
   },
   "outputs": [
    {
     "data": {
      "text/plain": [
       "-0.10270796593276517"
      ]
     },
     "execution_count": 71,
     "metadata": {},
     "output_type": "execute_result"
    }
   ],
   "source": [
    "market_religion.mean()"
   ]
  },
  {
   "cell_type": "code",
   "execution_count": 57,
   "id": "c88757e1",
   "metadata": {
    "scrolled": true
   },
   "outputs": [
    {
     "data": {
      "text/plain": [
       "B_COUNTRY_ALPHA\n",
       "BGD   -0.286032\n",
       "MAC   -0.236958\n",
       "UKR   -0.187339\n",
       "LBY   -0.161194\n",
       "CHL   -0.135986\n",
       "CHN   -0.123905\n",
       "NGA   -0.121481\n",
       "TUN   -0.117353\n",
       "ETH   -0.115243\n",
       "KOR   -0.108009\n",
       "CYP   -0.107294\n",
       "KAZ   -0.107079\n",
       "IDN   -0.105603\n",
       "SGP   -0.102030\n",
       "NIC   -0.095458\n",
       "ARG   -0.095190\n",
       "THA   -0.080186\n",
       "ZWE   -0.073838\n",
       "USA   -0.073708\n",
       "VNM   -0.070679\n",
       "RUS   -0.068422\n",
       "COL   -0.067779\n",
       "PAK   -0.061854\n",
       "PHL   -0.057635\n",
       "URY   -0.056980\n",
       "MMR   -0.046186\n",
       "GTM   -0.040260\n",
       "KGZ   -0.039608\n",
       "CAN   -0.039087\n",
       "ARM   -0.036425\n",
       "ECU   -0.019341\n",
       "PER   -0.010181\n",
       "DEU   -0.003631\n",
       "SRB   -0.003255\n",
       "HKG   -0.000888\n",
       "GBR    0.001426\n",
       "KEN    0.004078\n",
       "BOL    0.006201\n",
       "MYS    0.008990\n",
       "BRA    0.009119\n",
       "MAR    0.010942\n",
       "NLD    0.017223\n",
       "GRC    0.024552\n",
       "AUS    0.036471\n",
       "MDV    0.040264\n",
       "PRI    0.044610\n",
       "NZL    0.044952\n",
       "MEX    0.045870\n",
       "SVK    0.081720\n",
       "CZE    0.088792\n",
       "MNG    0.120452\n",
       "JPN    0.121246\n",
       "ROU    0.143574\n",
       "Name: (free_market, science_and_technology), dtype: float64"
      ]
     },
     "execution_count": 57,
     "metadata": {},
     "output_type": "execute_result"
    }
   ],
   "source": [
    "market_science_and_technology.sort_values()"
   ]
  },
  {
   "cell_type": "code",
   "execution_count": 58,
   "id": "733b1b78",
   "metadata": {},
   "outputs": [
    {
     "data": {
      "text/plain": [
       "-0.041615387647372326"
      ]
     },
     "execution_count": 58,
     "metadata": {},
     "output_type": "execute_result"
    }
   ],
   "source": [
    "market_science_and_technology.mean()"
   ]
  },
  {
   "cell_type": "code",
   "execution_count": 72,
   "id": "16183b2b",
   "metadata": {
    "scrolled": true
   },
   "outputs": [
    {
     "data": {
      "text/plain": [
       "B_COUNTRY_ALPHA\n",
       "BGD   -0.098438\n",
       "LBY   -0.094348\n",
       "GTM   -0.061656\n",
       "TUN   -0.055145\n",
       "IDN   -0.035914\n",
       "KEN   -0.032761\n",
       "HKG   -0.026643\n",
       "MNG   -0.023410\n",
       "ZWE   -0.013835\n",
       "MYS   -0.000048\n",
       "NGA    0.016573\n",
       "KAZ    0.023899\n",
       "ETH    0.031708\n",
       "VNM    0.034979\n",
       "MMR    0.036570\n",
       "RUS    0.038512\n",
       "UKR    0.039810\n",
       "BOL    0.042747\n",
       "PHL    0.045061\n",
       "KOR    0.046915\n",
       "NIC    0.051004\n",
       "VEN    0.056042\n",
       "CHN    0.056693\n",
       "PER    0.059616\n",
       "MAR    0.072042\n",
       "PAK    0.081867\n",
       "ARM    0.083914\n",
       "MDV    0.099471\n",
       "MEX    0.104414\n",
       "ARG    0.115082\n",
       "PRI    0.119903\n",
       "SRB    0.120943\n",
       "ECU    0.122096\n",
       "CZE    0.134403\n",
       "MAC    0.141245\n",
       "ROU    0.146123\n",
       "KGZ    0.147678\n",
       "SVK    0.149293\n",
       "GRC    0.152508\n",
       "BRA    0.176197\n",
       "CHL    0.218805\n",
       "COL    0.225451\n",
       "JPN    0.230457\n",
       "NIR    0.237455\n",
       "URY    0.250000\n",
       "CAN    0.285101\n",
       "AND    0.302744\n",
       "TWN    0.336553\n",
       "DEU    0.336973\n",
       "AUS    0.340045\n",
       "USA    0.340548\n",
       "SGP    0.343454\n",
       "THA    0.343549\n",
       "CYP    0.364251\n",
       "NLD    0.377437\n",
       "GBR    0.392382\n",
       "NZL    0.438425\n",
       "Name: (gender_equality, sexuality), dtype: float64"
      ]
     },
     "execution_count": 72,
     "metadata": {},
     "output_type": "execute_result"
    }
   ],
   "source": [
    "gender_sexuality.sort_values()"
   ]
  },
  {
   "cell_type": "code",
   "execution_count": 73,
   "id": "2c2cb5c2",
   "metadata": {},
   "outputs": [
    {
     "data": {
      "text/plain": [
       "0.13103047910082452"
      ]
     },
     "execution_count": 73,
     "metadata": {},
     "output_type": "execute_result"
    }
   ],
   "source": [
    "gender_sexuality.mean()"
   ]
  },
  {
   "cell_type": "code",
   "execution_count": 74,
   "id": "2889aeea",
   "metadata": {
    "scrolled": true
   },
   "outputs": [
    {
     "data": {
      "text/plain": [
       "B_COUNTRY_ALPHA\n",
       "CAN   -0.381637\n",
       "USA   -0.302577\n",
       "NIR   -0.295306\n",
       "KOR   -0.282083\n",
       "NLD   -0.280737\n",
       "URY   -0.267135\n",
       "GBR   -0.239808\n",
       "AND   -0.239204\n",
       "ROU   -0.237367\n",
       "KGZ   -0.220784\n",
       "GRC   -0.216748\n",
       "AUS   -0.215306\n",
       "SGP   -0.210693\n",
       "NZL   -0.210484\n",
       "HKG   -0.200163\n",
       "CZE   -0.191959\n",
       "JPN   -0.190401\n",
       "TWN   -0.182137\n",
       "MAC   -0.179835\n",
       "DEU   -0.159565\n",
       "MNG   -0.151909\n",
       "SRB   -0.145668\n",
       "BRA   -0.140711\n",
       "MMR   -0.140574\n",
       "VNM   -0.137996\n",
       "ARG   -0.135457\n",
       "KAZ   -0.131855\n",
       "SVK   -0.128724\n",
       "CHN   -0.114660\n",
       "COL   -0.104051\n",
       "UKR   -0.098899\n",
       "RUS   -0.089438\n",
       "MEX   -0.079920\n",
       "ZWE   -0.079258\n",
       "THA   -0.072392\n",
       "ECU   -0.069858\n",
       "PAK   -0.064815\n",
       "NGA   -0.062171\n",
       "MDV   -0.061559\n",
       "ARM   -0.057359\n",
       "CHL   -0.046669\n",
       "CYP   -0.045422\n",
       "MAR   -0.044698\n",
       "IDN   -0.031938\n",
       "PER   -0.030198\n",
       "TUN   -0.028769\n",
       "PRI   -0.018620\n",
       "BOL   -0.015759\n",
       "NIC    0.000839\n",
       "BGD    0.007827\n",
       "MYS    0.027293\n",
       "ETH    0.031172\n",
       "GTM    0.038322\n",
       "PHL    0.081978\n",
       "LBY    0.092362\n",
       "KEN    0.142831\n",
       "VEN    0.149840\n",
       "Name: (gender_equality, religion), dtype: float64"
      ]
     },
     "execution_count": 74,
     "metadata": {},
     "output_type": "execute_result"
    }
   ],
   "source": [
    "gender_religion.sort_values()"
   ]
  },
  {
   "cell_type": "code",
   "execution_count": 75,
   "id": "86c3be74",
   "metadata": {
    "scrolled": true
   },
   "outputs": [
    {
     "data": {
      "text/plain": [
       "-0.11334756916531837"
      ]
     },
     "execution_count": 75,
     "metadata": {},
     "output_type": "execute_result"
    }
   ],
   "source": [
    "gender_religion.mean()"
   ]
  },
  {
   "cell_type": "code",
   "execution_count": 59,
   "id": "3ea2cfc9",
   "metadata": {
    "scrolled": true
   },
   "outputs": [
    {
     "data": {
      "text/plain": [
       "B_COUNTRY_ALPHA\n",
       "SGP   -0.090508\n",
       "BOL   -0.086430\n",
       "MMR   -0.065051\n",
       "PER   -0.035323\n",
       "PHL   -0.029074\n",
       "NIC   -0.018897\n",
       "CHN   -0.006928\n",
       "LBY   -0.003102\n",
       "ZWE    0.007603\n",
       "GTM    0.013463\n",
       "KGZ    0.014821\n",
       "MYS    0.018252\n",
       "PAK    0.018841\n",
       "MAR    0.020350\n",
       "IDN    0.022112\n",
       "PRI    0.023678\n",
       "MEX    0.030613\n",
       "KAZ    0.042681\n",
       "COL    0.042896\n",
       "SVK    0.046285\n",
       "JPN    0.050282\n",
       "CYP    0.052682\n",
       "MNG    0.059719\n",
       "ARM    0.061075\n",
       "ARG    0.067229\n",
       "RUS    0.075716\n",
       "VNM    0.076277\n",
       "NZL    0.086444\n",
       "HKG    0.090138\n",
       "TUN    0.090696\n",
       "CZE    0.110723\n",
       "DEU    0.111023\n",
       "NGA    0.111603\n",
       "ECU    0.123383\n",
       "ETH    0.124391\n",
       "MDV    0.136837\n",
       "GRC    0.141343\n",
       "KEN    0.146711\n",
       "CHL    0.147162\n",
       "NLD    0.154821\n",
       "THA    0.162462\n",
       "BRA    0.164155\n",
       "CAN    0.166274\n",
       "URY    0.171690\n",
       "MAC    0.174210\n",
       "BGD    0.174964\n",
       "ROU    0.182923\n",
       "AUS    0.189979\n",
       "GBR    0.199850\n",
       "KOR    0.201423\n",
       "UKR    0.220055\n",
       "SRB    0.239269\n",
       "USA    0.297101\n",
       "Name: (gender_equality, science_and_technology), dtype: float64"
      ]
     },
     "execution_count": 59,
     "metadata": {},
     "output_type": "execute_result"
    }
   ],
   "source": [
    "gender_science_and_technology.sort_values()"
   ]
  },
  {
   "cell_type": "code",
   "execution_count": 60,
   "id": "0796fe4c",
   "metadata": {},
   "outputs": [
    {
     "data": {
      "text/plain": [
       "0.08545081344388032"
      ]
     },
     "execution_count": 60,
     "metadata": {},
     "output_type": "execute_result"
    }
   ],
   "source": [
    "gender_science_and_technology.mean()"
   ]
  },
  {
   "cell_type": "code",
   "execution_count": 76,
   "id": "c44d8a31",
   "metadata": {
    "scrolled": true
   },
   "outputs": [
    {
     "data": {
      "text/plain": [
       "B_COUNTRY_ALPHA\n",
       "NZL   -0.597642\n",
       "NLD   -0.592015\n",
       "USA   -0.591500\n",
       "NIR   -0.549561\n",
       "SVK   -0.528679\n",
       "AUS   -0.519289\n",
       "CAN   -0.491097\n",
       "GBR   -0.474903\n",
       "ROU   -0.417003\n",
       "GRC   -0.390295\n",
       "CZE   -0.365889\n",
       "SGP   -0.353146\n",
       "AND   -0.345480\n",
       "DEU   -0.325165\n",
       "URY   -0.297270\n",
       "CYP   -0.296010\n",
       "ARG   -0.284450\n",
       "TWN   -0.221012\n",
       "COL   -0.210640\n",
       "PRI   -0.207291\n",
       "KGZ   -0.205037\n",
       "RUS   -0.197779\n",
       "MAR   -0.189137\n",
       "ARM   -0.188632\n",
       "JPN   -0.187883\n",
       "THA   -0.186924\n",
       "BRA   -0.185773\n",
       "SRB   -0.182106\n",
       "BGD   -0.166046\n",
       "MEX   -0.156355\n",
       "PAK   -0.155273\n",
       "VNM   -0.134965\n",
       "VEN   -0.134238\n",
       "GTM   -0.127710\n",
       "ETH   -0.126884\n",
       "CHL   -0.117650\n",
       "TUN   -0.116595\n",
       "NGA   -0.116513\n",
       "MYS   -0.110004\n",
       "KOR   -0.087238\n",
       "MDV   -0.082399\n",
       "PER   -0.079487\n",
       "ECU   -0.076254\n",
       "BOL   -0.067833\n",
       "KAZ   -0.063732\n",
       "UKR   -0.053892\n",
       "HKG   -0.041354\n",
       "IDN   -0.041317\n",
       "CHN   -0.006926\n",
       "MMR   -0.003545\n",
       "NIC    0.007985\n",
       "MAC    0.010759\n",
       "LBY    0.013604\n",
       "KEN    0.018948\n",
       "PHL    0.033870\n",
       "MNG    0.066769\n",
       "ZWE    0.080841\n",
       "Name: (sexuality, religion), dtype: float64"
      ]
     },
     "execution_count": 76,
     "metadata": {},
     "output_type": "execute_result"
    }
   ],
   "source": [
    "sexuality_religion.sort_values()"
   ]
  },
  {
   "cell_type": "code",
   "execution_count": 77,
   "id": "feec45ae",
   "metadata": {
    "scrolled": true
   },
   "outputs": [
    {
     "data": {
      "text/plain": [
       "-0.20026388670172954"
      ]
     },
     "execution_count": 77,
     "metadata": {},
     "output_type": "execute_result"
    }
   ],
   "source": [
    "sexuality_religion.mean()"
   ]
  },
  {
   "cell_type": "code",
   "execution_count": 61,
   "id": "dda45557",
   "metadata": {
    "scrolled": true
   },
   "outputs": [
    {
     "data": {
      "text/plain": [
       "B_COUNTRY_ALPHA\n",
       "BGD   -0.366392\n",
       "SGP   -0.280630\n",
       "CHN   -0.114963\n",
       "ARM   -0.091399\n",
       "KEN   -0.066971\n",
       "HKG   -0.064963\n",
       "KOR   -0.050103\n",
       "NGA   -0.049053\n",
       "MDV   -0.035247\n",
       "TUN   -0.031413\n",
       "VNM   -0.030984\n",
       "KGZ   -0.027590\n",
       "IDN   -0.013850\n",
       "KAZ   -0.008943\n",
       "NIC   -0.007445\n",
       "MYS   -0.005307\n",
       "PER   -0.003918\n",
       "MMR   -0.003188\n",
       "PAK    0.003598\n",
       "GRC    0.005328\n",
       "PHL    0.018368\n",
       "MNG    0.019622\n",
       "ECU    0.021344\n",
       "ZWE    0.023340\n",
       "UKR    0.033645\n",
       "MEX    0.051331\n",
       "CHL    0.053769\n",
       "BOL    0.057265\n",
       "ARG    0.059310\n",
       "PRI    0.061439\n",
       "RUS    0.072670\n",
       "DEU    0.074218\n",
       "GTM    0.078733\n",
       "MAC    0.091513\n",
       "MAR    0.091945\n",
       "LBY    0.097635\n",
       "SVK    0.100264\n",
       "ETH    0.103930\n",
       "URY    0.112642\n",
       "NZL    0.119060\n",
       "ROU    0.147515\n",
       "BRA    0.148727\n",
       "COL    0.150348\n",
       "SRB    0.154562\n",
       "GBR    0.157781\n",
       "CYP    0.163579\n",
       "JPN    0.167227\n",
       "AUS    0.176450\n",
       "THA    0.176812\n",
       "NLD    0.194258\n",
       "CAN    0.239069\n",
       "CZE    0.243063\n",
       "USA    0.303481\n",
       "Name: (sexuality, science_and_technology), dtype: float64"
      ]
     },
     "execution_count": 61,
     "metadata": {},
     "output_type": "execute_result"
    }
   ],
   "source": [
    "sexuality_science_and_technology.sort_values()"
   ]
  },
  {
   "cell_type": "code",
   "execution_count": 62,
   "id": "3d6e4d37",
   "metadata": {},
   "outputs": [
    {
     "data": {
      "text/plain": [
       "0.04757509104462198"
      ]
     },
     "execution_count": 62,
     "metadata": {},
     "output_type": "execute_result"
    }
   ],
   "source": [
    "sexuality_science_and_technology.mean()"
   ]
  },
  {
   "cell_type": "code",
   "execution_count": 63,
   "id": "e6cc2148",
   "metadata": {
    "scrolled": true
   },
   "outputs": [
    {
     "data": {
      "text/plain": [
       "B_COUNTRY_ALPHA\n",
       "USA   -0.280054\n",
       "MAC   -0.267772\n",
       "CZE   -0.267376\n",
       "NLD   -0.185098\n",
       "CAN   -0.169562\n",
       "SRB   -0.166937\n",
       "URY   -0.145966\n",
       "GRC   -0.140078\n",
       "CHL   -0.139908\n",
       "GBR   -0.134957\n",
       "AUS   -0.130661\n",
       "ROU   -0.116519\n",
       "HKG   -0.105021\n",
       "CHN   -0.104087\n",
       "KOR   -0.102480\n",
       "UKR   -0.100518\n",
       "ARG   -0.086806\n",
       "RUS   -0.082515\n",
       "PER   -0.078181\n",
       "BRA   -0.066995\n",
       "NZL   -0.064598\n",
       "CYP   -0.042581\n",
       "DEU   -0.039311\n",
       "PRI   -0.035400\n",
       "COL   -0.034911\n",
       "JPN   -0.030725\n",
       "MDV   -0.021670\n",
       "MEX   -0.014774\n",
       "BOL   -0.008952\n",
       "SVK   -0.008768\n",
       "VNM   -0.008361\n",
       "KGZ   -0.006222\n",
       "ZWE   -0.000037\n",
       "THA    0.004923\n",
       "MNG    0.027992\n",
       "ECU    0.030165\n",
       "NIC    0.031465\n",
       "NGA    0.051458\n",
       "PHL    0.058677\n",
       "MAR    0.064962\n",
       "ETH    0.069260\n",
       "SGP    0.071985\n",
       "IDN    0.093816\n",
       "ARM    0.097422\n",
       "MYS    0.099388\n",
       "KEN    0.101037\n",
       "MMR    0.113842\n",
       "PAK    0.127773\n",
       "GTM    0.153972\n",
       "LBY    0.166280\n",
       "BGD    0.174730\n",
       "KAZ    0.273294\n",
       "TUN    0.312092\n",
       "Name: (religion, science_and_technology), dtype: float64"
      ]
     },
     "execution_count": 63,
     "metadata": {},
     "output_type": "execute_result"
    }
   ],
   "source": [
    "science_and_technology_religion.sort_values()"
   ]
  },
  {
   "cell_type": "code",
   "execution_count": 115,
   "id": "5a472148",
   "metadata": {},
   "outputs": [
    {
     "data": {
      "text/plain": [
       "-0.0200616589907682"
      ]
     },
     "execution_count": 115,
     "metadata": {},
     "output_type": "execute_result"
    }
   ],
   "source": [
    "science_and_technology_religion.mean()"
   ]
  },
  {
   "cell_type": "code",
   "execution_count": 116,
   "id": "b6f79a00",
   "metadata": {
    "scrolled": true
   },
   "outputs": [
    {
     "data": {
      "text/plain": [
       "B_COUNTRY_ALPHA\n",
       "SGP   -0.232252\n",
       "BGD   -0.121873\n",
       "TUN   -0.112662\n",
       "MMR   -0.093400\n",
       "KAZ   -0.093313\n",
       "LBY   -0.056581\n",
       "ARM   -0.056225\n",
       "PAK   -0.033274\n",
       "IDN   -0.031350\n",
       "CHN   -0.028249\n",
       "NIC   -0.026099\n",
       "MYS   -0.025769\n",
       "PHL   -0.021999\n",
       "KGZ   -0.000858\n",
       "BOL    0.006664\n",
       "KEN    0.006894\n",
       "GTM    0.011810\n",
       "PER    0.012448\n",
       "VNM    0.016085\n",
       "ZWE    0.021909\n",
       "NGA    0.023542\n",
       "MNG    0.031192\n",
       "HKG    0.047079\n",
       "MAR    0.047899\n",
       "MEX    0.055049\n",
       "ECU    0.062108\n",
       "PRI    0.067002\n",
       "SVK    0.081817\n",
       "MDV    0.090215\n",
       "ARG    0.099182\n",
       "DEU    0.099871\n",
       "GRC    0.108069\n",
       "ETH    0.115336\n",
       "RUS    0.118154\n",
       "NZL    0.119019\n",
       "KOR    0.121575\n",
       "COL    0.132974\n",
       "CYP    0.135956\n",
       "JPN    0.139909\n",
       "CHL    0.158183\n",
       "THA    0.181323\n",
       "UKR    0.183249\n",
       "URY    0.183802\n",
       "BRA    0.193441\n",
       "GBR    0.208799\n",
       "ROU    0.212008\n",
       "AUS    0.216776\n",
       "NLD    0.226918\n",
       "CAN    0.256151\n",
       "MAC    0.259640\n",
       "SRB    0.276087\n",
       "CZE    0.297467\n",
       "USA    0.368993\n",
       "Name: (science_and_technology, progressivism), dtype: float64"
      ]
     },
     "execution_count": 116,
     "metadata": {},
     "output_type": "execute_result"
    }
   ],
   "source": [
    "science_and_technology_progressivism.sort_values()"
   ]
  },
  {
   "cell_type": "code",
   "execution_count": 117,
   "id": "74b49dae",
   "metadata": {
    "scrolled": true
   },
   "outputs": [
    {
     "data": {
      "text/plain": [
       "0.0766168152930106"
      ]
     },
     "execution_count": 117,
     "metadata": {},
     "output_type": "execute_result"
    }
   ],
   "source": [
    "science_and_technology_progressivism.mean()"
   ]
  },
  {
   "cell_type": "markdown",
   "id": "9f79b50d",
   "metadata": {},
   "source": [
    "#### Country images"
   ]
  },
  {
   "cell_type": "code",
   "execution_count": 93,
   "id": "0462388d",
   "metadata": {
    "scrolled": true
   },
   "outputs": [
    {
     "data": {
      "text/plain": [
       "country\n",
       "Canada           -0.169184\n",
       "United Kingdom   -0.154820\n",
       "Spain            -0.114388\n",
       "Australia        -0.110141\n",
       "Sweden           -0.094685\n",
       "Germany          -0.088101\n",
       "Netherlands      -0.084920\n",
       "United States    -0.080531\n",
       "Philippines      -0.076429\n",
       "South Africa     -0.059752\n",
       "Japan            -0.051925\n",
       "France           -0.051486\n",
       "Hungary          -0.048470\n",
       "South Korea      -0.045790\n",
       "Argentina        -0.006099\n",
       "Russia            0.001496\n",
       "Greece            0.010334\n",
       "Ukraine           0.010852\n",
       "Bulgaria          0.022852\n",
       "Mexico            0.039881\n",
       "Italy             0.040591\n",
       "India             0.043494\n",
       "Poland            0.047151\n",
       "Indonesia         0.057150\n",
       "Turkey            0.069522\n",
       "Kenya             0.075599\n",
       "Brazil            0.095734\n",
       "Lithuania         0.114157\n",
       "Tunisia           0.128692\n",
       "Lebanon           0.148619\n",
       "Slovakia          0.164845\n",
       "Nigeria           0.222890\n",
       "Israel            0.254812\n",
       "Czech Republic    0.312332\n",
       "Name: (gender_equality_index, fav_us_rec), dtype: float64"
      ]
     },
     "execution_count": 93,
     "metadata": {},
     "output_type": "execute_result"
    }
   ],
   "source": [
    "us_image_gender_equality.sort_values()"
   ]
  },
  {
   "cell_type": "code",
   "execution_count": 89,
   "id": "8a0826dd",
   "metadata": {},
   "outputs": [
    {
     "data": {
      "text/plain": [
       "0.01836116762601654"
      ]
     },
     "execution_count": 89,
     "metadata": {},
     "output_type": "execute_result"
    }
   ],
   "source": [
    "us_image_gender_equality.mean()"
   ]
  },
  {
   "cell_type": "code",
   "execution_count": 86,
   "id": "f774eae3",
   "metadata": {
    "scrolled": true
   },
   "outputs": [
    {
     "data": {
      "text/plain": [
       "country\n",
       "South Africa     -0.061452\n",
       "Philippines      -0.028447\n",
       "India            -0.028005\n",
       "Spain             0.004657\n",
       "Ukraine           0.052138\n",
       "Russia            0.057151\n",
       "Greece            0.061119\n",
       "Mexico            0.062812\n",
       "Germany           0.063384\n",
       "South Korea       0.064980\n",
       "Bulgaria          0.065982\n",
       "Kenya             0.073281\n",
       "Italy             0.082633\n",
       "Japan             0.085572\n",
       "Israel            0.087180\n",
       "Indonesia         0.089593\n",
       "Argentina         0.097906\n",
       "Turkey            0.098794\n",
       "Sweden            0.111298\n",
       "Australia         0.127620\n",
       "Nigeria           0.133484\n",
       "France            0.136263\n",
       "Hungary           0.137279\n",
       "Tunisia           0.139843\n",
       "Poland            0.149066\n",
       "Canada            0.165894\n",
       "Slovakia          0.166918\n",
       "Brazil            0.171834\n",
       "Netherlands       0.203462\n",
       "Lithuania         0.205665\n",
       "Lebanon           0.217520\n",
       "Czech Republic    0.266357\n",
       "United Kingdom    0.306036\n",
       "United States     0.322158\n",
       "Name: (gender_equality_index, fav_eu_rec), dtype: float64"
      ]
     },
     "execution_count": 86,
     "metadata": {},
     "output_type": "execute_result"
    }
   ],
   "source": [
    "eu_image_gender_equality.sort_values()"
   ]
  },
  {
   "cell_type": "code",
   "execution_count": 88,
   "id": "da6dccee",
   "metadata": {},
   "outputs": [
    {
     "data": {
      "text/plain": [
       "0.11441098755035659"
      ]
     },
     "execution_count": 88,
     "metadata": {},
     "output_type": "execute_result"
    }
   ],
   "source": [
    "eu_image_gender_equality.mean()"
   ]
  },
  {
   "cell_type": "code",
   "execution_count": 92,
   "id": "e3598264",
   "metadata": {
    "scrolled": true
   },
   "outputs": [
    {
     "data": {
      "text/plain": [
       "country\n",
       "Spain            -0.076585\n",
       "France           -0.073010\n",
       "Kenya            -0.066330\n",
       "Philippines      -0.065163\n",
       "Sweden           -0.063914\n",
       "Canada           -0.045005\n",
       "Hungary          -0.042219\n",
       "South Africa     -0.017191\n",
       "Israel           -0.013216\n",
       "Germany          -0.011118\n",
       "United Kingdom   -0.005299\n",
       "Slovakia         -0.004008\n",
       "Lebanon          -0.001744\n",
       "India             0.000418\n",
       "Nigeria           0.001819\n",
       "Netherlands       0.004476\n",
       "Greece            0.007633\n",
       "Czech Republic    0.021974\n",
       "Italy             0.025895\n",
       "Russia            0.038492\n",
       "Tunisia           0.039227\n",
       "Australia         0.053777\n",
       "South Korea       0.065544\n",
       "Bulgaria          0.067811\n",
       "Lithuania         0.068254\n",
       "Argentina         0.076464\n",
       "Japan             0.085451\n",
       "Poland            0.087550\n",
       "Ukraine           0.093637\n",
       "United States     0.101083\n",
       "Indonesia         0.102763\n",
       "Mexico            0.106981\n",
       "Turkey            0.130999\n",
       "Brazil            0.148769\n",
       "Name: (gender_equality_index, fav_chn_rec), dtype: float64"
      ]
     },
     "execution_count": 92,
     "metadata": {},
     "output_type": "execute_result"
    }
   ],
   "source": [
    "cn_image_gender_equality.sort_values()"
   ]
  },
  {
   "cell_type": "code",
   "execution_count": 94,
   "id": "caf936b9",
   "metadata": {},
   "outputs": [
    {
     "data": {
      "text/plain": [
       "0.02482984930414682"
      ]
     },
     "execution_count": 94,
     "metadata": {},
     "output_type": "execute_result"
    }
   ],
   "source": [
    "cn_image_gender_equality.mean()"
   ]
  },
  {
   "cell_type": "code",
   "execution_count": 95,
   "id": "56d29656",
   "metadata": {
    "scrolled": true
   },
   "outputs": [
    {
     "data": {
      "text/plain": [
       "country\n",
       "Lithuania        -0.217147\n",
       "Czech Republic   -0.201442\n",
       "Hungary          -0.186207\n",
       "Canada           -0.132448\n",
       "Sweden           -0.112728\n",
       "United States    -0.107229\n",
       "France           -0.100960\n",
       "Slovakia         -0.098645\n",
       "United Kingdom   -0.076857\n",
       "Bulgaria         -0.051590\n",
       "Netherlands      -0.051129\n",
       "Poland           -0.050898\n",
       "Greece           -0.049961\n",
       "South Africa     -0.048724\n",
       "Australia        -0.043581\n",
       "Israel           -0.042054\n",
       "Kenya            -0.040981\n",
       "Germany          -0.024134\n",
       "Spain            -0.020933\n",
       "Italy            -0.010827\n",
       "Philippines      -0.006346\n",
       "Argentina         0.005353\n",
       "Lebanon           0.009004\n",
       "Russia            0.013614\n",
       "India             0.022996\n",
       "Ukraine           0.030525\n",
       "Turkey            0.054800\n",
       "Japan             0.056632\n",
       "Indonesia         0.072387\n",
       "Mexico            0.089464\n",
       "South Korea       0.092885\n",
       "Tunisia           0.101292\n",
       "Nigeria           0.104010\n",
       "Brazil            0.155499\n",
       "Name: (gender_equality_index, fav_ru_rec), dtype: float64"
      ]
     },
     "execution_count": 95,
     "metadata": {},
     "output_type": "execute_result"
    }
   ],
   "source": [
    "ru_image_gender_equality.sort_values()"
   ]
  },
  {
   "cell_type": "code",
   "execution_count": 96,
   "id": "268c7bad",
   "metadata": {},
   "outputs": [
    {
     "data": {
      "text/plain": [
       "-0.025481185719430578"
      ]
     },
     "execution_count": 96,
     "metadata": {},
     "output_type": "execute_result"
    }
   ],
   "source": [
    "ru_image_gender_equality.mean()"
   ]
  },
  {
   "cell_type": "code",
   "execution_count": 102,
   "id": "0f8864d0",
   "metadata": {
    "scrolled": true
   },
   "outputs": [
    {
     "data": {
      "text/plain": [
       "country\n",
       "United Kingdom   -0.260357\n",
       "United States    -0.080909\n",
       "Netherlands      -0.043772\n",
       "Sweden           -0.023588\n",
       "Australia         0.016600\n",
       "Italy             0.021453\n",
       "France            0.055031\n",
       "Israel            0.066887\n",
       "Canada            0.089275\n",
       "Germany           0.097979\n",
       "South Korea       0.147043\n",
       "India             0.240059\n",
       "Spain             0.242863\n",
       "Hungary           0.247067\n",
       "Indonesia         0.252559\n",
       "Poland            0.260667\n",
       "Philippines       0.304149\n",
       "South Africa      0.338141\n",
       "Mexico            0.344169\n",
       "Brazil            0.345048\n",
       "Japan             0.348398\n",
       "Kenya             0.357298\n",
       "Lithuania         0.375064\n",
       "Greece            0.443305\n",
       "Russia            0.445658\n",
       "Turkey            0.447227\n",
       "Bulgaria          0.450734\n",
       "Nigeria           0.480566\n",
       "Tunisia           0.481991\n",
       "Lebanon           0.511660\n",
       "Czech Republic    0.526368\n",
       "Argentina         0.528192\n",
       "Ukraine           0.534062\n",
       "Slovakia          0.551538\n",
       "Name: (fav_us_rec, fav_eu_rec), dtype: float64"
      ]
     },
     "execution_count": 102,
     "metadata": {},
     "output_type": "execute_result"
    }
   ],
   "source": [
    "us_image_eu_image.sort_values()"
   ]
  },
  {
   "cell_type": "code",
   "execution_count": 109,
   "id": "2f42420a",
   "metadata": {},
   "outputs": [
    {
     "data": {
      "text/plain": [
       "0.26889478579322673"
      ]
     },
     "execution_count": 109,
     "metadata": {},
     "output_type": "execute_result"
    }
   ],
   "source": [
    "us_image_eu_image.mean()"
   ]
  },
  {
   "cell_type": "code",
   "execution_count": 103,
   "id": "1caa5e54",
   "metadata": {
    "scrolled": true
   },
   "outputs": [
    {
     "data": {
      "text/plain": [
       "country\n",
       "Israel           -0.042980\n",
       "United States     0.018359\n",
       "South Korea       0.033432\n",
       "Bulgaria          0.060158\n",
       "Czech Republic    0.061831\n",
       "Lebanon           0.077640\n",
       "Italy             0.095911\n",
       "Ukraine           0.102311\n",
       "Australia         0.158607\n",
       "India             0.163417\n",
       "Sweden            0.183287\n",
       "South Africa      0.190800\n",
       "Russia            0.191254\n",
       "Kenya             0.197293\n",
       "Netherlands       0.197392\n",
       "Canada            0.199285\n",
       "United Kingdom    0.205402\n",
       "Germany           0.209753\n",
       "Japan             0.220961\n",
       "Spain             0.235669\n",
       "Tunisia           0.236479\n",
       "Philippines       0.236905\n",
       "Greece            0.248380\n",
       "Poland            0.250957\n",
       "Hungary           0.272501\n",
       "Turkey            0.280081\n",
       "Mexico            0.283472\n",
       "Lithuania         0.292397\n",
       "Argentina         0.339996\n",
       "Slovakia          0.343251\n",
       "France            0.344426\n",
       "Indonesia         0.348736\n",
       "Nigeria           0.410731\n",
       "Brazil            0.419408\n",
       "Name: (fav_us_rec, fav_chn_rec), dtype: float64"
      ]
     },
     "execution_count": 103,
     "metadata": {},
     "output_type": "execute_result"
    }
   ],
   "source": [
    "us_image_cn_image.sort_values()"
   ]
  },
  {
   "cell_type": "code",
   "execution_count": 108,
   "id": "829cdd8c",
   "metadata": {},
   "outputs": [
    {
     "data": {
      "text/plain": [
       "0.20786775164147142"
      ]
     },
     "execution_count": 108,
     "metadata": {},
     "output_type": "execute_result"
    }
   ],
   "source": [
    "us_image_cn_image.mean()"
   ]
  },
  {
   "cell_type": "code",
   "execution_count": 104,
   "id": "5992a1a6",
   "metadata": {
    "scrolled": true
   },
   "outputs": [
    {
     "data": {
      "text/plain": [
       "country\n",
       "Ukraine          -0.225571\n",
       "Czech Republic   -0.224519\n",
       "Slovakia         -0.090650\n",
       "Lebanon          -0.073728\n",
       "Russia           -0.069930\n",
       "Lithuania        -0.032042\n",
       "Bulgaria         -0.019019\n",
       "Israel           -0.007592\n",
       "South Korea       0.077783\n",
       "United States     0.157827\n",
       "Greece            0.173538\n",
       "South Africa      0.194754\n",
       "Poland            0.199830\n",
       "Hungary           0.203254\n",
       "Germany           0.207628\n",
       "Sweden            0.229899\n",
       "Indonesia         0.232741\n",
       "Philippines       0.248665\n",
       "Australia         0.251208\n",
       "Italy             0.251537\n",
       "United Kingdom    0.254228\n",
       "Turkey            0.258932\n",
       "Kenya             0.260180\n",
       "Spain             0.273517\n",
       "India             0.275162\n",
       "Argentina         0.282989\n",
       "Japan             0.311903\n",
       "Brazil            0.320390\n",
       "Netherlands       0.338478\n",
       "Mexico            0.361273\n",
       "Canada            0.368482\n",
       "France            0.391729\n",
       "Tunisia           0.411378\n",
       "Nigeria           0.511662\n",
       "Name: (fav_us_rec, fav_ru_rec), dtype: float64"
      ]
     },
     "execution_count": 104,
     "metadata": {},
     "output_type": "execute_result"
    }
   ],
   "source": [
    "us_image_ru_image.sort_values()"
   ]
  },
  {
   "cell_type": "code",
   "execution_count": 107,
   "id": "0accb7c2",
   "metadata": {},
   "outputs": [
    {
     "data": {
      "text/plain": [
       "0.18546810087393423"
      ]
     },
     "execution_count": 107,
     "metadata": {},
     "output_type": "execute_result"
    }
   ],
   "source": [
    "us_image_ru_image.mean()"
   ]
  },
  {
   "cell_type": "code",
   "execution_count": 105,
   "id": "d33f6c91",
   "metadata": {
    "scrolled": true
   },
   "outputs": [
    {
     "data": {
      "text/plain": [
       "country\n",
       "Russia            0.041392\n",
       "India             0.094293\n",
       "Ukraine           0.110844\n",
       "Lithuania         0.134559\n",
       "Slovakia          0.199525\n",
       "Indonesia         0.201777\n",
       "Israel            0.270638\n",
       "South Africa      0.319525\n",
       "Bulgaria          0.323414\n",
       "Netherlands       0.334789\n",
       "Kenya             0.339054\n",
       "Tunisia           0.344493\n",
       "Greece            0.347261\n",
       "Nigeria           0.347618\n",
       "Philippines       0.356591\n",
       "Italy             0.358666\n",
       "Germany           0.371040\n",
       "Spain             0.386159\n",
       "Poland            0.405688\n",
       "Sweden            0.414571\n",
       "United States     0.421521\n",
       "South Korea       0.426289\n",
       "France            0.428578\n",
       "Australia         0.431357\n",
       "Brazil            0.437411\n",
       "Argentina         0.446694\n",
       "Mexico            0.451548\n",
       "Hungary           0.453419\n",
       "Czech Republic    0.454059\n",
       "Canada            0.461880\n",
       "United Kingdom    0.462871\n",
       "Turkey            0.464429\n",
       "Japan             0.482200\n",
       "Lebanon           0.498941\n",
       "Name: (fav_chn_rec, fav_ru_rec), dtype: float64"
      ]
     },
     "execution_count": 105,
     "metadata": {},
     "output_type": "execute_result"
    }
   ],
   "source": [
    "cn_image_ru_image.sort_values()"
   ]
  },
  {
   "cell_type": "code",
   "execution_count": 106,
   "id": "8fecc53d",
   "metadata": {},
   "outputs": [
    {
     "data": {
      "text/plain": [
       "0.3536204280433924"
      ]
     },
     "execution_count": 106,
     "metadata": {},
     "output_type": "execute_result"
    }
   ],
   "source": [
    "cn_image_ru_image.mean()"
   ]
  },
  {
   "cell_type": "code",
   "execution_count": 130,
   "id": "be88dc58",
   "metadata": {
    "scrolled": true
   },
   "outputs": [
    {
     "data": {
      "text/plain": [
       "country\n",
       "Lebanon          -0.261996\n",
       "Slovakia         -0.202529\n",
       "Israel           -0.188788\n",
       "Turkey           -0.165128\n",
       "Lithuania        -0.163285\n",
       "Mexico           -0.133694\n",
       "Russia           -0.108409\n",
       "Czech Republic   -0.067180\n",
       "Tunisia          -0.065115\n",
       "Brazil           -0.034382\n",
       "Indonesia        -0.030182\n",
       "Japan            -0.027757\n",
       "United Kingdom   -0.024069\n",
       "Hungary          -0.022296\n",
       "Germany          -0.014781\n",
       "Ukraine          -0.008460\n",
       "Italy             0.015854\n",
       "South Africa      0.023830\n",
       "Philippines       0.026331\n",
       "Netherlands       0.048235\n",
       "Nigeria           0.050727\n",
       "Australia         0.056565\n",
       "Argentina         0.063161\n",
       "Sweden            0.064993\n",
       "Bulgaria          0.068483\n",
       "France            0.070012\n",
       "South Korea       0.088771\n",
       "Kenya             0.096900\n",
       "Spain             0.099278\n",
       "India             0.100767\n",
       "Poland            0.109480\n",
       "Greece            0.113375\n",
       "Canada            0.126490\n",
       "United States     0.168163\n",
       "Name: (religiosity_index, fav_us_rec), dtype: float64"
      ]
     },
     "execution_count": 130,
     "metadata": {},
     "output_type": "execute_result"
    }
   ],
   "source": [
    "us_image_religiosity.sort_values()"
   ]
  },
  {
   "cell_type": "code",
   "execution_count": 131,
   "id": "9c469b40",
   "metadata": {},
   "outputs": [
    {
     "data": {
      "text/plain": [
       "-0.003724664057309456"
      ]
     },
     "execution_count": 131,
     "metadata": {},
     "output_type": "execute_result"
    }
   ],
   "source": [
    "us_image_religiosity.mean()"
   ]
  },
  {
   "cell_type": "code",
   "execution_count": 133,
   "id": "f69333b8",
   "metadata": {
    "scrolled": true
   },
   "outputs": [
    {
     "data": {
      "text/plain": [
       "country\n",
       "Lithuania        -0.148786\n",
       "United States    -0.142799\n",
       "Ukraine          -0.130912\n",
       "Argentina        -0.107752\n",
       "Mexico           -0.099425\n",
       "India            -0.098769\n",
       "Italy            -0.090297\n",
       "Germany          -0.070750\n",
       "South Korea      -0.070102\n",
       "Japan            -0.060768\n",
       "Netherlands      -0.057719\n",
       "Turkey           -0.054380\n",
       "Australia        -0.054218\n",
       "United Kingdom   -0.052983\n",
       "Tunisia          -0.035660\n",
       "Philippines      -0.029934\n",
       "Brazil           -0.028338\n",
       "South Africa     -0.027525\n",
       "Sweden           -0.018004\n",
       "Russia           -0.013789\n",
       "Slovakia         -0.013642\n",
       "Canada            0.001296\n",
       "Indonesia         0.001944\n",
       "Israel            0.002580\n",
       "Bulgaria          0.032904\n",
       "Nigeria           0.038869\n",
       "Kenya             0.062910\n",
       "Lebanon           0.063387\n",
       "Spain             0.064035\n",
       "Czech Republic    0.064626\n",
       "Greece            0.064626\n",
       "Poland            0.087420\n",
       "France            0.094532\n",
       "Hungary           0.121257\n",
       "Name: (religiosity_index, fav_cn_rec), dtype: float64"
      ]
     },
     "execution_count": 133,
     "metadata": {},
     "output_type": "execute_result"
    }
   ],
   "source": [
    "cn_image_religiosity.sort_values()"
   ]
  },
  {
   "cell_type": "code",
   "execution_count": 135,
   "id": "82bcf983",
   "metadata": {},
   "outputs": [
    {
     "data": {
      "text/plain": [
       "-0.020769564785281188"
      ]
     },
     "execution_count": 135,
     "metadata": {},
     "output_type": "execute_result"
    }
   ],
   "source": [
    "cn_image_religiosity.mean()"
   ]
  },
  {
   "cell_type": "code",
   "execution_count": 138,
   "id": "a71cf233",
   "metadata": {
    "scrolled": true
   },
   "outputs": [
    {
     "data": {
      "text/plain": [
       "country\n",
       "Mexico           -0.198098\n",
       "South Korea      -0.126295\n",
       "Tunisia          -0.065792\n",
       "Argentina        -0.056891\n",
       "United Kingdom   -0.044562\n",
       "Philippines      -0.034169\n",
       "Ukraine          -0.033154\n",
       "Italy            -0.027517\n",
       "Japan            -0.023286\n",
       "Turkey           -0.020069\n",
       "Israel           -0.016504\n",
       "South Africa     -0.011623\n",
       "Netherlands      -0.001337\n",
       "Brazil            0.017295\n",
       "Kenya             0.022367\n",
       "Germany           0.025032\n",
       "Sweden            0.027032\n",
       "Australia         0.040775\n",
       "Poland            0.043161\n",
       "Indonesia         0.046728\n",
       "Spain             0.051731\n",
       "Nigeria           0.064374\n",
       "United States     0.072670\n",
       "Russia            0.076909\n",
       "India             0.082213\n",
       "Czech Republic    0.086360\n",
       "Canada            0.088685\n",
       "France            0.089311\n",
       "Lebanon           0.107251\n",
       "Slovakia          0.119412\n",
       "Greece            0.132723\n",
       "Lithuania         0.146140\n",
       "Bulgaria          0.146810\n",
       "Hungary           0.149053\n",
       "Name: (religiosity_index, fav_ru_rec), dtype: float64"
      ]
     },
     "execution_count": 138,
     "metadata": {},
     "output_type": "execute_result"
    }
   ],
   "source": [
    "ru_image_religiosity.sort_values()"
   ]
  },
  {
   "cell_type": "code",
   "execution_count": 139,
   "id": "317e392f",
   "metadata": {},
   "outputs": [
    {
     "data": {
      "text/plain": [
       "0.0287275414964466"
      ]
     },
     "execution_count": 139,
     "metadata": {},
     "output_type": "execute_result"
    }
   ],
   "source": [
    "ru_image_religiosity.mean()"
   ]
  },
  {
   "cell_type": "code",
   "execution_count": 142,
   "id": "9ea7e541",
   "metadata": {
    "scrolled": true
   },
   "outputs": [
    {
     "data": {
      "text/plain": [
       "country\n",
       "United States    -0.291685\n",
       "Canada           -0.193738\n",
       "Lebanon          -0.177545\n",
       "Hungary          -0.161568\n",
       "Turkey           -0.149822\n",
       "Lithuania        -0.136165\n",
       "Mexico           -0.124157\n",
       "Brazil           -0.098515\n",
       "Australia        -0.098166\n",
       "United Kingdom   -0.096753\n",
       "Czech Republic   -0.092873\n",
       "Netherlands      -0.092762\n",
       "Argentina        -0.088419\n",
       "South Korea      -0.070189\n",
       "Slovakia         -0.066894\n",
       "Greece           -0.066235\n",
       "Italy            -0.065909\n",
       "Poland           -0.055654\n",
       "Russia           -0.048713\n",
       "Philippines      -0.040372\n",
       "Israel           -0.024828\n",
       "Ukraine          -0.003769\n",
       "Sweden            0.004273\n",
       "Germany           0.006966\n",
       "Spain             0.011112\n",
       "Tunisia           0.011987\n",
       "France            0.016071\n",
       "South Africa      0.017616\n",
       "Bulgaria          0.021605\n",
       "India             0.022548\n",
       "Japan             0.027131\n",
       "Nigeria           0.043805\n",
       "Kenya             0.069188\n",
       "Indonesia         0.100463\n",
       "Name: (religiosity_index, fav_eu_rec), dtype: float64"
      ]
     },
     "execution_count": 142,
     "metadata": {},
     "output_type": "execute_result"
    }
   ],
   "source": [
    "eu_image_religiosity.sort_values()"
   ]
  },
  {
   "cell_type": "code",
   "execution_count": 157,
   "id": "68e0c4cf",
   "metadata": {
    "scrolled": true
   },
   "outputs": [
    {
     "data": {
      "text/plain": [
       "country\n",
       "United States    -0.163203\n",
       "Canada           -0.152467\n",
       "Philippines      -0.114294\n",
       "South Korea      -0.107443\n",
       "United Kingdom   -0.103412\n",
       "Australia        -0.084682\n",
       "Sweden           -0.080807\n",
       "France           -0.072601\n",
       "Kenya            -0.057984\n",
       "Spain            -0.051495\n",
       "Nigeria          -0.041265\n",
       "Germany          -0.031185\n",
       "Netherlands      -0.029378\n",
       "Italy            -0.010394\n",
       "Argentina        -0.006589\n",
       "Japan            -0.003865\n",
       "Poland            0.003413\n",
       "Greece            0.008183\n",
       "South Africa      0.026852\n",
       "Turkey            0.027179\n",
       "Brazil            0.027400\n",
       "India             0.034170\n",
       "Indonesia         0.055570\n",
       "Tunisia           0.068491\n",
       "Ukraine           0.088179\n",
       "Hungary           0.103108\n",
       "Lebanon           0.103643\n",
       "Mexico            0.124591\n",
       "Czech Republic    0.163228\n",
       "Lithuania         0.171529\n",
       "Israel            0.183750\n",
       "Bulgaria          0.234963\n",
       "Slovakia          0.251391\n",
       "Russia            0.330282\n",
       "Name: (accept_homosexuality, fav_us_rec), dtype: float64"
      ]
     },
     "execution_count": 157,
     "metadata": {},
     "output_type": "execute_result"
    }
   ],
   "source": [
    "us_image_homosexuality.sort_values()"
   ]
  },
  {
   "cell_type": "code",
   "execution_count": 159,
   "id": "f8d31770",
   "metadata": {
    "scrolled": true
   },
   "outputs": [
    {
     "data": {
      "text/plain": [
       "country\n",
       "Kenya            -0.053861\n",
       "Philippines      -0.044219\n",
       "Indonesia        -0.030345\n",
       "South Africa      0.003047\n",
       "Spain             0.010805\n",
       "Nigeria           0.021912\n",
       "Italy             0.036462\n",
       "Tunisia           0.047539\n",
       "Japan             0.052115\n",
       "Brazil            0.057265\n",
       "Ukraine           0.066284\n",
       "Lithuania         0.078710\n",
       "South Korea       0.091860\n",
       "India             0.096910\n",
       "Mexico            0.100207\n",
       "Lebanon           0.100919\n",
       "Argentina         0.111069\n",
       "Israel            0.112651\n",
       "Turkey            0.113603\n",
       "Sweden            0.122218\n",
       "Australia         0.131958\n",
       "Greece            0.136869\n",
       "Netherlands       0.139227\n",
       "France            0.145940\n",
       "Czech Republic    0.162619\n",
       "Germany           0.171703\n",
       "Canada            0.181904\n",
       "Bulgaria          0.190391\n",
       "Russia            0.205845\n",
       "United Kingdom    0.218015\n",
       "Poland            0.222543\n",
       "Slovakia          0.233589\n",
       "United States     0.261697\n",
       "Hungary           0.290562\n",
       "Name: (accept_homosexuality, fav_eu_rec), dtype: float64"
      ]
     },
     "execution_count": 159,
     "metadata": {},
     "output_type": "execute_result"
    }
   ],
   "source": [
    "eu_image_homosexuality.sort_values()"
   ]
  },
  {
   "cell_type": "code",
   "execution_count": 162,
   "id": "abdaf29d",
   "metadata": {
    "scrolled": true
   },
   "outputs": [
    {
     "data": {
      "text/plain": [
       "country\n",
       "France           -0.136836\n",
       "Spain            -0.106650\n",
       "Israel           -0.091835\n",
       "Kenya            -0.087024\n",
       "Bulgaria         -0.056903\n",
       "Nigeria          -0.051833\n",
       "Czech Republic   -0.049537\n",
       "Hungary          -0.031832\n",
       "Tunisia          -0.030069\n",
       "Indonesia        -0.021892\n",
       "Sweden           -0.019862\n",
       "Netherlands      -0.013618\n",
       "Canada            0.004812\n",
       "Philippines       0.005828\n",
       "United Kingdom    0.007387\n",
       "Poland            0.020008\n",
       "Germany           0.021920\n",
       "Turkey            0.031879\n",
       "Slovakia          0.036637\n",
       "Mexico            0.040869\n",
       "Brazil            0.048040\n",
       "Ukraine           0.049739\n",
       "Russia            0.052739\n",
       "Italy             0.058817\n",
       "India             0.063840\n",
       "South Africa      0.073459\n",
       "Greece            0.080417\n",
       "South Korea       0.088044\n",
       "Australia         0.088899\n",
       "Japan             0.094171\n",
       "Lebanon           0.098005\n",
       "Lithuania         0.129044\n",
       "United States     0.140878\n",
       "Argentina         0.190270\n",
       "Name: (accept_homosexuality, fav_cn_rec), dtype: float64"
      ]
     },
     "execution_count": 162,
     "metadata": {},
     "output_type": "execute_result"
    }
   ],
   "source": [
    "cn_image_homosexuality.sort_values()"
   ]
  },
  {
   "cell_type": "code",
   "execution_count": 163,
   "id": "a3f811a9",
   "metadata": {
    "scrolled": true
   },
   "outputs": [
    {
     "data": {
      "text/plain": [
       "country\n",
       "Bulgaria         -0.187250\n",
       "Czech Republic   -0.170769\n",
       "Slovakia         -0.150417\n",
       "Hungary          -0.116450\n",
       "France           -0.107604\n",
       "Australia        -0.099836\n",
       "Canada           -0.084719\n",
       "Russia           -0.084474\n",
       "Greece           -0.070214\n",
       "Ukraine          -0.067769\n",
       "United States    -0.059430\n",
       "Germany          -0.057815\n",
       "Nigeria          -0.052154\n",
       "Netherlands      -0.045883\n",
       "Lithuania        -0.045172\n",
       "United Kingdom   -0.037916\n",
       "Brazil           -0.033836\n",
       "Lebanon          -0.032585\n",
       "Sweden           -0.030219\n",
       "Philippines      -0.020830\n",
       "Indonesia        -0.019894\n",
       "Kenya            -0.011010\n",
       "Israel           -0.001969\n",
       "Turkey           -0.001119\n",
       "Spain             0.001971\n",
       "Poland            0.007953\n",
       "India             0.030834\n",
       "Italy             0.037913\n",
       "South Africa      0.059425\n",
       "Tunisia           0.062834\n",
       "Mexico            0.085693\n",
       "Japan             0.101127\n",
       "Argentina         0.105272\n",
       "South Korea       0.190410\n",
       "Name: (accept_homosexuality, fav_ru_rec), dtype: float64"
      ]
     },
     "execution_count": 163,
     "metadata": {},
     "output_type": "execute_result"
    }
   ],
   "source": [
    "ru_image_homosexuality.sort_values()"
   ]
  },
  {
   "cell_type": "markdown",
   "id": "dc450710",
   "metadata": {},
   "source": [
    "#### Demographic variables and political orientations"
   ]
  },
  {
   "cell_type": "code",
   "execution_count": 78,
   "id": "f1fab74b",
   "metadata": {},
   "outputs": [
    {
     "data": {
      "text/plain": [
       "-0.45682948444622046"
      ]
     },
     "execution_count": 78,
     "metadata": {},
     "output_type": "execute_result"
    }
   ],
   "source": [
    "market_progressivism.corr(age_market)"
   ]
  },
  {
   "cell_type": "code",
   "execution_count": 79,
   "id": "adebdcca",
   "metadata": {},
   "outputs": [
    {
     "data": {
      "text/plain": [
       "0.5938008119069168"
      ]
     },
     "execution_count": 79,
     "metadata": {},
     "output_type": "execute_result"
    }
   ],
   "source": [
    "market_progressivism.corr(education_market)"
   ]
  },
  {
   "cell_type": "code",
   "execution_count": 80,
   "id": "5af4be58",
   "metadata": {},
   "outputs": [
    {
     "data": {
      "text/plain": [
       "0.6363951736676426"
      ]
     },
     "execution_count": 80,
     "metadata": {},
     "output_type": "execute_result"
    }
   ],
   "source": [
    "market_progressivism.corr(freedom_market)"
   ]
  },
  {
   "cell_type": "code",
   "execution_count": 64,
   "id": "64a3ba11",
   "metadata": {
    "scrolled": true
   },
   "outputs": [
    {
     "data": {
      "text/plain": [
       "0.03046932123089193"
      ]
     },
     "execution_count": 64,
     "metadata": {},
     "output_type": "execute_result"
    }
   ],
   "source": [
    "market_progressivism.corr(market_science_and_technology)"
   ]
  },
  {
   "cell_type": "code",
   "execution_count": 165,
   "id": "1eb4243d",
   "metadata": {},
   "outputs": [
    {
     "data": {
      "text/plain": [
       "-0.5509023338562793"
      ]
     },
     "execution_count": 165,
     "metadata": {},
     "output_type": "execute_result"
    }
   ],
   "source": [
    "us_image_religiosity.corr(us_image_gender_equality)"
   ]
  },
  {
   "cell_type": "code",
   "execution_count": 166,
   "id": "b169f472",
   "metadata": {},
   "outputs": [
    {
     "data": {
      "text/plain": [
       "-0.6718063500372731"
      ]
     },
     "execution_count": 166,
     "metadata": {},
     "output_type": "execute_result"
    }
   ],
   "source": [
    "us_image_religiosity.corr(us_image_homosexuality)"
   ]
  },
  {
   "cell_type": "code",
   "execution_count": 164,
   "id": "2e1fe0bb",
   "metadata": {},
   "outputs": [
    {
     "data": {
      "text/plain": [
       "0.5944958638155214"
      ]
     },
     "execution_count": 164,
     "metadata": {},
     "output_type": "execute_result"
    }
   ],
   "source": [
    "us_image_gender_equality.corr(us_image_homosexuality)"
   ]
  },
  {
   "cell_type": "markdown",
   "id": "45435cb7",
   "metadata": {},
   "source": [
    "## Country-level moderators"
   ]
  },
  {
   "cell_type": "code",
   "execution_count": 66,
   "id": "49d0faec",
   "metadata": {},
   "outputs": [],
   "source": [
    "gdp_per_capita_ppp = wvs7_clean.groupby('B_COUNTRY_ALPHA')[['GDPpercap1']].mean()"
   ]
  },
  {
   "cell_type": "code",
   "execution_count": 67,
   "id": "cabf7c85",
   "metadata": {
    "scrolled": true
   },
   "outputs": [
    {
     "data": {
      "text/html": [
       "<div>\n",
       "<style scoped>\n",
       "    .dataframe tbody tr th:only-of-type {\n",
       "        vertical-align: middle;\n",
       "    }\n",
       "\n",
       "    .dataframe tbody tr th {\n",
       "        vertical-align: top;\n",
       "    }\n",
       "\n",
       "    .dataframe thead th {\n",
       "        text-align: right;\n",
       "    }\n",
       "</style>\n",
       "<table border=\"1\" class=\"dataframe\">\n",
       "  <thead>\n",
       "    <tr style=\"text-align: right;\">\n",
       "      <th></th>\n",
       "      <th>GDPpercap1</th>\n",
       "    </tr>\n",
       "    <tr>\n",
       "      <th>B_COUNTRY_ALPHA</th>\n",
       "      <th></th>\n",
       "    </tr>\n",
       "  </thead>\n",
       "  <tbody>\n",
       "    <tr>\n",
       "      <th>ARG</th>\n",
       "      <td>22947.14</td>\n",
       "    </tr>\n",
       "    <tr>\n",
       "      <th>ARM</th>\n",
       "      <td>14219.63</td>\n",
       "    </tr>\n",
       "    <tr>\n",
       "      <th>AUS</th>\n",
       "      <td>53320.27</td>\n",
       "    </tr>\n",
       "    <tr>\n",
       "      <th>BGD</th>\n",
       "      <td>4950.74</td>\n",
       "    </tr>\n",
       "    <tr>\n",
       "      <th>BOL</th>\n",
       "      <td>9086.06</td>\n",
       "    </tr>\n",
       "    <tr>\n",
       "      <th>BRA</th>\n",
       "      <td>15258.85</td>\n",
       "    </tr>\n",
       "    <tr>\n",
       "      <th>CAN</th>\n",
       "      <td>51341.71</td>\n",
       "    </tr>\n",
       "    <tr>\n",
       "      <th>CHL</th>\n",
       "      <td>25154.99</td>\n",
       "    </tr>\n",
       "    <tr>\n",
       "      <th>CHN</th>\n",
       "      <td>16784.66</td>\n",
       "    </tr>\n",
       "    <tr>\n",
       "      <th>COL</th>\n",
       "      <td>15643.73</td>\n",
       "    </tr>\n",
       "    <tr>\n",
       "      <th>CYP</th>\n",
       "      <td>41254.40</td>\n",
       "    </tr>\n",
       "    <tr>\n",
       "      <th>CZE</th>\n",
       "      <td>42575.61</td>\n",
       "    </tr>\n",
       "    <tr>\n",
       "      <th>DEU</th>\n",
       "      <td>56052.42</td>\n",
       "    </tr>\n",
       "    <tr>\n",
       "      <th>ECU</th>\n",
       "      <td>11846.78</td>\n",
       "    </tr>\n",
       "    <tr>\n",
       "      <th>ETH</th>\n",
       "      <td>2311.70</td>\n",
       "    </tr>\n",
       "    <tr>\n",
       "      <th>GBR</th>\n",
       "      <td>48709.70</td>\n",
       "    </tr>\n",
       "    <tr>\n",
       "      <th>GRC</th>\n",
       "      <td>31399.42</td>\n",
       "    </tr>\n",
       "    <tr>\n",
       "      <th>GTM</th>\n",
       "      <td>8995.54</td>\n",
       "    </tr>\n",
       "    <tr>\n",
       "      <th>HKG</th>\n",
       "      <td>62375.12</td>\n",
       "    </tr>\n",
       "    <tr>\n",
       "      <th>IDN</th>\n",
       "      <td>12301.75</td>\n",
       "    </tr>\n",
       "    <tr>\n",
       "      <th>JPN</th>\n",
       "      <td>43235.72</td>\n",
       "    </tr>\n",
       "    <tr>\n",
       "      <th>KAZ</th>\n",
       "      <td>27443.57</td>\n",
       "    </tr>\n",
       "    <tr>\n",
       "      <th>KEN</th>\n",
       "      <td>4509.32</td>\n",
       "    </tr>\n",
       "    <tr>\n",
       "      <th>KGZ</th>\n",
       "      <td>5470.81</td>\n",
       "    </tr>\n",
       "    <tr>\n",
       "      <th>KOR</th>\n",
       "      <td>43028.90</td>\n",
       "    </tr>\n",
       "    <tr>\n",
       "      <th>LBY</th>\n",
       "      <td>15803.06</td>\n",
       "    </tr>\n",
       "    <tr>\n",
       "      <th>MAC</th>\n",
       "      <td>129103.01</td>\n",
       "    </tr>\n",
       "    <tr>\n",
       "      <th>MAR</th>\n",
       "      <td>7826.17</td>\n",
       "    </tr>\n",
       "    <tr>\n",
       "      <th>MDV</th>\n",
       "      <td>19698.24</td>\n",
       "    </tr>\n",
       "    <tr>\n",
       "      <th>MEX</th>\n",
       "      <td>20410.71</td>\n",
       "    </tr>\n",
       "    <tr>\n",
       "      <th>MMR</th>\n",
       "      <td>5355.27</td>\n",
       "    </tr>\n",
       "    <tr>\n",
       "      <th>MNG</th>\n",
       "      <td>12819.95</td>\n",
       "    </tr>\n",
       "    <tr>\n",
       "      <th>MYS</th>\n",
       "      <td>29525.58</td>\n",
       "    </tr>\n",
       "    <tr>\n",
       "      <th>NGA</th>\n",
       "      <td>5348.34</td>\n",
       "    </tr>\n",
       "    <tr>\n",
       "      <th>NIC</th>\n",
       "      <td>5631.20</td>\n",
       "    </tr>\n",
       "    <tr>\n",
       "      <th>NLD</th>\n",
       "      <td>59686.83</td>\n",
       "    </tr>\n",
       "    <tr>\n",
       "      <th>NZL</th>\n",
       "      <td>43952.55</td>\n",
       "    </tr>\n",
       "    <tr>\n",
       "      <th>PAK</th>\n",
       "      <td>4884.88</td>\n",
       "    </tr>\n",
       "    <tr>\n",
       "      <th>PER</th>\n",
       "      <td>13380.36</td>\n",
       "    </tr>\n",
       "    <tr>\n",
       "      <th>PHL</th>\n",
       "      <td>9277.37</td>\n",
       "    </tr>\n",
       "    <tr>\n",
       "      <th>PRI</th>\n",
       "      <td>35948.19</td>\n",
       "    </tr>\n",
       "    <tr>\n",
       "      <th>ROU</th>\n",
       "      <td>32297.30</td>\n",
       "    </tr>\n",
       "    <tr>\n",
       "      <th>RUS</th>\n",
       "      <td>29181.36</td>\n",
       "    </tr>\n",
       "    <tr>\n",
       "      <th>SGP</th>\n",
       "      <td>101375.78</td>\n",
       "    </tr>\n",
       "    <tr>\n",
       "      <th>SRB</th>\n",
       "      <td>18989.04</td>\n",
       "    </tr>\n",
       "    <tr>\n",
       "      <th>SVK</th>\n",
       "      <td>34177.95</td>\n",
       "    </tr>\n",
       "    <tr>\n",
       "      <th>THA</th>\n",
       "      <td>19228.29</td>\n",
       "    </tr>\n",
       "    <tr>\n",
       "      <th>TUN</th>\n",
       "      <td>11201.34</td>\n",
       "    </tr>\n",
       "    <tr>\n",
       "      <th>UKR</th>\n",
       "      <td>13341.21</td>\n",
       "    </tr>\n",
       "    <tr>\n",
       "      <th>URY</th>\n",
       "      <td>22454.66</td>\n",
       "    </tr>\n",
       "    <tr>\n",
       "      <th>USA</th>\n",
       "      <td>65280.68</td>\n",
       "    </tr>\n",
       "    <tr>\n",
       "      <th>VNM</th>\n",
       "      <td>8374.44</td>\n",
       "    </tr>\n",
       "    <tr>\n",
       "      <th>ZWE</th>\n",
       "      <td>2953.48</td>\n",
       "    </tr>\n",
       "  </tbody>\n",
       "</table>\n",
       "</div>"
      ],
      "text/plain": [
       "                 GDPpercap1\n",
       "B_COUNTRY_ALPHA            \n",
       "ARG                22947.14\n",
       "ARM                14219.63\n",
       "AUS                53320.27\n",
       "BGD                 4950.74\n",
       "BOL                 9086.06\n",
       "BRA                15258.85\n",
       "CAN                51341.71\n",
       "CHL                25154.99\n",
       "CHN                16784.66\n",
       "COL                15643.73\n",
       "CYP                41254.40\n",
       "CZE                42575.61\n",
       "DEU                56052.42\n",
       "ECU                11846.78\n",
       "ETH                 2311.70\n",
       "GBR                48709.70\n",
       "GRC                31399.42\n",
       "GTM                 8995.54\n",
       "HKG                62375.12\n",
       "IDN                12301.75\n",
       "JPN                43235.72\n",
       "KAZ                27443.57\n",
       "KEN                 4509.32\n",
       "KGZ                 5470.81\n",
       "KOR                43028.90\n",
       "LBY                15803.06\n",
       "MAC               129103.01\n",
       "MAR                 7826.17\n",
       "MDV                19698.24\n",
       "MEX                20410.71\n",
       "MMR                 5355.27\n",
       "MNG                12819.95\n",
       "MYS                29525.58\n",
       "NGA                 5348.34\n",
       "NIC                 5631.20\n",
       "NLD                59686.83\n",
       "NZL                43952.55\n",
       "PAK                 4884.88\n",
       "PER                13380.36\n",
       "PHL                 9277.37\n",
       "PRI                35948.19\n",
       "ROU                32297.30\n",
       "RUS                29181.36\n",
       "SGP               101375.78\n",
       "SRB                18989.04\n",
       "SVK                34177.95\n",
       "THA                19228.29\n",
       "TUN                11201.34\n",
       "UKR                13341.21\n",
       "URY                22454.66\n",
       "USA                65280.68\n",
       "VNM                 8374.44\n",
       "ZWE                 2953.48"
      ]
     },
     "execution_count": 67,
     "metadata": {},
     "output_type": "execute_result"
    }
   ],
   "source": [
    "gdp_per_capita_ppp"
   ]
  },
  {
   "cell_type": "markdown",
   "id": "b675e3d5",
   "metadata": {},
   "source": [
    "#### Age"
   ]
  },
  {
   "cell_type": "code",
   "execution_count": 101,
   "id": "a5c2103a",
   "metadata": {},
   "outputs": [
    {
     "data": {
      "text/plain": [
       "-0.1880411884331394"
      ]
     },
     "execution_count": 101,
     "metadata": {},
     "output_type": "execute_result"
    }
   ],
   "source": [
    "age_freedom.corr(gdp_per_capita_ppp['GDPpercap1'])"
   ]
  },
  {
   "cell_type": "code",
   "execution_count": 102,
   "id": "36d17d54",
   "metadata": {
    "scrolled": true
   },
   "outputs": [
    {
     "data": {
      "text/plain": [
       "0.06726115673454686"
      ]
     },
     "execution_count": 102,
     "metadata": {},
     "output_type": "execute_result"
    }
   ],
   "source": [
    "age_market.corr(gdp_per_capita_ppp['GDPpercap1'])"
   ]
  },
  {
   "cell_type": "code",
   "execution_count": 103,
   "id": "343f3ea7",
   "metadata": {},
   "outputs": [
    {
     "data": {
      "text/plain": [
       "-0.29834738343636774"
      ]
     },
     "execution_count": 103,
     "metadata": {},
     "output_type": "execute_result"
    }
   ],
   "source": [
    "age_gender.corr(gdp_per_capita_ppp['GDPpercap1'])"
   ]
  },
  {
   "cell_type": "code",
   "execution_count": 104,
   "id": "ffc805ec",
   "metadata": {},
   "outputs": [
    {
     "data": {
      "text/plain": [
       "-0.5733121126518901"
      ]
     },
     "execution_count": 104,
     "metadata": {},
     "output_type": "execute_result"
    }
   ],
   "source": [
    "age_sexuality.corr(gdp_per_capita_ppp['GDPpercap1'])"
   ]
  },
  {
   "cell_type": "code",
   "execution_count": 105,
   "id": "05cdf918",
   "metadata": {
    "scrolled": true
   },
   "outputs": [
    {
     "data": {
      "text/plain": [
       "0.22562247822336665"
      ]
     },
     "execution_count": 105,
     "metadata": {},
     "output_type": "execute_result"
    }
   ],
   "source": [
    "age_religion.corr(gdp_per_capita_ppp['GDPpercap1'])"
   ]
  },
  {
   "cell_type": "code",
   "execution_count": 106,
   "id": "a215edd5",
   "metadata": {},
   "outputs": [
    {
     "data": {
      "text/plain": [
       "0.31446014986164356"
      ]
     },
     "execution_count": 106,
     "metadata": {},
     "output_type": "execute_result"
    }
   ],
   "source": [
    "age_science_and_technology.corr(gdp_per_capita_ppp['GDPpercap1'])"
   ]
  },
  {
   "cell_type": "markdown",
   "id": "d458feb5",
   "metadata": {},
   "source": [
    "#### Education"
   ]
  },
  {
   "cell_type": "code",
   "execution_count": 52,
   "id": "a231f38e",
   "metadata": {
    "scrolled": true
   },
   "outputs": [
    {
     "data": {
      "text/plain": [
       "0.19881082280469567"
      ]
     },
     "execution_count": 52,
     "metadata": {},
     "output_type": "execute_result"
    }
   ],
   "source": [
    "education_freedom.corr(gdp_per_capita_ppp['GDPpercap1'])"
   ]
  },
  {
   "cell_type": "code",
   "execution_count": 53,
   "id": "1ddad729",
   "metadata": {},
   "outputs": [
    {
     "data": {
      "text/plain": [
       "-0.04387637461649161"
      ]
     },
     "execution_count": 53,
     "metadata": {},
     "output_type": "execute_result"
    }
   ],
   "source": [
    "education_market.corr(gdp_per_capita_ppp['GDPpercap1'])"
   ]
  },
  {
   "cell_type": "code",
   "execution_count": 54,
   "id": "2b31a443",
   "metadata": {},
   "outputs": [
    {
     "data": {
      "text/plain": [
       "0.07074420496531118"
      ]
     },
     "execution_count": 54,
     "metadata": {},
     "output_type": "execute_result"
    }
   ],
   "source": [
    "education_gender.corr(gdp_per_capita_ppp['GDPpercap1'])"
   ]
  },
  {
   "cell_type": "code",
   "execution_count": 55,
   "id": "d37dbc08",
   "metadata": {},
   "outputs": [
    {
     "data": {
      "text/plain": [
       "0.4349157199414697"
      ]
     },
     "execution_count": 55,
     "metadata": {},
     "output_type": "execute_result"
    }
   ],
   "source": [
    "education_sexuality.corr(gdp_per_capita_ppp['GDPpercap1'])"
   ]
  },
  {
   "cell_type": "code",
   "execution_count": 56,
   "id": "8aa0a86f",
   "metadata": {},
   "outputs": [
    {
     "data": {
      "text/plain": [
       "0.10967089951415082"
      ]
     },
     "execution_count": 56,
     "metadata": {},
     "output_type": "execute_result"
    }
   ],
   "source": [
    "education_religion.corr(gdp_per_capita_ppp['GDPpercap1'])"
   ]
  },
  {
   "cell_type": "code",
   "execution_count": 108,
   "id": "ac453884",
   "metadata": {},
   "outputs": [
    {
     "data": {
      "text/plain": [
       "0.17394094381586028"
      ]
     },
     "execution_count": 108,
     "metadata": {},
     "output_type": "execute_result"
    }
   ],
   "source": [
    "education_science_and_technology.corr(gdp_per_capita_ppp['GDPpercap1'])"
   ]
  },
  {
   "cell_type": "markdown",
   "id": "107850c2",
   "metadata": {},
   "source": [
    "#### Political orientations"
   ]
  },
  {
   "cell_type": "code",
   "execution_count": 73,
   "id": "b69823c3",
   "metadata": {},
   "outputs": [
    {
     "data": {
      "text/plain": [
       "-0.46646483268203887"
      ]
     },
     "execution_count": 73,
     "metadata": {},
     "output_type": "execute_result"
    }
   ],
   "source": [
    "freedom_market.corr(gdp_per_capita_ppp['GDPpercap1'])"
   ]
  },
  {
   "cell_type": "code",
   "execution_count": 74,
   "id": "7924212a",
   "metadata": {},
   "outputs": [
    {
     "data": {
      "text/plain": [
       "0.5611850527246824"
      ]
     },
     "execution_count": 74,
     "metadata": {},
     "output_type": "execute_result"
    }
   ],
   "source": [
    "freedom_gender.corr(gdp_per_capita_ppp['GDPpercap1'])"
   ]
  },
  {
   "cell_type": "code",
   "execution_count": 75,
   "id": "4129dab3",
   "metadata": {},
   "outputs": [
    {
     "data": {
      "text/plain": [
       "0.5115757742727813"
      ]
     },
     "execution_count": 75,
     "metadata": {},
     "output_type": "execute_result"
    }
   ],
   "source": [
    "freedom_sexuality.corr(gdp_per_capita_ppp['GDPpercap1'])"
   ]
  },
  {
   "cell_type": "code",
   "execution_count": 76,
   "id": "dcf17f0b",
   "metadata": {},
   "outputs": [
    {
     "data": {
      "text/plain": [
       "-0.4086366069902427"
      ]
     },
     "execution_count": 76,
     "metadata": {},
     "output_type": "execute_result"
    }
   ],
   "source": [
    "freedom_religion.corr(gdp_per_capita_ppp['GDPpercap1'])"
   ]
  },
  {
   "cell_type": "code",
   "execution_count": 109,
   "id": "12b9c99f",
   "metadata": {},
   "outputs": [
    {
     "data": {
      "text/plain": [
       "0.3257179709449295"
      ]
     },
     "execution_count": 109,
     "metadata": {},
     "output_type": "execute_result"
    }
   ],
   "source": [
    "freedom_science_and_technology.corr(gdp_per_capita_ppp['GDPpercap1'])"
   ]
  },
  {
   "cell_type": "code",
   "execution_count": 77,
   "id": "60006d32",
   "metadata": {},
   "outputs": [
    {
     "data": {
      "text/plain": [
       "0.5749748949059128"
      ]
     },
     "execution_count": 77,
     "metadata": {},
     "output_type": "execute_result"
    }
   ],
   "source": [
    "freedom_progressivism.corr(gdp_per_capita_ppp['GDPpercap1'])"
   ]
  },
  {
   "cell_type": "code",
   "execution_count": 78,
   "id": "a1ad61a6",
   "metadata": {},
   "outputs": [
    {
     "data": {
      "text/plain": [
       "-0.1680963172674632"
      ]
     },
     "execution_count": 78,
     "metadata": {},
     "output_type": "execute_result"
    }
   ],
   "source": [
    "market_gender.corr(gdp_per_capita_ppp['GDPpercap1'])"
   ]
  },
  {
   "cell_type": "code",
   "execution_count": 79,
   "id": "a38a9d17",
   "metadata": {},
   "outputs": [
    {
     "data": {
      "text/plain": [
       "-0.1482424454946939"
      ]
     },
     "execution_count": 79,
     "metadata": {},
     "output_type": "execute_result"
    }
   ],
   "source": [
    "market_sexuality.corr(gdp_per_capita_ppp['GDPpercap1'])"
   ]
  },
  {
   "cell_type": "code",
   "execution_count": 80,
   "id": "7068d9c6",
   "metadata": {},
   "outputs": [
    {
     "data": {
      "text/plain": [
       "0.6132043202442452"
      ]
     },
     "execution_count": 80,
     "metadata": {},
     "output_type": "execute_result"
    }
   ],
   "source": [
    "market_religion.corr(gdp_per_capita_ppp['GDPpercap1'])"
   ]
  },
  {
   "cell_type": "code",
   "execution_count": 110,
   "id": "adaf9405",
   "metadata": {},
   "outputs": [
    {
     "data": {
      "text/plain": [
       "0.003558179788890134"
      ]
     },
     "execution_count": 110,
     "metadata": {},
     "output_type": "execute_result"
    }
   ],
   "source": [
    "market_science_and_technology.corr(gdp_per_capita_ppp['GDPpercap1'])"
   ]
  },
  {
   "cell_type": "code",
   "execution_count": 81,
   "id": "9a699078",
   "metadata": {},
   "outputs": [
    {
     "data": {
      "text/plain": [
       "-0.5643007139715606"
      ]
     },
     "execution_count": 81,
     "metadata": {},
     "output_type": "execute_result"
    }
   ],
   "source": [
    "gender_religion.corr(gdp_per_capita_ppp['GDPpercap1'])"
   ]
  },
  {
   "cell_type": "code",
   "execution_count": 82,
   "id": "6b77d42a",
   "metadata": {
    "scrolled": true
   },
   "outputs": [
    {
     "data": {
      "text/plain": [
       "-0.4434853193059175"
      ]
     },
     "execution_count": 82,
     "metadata": {},
     "output_type": "execute_result"
    }
   ],
   "source": [
    "sexuality_religion.corr(gdp_per_capita_ppp['GDPpercap1'])"
   ]
  },
  {
   "cell_type": "code",
   "execution_count": 111,
   "id": "73567636",
   "metadata": {},
   "outputs": [
    {
     "data": {
      "text/plain": [
       "-0.5248560334897266"
      ]
     },
     "execution_count": 111,
     "metadata": {},
     "output_type": "execute_result"
    }
   ],
   "source": [
    "science_and_technology_religion.corr(gdp_per_capita_ppp['GDPpercap1'])"
   ]
  },
  {
   "cell_type": "code",
   "execution_count": 83,
   "id": "fe4feaf1",
   "metadata": {},
   "outputs": [
    {
     "data": {
      "text/plain": [
       "0.5489759384386149"
      ]
     },
     "execution_count": 83,
     "metadata": {},
     "output_type": "execute_result"
    }
   ],
   "source": [
    "gender_sexuality.corr(gdp_per_capita_ppp['GDPpercap1'])"
   ]
  },
  {
   "cell_type": "code",
   "execution_count": 112,
   "id": "f8da8bcd",
   "metadata": {},
   "outputs": [
    {
     "data": {
      "text/plain": [
       "0.25725125081290834"
      ]
     },
     "execution_count": 112,
     "metadata": {},
     "output_type": "execute_result"
    }
   ],
   "source": [
    "gender_science_and_technology.corr(gdp_per_capita_ppp['GDPpercap1'])"
   ]
  },
  {
   "cell_type": "code",
   "execution_count": 113,
   "id": "f4db41e1",
   "metadata": {
    "scrolled": true
   },
   "outputs": [
    {
     "data": {
      "text/plain": [
       "0.1963369911577711"
      ]
     },
     "execution_count": 113,
     "metadata": {},
     "output_type": "execute_result"
    }
   ],
   "source": [
    "sexuality_science_and_technology.corr(gdp_per_capita_ppp['GDPpercap1'])"
   ]
  },
  {
   "cell_type": "code",
   "execution_count": 84,
   "id": "dd876a88",
   "metadata": {
    "scrolled": true
   },
   "outputs": [
    {
     "data": {
      "text/plain": [
       "-0.30863680495383944"
      ]
     },
     "execution_count": 84,
     "metadata": {},
     "output_type": "execute_result"
    }
   ],
   "source": [
    "market_progressivism.corr(gdp_per_capita_ppp['GDPpercap1'])"
   ]
  },
  {
   "cell_type": "markdown",
   "id": "9937ffac-a909-423d-828a-4b21b8d4f96d",
   "metadata": {},
   "source": [
    "# Data representation"
   ]
  },
  {
   "cell_type": "code",
   "execution_count": null,
   "id": "e0784a40",
   "metadata": {},
   "outputs": [],
   "source": []
  }
 ],
 "metadata": {
  "kernelspec": {
   "display_name": "Python 3 (ipykernel)",
   "language": "python",
   "name": "python3"
  },
  "language_info": {
   "codemirror_mode": {
    "name": "ipython",
    "version": 3
   },
   "file_extension": ".py",
   "mimetype": "text/x-python",
   "name": "python",
   "nbconvert_exporter": "python",
   "pygments_lexer": "ipython3",
   "version": "3.9.13"
  }
 },
 "nbformat": 4,
 "nbformat_minor": 5
}
